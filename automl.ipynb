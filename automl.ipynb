{
 "cells": [
  {
   "cell_type": "markdown",
   "metadata": {},
   "source": [
    "# Automated ML on Heart Failure Dataset\n",
    "\n",
    "Importing dependencies"
   ]
  },
  {
   "cell_type": "code",
   "execution_count": 1,
   "metadata": {
    "gather": {
     "logged": 1618620112813
    },
    "jupyter": {
     "outputs_hidden": false,
     "source_hidden": false
    },
    "nteract": {
     "transient": {
      "deleting": false
     }
    }
   },
   "outputs": [
    {
     "name": "stdout",
     "output_type": "stream",
     "text": [
      "SDK version: 1.26.0\n"
     ]
    }
   ],
   "source": [
    "import os\n",
    "import joblib\n",
    "import azureml.core\n",
    "from azureml.core import Workspace, Experiment, Dataset, Environment\n",
    "from azureml.core.compute import ComputeTarget, AmlCompute\n",
    "from azureml.core.compute_target import ComputeTargetException\n",
    "from azureml.widgets import RunDetails\n",
    "from azureml.train.automl import AutoMLConfig\n",
    "from pprint import pprint # Used in printing automl model parameters\n",
    "from azureml.core import Model # Used to get model information\n",
    "\n",
    "# Check core SDK version number\n",
    "print(\"SDK version:\", azureml.core.VERSION)"
   ]
  },
  {
   "cell_type": "markdown",
   "metadata": {},
   "source": [
    "## Initialize Workspace\n",
    "\n",
    "Initialize a workspace object from persisted configuration. "
   ]
  },
  {
   "cell_type": "code",
   "execution_count": 2,
   "metadata": {
    "gather": {
     "logged": 1618620118137
    }
   },
   "outputs": [
    {
     "name": "stdout",
     "output_type": "stream",
     "text": [
      "quick-starts-ws-142887\n",
      "aml-quickstarts-142887\n",
      "southcentralus\n",
      "3d1a56d2-7c81-4118-9790-f85d1acf0c77\n"
     ]
    }
   ],
   "source": [
    "ws = Workspace.from_config()\n",
    "print(ws.name, ws.resource_group, ws.location, ws.subscription_id, sep = '\\n')"
   ]
  },
  {
   "cell_type": "markdown",
   "metadata": {},
   "source": [
    "## Create an Azure ML experiment\n",
    "\n",
    "Create an [Experiment](https://docs.microsoft.com/en-gb/azure/machine-learning/concept-azure-machine-learning-architecture#experiment) to track all the runs in your workspace."
   ]
  },
  {
   "cell_type": "code",
   "execution_count": 3,
   "metadata": {
    "gather": {
     "logged": 1618620127402
    }
   },
   "outputs": [],
   "source": [
    "# Choose a name for the run history container in the workspace\n",
    "experiment_name = 'heartfailure-automl'\n",
    "experiment = Experiment(ws, experiment_name)\n",
    "\n",
    "run = experiment.start_logging()"
   ]
  },
  {
   "cell_type": "markdown",
   "metadata": {},
   "source": [
    "## Create or Attach an AmlCompute cluster\n",
    "\n",
    "Create a [compute target](https://docs.microsoft.com/azure/machine-learning/service/concept-azure-machine-learning-architecture#compute-target) for AutoML run"
   ]
  },
  {
   "cell_type": "code",
   "execution_count": 4,
   "metadata": {
    "gather": {
     "logged": 1618620130081
    }
   },
   "outputs": [
    {
     "name": "stdout",
     "output_type": "stream",
     "text": [
      "project-automl exists already\n",
      "notebook142887 ComputeInstance Succeeded\n",
      "project-automl AmlCompute Succeeded\n"
     ]
    }
   ],
   "source": [
    "# Choose a name for your cluster\n",
    "# Compute name should contain only letters, digits, hyphen and should be 2-16 charachters long\n",
    "#cluster_name = \"aml-cluster\"\n",
    "cluster_name = \"project-automl\"\n",
    "\n",
    "try:\n",
    "    compute_target = ComputeTarget(workspace=ws, name=cluster_name)\n",
    "    print(f'{cluster_name} exists already')\n",
    "except ComputeTargetException:\n",
    "    print('Creating a new compute target...')\n",
    "    compute_config = AmlCompute.provisioning_configuration(vm_size='STANDARD_D2_V2', max_nodes=4)\n",
    "    \n",
    "    # create the cluster\n",
    "    compute_target = ComputeTarget.create(ws, cluster_name, compute_config)\n",
    "    \n",
    "    compute_target.wait_for_completion(show_output=True, min_node_count = 1, timeout_in_minutes = 10)\n",
    "    \n",
    "compute_targets = ws.compute_targets\n",
    "for name, ct in compute_targets.items():\n",
    "    print(name, ct.type, ct.provisioning_state)"
   ]
  },
  {
   "cell_type": "markdown",
   "metadata": {},
   "source": [
    "## Dataset\n",
    "\n",
    "### Overview\n",
    "\n",
    "In this project, we are going to predict mortality due to heart failure with the use of AutoML. Heart failure is a common event caused by Cardiovascular diseases (CVDs), and it occurs when the heart cannot pump enough blood to meet the needs of the body.\n",
    "\n",
    "The [Heart Failure Prediction](https://archive.ics.uci.edu/ml/datasets/Heart+failure+clinical+records) dataset is used as the training data for this task. It comprises of 299 heart failure patients and 12 features, which report clinical, body, and lifestyle information.\n",
    "\n",
    "The task here is to train a binary classification model that predict the target column DEATH_EVENT, which indicates if the patient died or survived before the end of the follow-up period, based on the information provided by the other 11 columns (predictors). The time feature was dropped before training since we cannot get a time value for new patients after deployment. Prediction models based on these predictors, if accurate, can potentially be used to help hospitals in assessing the severity of patients with cardiovascular diseases."
   ]
  },
  {
   "cell_type": "code",
   "execution_count": 6,
   "metadata": {
    "gather": {
     "logged": 1618620166944
    },
    "jupyter": {
     "outputs_hidden": false,
     "source_hidden": false
    },
    "nteract": {
     "transient": {
      "deleting": false
     }
    }
   },
   "outputs": [
    {
     "data": {
      "text/html": [
       "<div>\n",
       "<style scoped>\n",
       "    .dataframe tbody tr th:only-of-type {\n",
       "        vertical-align: middle;\n",
       "    }\n",
       "\n",
       "    .dataframe tbody tr th {\n",
       "        vertical-align: top;\n",
       "    }\n",
       "\n",
       "    .dataframe thead th {\n",
       "        text-align: right;\n",
       "    }\n",
       "</style>\n",
       "<table border=\"1\" class=\"dataframe\">\n",
       "  <thead>\n",
       "    <tr style=\"text-align: right;\">\n",
       "      <th></th>\n",
       "      <th>age</th>\n",
       "      <th>anaemia</th>\n",
       "      <th>creatinine_phosphokinase</th>\n",
       "      <th>diabetes</th>\n",
       "      <th>ejection_fraction</th>\n",
       "      <th>high_blood_pressure</th>\n",
       "      <th>platelets</th>\n",
       "      <th>serum_creatinine</th>\n",
       "      <th>serum_sodium</th>\n",
       "      <th>sex</th>\n",
       "      <th>smoking</th>\n",
       "      <th>time</th>\n",
       "      <th>DEATH_EVENT</th>\n",
       "    </tr>\n",
       "  </thead>\n",
       "  <tbody>\n",
       "    <tr>\n",
       "      <th>count</th>\n",
       "      <td>299.000000</td>\n",
       "      <td>299.000000</td>\n",
       "      <td>299.000000</td>\n",
       "      <td>299.000000</td>\n",
       "      <td>299.000000</td>\n",
       "      <td>299.000000</td>\n",
       "      <td>299.000000</td>\n",
       "      <td>299.00000</td>\n",
       "      <td>299.000000</td>\n",
       "      <td>299.000000</td>\n",
       "      <td>299.00000</td>\n",
       "      <td>299.000000</td>\n",
       "      <td>299.00000</td>\n",
       "    </tr>\n",
       "    <tr>\n",
       "      <th>mean</th>\n",
       "      <td>60.833893</td>\n",
       "      <td>0.431438</td>\n",
       "      <td>581.839465</td>\n",
       "      <td>0.418060</td>\n",
       "      <td>38.083612</td>\n",
       "      <td>0.351171</td>\n",
       "      <td>263358.029264</td>\n",
       "      <td>1.39388</td>\n",
       "      <td>136.625418</td>\n",
       "      <td>0.648829</td>\n",
       "      <td>0.32107</td>\n",
       "      <td>130.260870</td>\n",
       "      <td>0.32107</td>\n",
       "    </tr>\n",
       "    <tr>\n",
       "      <th>std</th>\n",
       "      <td>11.894809</td>\n",
       "      <td>0.496107</td>\n",
       "      <td>970.287881</td>\n",
       "      <td>0.494067</td>\n",
       "      <td>11.834841</td>\n",
       "      <td>0.478136</td>\n",
       "      <td>97804.236869</td>\n",
       "      <td>1.03451</td>\n",
       "      <td>4.412477</td>\n",
       "      <td>0.478136</td>\n",
       "      <td>0.46767</td>\n",
       "      <td>77.614208</td>\n",
       "      <td>0.46767</td>\n",
       "    </tr>\n",
       "    <tr>\n",
       "      <th>min</th>\n",
       "      <td>40.000000</td>\n",
       "      <td>0.000000</td>\n",
       "      <td>23.000000</td>\n",
       "      <td>0.000000</td>\n",
       "      <td>14.000000</td>\n",
       "      <td>0.000000</td>\n",
       "      <td>25100.000000</td>\n",
       "      <td>0.50000</td>\n",
       "      <td>113.000000</td>\n",
       "      <td>0.000000</td>\n",
       "      <td>0.00000</td>\n",
       "      <td>4.000000</td>\n",
       "      <td>0.00000</td>\n",
       "    </tr>\n",
       "    <tr>\n",
       "      <th>25%</th>\n",
       "      <td>51.000000</td>\n",
       "      <td>0.000000</td>\n",
       "      <td>116.500000</td>\n",
       "      <td>0.000000</td>\n",
       "      <td>30.000000</td>\n",
       "      <td>0.000000</td>\n",
       "      <td>212500.000000</td>\n",
       "      <td>0.90000</td>\n",
       "      <td>134.000000</td>\n",
       "      <td>0.000000</td>\n",
       "      <td>0.00000</td>\n",
       "      <td>73.000000</td>\n",
       "      <td>0.00000</td>\n",
       "    </tr>\n",
       "    <tr>\n",
       "      <th>50%</th>\n",
       "      <td>60.000000</td>\n",
       "      <td>0.000000</td>\n",
       "      <td>250.000000</td>\n",
       "      <td>0.000000</td>\n",
       "      <td>38.000000</td>\n",
       "      <td>0.000000</td>\n",
       "      <td>262000.000000</td>\n",
       "      <td>1.10000</td>\n",
       "      <td>137.000000</td>\n",
       "      <td>1.000000</td>\n",
       "      <td>0.00000</td>\n",
       "      <td>115.000000</td>\n",
       "      <td>0.00000</td>\n",
       "    </tr>\n",
       "    <tr>\n",
       "      <th>75%</th>\n",
       "      <td>70.000000</td>\n",
       "      <td>1.000000</td>\n",
       "      <td>582.000000</td>\n",
       "      <td>1.000000</td>\n",
       "      <td>45.000000</td>\n",
       "      <td>1.000000</td>\n",
       "      <td>303500.000000</td>\n",
       "      <td>1.40000</td>\n",
       "      <td>140.000000</td>\n",
       "      <td>1.000000</td>\n",
       "      <td>1.00000</td>\n",
       "      <td>203.000000</td>\n",
       "      <td>1.00000</td>\n",
       "    </tr>\n",
       "    <tr>\n",
       "      <th>max</th>\n",
       "      <td>95.000000</td>\n",
       "      <td>1.000000</td>\n",
       "      <td>7861.000000</td>\n",
       "      <td>1.000000</td>\n",
       "      <td>80.000000</td>\n",
       "      <td>1.000000</td>\n",
       "      <td>850000.000000</td>\n",
       "      <td>9.40000</td>\n",
       "      <td>148.000000</td>\n",
       "      <td>1.000000</td>\n",
       "      <td>1.00000</td>\n",
       "      <td>285.000000</td>\n",
       "      <td>1.00000</td>\n",
       "    </tr>\n",
       "  </tbody>\n",
       "</table>\n",
       "</div>"
      ],
      "text/plain": [
       "              age     anaemia  creatinine_phosphokinase    diabetes  \\\n",
       "count  299.000000  299.000000                299.000000  299.000000   \n",
       "mean    60.833893    0.431438                581.839465    0.418060   \n",
       "std     11.894809    0.496107                970.287881    0.494067   \n",
       "min     40.000000    0.000000                 23.000000    0.000000   \n",
       "25%     51.000000    0.000000                116.500000    0.000000   \n",
       "50%     60.000000    0.000000                250.000000    0.000000   \n",
       "75%     70.000000    1.000000                582.000000    1.000000   \n",
       "max     95.000000    1.000000               7861.000000    1.000000   \n",
       "\n",
       "       ejection_fraction  high_blood_pressure      platelets  \\\n",
       "count         299.000000           299.000000     299.000000   \n",
       "mean           38.083612             0.351171  263358.029264   \n",
       "std            11.834841             0.478136   97804.236869   \n",
       "min            14.000000             0.000000   25100.000000   \n",
       "25%            30.000000             0.000000  212500.000000   \n",
       "50%            38.000000             0.000000  262000.000000   \n",
       "75%            45.000000             1.000000  303500.000000   \n",
       "max            80.000000             1.000000  850000.000000   \n",
       "\n",
       "       serum_creatinine  serum_sodium         sex    smoking        time  \\\n",
       "count         299.00000    299.000000  299.000000  299.00000  299.000000   \n",
       "mean            1.39388    136.625418    0.648829    0.32107  130.260870   \n",
       "std             1.03451      4.412477    0.478136    0.46767   77.614208   \n",
       "min             0.50000    113.000000    0.000000    0.00000    4.000000   \n",
       "25%             0.90000    134.000000    0.000000    0.00000   73.000000   \n",
       "50%             1.10000    137.000000    1.000000    0.00000  115.000000   \n",
       "75%             1.40000    140.000000    1.000000    1.00000  203.000000   \n",
       "max             9.40000    148.000000    1.000000    1.00000  285.000000   \n",
       "\n",
       "       DEATH_EVENT  \n",
       "count    299.00000  \n",
       "mean       0.32107  \n",
       "std        0.46767  \n",
       "min        0.00000  \n",
       "25%        0.00000  \n",
       "50%        0.00000  \n",
       "75%        1.00000  \n",
       "max        1.00000  "
      ]
     },
     "execution_count": 6,
     "metadata": {},
     "output_type": "execute_result"
    }
   ],
   "source": [
    "# Try to load the dataset from the Workspace. Otherwise, create it from the file\n",
    "found = False\n",
    "key = \"Heart-Failure Dataset\"\n",
    "description_text = \"Heart-Failure Dataset for Captone project\"\n",
    "\n",
    "if key in ws.datasets.keys(): \n",
    "        found = True\n",
    "        dataset = ws.datasets[key] \n",
    "\n",
    "if not found:\n",
    "        # Create AML Dataset and register it into Workspace\n",
    "        example_data = 'https://raw.githubusercontent.com/PeacePeters/Heart-Failure-Prediction-using-AzureML/main/heart_failure.csv'\n",
    "        dataset = Dataset.Tabular.from_delimited_files(example_data)        \n",
    "        # Register Dataset in Workspace\n",
    "        dataset = dataset.register(workspace=ws,\n",
    "                                   name=key,\n",
    "                                   description=description_text)\n",
    "\n",
    "df = dataset.to_pandas_dataframe()\n",
    "df.describe()"
   ]
  },
  {
   "cell_type": "code",
   "execution_count": 7,
   "metadata": {
    "gather": {
     "logged": 1618620172580
    }
   },
   "outputs": [
    {
     "data": {
      "text/html": [
       "<div>\n",
       "<style scoped>\n",
       "    .dataframe tbody tr th:only-of-type {\n",
       "        vertical-align: middle;\n",
       "    }\n",
       "\n",
       "    .dataframe tbody tr th {\n",
       "        vertical-align: top;\n",
       "    }\n",
       "\n",
       "    .dataframe thead th {\n",
       "        text-align: right;\n",
       "    }\n",
       "</style>\n",
       "<table border=\"1\" class=\"dataframe\">\n",
       "  <thead>\n",
       "    <tr style=\"text-align: right;\">\n",
       "      <th></th>\n",
       "      <th>age</th>\n",
       "      <th>anaemia</th>\n",
       "      <th>creatinine_phosphokinase</th>\n",
       "      <th>diabetes</th>\n",
       "      <th>ejection_fraction</th>\n",
       "      <th>high_blood_pressure</th>\n",
       "      <th>platelets</th>\n",
       "      <th>serum_creatinine</th>\n",
       "      <th>serum_sodium</th>\n",
       "      <th>sex</th>\n",
       "      <th>smoking</th>\n",
       "      <th>time</th>\n",
       "      <th>DEATH_EVENT</th>\n",
       "    </tr>\n",
       "  </thead>\n",
       "  <tbody>\n",
       "    <tr>\n",
       "      <th>0</th>\n",
       "      <td>75.0</td>\n",
       "      <td>0</td>\n",
       "      <td>582</td>\n",
       "      <td>0</td>\n",
       "      <td>20</td>\n",
       "      <td>1</td>\n",
       "      <td>265000.00</td>\n",
       "      <td>1.9</td>\n",
       "      <td>130</td>\n",
       "      <td>1</td>\n",
       "      <td>0</td>\n",
       "      <td>4</td>\n",
       "      <td>1</td>\n",
       "    </tr>\n",
       "    <tr>\n",
       "      <th>1</th>\n",
       "      <td>55.0</td>\n",
       "      <td>0</td>\n",
       "      <td>7861</td>\n",
       "      <td>0</td>\n",
       "      <td>38</td>\n",
       "      <td>0</td>\n",
       "      <td>263358.03</td>\n",
       "      <td>1.1</td>\n",
       "      <td>136</td>\n",
       "      <td>1</td>\n",
       "      <td>0</td>\n",
       "      <td>6</td>\n",
       "      <td>1</td>\n",
       "    </tr>\n",
       "    <tr>\n",
       "      <th>2</th>\n",
       "      <td>65.0</td>\n",
       "      <td>0</td>\n",
       "      <td>146</td>\n",
       "      <td>0</td>\n",
       "      <td>20</td>\n",
       "      <td>0</td>\n",
       "      <td>162000.00</td>\n",
       "      <td>1.3</td>\n",
       "      <td>129</td>\n",
       "      <td>1</td>\n",
       "      <td>1</td>\n",
       "      <td>7</td>\n",
       "      <td>1</td>\n",
       "    </tr>\n",
       "    <tr>\n",
       "      <th>3</th>\n",
       "      <td>50.0</td>\n",
       "      <td>1</td>\n",
       "      <td>111</td>\n",
       "      <td>0</td>\n",
       "      <td>20</td>\n",
       "      <td>0</td>\n",
       "      <td>210000.00</td>\n",
       "      <td>1.9</td>\n",
       "      <td>137</td>\n",
       "      <td>1</td>\n",
       "      <td>0</td>\n",
       "      <td>7</td>\n",
       "      <td>1</td>\n",
       "    </tr>\n",
       "    <tr>\n",
       "      <th>4</th>\n",
       "      <td>65.0</td>\n",
       "      <td>1</td>\n",
       "      <td>160</td>\n",
       "      <td>1</td>\n",
       "      <td>20</td>\n",
       "      <td>0</td>\n",
       "      <td>327000.00</td>\n",
       "      <td>2.7</td>\n",
       "      <td>116</td>\n",
       "      <td>0</td>\n",
       "      <td>0</td>\n",
       "      <td>8</td>\n",
       "      <td>1</td>\n",
       "    </tr>\n",
       "  </tbody>\n",
       "</table>\n",
       "</div>"
      ],
      "text/plain": [
       "    age  anaemia  creatinine_phosphokinase  diabetes  ejection_fraction  \\\n",
       "0  75.0        0                       582         0                 20   \n",
       "1  55.0        0                      7861         0                 38   \n",
       "2  65.0        0                       146         0                 20   \n",
       "3  50.0        1                       111         0                 20   \n",
       "4  65.0        1                       160         1                 20   \n",
       "\n",
       "   high_blood_pressure  platelets  serum_creatinine  serum_sodium  sex  \\\n",
       "0                    1  265000.00               1.9           130    1   \n",
       "1                    0  263358.03               1.1           136    1   \n",
       "2                    0  162000.00               1.3           129    1   \n",
       "3                    0  210000.00               1.9           137    1   \n",
       "4                    0  327000.00               2.7           116    0   \n",
       "\n",
       "   smoking  time  DEATH_EVENT  \n",
       "0        0     4            1  \n",
       "1        0     6            1  \n",
       "2        1     7            1  \n",
       "3        0     7            1  \n",
       "4        0     8            1  "
      ]
     },
     "execution_count": 7,
     "metadata": {},
     "output_type": "execute_result"
    }
   ],
   "source": [
    "# Review the dataset result\n",
    "dataset.take(5).to_pandas_dataframe()"
   ]
  },
  {
   "cell_type": "markdown",
   "metadata": {},
   "source": [
    "## AutoML Configuration\n",
    "\n",
    "The AutoML settings are:\n",
    "1. The model is a classification task to predict mortality caused by heart failure.\n",
    "2. The primary metric used is AUC weighted, which is more appropriate than accuracy since the dataset is moderately imbalanced (67.89% negative elements and 32.11% positive elements). \n",
    "3. A cross validation of 5 folds rather than 3 is used which gives a better performance. \n",
    "4. A 30 minutes timeout is specified to constrain usage. \n",
    "5. The maximum number of iterations to be executed in parallel during training is set to 5 max concurrent iterations. "
   ]
  },
  {
   "cell_type": "code",
   "execution_count": 8,
   "metadata": {
    "gather": {
     "logged": 1618620178626
    },
    "jupyter": {
     "outputs_hidden": false,
     "source_hidden": false
    },
    "nteract": {
     "transient": {
      "deleting": false
     }
    }
   },
   "outputs": [],
   "source": [
    "# Put your automl settings here\n",
    "automl_settings = {\n",
    "    \"experiment_timeout_minutes\": 30,\n",
    "    \"max_concurrent_iterations\": 5,\n",
    "    \"primary_metric\" : 'AUC_weighted'\n",
    "}\n",
    "\n",
    "# Put your automl config here\n",
    "automl_config = AutoMLConfig(compute_target=compute_target,\n",
    "                             task=\"classification\",\n",
    "                             training_data=dataset,\n",
    "                             label_column_name=\"DEATH_EVENT\",\n",
    "                             n_cross_validations=5,\n",
    "                             debug_log=\"automl_errors.log\",\n",
    "                             **automl_settings\n",
    "                            )"
   ]
  },
  {
   "cell_type": "code",
   "execution_count": 9,
   "metadata": {
    "gather": {
     "logged": 1618620188399
    },
    "jupyter": {
     "outputs_hidden": false,
     "source_hidden": false
    },
    "nteract": {
     "transient": {
      "deleting": false
     }
    }
   },
   "outputs": [
    {
     "name": "stdout",
     "output_type": "stream",
     "text": [
      "Submitting remote run.\n"
     ]
    },
    {
     "data": {
      "text/html": [
       "<table style=\"width:100%\"><tr><th>Experiment</th><th>Id</th><th>Type</th><th>Status</th><th>Details Page</th><th>Docs Page</th></tr><tr><td>heartfailure-automl</td><td>AutoML_c6857abb-a0b5-4c5f-ae11-eeba33cf46c3</td><td>automl</td><td>NotStarted</td><td><a href=\"https://ml.azure.com/runs/AutoML_c6857abb-a0b5-4c5f-ae11-eeba33cf46c3?wsid=/subscriptions/3d1a56d2-7c81-4118-9790-f85d1acf0c77/resourcegroups/aml-quickstarts-142887/workspaces/quick-starts-ws-142887&amp;tid=660b3398-b80e-49d2-bc5b-ac1dc93b5254\" target=\"_blank\" rel=\"noopener\">Link to Azure Machine Learning studio</a></td><td><a href=\"https://docs.microsoft.com/en-us/python/api/overview/azure/ml/intro?view=azure-ml-py\" target=\"_blank\" rel=\"noopener\">Link to Documentation</a></td></tr></table>"
      ],
      "text/plain": [
       "<IPython.core.display.HTML object>"
      ]
     },
     "metadata": {},
     "output_type": "display_data"
    }
   ],
   "source": [
    "# Submit your experiment\n",
    "remote_run = experiment.submit(automl_config)"
   ]
  },
  {
   "cell_type": "markdown",
   "metadata": {},
   "source": [
    "## Run Details"
   ]
  },
  {
   "cell_type": "code",
   "execution_count": 10,
   "metadata": {
    "gather": {
     "logged": 1618622758081
    },
    "jupyter": {
     "outputs_hidden": false,
     "source_hidden": false
    },
    "nteract": {
     "transient": {
      "deleting": false
     }
    }
   },
   "outputs": [
    {
     "data": {
      "application/vnd.jupyter.widget-view+json": {
       "model_id": "feb1b844ad3f4b92adca59e3dfc41201",
       "version_major": 2,
       "version_minor": 0
      },
      "text/plain": [
       "_AutoMLWidget(widget_settings={'childWidgetDisplay': 'popup', 'send_telemetry': False, 'log_level': 'INFO', 's…"
      ]
     },
     "metadata": {},
     "output_type": "display_data"
    },
    {
     "data": {
      "application/aml.mini.widget.v1": "{\"status\": \"Completed\", \"workbench_run_details_uri\": \"https://ml.azure.com/runs/AutoML_c6857abb-a0b5-4c5f-ae11-eeba33cf46c3?wsid=/subscriptions/3d1a56d2-7c81-4118-9790-f85d1acf0c77/resourcegroups/aml-quickstarts-142887/workspaces/quick-starts-ws-142887&tid=660b3398-b80e-49d2-bc5b-ac1dc93b5254\", \"run_id\": \"AutoML_c6857abb-a0b5-4c5f-ae11-eeba33cf46c3\", \"run_properties\": {\"run_id\": \"AutoML_c6857abb-a0b5-4c5f-ae11-eeba33cf46c3\", \"created_utc\": \"2021-04-17T00:43:05.938312Z\", \"properties\": {\"num_iterations\": \"1000\", \"training_type\": \"TrainFull\", \"acquisition_function\": \"EI\", \"primary_metric\": \"AUC_weighted\", \"train_split\": \"0\", \"acquisition_parameter\": \"0\", \"num_cross_validation\": \"5\", \"target\": \"project-automl\", \"AMLSettingsJsonString\": \"{\\\"path\\\":null,\\\"name\\\":\\\"heartfailure-automl\\\",\\\"subscription_id\\\":\\\"3d1a56d2-7c81-4118-9790-f85d1acf0c77\\\",\\\"resource_group\\\":\\\"aml-quickstarts-142887\\\",\\\"workspace_name\\\":\\\"quick-starts-ws-142887\\\",\\\"region\\\":\\\"southcentralus\\\",\\\"compute_target\\\":\\\"project-automl\\\",\\\"spark_service\\\":null,\\\"azure_service\\\":\\\"remote\\\",\\\"many_models\\\":false,\\\"pipeline_fetch_max_batch_size\\\":1,\\\"enable_batch_run\\\":false,\\\"enable_run_restructure\\\":false,\\\"iterations\\\":1000,\\\"primary_metric\\\":\\\"AUC_weighted\\\",\\\"task_type\\\":\\\"classification\\\",\\\"data_script\\\":null,\\\"test_size\\\":0.0,\\\"validation_size\\\":0.0,\\\"n_cross_validations\\\":5,\\\"y_min\\\":null,\\\"y_max\\\":null,\\\"num_classes\\\":null,\\\"featurization\\\":\\\"auto\\\",\\\"_ignore_package_version_incompatibilities\\\":false,\\\"is_timeseries\\\":false,\\\"max_cores_per_iteration\\\":1,\\\"max_concurrent_iterations\\\":5,\\\"iteration_timeout_minutes\\\":null,\\\"mem_in_mb\\\":null,\\\"enforce_time_on_windows\\\":false,\\\"experiment_timeout_minutes\\\":30,\\\"experiment_exit_score\\\":null,\\\"whitelist_models\\\":null,\\\"blacklist_algos\\\":[\\\"TensorFlowLinearClassifier\\\",\\\"TensorFlowDNN\\\"],\\\"supported_models\\\":[\\\"RandomForest\\\",\\\"BernoulliNaiveBayes\\\",\\\"SGD\\\",\\\"TensorFlowDNN\\\",\\\"TensorFlowLinearClassifier\\\",\\\"SVM\\\",\\\"LinearSVM\\\",\\\"AveragedPerceptronClassifier\\\",\\\"LogisticRegression\\\",\\\"LightGBM\\\",\\\"XGBoostClassifier\\\",\\\"GradientBoosting\\\",\\\"DecisionTree\\\",\\\"KNN\\\",\\\"ExtremeRandomTrees\\\",\\\"MultinomialNaiveBayes\\\"],\\\"private_models\\\":[],\\\"auto_blacklist\\\":true,\\\"blacklist_samples_reached\\\":false,\\\"exclude_nan_labels\\\":true,\\\"verbosity\\\":20,\\\"_debug_log\\\":\\\"azureml_automl.log\\\",\\\"show_warnings\\\":false,\\\"model_explainability\\\":true,\\\"service_url\\\":null,\\\"sdk_url\\\":null,\\\"sdk_packages\\\":null,\\\"enable_onnx_compatible_models\\\":false,\\\"enable_split_onnx_featurizer_estimator_models\\\":false,\\\"vm_type\\\":\\\"STANDARD_D2_V2\\\",\\\"telemetry_verbosity\\\":20,\\\"send_telemetry\\\":true,\\\"enable_dnn\\\":false,\\\"scenario\\\":\\\"SDK-1.13.0\\\",\\\"environment_label\\\":null,\\\"save_mlflow\\\":false,\\\"force_text_dnn\\\":false,\\\"enable_feature_sweeping\\\":true,\\\"enable_early_stopping\\\":false,\\\"early_stopping_n_iters\\\":10,\\\"metrics\\\":null,\\\"enable_metric_confidence\\\":false,\\\"enable_ensembling\\\":true,\\\"enable_stack_ensembling\\\":true,\\\"ensemble_iterations\\\":15,\\\"enable_tf\\\":false,\\\"enable_subsampling\\\":null,\\\"subsample_seed\\\":null,\\\"enable_nimbusml\\\":false,\\\"enable_streaming\\\":false,\\\"force_streaming\\\":false,\\\"track_child_runs\\\":true,\\\"allowed_private_models\\\":[],\\\"label_column_name\\\":\\\"DEATH_EVENT\\\",\\\"weight_column_name\\\":null,\\\"cv_split_column_names\\\":null,\\\"enable_local_managed\\\":false,\\\"_local_managed_run_id\\\":null,\\\"cost_mode\\\":1,\\\"lag_length\\\":0,\\\"metric_operation\\\":\\\"maximize\\\",\\\"preprocess\\\":true}\", \"DataPrepJsonString\": \"{\\\\\\\"training_data\\\\\\\": {\\\\\\\"datasetId\\\\\\\": \\\\\\\"2444f06b-bc46-4743-b8d5-947a8dfd06ac\\\\\\\"}, \\\\\\\"datasets\\\\\\\": 0}\", \"EnableSubsampling\": null, \"runTemplate\": \"AutoML\", \"azureml.runsource\": \"automl\", \"display_task_type\": \"classification\", \"dependencies_versions\": \"{\\\"azureml-widgets\\\": \\\"1.26.0\\\", \\\"azureml-train\\\": \\\"1.26.0\\\", \\\"azureml-train-restclients-hyperdrive\\\": \\\"1.26.0\\\", \\\"azureml-train-core\\\": \\\"1.26.0\\\", \\\"azureml-train-automl\\\": \\\"1.26.0\\\", \\\"azureml-train-automl-runtime\\\": \\\"1.26.0\\\", \\\"azureml-train-automl-client\\\": \\\"1.26.0\\\", \\\"azureml-tensorboard\\\": \\\"1.26.0\\\", \\\"azureml-telemetry\\\": \\\"1.26.0\\\", \\\"azureml-sdk\\\": \\\"1.26.0\\\", \\\"azureml-samples\\\": \\\"0+unknown\\\", \\\"azureml-pipeline\\\": \\\"1.26.0\\\", \\\"azureml-pipeline-steps\\\": \\\"1.26.0\\\", \\\"azureml-pipeline-core\\\": \\\"1.26.0\\\", \\\"azureml-opendatasets\\\": \\\"1.26.0\\\", \\\"azureml-model-management-sdk\\\": \\\"1.0.1b6.post1\\\", \\\"azureml-mlflow\\\": \\\"1.26.0\\\", \\\"azureml-interpret\\\": \\\"1.26.0\\\", \\\"azureml-explain-model\\\": \\\"1.26.0\\\", \\\"azureml-defaults\\\": \\\"1.26.0\\\", \\\"azureml-dataset-runtime\\\": \\\"1.26.0\\\", \\\"azureml-dataprep\\\": \\\"2.13.2\\\", \\\"azureml-dataprep-rslex\\\": \\\"1.11.2\\\", \\\"azureml-dataprep-native\\\": \\\"32.0.0\\\", \\\"azureml-datadrift\\\": \\\"1.26.0\\\", \\\"azureml-core\\\": \\\"1.26.0\\\", \\\"azureml-contrib-services\\\": \\\"1.26.0\\\", \\\"azureml-contrib-server\\\": \\\"1.26.0\\\", \\\"azureml-contrib-reinforcementlearning\\\": \\\"1.26.0\\\", \\\"azureml-contrib-pipeline-steps\\\": \\\"1.26.0\\\", \\\"azureml-contrib-notebook\\\": \\\"1.26.0\\\", \\\"azureml-contrib-gbdt\\\": \\\"1.26.0\\\", \\\"azureml-contrib-fairness\\\": \\\"1.26.0\\\", \\\"azureml-contrib-dataset\\\": \\\"1.26.0\\\", \\\"azureml-cli-common\\\": \\\"1.26.0\\\", \\\"azureml-automl-runtime\\\": \\\"1.26.0\\\", \\\"azureml-automl-dnn-nlp\\\": \\\"1.26.0\\\", \\\"azureml-automl-core\\\": \\\"1.26.0\\\", \\\"azureml-accel-models\\\": \\\"1.26.0\\\"}\", \"_aml_system_scenario_identification\": \"Remote.Parent\", \"ClientType\": \"SDK\", \"environment_cpu_name\": \"AzureML-AutoML\", \"environment_cpu_label\": \"prod\", \"environment_gpu_name\": \"AzureML-AutoML-GPU\", \"environment_gpu_label\": \"prod\", \"root_attribution\": \"automl\", \"attribution\": \"AutoML\", \"Orchestrator\": \"AutoML\", \"CancelUri\": \"https://southcentralus.experiments.azureml.net/jasmine/v1.0/subscriptions/3d1a56d2-7c81-4118-9790-f85d1acf0c77/resourceGroups/aml-quickstarts-142887/providers/Microsoft.MachineLearningServices/workspaces/quick-starts-ws-142887/experimentids/ceb92770-3213-457f-98dc-37b431eb81d7/cancel/AutoML_c6857abb-a0b5-4c5f-ae11-eeba33cf46c3\", \"azureml.git.repository_uri\": \"https://github.com/PeacePeters/Heart-Failure-Prediction-using-AzureML\", \"mlflow.source.git.repoURL\": \"https://github.com/PeacePeters/Heart-Failure-Prediction-using-AzureML\", \"azureml.git.branch\": \"main\", \"mlflow.source.git.branch\": \"main\", \"azureml.git.commit\": \"d2fb8a4ec103019681ab24bf4effa4f211a17b19\", \"mlflow.source.git.commit\": \"d2fb8a4ec103019681ab24bf4effa4f211a17b19\", \"azureml.git.dirty\": \"True\", \"ClientSdkVersion\": \"1.25.0\", \"snapshotId\": \"00000000-0000-0000-0000-000000000000\", \"SetupRunId\": \"AutoML_c6857abb-a0b5-4c5f-ae11-eeba33cf46c3_setup\", \"SetupRunContainerId\": \"dcid.AutoML_c6857abb-a0b5-4c5f-ae11-eeba33cf46c3_setup\", \"FeaturizationRunJsonPath\": \"featurizer_container.json\", \"FeaturizationRunId\": \"AutoML_c6857abb-a0b5-4c5f-ae11-eeba33cf46c3_featurize\", \"ProblemInfoJsonString\": \"{\\\"dataset_num_categorical\\\": 0, \\\"is_sparse\\\": false, \\\"subsampling\\\": false, \\\"dataset_classes\\\": 2, \\\"dataset_features\\\": 12, \\\"dataset_samples\\\": 299, \\\"single_frequency_class_detected\\\": false}\", \"ModelExplainRunId\": \"AutoML_c6857abb-a0b5-4c5f-ae11-eeba33cf46c3_ModelExplain\"}, \"tags\": {\"model_explain_run\": \"best_run\", \"_aml_system_azureml.automlComponent\": \"AutoML\", \"pipeline_id\": \"\", \"score\": \"\", \"predicted_cost\": \"\", \"fit_time\": \"\", \"training_percent\": \"\", \"iteration\": \"\", \"run_preprocessor\": \"\", \"run_algorithm\": \"\", \"dynamic_whitelisting_iterations\": \"<25>;<30>;<35>;<40>;<45>;<50>;<55>;<60>;<65>;<70>;<75>;<80>;<85>;<90>;<95>;<99>;\", \"automl_best_child_run_id\": \"AutoML_c6857abb-a0b5-4c5f-ae11-eeba33cf46c3_105\", \"model_explain_best_run_child_id\": \"AutoML_c6857abb-a0b5-4c5f-ae11-eeba33cf46c3_105\"}, \"end_time_utc\": \"2021-04-17T01:25:32.7212Z\", \"status\": \"Completed\", \"log_files\": {}, \"log_groups\": [], \"run_duration\": \"0:42:26\", \"run_number\": \"2\", \"run_queued_details\": {\"status\": \"Completed\", \"details\": null}}, \"child_runs\": [{\"run_id\": \"AutoML_c6857abb-a0b5-4c5f-ae11-eeba33cf46c3_0\", \"run_number\": 6, \"metric\": null, \"status\": \"Completed\", \"run_type\": \"azureml.scriptrun\", \"training_percent\": \"100\", \"start_time\": \"2021-04-17T00:53:04.647761Z\", \"end_time\": \"2021-04-17T00:54:07.552617Z\", \"created_time\": \"2021-04-17T00:52:49.652237Z\", \"created_time_dt\": \"2021-04-17T00:52:49.652237Z\", \"duration\": \"0:01:17\", \"iteration\": \"0\", \"goal\": \"AUC_weighted_max\", \"run_name\": \"MaxAbsScaler, LightGBM\", \"run_properties\": \"copy=True\", \"primary_metric\": 0.88113312, \"best_metric\": 0.88113312}, {\"run_id\": \"AutoML_c6857abb-a0b5-4c5f-ae11-eeba33cf46c3_1\", \"run_number\": 7, \"metric\": null, \"status\": \"Completed\", \"run_type\": \"azureml.scriptrun\", \"training_percent\": \"100\", \"start_time\": \"2021-04-17T00:54:51.112799Z\", \"end_time\": \"2021-04-17T00:58:05.81829Z\", \"created_time\": \"2021-04-17T00:52:49.774898Z\", \"created_time_dt\": \"2021-04-17T00:52:49.774898Z\", \"duration\": \"0:05:16\", \"iteration\": \"1\", \"goal\": \"AUC_weighted_max\", \"run_name\": \"MaxAbsScaler, XGBoostClassifier\", \"run_properties\": \"copy=True\", \"primary_metric\": 0.89295912, \"best_metric\": 0.89295912}, {\"run_id\": \"AutoML_c6857abb-a0b5-4c5f-ae11-eeba33cf46c3_4\", \"run_number\": 8, \"metric\": null, \"status\": \"Completed\", \"run_type\": \"azureml.scriptrun\", \"training_percent\": \"100\", \"start_time\": \"2021-04-17T00:54:50.718812Z\", \"end_time\": \"2021-04-17T00:57:58.195741Z\", \"created_time\": \"2021-04-17T00:52:49.785526Z\", \"created_time_dt\": \"2021-04-17T00:52:49.785526Z\", \"duration\": \"0:05:08\", \"iteration\": \"4\", \"goal\": \"AUC_weighted_max\", \"run_name\": \"MinMaxScaler, RandomForest\", \"run_properties\": \"copy=True, feature_range=(0, 1\", \"primary_metric\": 0.89579024, \"best_metric\": 0.89579024}, {\"run_id\": \"AutoML_c6857abb-a0b5-4c5f-ae11-eeba33cf46c3_3\", \"run_number\": 9, \"metric\": null, \"status\": \"Completed\", \"run_type\": \"azureml.scriptrun\", \"training_percent\": \"100\", \"start_time\": \"2021-04-17T00:54:24.796729Z\", \"end_time\": \"2021-04-17T00:55:10.643445Z\", \"created_time\": \"2021-04-17T00:52:49.793748Z\", \"created_time_dt\": \"2021-04-17T00:52:49.793748Z\", \"duration\": \"0:02:20\", \"iteration\": \"3\", \"goal\": \"AUC_weighted_max\", \"run_name\": \"RobustScaler, ExtremeRandomTrees\", \"run_properties\": \"copy=True, quantile_range=[10, 90], with_centering=False,\\n             with_scaling=False\", \"primary_metric\": 0.87676848, \"best_metric\": 0.89345603}, {\"run_id\": \"AutoML_c6857abb-a0b5-4c5f-ae11-eeba33cf46c3_2\", \"run_number\": 10, \"metric\": null, \"status\": \"Completed\", \"run_type\": \"azureml.scriptrun\", \"training_percent\": \"100\", \"start_time\": \"2021-04-17T00:54:51.844948Z\", \"end_time\": \"2021-04-17T00:57:27.501369Z\", \"created_time\": \"2021-04-17T00:52:49.829026Z\", \"created_time_dt\": \"2021-04-17T00:52:49.829026Z\", \"duration\": \"0:04:37\", \"iteration\": \"2\", \"goal\": \"AUC_weighted_max\", \"run_name\": \"MinMaxScaler, RandomForest\", \"run_properties\": \"copy=True, feature_range=(0, 1\", \"primary_metric\": 0.89345603, \"best_metric\": 0.89345603}, {\"run_id\": \"AutoML_c6857abb-a0b5-4c5f-ae11-eeba33cf46c3_5\", \"run_number\": 11, \"metric\": null, \"status\": \"Completed\", \"run_type\": \"azureml.scriptrun\", \"training_percent\": \"100\", \"start_time\": \"2021-04-17T00:55:27.378614Z\", \"end_time\": \"2021-04-17T00:56:17.347204Z\", \"created_time\": \"2021-04-17T00:54:09.461688Z\", \"created_time_dt\": \"2021-04-17T00:54:09.461688Z\", \"duration\": \"0:02:07\", \"iteration\": \"5\", \"goal\": \"AUC_weighted_max\", \"run_name\": \"MinMaxScaler, RandomForest\", \"run_properties\": \"copy=True, feature_range=(0, 1\", \"primary_metric\": 0.88885144, \"best_metric\": 0.89579024}, {\"run_id\": \"AutoML_c6857abb-a0b5-4c5f-ae11-eeba33cf46c3_6\", \"run_number\": 12, \"metric\": null, \"status\": \"Completed\", \"run_type\": \"azureml.scriptrun\", \"training_percent\": \"100\", \"start_time\": \"2021-04-17T00:56:29.24792Z\", \"end_time\": \"2021-04-17T00:57:11.795767Z\", \"created_time\": \"2021-04-17T00:55:14.17002Z\", \"created_time_dt\": \"2021-04-17T00:55:14.17002Z\", \"duration\": \"0:01:57\", \"iteration\": \"6\", \"goal\": \"AUC_weighted_max\", \"run_name\": \"StandardScalerWrapper, RandomForest\", \"run_properties\": \"<azureml.automl.runtime.shared.model_wrappers.StandardScalerWrapper object at 0x7ff533db3908\", \"primary_metric\": 0.88740706, \"best_metric\": 0.89579024}, {\"run_id\": \"AutoML_c6857abb-a0b5-4c5f-ae11-eeba33cf46c3_7\", \"run_number\": 13, \"metric\": null, \"status\": \"Completed\", \"run_type\": \"azureml.scriptrun\", \"training_percent\": \"100\", \"start_time\": \"2021-04-17T00:57:30.267Z\", \"end_time\": \"2021-04-17T00:58:15.367191Z\", \"created_time\": \"2021-04-17T00:56:20.836256Z\", \"created_time_dt\": \"2021-04-17T00:56:20.836256Z\", \"duration\": \"0:01:54\", \"iteration\": \"7\", \"goal\": \"AUC_weighted_max\", \"run_name\": \"MinMaxScaler, ExtremeRandomTrees\", \"run_properties\": \"copy=True, feature_range=(0, 1\", \"primary_metric\": 0.89841609, \"best_metric\": 0.89841609}, {\"run_id\": \"AutoML_c6857abb-a0b5-4c5f-ae11-eeba33cf46c3_8\", \"run_number\": 14, \"metric\": null, \"status\": \"Completed\", \"run_type\": \"azureml.scriptrun\", \"training_percent\": \"100\", \"start_time\": \"2021-04-17T00:57:40.750766Z\", \"end_time\": \"2021-04-17T00:58:28.243061Z\", \"created_time\": \"2021-04-17T00:57:15.227037Z\", \"created_time_dt\": \"2021-04-17T00:57:15.227037Z\", \"duration\": \"0:01:13\", \"iteration\": \"8\", \"goal\": \"AUC_weighted_max\", \"run_name\": \"MinMaxScaler, ExtremeRandomTrees\", \"run_properties\": \"copy=True, feature_range=(0, 1\", \"primary_metric\": 0.86626601, \"best_metric\": 0.89841609}, {\"run_id\": \"AutoML_c6857abb-a0b5-4c5f-ae11-eeba33cf46c3_9\", \"run_number\": 15, \"metric\": null, \"status\": \"Completed\", \"run_type\": \"azureml.scriptrun\", \"training_percent\": \"100\", \"start_time\": \"2021-04-17T00:58:11.995818Z\", \"end_time\": \"2021-04-17T00:58:57.474801Z\", \"created_time\": \"2021-04-17T00:57:30.710301Z\", \"created_time_dt\": \"2021-04-17T00:57:30.710301Z\", \"duration\": \"0:01:26\", \"iteration\": \"9\", \"goal\": \"AUC_weighted_max\", \"run_name\": \"SparseNormalizer, KNN\", \"run_properties\": \"<azureml.automl.runtime.shared.model_wrappers.SparseNormalizer object at 0x7fb0a8318438\", \"primary_metric\": 0.75147268, \"best_metric\": 0.89841609}, {\"run_id\": \"AutoML_c6857abb-a0b5-4c5f-ae11-eeba33cf46c3_10\", \"run_number\": 16, \"metric\": null, \"status\": \"Completed\", \"run_type\": \"azureml.scriptrun\", \"training_percent\": \"100\", \"start_time\": \"2021-04-17T00:58:14.252518Z\", \"end_time\": \"2021-04-17T00:58:57.136341Z\", \"created_time\": \"2021-04-17T00:58:03.133213Z\", \"created_time_dt\": \"2021-04-17T00:58:03.133213Z\", \"duration\": \"0:00:54\", \"iteration\": \"10\", \"goal\": \"AUC_weighted_max\", \"run_name\": \"MinMaxScaler, ExtremeRandomTrees\", \"run_properties\": \"copy=True, feature_range=(0, 1\", \"primary_metric\": 0.86981271, \"best_metric\": 0.89841609}, {\"run_id\": \"AutoML_c6857abb-a0b5-4c5f-ae11-eeba33cf46c3_11\", \"run_number\": 17, \"metric\": null, \"status\": \"Completed\", \"run_type\": \"azureml.scriptrun\", \"training_percent\": \"100\", \"start_time\": \"2021-04-17T00:58:28.513971Z\", \"end_time\": \"2021-04-17T00:59:10.693827Z\", \"created_time\": \"2021-04-17T00:58:09.868746Z\", \"created_time_dt\": \"2021-04-17T00:58:09.868746Z\", \"duration\": \"0:01:00\", \"iteration\": \"11\", \"goal\": \"AUC_weighted_max\", \"run_name\": \"RobustScaler, ExtremeRandomTrees\", \"run_properties\": \"copy=True, quantile_range=[10, 90], with_centering=True,\\n             with_scaling=False\", \"primary_metric\": 0.87504527, \"best_metric\": 0.89841609}, {\"run_id\": \"AutoML_c6857abb-a0b5-4c5f-ae11-eeba33cf46c3_12\", \"run_number\": 18, \"metric\": null, \"status\": \"Completed\", \"run_type\": \"azureml.scriptrun\", \"training_percent\": \"100\", \"start_time\": \"2021-04-17T00:58:41.114272Z\", \"end_time\": \"2021-04-17T00:59:29.812332Z\", \"created_time\": \"2021-04-17T00:58:18.914282Z\", \"created_time_dt\": \"2021-04-17T00:58:18.914282Z\", \"duration\": \"0:01:10\", \"iteration\": \"12\", \"goal\": \"AUC_weighted_max\", \"run_name\": \"StandardScalerWrapper, RandomForest\", \"run_properties\": \"<azureml.automl.runtime.shared.model_wrappers.StandardScalerWrapper object at 0x7fa4a4457438\", \"primary_metric\": 0.90357653, \"best_metric\": 0.90357653}, {\"run_id\": \"AutoML_c6857abb-a0b5-4c5f-ae11-eeba33cf46c3_13\", \"run_number\": 19, \"metric\": null, \"status\": \"Completed\", \"run_type\": \"azureml.scriptrun\", \"training_percent\": \"100\", \"start_time\": \"2021-04-17T00:59:13.174812Z\", \"end_time\": \"2021-04-17T01:00:00.653095Z\", \"created_time\": \"2021-04-17T00:58:33.290735Z\", \"created_time_dt\": \"2021-04-17T00:58:33.290735Z\", \"duration\": \"0:01:27\", \"iteration\": \"13\", \"goal\": \"AUC_weighted_max\", \"run_name\": \"StandardScalerWrapper, SGD\", \"run_properties\": \"<azureml.automl.runtime.shared.model_wrappers.StandardScalerWrapper object at 0x7f2a75a3db38\", \"primary_metric\": 0.87185857, \"best_metric\": 0.90357653}, {\"run_id\": \"AutoML_c6857abb-a0b5-4c5f-ae11-eeba33cf46c3_14\", \"run_number\": 20, \"metric\": null, \"status\": \"Completed\", \"run_type\": \"azureml.scriptrun\", \"training_percent\": \"100\", \"start_time\": \"2021-04-17T00:59:25.521356Z\", \"end_time\": \"2021-04-17T01:00:09.251332Z\", \"created_time\": \"2021-04-17T00:59:01.391381Z\", \"created_time_dt\": \"2021-04-17T00:59:01.391381Z\", \"duration\": \"0:01:07\", \"iteration\": \"14\", \"goal\": \"AUC_weighted_max\", \"run_name\": \"RobustScaler, RandomForest\", \"run_properties\": \"copy=True, quantile_range=[10, 90], with_centering=True,\\n             with_scaling=False\", \"primary_metric\": 0.8802332, \"best_metric\": 0.90357653}, {\"run_id\": \"AutoML_c6857abb-a0b5-4c5f-ae11-eeba33cf46c3_15\", \"run_number\": 21, \"metric\": null, \"status\": \"Completed\", \"run_type\": \"azureml.scriptrun\", \"training_percent\": \"100\", \"start_time\": \"2021-04-17T00:59:12.484144Z\", \"end_time\": \"2021-04-17T01:00:06.90859Z\", \"created_time\": \"2021-04-17T00:59:01.477763Z\", \"created_time_dt\": \"2021-04-17T00:59:01.477763Z\", \"duration\": \"0:01:05\", \"iteration\": \"15\", \"goal\": \"AUC_weighted_max\", \"run_name\": \"StandardScalerWrapper, KNN\", \"run_properties\": \"<azureml.automl.runtime.shared.model_wrappers.StandardScalerWrapper object at 0x7fef3beb6828\", \"primary_metric\": 0.48227656, \"best_metric\": 0.90357653}, {\"run_id\": \"AutoML_c6857abb-a0b5-4c5f-ae11-eeba33cf46c3_16\", \"run_number\": 22, \"metric\": null, \"status\": \"Completed\", \"run_type\": \"azureml.scriptrun\", \"training_percent\": \"100\", \"start_time\": \"2021-04-17T00:59:41.31275Z\", \"end_time\": \"2021-04-17T01:00:28.480536Z\", \"created_time\": \"2021-04-17T00:59:16.457251Z\", \"created_time_dt\": \"2021-04-17T00:59:16.457251Z\", \"duration\": \"0:01:12\", \"iteration\": \"16\", \"goal\": \"AUC_weighted_max\", \"run_name\": \"MinMaxScaler, RandomForest\", \"run_properties\": \"copy=True, feature_range=(0, 1\", \"primary_metric\": 0.88852173, \"best_metric\": 0.90357653}, {\"run_id\": \"AutoML_c6857abb-a0b5-4c5f-ae11-eeba33cf46c3_17\", \"run_number\": 23, \"metric\": null, \"status\": \"Completed\", \"run_type\": \"azureml.scriptrun\", \"training_percent\": \"100\", \"start_time\": \"2021-04-17T01:00:15.275518Z\", \"end_time\": \"2021-04-17T01:00:59.708554Z\", \"created_time\": \"2021-04-17T00:59:32.866527Z\", \"created_time_dt\": \"2021-04-17T00:59:32.866527Z\", \"duration\": \"0:01:26\", \"iteration\": \"17\", \"goal\": \"AUC_weighted_max\", \"run_name\": \"MinMaxScaler, ExtremeRandomTrees\", \"run_properties\": \"copy=True, feature_range=(0, 1\", \"primary_metric\": 0.82807754, \"best_metric\": 0.90357653}, {\"run_id\": \"AutoML_c6857abb-a0b5-4c5f-ae11-eeba33cf46c3_18\", \"run_number\": 24, \"metric\": null, \"status\": \"Completed\", \"run_type\": \"azureml.scriptrun\", \"training_percent\": \"100\", \"start_time\": \"2021-04-17T01:00:22.724015Z\", \"end_time\": \"2021-04-17T01:01:04.975797Z\", \"created_time\": \"2021-04-17T01:00:04.116561Z\", \"created_time_dt\": \"2021-04-17T01:00:04.116561Z\", \"duration\": \"0:01:00\", \"iteration\": \"18\", \"goal\": \"AUC_weighted_max\", \"run_name\": \"MaxAbsScaler, RandomForest\", \"run_properties\": \"copy=True\", \"primary_metric\": 0.90045337, \"best_metric\": 0.90357653}, {\"run_id\": \"AutoML_c6857abb-a0b5-4c5f-ae11-eeba33cf46c3_19\", \"run_number\": 25, \"metric\": null, \"status\": \"Completed\", \"run_type\": \"azureml.scriptrun\", \"training_percent\": \"100\", \"start_time\": \"2021-04-17T01:00:22.365541Z\", \"end_time\": \"2021-04-17T01:01:13.489122Z\", \"created_time\": \"2021-04-17T01:00:10.824143Z\", \"created_time_dt\": \"2021-04-17T01:00:10.824143Z\", \"duration\": \"0:01:02\", \"iteration\": \"19\", \"goal\": \"AUC_weighted_max\", \"run_name\": \"StandardScalerWrapper, XGBoostClassifier\", \"run_properties\": \"<azureml.automl.runtime.shared.model_wrappers.StandardScalerWrapper object at 0x7f1078122ba8\", \"primary_metric\": 0.90756635, \"best_metric\": 0.90756635}, {\"run_id\": \"AutoML_c6857abb-a0b5-4c5f-ae11-eeba33cf46c3_20\", \"run_number\": 26, \"metric\": null, \"status\": \"Completed\", \"run_type\": \"azureml.scriptrun\", \"training_percent\": \"100\", \"start_time\": \"2021-04-17T01:00:43.492457Z\", \"end_time\": \"2021-04-17T01:01:28.084255Z\", \"created_time\": \"2021-04-17T01:00:16.693426Z\", \"created_time_dt\": \"2021-04-17T01:00:16.693426Z\", \"duration\": \"0:01:11\", \"iteration\": \"20\", \"goal\": \"AUC_weighted_max\", \"run_name\": \"MaxAbsScaler, RandomForest\", \"run_properties\": \"copy=True\", \"primary_metric\": 0.88717405, \"best_metric\": 0.90756635}, {\"run_id\": \"AutoML_c6857abb-a0b5-4c5f-ae11-eeba33cf46c3_21\", \"run_number\": 27, \"metric\": null, \"status\": \"Completed\", \"run_type\": \"azureml.scriptrun\", \"training_percent\": \"100\", \"start_time\": \"2021-04-17T01:01:12.729481Z\", \"end_time\": \"2021-04-17T01:02:00.609585Z\", \"created_time\": \"2021-04-17T01:00:32.149945Z\", \"created_time_dt\": \"2021-04-17T01:00:32.149945Z\", \"duration\": \"0:01:28\", \"iteration\": \"21\", \"goal\": \"AUC_weighted_max\", \"run_name\": \"MaxAbsScaler, ExtremeRandomTrees\", \"run_properties\": \"copy=True\", \"primary_metric\": 0.84860691, \"best_metric\": 0.90756635}, {\"run_id\": \"AutoML_c6857abb-a0b5-4c5f-ae11-eeba33cf46c3_22\", \"run_number\": 28, \"metric\": null, \"status\": \"Completed\", \"run_type\": \"azureml.scriptrun\", \"training_percent\": \"100\", \"start_time\": \"2021-04-17T01:01:22.249288Z\", \"end_time\": \"2021-04-17T01:02:16.521445Z\", \"created_time\": \"2021-04-17T01:01:03.88657Z\", \"created_time_dt\": \"2021-04-17T01:01:03.88657Z\", \"duration\": \"0:01:12\", \"iteration\": \"22\", \"goal\": \"AUC_weighted_max\", \"run_name\": \"MaxAbsScaler, ExtremeRandomTrees\", \"run_properties\": \"copy=True\", \"primary_metric\": 0.87901204, \"best_metric\": 0.90756635}, {\"run_id\": \"AutoML_c6857abb-a0b5-4c5f-ae11-eeba33cf46c3_23\", \"run_number\": 29, \"metric\": null, \"status\": \"Completed\", \"run_type\": \"azureml.scriptrun\", \"training_percent\": \"100\", \"start_time\": \"2021-04-17T01:01:33.600433Z\", \"end_time\": \"2021-04-17T01:02:20.467708Z\", \"created_time\": \"2021-04-17T01:01:09.233287Z\", \"created_time_dt\": \"2021-04-17T01:01:09.233287Z\", \"duration\": \"0:01:11\", \"iteration\": \"23\", \"goal\": \"AUC_weighted_max\", \"run_name\": \"MinMaxScaler, RandomForest\", \"run_properties\": \"copy=True, feature_range=(0, 1\", \"primary_metric\": 0.90806753, \"best_metric\": 0.90806753}, {\"run_id\": \"AutoML_c6857abb-a0b5-4c5f-ae11-eeba33cf46c3_24\", \"run_number\": 30, \"metric\": null, \"status\": \"Completed\", \"run_type\": \"azureml.scriptrun\", \"training_percent\": \"100\", \"start_time\": \"2021-04-17T01:01:43.728419Z\", \"end_time\": \"2021-04-17T01:02:37.943702Z\", \"created_time\": \"2021-04-17T01:01:16.797261Z\", \"created_time_dt\": \"2021-04-17T01:01:16.797261Z\", \"duration\": \"0:01:21\", \"iteration\": \"24\", \"goal\": \"AUC_weighted_max\", \"run_name\": \"MinMaxScaler, ExtremeRandomTrees\", \"run_properties\": \"copy=True, feature_range=(0, 1\", \"primary_metric\": 0.9029375, \"best_metric\": 0.90806753}, {\"run_id\": \"AutoML_c6857abb-a0b5-4c5f-ae11-eeba33cf46c3_25\", \"run_number\": 31, \"metric\": null, \"status\": \"Completed\", \"run_type\": \"azureml.scriptrun\", \"training_percent\": \"100\", \"start_time\": \"2021-04-17T01:02:15.808753Z\", \"end_time\": \"2021-04-17T01:03:01.525516Z\", \"created_time\": \"2021-04-17T01:01:33.279979Z\", \"created_time_dt\": \"2021-04-17T01:01:33.279979Z\", \"duration\": \"0:01:28\", \"iteration\": \"25\", \"goal\": \"AUC_weighted_max\", \"run_name\": \"PCA, XGBoostClassifier\", \"run_properties\": \"copy=True, iterated_power='auto', n_components=0.01, random_state=None,\\n    svd_solver='auto', tol=0.0, whiten=False\", \"primary_metric\": 0.45647436, \"best_metric\": 0.90806753}, {\"run_id\": \"AutoML_c6857abb-a0b5-4c5f-ae11-eeba33cf46c3_26\", \"run_number\": 32, \"metric\": null, \"status\": \"Completed\", \"run_type\": \"azureml.scriptrun\", \"training_percent\": \"100\", \"start_time\": \"2021-04-17T01:02:32.858918Z\", \"end_time\": \"2021-04-17T01:03:18.443415Z\", \"created_time\": \"2021-04-17T01:02:03.099349Z\", \"created_time_dt\": \"2021-04-17T01:02:03.099349Z\", \"duration\": \"0:01:15\", \"iteration\": \"26\", \"goal\": \"AUC_weighted_max\", \"run_name\": \"MaxAbsScaler, ExtremeRandomTrees\", \"run_properties\": \"copy=True\", \"primary_metric\": 0.90085417, \"best_metric\": 0.90806753}, {\"run_id\": \"AutoML_c6857abb-a0b5-4c5f-ae11-eeba33cf46c3_27\", \"run_number\": 33, \"metric\": null, \"status\": \"Completed\", \"run_type\": \"azureml.scriptrun\", \"training_percent\": \"100\", \"start_time\": \"2021-04-17T01:02:34.798376Z\", \"end_time\": \"2021-04-17T01:03:19.621633Z\", \"created_time\": \"2021-04-17T01:02:18.962689Z\", \"created_time_dt\": \"2021-04-17T01:02:18.962689Z\", \"duration\": \"0:01:00\", \"iteration\": \"27\", \"goal\": \"AUC_weighted_max\", \"run_name\": \"StandardScalerWrapper, LightGBM\", \"run_properties\": \"<azureml.automl.runtime.shared.model_wrappers.StandardScalerWrapper object at 0x7f28c5c4c908\", \"primary_metric\": 0.86381741, \"best_metric\": 0.90806753}, {\"run_id\": \"AutoML_c6857abb-a0b5-4c5f-ae11-eeba33cf46c3_28\", \"run_number\": 34, \"metric\": null, \"status\": \"Completed\", \"run_type\": \"azureml.scriptrun\", \"training_percent\": \"100\", \"start_time\": \"2021-04-17T01:02:53.194096Z\", \"end_time\": \"2021-04-17T01:04:17.289109Z\", \"created_time\": \"2021-04-17T01:02:23.774403Z\", \"created_time_dt\": \"2021-04-17T01:02:23.774403Z\", \"duration\": \"0:01:53\", \"iteration\": \"28\", \"goal\": \"AUC_weighted_max\", \"run_name\": \"StandardScalerWrapper, XGBoostClassifier\", \"run_properties\": \"<azureml.automl.runtime.shared.model_wrappers.StandardScalerWrapper object at 0x7fe643f85940\", \"primary_metric\": 0.90305083, \"best_metric\": 0.90806753}, {\"run_id\": \"AutoML_c6857abb-a0b5-4c5f-ae11-eeba33cf46c3_29\", \"run_number\": 35, \"metric\": null, \"status\": \"Completed\", \"run_type\": \"azureml.scriptrun\", \"training_percent\": \"100\", \"start_time\": \"2021-04-17T01:03:19.874832Z\", \"end_time\": \"2021-04-17T01:04:03.827175Z\", \"created_time\": \"2021-04-17T01:02:43.645071Z\", \"created_time_dt\": \"2021-04-17T01:02:43.645071Z\", \"duration\": \"0:01:20\", \"iteration\": \"29\", \"goal\": \"AUC_weighted_max\", \"run_name\": \"RobustScaler, LightGBM\", \"run_properties\": \"copy=True, quantile_range=[10, 90], with_centering=True,\\n             with_scaling=True\", \"primary_metric\": 0.90323466, \"best_metric\": 0.90806753}, {\"run_id\": \"AutoML_c6857abb-a0b5-4c5f-ae11-eeba33cf46c3_30\", \"run_number\": 36, \"metric\": null, \"status\": \"Completed\", \"run_type\": \"azureml.scriptrun\", \"training_percent\": \"100\", \"start_time\": \"2021-04-17T01:03:35.76724Z\", \"end_time\": \"2021-04-17T01:05:09.284832Z\", \"created_time\": \"2021-04-17T01:03:05.780913Z\", \"created_time_dt\": \"2021-04-17T01:03:05.780913Z\", \"duration\": \"0:02:03\", \"iteration\": \"30\", \"goal\": \"AUC_weighted_max\", \"run_name\": \"StandardScalerWrapper, RandomForest\", \"run_properties\": \"<azureml.automl.runtime.shared.model_wrappers.StandardScalerWrapper object at 0x7f369f031e48\", \"primary_metric\": 0.90315409, \"best_metric\": 0.90806753}, {\"run_id\": \"AutoML_c6857abb-a0b5-4c5f-ae11-eeba33cf46c3_31\", \"run_number\": 37, \"metric\": null, \"status\": \"Completed\", \"run_type\": \"azureml.scriptrun\", \"training_percent\": \"100\", \"start_time\": \"2021-04-17T01:03:35.945933Z\", \"end_time\": \"2021-04-17T01:04:53.001592Z\", \"created_time\": \"2021-04-17T01:03:21.386013Z\", \"created_time_dt\": \"2021-04-17T01:03:21.386013Z\", \"duration\": \"0:01:31\", \"iteration\": \"31\", \"goal\": \"AUC_weighted_max\", \"run_name\": \"StandardScalerWrapper, XGBoostClassifier\", \"run_properties\": \"<azureml.automl.runtime.shared.model_wrappers.StandardScalerWrapper object at 0x7f351d852dd8\", \"primary_metric\": 0.90270526, \"best_metric\": 0.90806753}, {\"run_id\": \"AutoML_c6857abb-a0b5-4c5f-ae11-eeba33cf46c3_32\", \"run_number\": 38, \"metric\": null, \"status\": \"Completed\", \"run_type\": \"azureml.scriptrun\", \"training_percent\": \"100\", \"start_time\": \"2021-04-17T01:04:18.134527Z\", \"end_time\": \"2021-04-17T01:05:01.553806Z\", \"created_time\": \"2021-04-17T01:03:27.437901Z\", \"created_time_dt\": \"2021-04-17T01:03:27.437901Z\", \"duration\": \"0:01:34\", \"iteration\": \"32\", \"goal\": \"AUC_weighted_max\", \"run_name\": \"StandardScalerWrapper, XGBoostClassifier\", \"run_properties\": \"<azureml.automl.runtime.shared.model_wrappers.StandardScalerWrapper object at 0x7fc0e1791da0\", \"primary_metric\": 0.89852466, \"best_metric\": 0.90806753}, {\"run_id\": \"AutoML_c6857abb-a0b5-4c5f-ae11-eeba33cf46c3_33\", \"run_number\": 39, \"metric\": null, \"status\": \"Completed\", \"run_type\": \"azureml.scriptrun\", \"training_percent\": \"100\", \"start_time\": \"2021-04-17T01:04:33.990745Z\", \"end_time\": \"2021-04-17T01:05:21.44607Z\", \"created_time\": \"2021-04-17T01:04:06.008206Z\", \"created_time_dt\": \"2021-04-17T01:04:06.008206Z\", \"duration\": \"0:01:15\", \"iteration\": \"33\", \"goal\": \"AUC_weighted_max\", \"run_name\": \"StandardScalerWrapper, XGBoostClassifier\", \"run_properties\": \"<azureml.automl.runtime.shared.model_wrappers.StandardScalerWrapper object at 0x7f9eac6391d0\", \"primary_metric\": 0.90443803, \"best_metric\": 0.90806753}, {\"run_id\": \"AutoML_c6857abb-a0b5-4c5f-ae11-eeba33cf46c3_34\", \"run_number\": 40, \"metric\": null, \"status\": \"Completed\", \"run_type\": \"azureml.scriptrun\", \"training_percent\": \"100\", \"start_time\": \"2021-04-17T01:05:07.792525Z\", \"end_time\": \"2021-04-17T01:05:57.698983Z\", \"created_time\": \"2021-04-17T01:04:20.214898Z\", \"created_time_dt\": \"2021-04-17T01:04:20.214898Z\", \"duration\": \"0:01:37\", \"iteration\": \"34\", \"goal\": \"AUC_weighted_max\", \"run_name\": \"StandardScalerWrapper, XGBoostClassifier\", \"run_properties\": \"<azureml.automl.runtime.shared.model_wrappers.StandardScalerWrapper object at 0x7f0bcc1549b0\", \"primary_metric\": 0.89469523, \"best_metric\": 0.90806753}, {\"run_id\": \"AutoML_c6857abb-a0b5-4c5f-ae11-eeba33cf46c3_35\", \"run_number\": 41, \"metric\": null, \"status\": \"Completed\", \"run_type\": \"azureml.scriptrun\", \"training_percent\": \"100\", \"start_time\": \"2021-04-17T01:05:16.059542Z\", \"end_time\": \"2021-04-17T01:06:04.557349Z\", \"created_time\": \"2021-04-17T01:04:56.064018Z\", \"created_time_dt\": \"2021-04-17T01:04:56.064018Z\", \"duration\": \"0:01:08\", \"iteration\": \"35\", \"goal\": \"AUC_weighted_max\", \"run_name\": \"StandardScalerWrapper, RandomForest\", \"run_properties\": \"<azureml.automl.runtime.shared.model_wrappers.StandardScalerWrapper object at 0x7f96b74f40b8\", \"primary_metric\": 0.70816401, \"best_metric\": 0.90806753}, {\"run_id\": \"AutoML_c6857abb-a0b5-4c5f-ae11-eeba33cf46c3_36\", \"run_number\": 42, \"metric\": null, \"status\": \"Completed\", \"run_type\": \"azureml.scriptrun\", \"training_percent\": \"100\", \"start_time\": \"2021-04-17T01:05:22.133572Z\", \"end_time\": \"2021-04-17T01:06:06.889435Z\", \"created_time\": \"2021-04-17T01:05:03.726592Z\", \"created_time_dt\": \"2021-04-17T01:05:03.726592Z\", \"duration\": \"0:01:03\", \"iteration\": \"36\", \"goal\": \"AUC_weighted_max\", \"run_name\": \"StandardScalerWrapper, XGBoostClassifier\", \"run_properties\": \"<azureml.automl.runtime.shared.model_wrappers.StandardScalerWrapper object at 0x7f73d8b0ef28\", \"primary_metric\": 0.90095067, \"best_metric\": 0.90806753}, {\"run_id\": \"AutoML_c6857abb-a0b5-4c5f-ae11-eeba33cf46c3_37\", \"run_number\": 43, \"metric\": null, \"status\": \"Completed\", \"run_type\": \"azureml.scriptrun\", \"training_percent\": \"100\", \"start_time\": \"2021-04-17T01:05:37.045647Z\", \"end_time\": \"2021-04-17T01:06:23.71996Z\", \"created_time\": \"2021-04-17T01:05:12.007571Z\", \"created_time_dt\": \"2021-04-17T01:05:12.007571Z\", \"duration\": \"0:01:11\", \"iteration\": \"37\", \"goal\": \"AUC_weighted_max\", \"run_name\": \"MinMaxScaler, LightGBM\", \"run_properties\": \"copy=True, feature_range=(0, 1\", \"primary_metric\": 0.87676696, \"best_metric\": 0.90806753}, {\"run_id\": \"AutoML_c6857abb-a0b5-4c5f-ae11-eeba33cf46c3_38\", \"run_number\": 44, \"metric\": null, \"status\": \"Completed\", \"run_type\": \"azureml.scriptrun\", \"training_percent\": \"100\", \"start_time\": \"2021-04-17T01:06:11.41567Z\", \"end_time\": \"2021-04-17T01:07:04.829735Z\", \"created_time\": \"2021-04-17T01:05:23.91633Z\", \"created_time_dt\": \"2021-04-17T01:05:23.91633Z\", \"duration\": \"0:01:40\", \"iteration\": \"38\", \"goal\": \"AUC_weighted_max\", \"run_name\": \"StandardScalerWrapper, XGBoostClassifier\", \"run_properties\": \"<azureml.automl.runtime.shared.model_wrappers.StandardScalerWrapper object at 0x7f93fef177f0\", \"primary_metric\": 0.88943545, \"best_metric\": 0.90806753}, {\"run_id\": \"AutoML_c6857abb-a0b5-4c5f-ae11-eeba33cf46c3_39\", \"run_number\": 45, \"metric\": null, \"status\": \"Completed\", \"run_type\": \"azureml.scriptrun\", \"training_percent\": \"100\", \"start_time\": \"2021-04-17T01:06:19.86741Z\", \"end_time\": \"2021-04-17T01:07:06.804272Z\", \"created_time\": \"2021-04-17T01:06:00.22086Z\", \"created_time_dt\": \"2021-04-17T01:06:00.22086Z\", \"duration\": \"0:01:06\", \"iteration\": \"39\", \"goal\": \"AUC_weighted_max\", \"run_name\": \"MaxAbsScaler, ExtremeRandomTrees\", \"run_properties\": \"copy=True\", \"primary_metric\": 0.88568757, \"best_metric\": 0.90806753}, {\"run_id\": \"AutoML_c6857abb-a0b5-4c5f-ae11-eeba33cf46c3_40\", \"run_number\": 46, \"metric\": null, \"status\": \"Completed\", \"run_type\": \"azureml.scriptrun\", \"training_percent\": \"100\", \"start_time\": \"2021-04-17T01:06:20.937999Z\", \"end_time\": \"2021-04-17T01:07:02.036331Z\", \"created_time\": \"2021-04-17T01:06:07.897241Z\", \"created_time_dt\": \"2021-04-17T01:06:07.897241Z\", \"duration\": \"0:00:54\", \"iteration\": \"40\", \"goal\": \"AUC_weighted_max\", \"run_name\": \"MaxAbsScaler, RandomForest\", \"run_properties\": \"copy=True\", \"primary_metric\": 0.80361968, \"best_metric\": 0.90806753}, {\"run_id\": \"AutoML_c6857abb-a0b5-4c5f-ae11-eeba33cf46c3_41\", \"run_number\": 47, \"metric\": null, \"status\": \"Completed\", \"run_type\": \"azureml.scriptrun\", \"training_percent\": \"100\", \"start_time\": \"2021-04-17T01:06:39.697797Z\", \"end_time\": \"2021-04-17T01:07:26.787341Z\", \"created_time\": \"2021-04-17T01:06:12.31338Z\", \"created_time_dt\": \"2021-04-17T01:06:12.31338Z\", \"duration\": \"0:01:14\", \"iteration\": \"41\", \"goal\": \"AUC_weighted_max\", \"run_name\": \"StandardScalerWrapper, RandomForest\", \"run_properties\": \"<azureml.automl.runtime.shared.model_wrappers.StandardScalerWrapper object at 0x7f596eaedd30\", \"primary_metric\": 0.89620024, \"best_metric\": 0.90806753}, {\"run_id\": \"AutoML_c6857abb-a0b5-4c5f-ae11-eeba33cf46c3_42\", \"run_number\": 48, \"metric\": null, \"status\": \"Completed\", \"run_type\": \"azureml.scriptrun\", \"training_percent\": \"100\", \"start_time\": \"2021-04-17T01:07:16.386441Z\", \"end_time\": \"2021-04-17T01:08:10.623361Z\", \"created_time\": \"2021-04-17T01:06:25.929908Z\", \"created_time_dt\": \"2021-04-17T01:06:25.929908Z\", \"duration\": \"0:01:44\", \"iteration\": \"42\", \"goal\": \"AUC_weighted_max\", \"run_name\": \"MaxAbsScaler, RandomForest\", \"run_properties\": \"copy=True\", \"primary_metric\": 0.90240197, \"best_metric\": 0.90806753}, {\"run_id\": \"AutoML_c6857abb-a0b5-4c5f-ae11-eeba33cf46c3_43\", \"run_number\": 49, \"metric\": null, \"status\": \"Completed\", \"run_type\": \"azureml.scriptrun\", \"training_percent\": \"100\", \"start_time\": \"2021-04-17T01:07:19.266851Z\", \"end_time\": \"2021-04-17T01:08:15.084898Z\", \"created_time\": \"2021-04-17T01:07:04.317394Z\", \"created_time_dt\": \"2021-04-17T01:07:04.317394Z\", \"duration\": \"0:01:10\", \"iteration\": \"43\", \"goal\": \"AUC_weighted_max\", \"run_name\": \"MaxAbsScaler, LightGBM\", \"run_properties\": \"copy=True\", \"primary_metric\": 0.89273071, \"best_metric\": 0.90806753}, {\"run_id\": \"AutoML_c6857abb-a0b5-4c5f-ae11-eeba33cf46c3_44\", \"run_number\": 50, \"metric\": null, \"status\": \"Completed\", \"run_type\": \"azureml.scriptrun\", \"training_percent\": \"100\", \"start_time\": \"2021-04-17T01:07:22.506897Z\", \"end_time\": \"2021-04-17T01:08:06.239064Z\", \"created_time\": \"2021-04-17T01:07:09.269139Z\", \"created_time_dt\": \"2021-04-17T01:07:09.269139Z\", \"duration\": \"0:00:56\", \"iteration\": \"44\", \"goal\": \"AUC_weighted_max\", \"run_name\": \"StandardScalerWrapper, LogisticRegression\", \"run_properties\": \"<azureml.automl.runtime.shared.model_wrappers.StandardScalerWrapper object at 0x7fd524d14860\", \"primary_metric\": 0.86775443, \"best_metric\": 0.90806753}, {\"run_id\": \"AutoML_c6857abb-a0b5-4c5f-ae11-eeba33cf46c3_45\", \"run_number\": 51, \"metric\": null, \"status\": \"Completed\", \"run_type\": \"azureml.scriptrun\", \"training_percent\": \"100\", \"start_time\": \"2021-04-17T01:07:40.480237Z\", \"end_time\": \"2021-04-17T01:08:33.810203Z\", \"created_time\": \"2021-04-17T01:07:14.464844Z\", \"created_time_dt\": \"2021-04-17T01:07:14.464844Z\", \"duration\": \"0:01:19\", \"iteration\": \"45\", \"goal\": \"AUC_weighted_max\", \"run_name\": \"MaxAbsScaler, RandomForest\", \"run_properties\": \"copy=True\", \"primary_metric\": 0.91458576, \"best_metric\": 0.91458576}, {\"run_id\": \"AutoML_c6857abb-a0b5-4c5f-ae11-eeba33cf46c3_46\", \"run_number\": 52, \"metric\": null, \"status\": \"Completed\", \"run_type\": \"azureml.scriptrun\", \"training_percent\": \"100\", \"start_time\": \"2021-04-17T01:08:20.367352Z\", \"end_time\": \"2021-04-17T01:09:04.695506Z\", \"created_time\": \"2021-04-17T01:07:29.134866Z\", \"created_time_dt\": \"2021-04-17T01:07:29.134866Z\", \"duration\": \"0:01:35\", \"iteration\": \"46\", \"goal\": \"AUC_weighted_max\", \"run_name\": \"MaxAbsScaler, GradientBoosting\", \"run_properties\": \"copy=True\", \"primary_metric\": 0.91479404, \"best_metric\": 0.91479404}, {\"run_id\": \"AutoML_c6857abb-a0b5-4c5f-ae11-eeba33cf46c3_47\", \"run_number\": 53, \"metric\": null, \"status\": \"Completed\", \"run_type\": \"azureml.scriptrun\", \"training_percent\": \"100\", \"start_time\": \"2021-04-17T01:08:26.982261Z\", \"end_time\": \"2021-04-17T01:09:11.890215Z\", \"created_time\": \"2021-04-17T01:08:08.621821Z\", \"created_time_dt\": \"2021-04-17T01:08:08.621821Z\", \"duration\": \"0:01:03\", \"iteration\": \"47\", \"goal\": \"AUC_weighted_max\", \"run_name\": \"StandardScalerWrapper, GradientBoosting\", \"run_properties\": \"<azureml.automl.runtime.shared.model_wrappers.StandardScalerWrapper object at 0x7fc9972d3a90\", \"primary_metric\": 0.90810421, \"best_metric\": 0.91479404}, {\"run_id\": \"AutoML_c6857abb-a0b5-4c5f-ae11-eeba33cf46c3_48\", \"run_number\": 54, \"metric\": null, \"status\": \"Completed\", \"run_type\": \"azureml.scriptrun\", \"training_percent\": \"100\", \"start_time\": \"2021-04-17T01:08:28.010573Z\", \"end_time\": \"2021-04-17T01:09:20.81834Z\", \"created_time\": \"2021-04-17T01:08:14.193048Z\", \"created_time_dt\": \"2021-04-17T01:08:14.193048Z\", \"duration\": \"0:01:06\", \"iteration\": \"48\", \"goal\": \"AUC_weighted_max\", \"run_name\": \"RobustScaler, GradientBoosting\", \"run_properties\": \"copy=True, quantile_range=[25, 75], with_centering=False,\\n             with_scaling=False\", \"primary_metric\": 0.90106467, \"best_metric\": 0.91479404}, {\"run_id\": \"AutoML_c6857abb-a0b5-4c5f-ae11-eeba33cf46c3_49\", \"run_number\": 55, \"metric\": null, \"status\": \"Completed\", \"run_type\": \"azureml.scriptrun\", \"training_percent\": \"100\", \"start_time\": \"2021-04-17T01:08:51.018942Z\", \"end_time\": \"2021-04-17T01:09:36.734175Z\", \"created_time\": \"2021-04-17T01:08:19.934947Z\", \"created_time_dt\": \"2021-04-17T01:08:19.934947Z\", \"duration\": \"0:01:16\", \"iteration\": \"49\", \"goal\": \"AUC_weighted_max\", \"run_name\": \"StandardScalerWrapper, LightGBM\", \"run_properties\": \"<azureml.automl.runtime.shared.model_wrappers.StandardScalerWrapper object at 0x7fd38795de80\", \"primary_metric\": 0.90352215, \"best_metric\": 0.91479404}, {\"run_id\": \"AutoML_c6857abb-a0b5-4c5f-ae11-eeba33cf46c3_50\", \"run_number\": 56, \"metric\": null, \"status\": \"Completed\", \"run_type\": \"azureml.scriptrun\", \"training_percent\": \"100\", \"start_time\": \"2021-04-17T01:09:21.459972Z\", \"end_time\": \"2021-04-17T01:10:04.833638Z\", \"created_time\": \"2021-04-17T01:08:37.300482Z\", \"created_time_dt\": \"2021-04-17T01:08:37.300482Z\", \"duration\": \"0:01:27\", \"iteration\": \"50\", \"goal\": \"AUC_weighted_max\", \"run_name\": \"MinMaxScaler, RandomForest\", \"run_properties\": \"copy=True, feature_range=(0, 1\", \"primary_metric\": 0.88714948, \"best_metric\": 0.91479404}, {\"run_id\": \"AutoML_c6857abb-a0b5-4c5f-ae11-eeba33cf46c3_51\", \"run_number\": 57, \"metric\": null, \"status\": \"Completed\", \"run_type\": \"azureml.scriptrun\", \"training_percent\": \"100\", \"start_time\": \"2021-04-17T01:09:29.287973Z\", \"end_time\": \"2021-04-17T01:10:18.723884Z\", \"created_time\": \"2021-04-17T01:09:06.92315Z\", \"created_time_dt\": \"2021-04-17T01:09:06.92315Z\", \"duration\": \"0:01:11\", \"iteration\": \"51\", \"goal\": \"AUC_weighted_max\", \"run_name\": \"StandardScalerWrapper, GradientBoosting\", \"run_properties\": \"<azureml.automl.runtime.shared.model_wrappers.StandardScalerWrapper object at 0x7f813d83b3c8\", \"primary_metric\": 0.89202808, \"best_metric\": 0.91479404}, {\"run_id\": \"AutoML_c6857abb-a0b5-4c5f-ae11-eeba33cf46c3_52\", \"run_number\": 58, \"metric\": null, \"status\": \"Completed\", \"run_type\": \"azureml.scriptrun\", \"training_percent\": \"100\", \"start_time\": \"2021-04-17T01:09:35.49403Z\", \"end_time\": \"2021-04-17T01:10:27.731546Z\", \"created_time\": \"2021-04-17T01:09:14.515112Z\", \"created_time_dt\": \"2021-04-17T01:09:14.515112Z\", \"duration\": \"0:01:13\", \"iteration\": \"52\", \"goal\": \"AUC_weighted_max\", \"run_name\": \"StandardScalerWrapper, XGBoostClassifier\", \"run_properties\": \"<azureml.automl.runtime.shared.model_wrappers.StandardScalerWrapper object at 0x7f92e43d7978\", \"primary_metric\": 0.9050787, \"best_metric\": 0.91479404}, {\"run_id\": \"AutoML_c6857abb-a0b5-4c5f-ae11-eeba33cf46c3_53\", \"run_number\": 59, \"metric\": null, \"status\": \"Completed\", \"run_type\": \"azureml.scriptrun\", \"training_percent\": \"100\", \"start_time\": \"2021-04-17T01:09:49.251651Z\", \"end_time\": \"2021-04-17T01:10:42.514774Z\", \"created_time\": \"2021-04-17T01:09:25.698169Z\", \"created_time_dt\": \"2021-04-17T01:09:25.698169Z\", \"duration\": \"0:01:16\", \"iteration\": \"53\", \"goal\": \"AUC_weighted_max\", \"run_name\": \"StandardScalerWrapper, LogisticRegression\", \"run_properties\": \"<azureml.automl.runtime.shared.model_wrappers.StandardScalerWrapper object at 0x7fe4ca134ba8\", \"primary_metric\": 0.87019285, \"best_metric\": 0.91479404}, {\"run_id\": \"AutoML_c6857abb-a0b5-4c5f-ae11-eeba33cf46c3_54\", \"run_number\": 60, \"metric\": null, \"status\": \"Completed\", \"run_type\": \"azureml.scriptrun\", \"training_percent\": \"100\", \"start_time\": \"2021-04-17T01:10:21.397913Z\", \"end_time\": \"2021-04-17T01:11:05.801939Z\", \"created_time\": \"2021-04-17T01:09:40.885092Z\", \"created_time_dt\": \"2021-04-17T01:09:40.885092Z\", \"duration\": \"0:01:24\", \"iteration\": \"54\", \"goal\": \"AUC_weighted_max\", \"run_name\": \"StandardScalerWrapper, XGBoostClassifier\", \"run_properties\": \"<azureml.automl.runtime.shared.model_wrappers.StandardScalerWrapper object at 0x7f6189d86eb8\", \"primary_metric\": 0.91063437, \"best_metric\": 0.91479404}, {\"run_id\": \"AutoML_c6857abb-a0b5-4c5f-ae11-eeba33cf46c3_55\", \"run_number\": 61, \"metric\": null, \"status\": \"Completed\", \"run_type\": \"azureml.scriptrun\", \"training_percent\": \"100\", \"start_time\": \"2021-04-17T01:10:35.206043Z\", \"end_time\": \"2021-04-17T01:11:25.390863Z\", \"created_time\": \"2021-04-17T01:10:08.793297Z\", \"created_time_dt\": \"2021-04-17T01:10:08.793297Z\", \"duration\": \"0:01:16\", \"iteration\": \"55\", \"goal\": \"AUC_weighted_max\", \"run_name\": \"StandardScalerWrapper, GradientBoosting\", \"run_properties\": \"<azureml.automl.runtime.shared.model_wrappers.StandardScalerWrapper object at 0x7fca7c74e668\", \"primary_metric\": 0.90820374, \"best_metric\": 0.91479404}, {\"run_id\": \"AutoML_c6857abb-a0b5-4c5f-ae11-eeba33cf46c3_56\", \"run_number\": 62, \"metric\": null, \"status\": \"Completed\", \"run_type\": \"azureml.scriptrun\", \"training_percent\": \"100\", \"start_time\": \"2021-04-17T01:10:43.611084Z\", \"end_time\": \"2021-04-17T01:11:27.083503Z\", \"created_time\": \"2021-04-17T01:10:21.219038Z\", \"created_time_dt\": \"2021-04-17T01:10:21.219038Z\", \"duration\": \"0:01:05\", \"iteration\": \"56\", \"goal\": \"AUC_weighted_max\", \"run_name\": \"StandardScalerWrapper, XGBoostClassifier\", \"run_properties\": \"<azureml.automl.runtime.shared.model_wrappers.StandardScalerWrapper object at 0x7fed17f57e10\", \"primary_metric\": 0.90315269, \"best_metric\": 0.91479404}, {\"run_id\": \"AutoML_c6857abb-a0b5-4c5f-ae11-eeba33cf46c3_57\", \"run_number\": 63, \"metric\": null, \"status\": \"Completed\", \"run_type\": \"azureml.scriptrun\", \"training_percent\": \"100\", \"start_time\": \"2021-04-17T01:11:10.202392Z\", \"end_time\": \"2021-04-17T01:11:44.713705Z\", \"created_time\": \"2021-04-17T01:10:30.493328Z\", \"created_time_dt\": \"2021-04-17T01:10:30.493328Z\", \"duration\": \"0:01:14\", \"iteration\": \"57\", \"goal\": \"AUC_weighted_max\", \"run_name\": \"StandardScalerWrapper, XGBoostClassifier\", \"run_properties\": \"<azureml.automl.runtime.shared.model_wrappers.StandardScalerWrapper object at 0x7fc6ac642eb8\", \"primary_metric\": 0.91131762, \"best_metric\": 0.91479404}, {\"run_id\": \"AutoML_c6857abb-a0b5-4c5f-ae11-eeba33cf46c3_58\", \"run_number\": 64, \"metric\": null, \"status\": \"Completed\", \"run_type\": \"azureml.scriptrun\", \"training_percent\": \"100\", \"start_time\": \"2021-04-17T01:11:21.083922Z\", \"end_time\": \"2021-04-17T01:12:14.173354Z\", \"created_time\": \"2021-04-17T01:10:45.117182Z\", \"created_time_dt\": \"2021-04-17T01:10:45.117182Z\", \"duration\": \"0:01:29\", \"iteration\": \"58\", \"goal\": \"AUC_weighted_max\", \"run_name\": \"StandardScalerWrapper, XGBoostClassifier\", \"run_properties\": \"<azureml.automl.runtime.shared.model_wrappers.StandardScalerWrapper object at 0x7f6d5bc153c8\", \"primary_metric\": 0.91491595, \"best_metric\": 0.91491595}, {\"run_id\": \"AutoML_c6857abb-a0b5-4c5f-ae11-eeba33cf46c3_59\", \"run_number\": 65, \"metric\": null, \"status\": \"Completed\", \"run_type\": \"azureml.scriptrun\", \"training_percent\": \"100\", \"start_time\": \"2021-04-17T01:11:40.157474Z\", \"end_time\": \"2021-04-17T01:12:29.408137Z\", \"created_time\": \"2021-04-17T01:11:08.241622Z\", \"created_time_dt\": \"2021-04-17T01:11:08.241622Z\", \"duration\": \"0:01:21\", \"iteration\": \"59\", \"goal\": \"AUC_weighted_max\", \"run_name\": \"RobustScaler, GradientBoosting\", \"run_properties\": \"copy=True, quantile_range=[25, 75], with_centering=True,\\n             with_scaling=True\", \"primary_metric\": 0.91243688, \"best_metric\": 0.91491595}, {\"run_id\": \"AutoML_c6857abb-a0b5-4c5f-ae11-eeba33cf46c3_60\", \"run_number\": 66, \"metric\": null, \"status\": \"Completed\", \"run_type\": \"azureml.scriptrun\", \"training_percent\": \"100\", \"start_time\": \"2021-04-17T01:11:44.085748Z\", \"end_time\": \"2021-04-17T01:12:31.494467Z\", \"created_time\": \"2021-04-17T01:11:28.875643Z\", \"created_time_dt\": \"2021-04-17T01:11:28.875643Z\", \"duration\": \"0:01:02\", \"iteration\": \"60\", \"goal\": \"AUC_weighted_max\", \"run_name\": \"MinMaxScaler, GradientBoosting\", \"run_properties\": \"copy=True, feature_range=(0, 1\", \"primary_metric\": 0.90711229, \"best_metric\": 0.91491595}, {\"run_id\": \"AutoML_c6857abb-a0b5-4c5f-ae11-eeba33cf46c3_61\", \"run_number\": 67, \"metric\": null, \"status\": \"Completed\", \"run_type\": \"azureml.scriptrun\", \"training_percent\": \"100\", \"start_time\": \"2021-04-17T01:12:00.327066Z\", \"end_time\": \"2021-04-17T01:12:48.131793Z\", \"created_time\": \"2021-04-17T01:11:33.288542Z\", \"created_time_dt\": \"2021-04-17T01:11:33.288542Z\", \"duration\": \"0:01:14\", \"iteration\": \"61\", \"goal\": \"AUC_weighted_max\", \"run_name\": \"StandardScalerWrapper, RandomForest\", \"run_properties\": \"<azureml.automl.runtime.shared.model_wrappers.StandardScalerWrapper object at 0x7f03322dafd0\", \"primary_metric\": 0.91702605, \"best_metric\": 0.91702605}, {\"run_id\": \"AutoML_c6857abb-a0b5-4c5f-ae11-eeba33cf46c3_62\", \"run_number\": 68, \"metric\": null, \"status\": \"Completed\", \"run_type\": \"azureml.scriptrun\", \"training_percent\": \"100\", \"start_time\": \"2021-04-17T01:12:26.856435Z\", \"end_time\": \"2021-04-17T01:13:11.918229Z\", \"created_time\": \"2021-04-17T01:11:47.008749Z\", \"created_time_dt\": \"2021-04-17T01:11:47.008749Z\", \"duration\": \"0:01:24\", \"iteration\": \"62\", \"goal\": \"AUC_weighted_max\", \"run_name\": \"RobustScaler, GradientBoosting\", \"run_properties\": \"copy=True, quantile_range=[10, 90], with_centering=True,\\n             with_scaling=False\", \"primary_metric\": 0.9012742, \"best_metric\": 0.91702605}, {\"run_id\": \"AutoML_c6857abb-a0b5-4c5f-ae11-eeba33cf46c3_63\", \"run_number\": 69, \"metric\": null, \"status\": \"Completed\", \"run_type\": \"azureml.scriptrun\", \"training_percent\": \"100\", \"start_time\": \"2021-04-17T01:12:43.357683Z\", \"end_time\": \"2021-04-17T01:13:28.045555Z\", \"created_time\": \"2021-04-17T01:12:16.519358Z\", \"created_time_dt\": \"2021-04-17T01:12:16.519358Z\", \"duration\": \"0:01:11\", \"iteration\": \"63\", \"goal\": \"AUC_weighted_max\", \"run_name\": \"StandardScalerWrapper, XGBoostClassifier\", \"run_properties\": \"<azureml.automl.runtime.shared.model_wrappers.StandardScalerWrapper object at 0x7f647d241b38\", \"primary_metric\": 0.90385989, \"best_metric\": 0.91702605}, {\"run_id\": \"AutoML_c6857abb-a0b5-4c5f-ae11-eeba33cf46c3_64\", \"run_number\": 70, \"metric\": null, \"status\": \"Completed\", \"run_type\": \"azureml.scriptrun\", \"training_percent\": \"100\", \"start_time\": \"2021-04-17T01:12:43.341742Z\", \"end_time\": \"2021-04-17T01:13:28.965393Z\", \"created_time\": \"2021-04-17T01:12:31.610836Z\", \"created_time_dt\": \"2021-04-17T01:12:31.610836Z\", \"duration\": \"0:00:57\", \"iteration\": \"64\", \"goal\": \"AUC_weighted_max\", \"run_name\": \"StandardScalerWrapper, GradientBoosting\", \"run_properties\": \"<azureml.automl.runtime.shared.model_wrappers.StandardScalerWrapper object at 0x7f2f98ec34a8\", \"primary_metric\": 0.9125796, \"best_metric\": 0.91702605}, {\"run_id\": \"AutoML_c6857abb-a0b5-4c5f-ae11-eeba33cf46c3_65\", \"run_number\": 71, \"metric\": null, \"status\": \"Completed\", \"run_type\": \"azureml.scriptrun\", \"training_percent\": \"100\", \"start_time\": \"2021-04-17T01:13:02.374556Z\", \"end_time\": \"2021-04-17T01:13:46.369012Z\", \"created_time\": \"2021-04-17T01:12:36.588977Z\", \"created_time_dt\": \"2021-04-17T01:12:36.588977Z\", \"duration\": \"0:01:09\", \"iteration\": \"65\", \"goal\": \"AUC_weighted_max\", \"run_name\": \"StandardScalerWrapper, XGBoostClassifier\", \"run_properties\": \"<azureml.automl.runtime.shared.model_wrappers.StandardScalerWrapper object at 0x7ff53fdf2588\", \"primary_metric\": 0.9077314, \"best_metric\": 0.91702605}, {\"run_id\": \"AutoML_c6857abb-a0b5-4c5f-ae11-eeba33cf46c3_66\", \"run_number\": 72, \"metric\": null, \"status\": \"Completed\", \"run_type\": \"azureml.scriptrun\", \"training_percent\": \"100\", \"start_time\": \"2021-04-17T01:13:25.632711Z\", \"end_time\": \"2021-04-17T01:14:12.392845Z\", \"created_time\": \"2021-04-17T01:12:50.81004Z\", \"created_time_dt\": \"2021-04-17T01:12:50.81004Z\", \"duration\": \"0:01:21\", \"iteration\": \"66\", \"goal\": \"AUC_weighted_max\", \"run_name\": \"StandardScalerWrapper, GradientBoosting\", \"run_properties\": \"<azureml.automl.runtime.shared.model_wrappers.StandardScalerWrapper object at 0x7f442ec33f60\", \"primary_metric\": 0.91560654, \"best_metric\": 0.91702605}, {\"run_id\": \"AutoML_c6857abb-a0b5-4c5f-ae11-eeba33cf46c3_67\", \"run_number\": 73, \"metric\": null, \"status\": \"Completed\", \"run_type\": \"azureml.scriptrun\", \"training_percent\": \"100\", \"start_time\": \"2021-04-17T01:13:41.692201Z\", \"end_time\": \"2021-04-17T01:14:35.648067Z\", \"created_time\": \"2021-04-17T01:13:15.028346Z\", \"created_time_dt\": \"2021-04-17T01:13:15.028346Z\", \"duration\": \"0:01:20\", \"iteration\": \"67\", \"goal\": \"AUC_weighted_max\", \"run_name\": \"StandardScalerWrapper, XGBoostClassifier\", \"run_properties\": \"<azureml.automl.runtime.shared.model_wrappers.StandardScalerWrapper object at 0x7ff7ba3a6f60\", \"primary_metric\": 0.90596738, \"best_metric\": 0.91702605}, {\"run_id\": \"AutoML_c6857abb-a0b5-4c5f-ae11-eeba33cf46c3_68\", \"run_number\": 74, \"metric\": null, \"status\": \"Completed\", \"run_type\": \"azureml.scriptrun\", \"training_percent\": \"100\", \"start_time\": \"2021-04-17T01:13:43.739336Z\", \"end_time\": \"2021-04-17T01:14:33.100577Z\", \"created_time\": \"2021-04-17T01:13:30.460248Z\", \"created_time_dt\": \"2021-04-17T01:13:30.460248Z\", \"duration\": \"0:01:02\", \"iteration\": \"68\", \"goal\": \"AUC_weighted_max\", \"run_name\": \"StandardScalerWrapper, RandomForest\", \"run_properties\": \"<azureml.automl.runtime.shared.model_wrappers.StandardScalerWrapper object at 0x7fcdfb8c15c0\", \"primary_metric\": 0.91181848, \"best_metric\": 0.91702605}, {\"run_id\": \"AutoML_c6857abb-a0b5-4c5f-ae11-eeba33cf46c3_69\", \"run_number\": 75, \"metric\": null, \"status\": \"Completed\", \"run_type\": \"azureml.scriptrun\", \"training_percent\": \"100\", \"start_time\": \"2021-04-17T01:14:00.228894Z\", \"end_time\": \"2021-04-17T01:14:47.450038Z\", \"created_time\": \"2021-04-17T01:13:35.540691Z\", \"created_time_dt\": \"2021-04-17T01:13:35.540691Z\", \"duration\": \"0:01:11\", \"iteration\": \"69\", \"goal\": \"AUC_weighted_max\", \"run_name\": \"MinMaxScaler, RandomForest\", \"run_properties\": \"copy=True, feature_range=(0, 1\", \"primary_metric\": 0.91754577, \"best_metric\": 0.91754577}, {\"run_id\": \"AutoML_c6857abb-a0b5-4c5f-ae11-eeba33cf46c3_70\", \"run_number\": 76, \"metric\": null, \"status\": \"Completed\", \"run_type\": \"azureml.scriptrun\", \"training_percent\": \"100\", \"start_time\": \"2021-04-17T01:14:27.435474Z\", \"end_time\": \"2021-04-17T01:15:18.105417Z\", \"created_time\": \"2021-04-17T01:13:49.732802Z\", \"created_time_dt\": \"2021-04-17T01:13:49.732802Z\", \"duration\": \"0:01:28\", \"iteration\": \"70\", \"goal\": \"AUC_weighted_max\", \"run_name\": \"StandardScalerWrapper, RandomForest\", \"run_properties\": \"<azureml.automl.runtime.shared.model_wrappers.StandardScalerWrapper object at 0x7f9e118d10f0\", \"primary_metric\": 0.90569251, \"best_metric\": 0.91754577}, {\"run_id\": \"AutoML_c6857abb-a0b5-4c5f-ae11-eeba33cf46c3_71\", \"run_number\": 77, \"metric\": null, \"status\": \"Completed\", \"run_type\": \"azureml.scriptrun\", \"training_percent\": \"100\", \"start_time\": \"2021-04-17T01:14:45.540525Z\", \"end_time\": \"2021-04-17T01:15:28.909781Z\", \"created_time\": \"2021-04-17T01:14:14.983735Z\", \"created_time_dt\": \"2021-04-17T01:14:14.983735Z\", \"duration\": \"0:01:13\", \"iteration\": \"71\", \"goal\": \"AUC_weighted_max\", \"run_name\": \"RobustScaler, LightGBM\", \"run_properties\": \"copy=True, quantile_range=[25, 75], with_centering=True,\\n             with_scaling=True\", \"primary_metric\": 0.90120084, \"best_metric\": 0.91754577}, {\"run_id\": \"AutoML_c6857abb-a0b5-4c5f-ae11-eeba33cf46c3_72\", \"run_number\": 78, \"metric\": null, \"status\": \"Completed\", \"run_type\": \"azureml.scriptrun\", \"training_percent\": \"100\", \"start_time\": \"2021-04-17T01:14:50.810682Z\", \"end_time\": \"2021-04-17T01:15:42.945637Z\", \"created_time\": \"2021-04-17T01:14:35.399464Z\", \"created_time_dt\": \"2021-04-17T01:14:35.399464Z\", \"duration\": \"0:01:07\", \"iteration\": \"72\", \"goal\": \"AUC_weighted_max\", \"run_name\": \"MinMaxScaler, ExtremeRandomTrees\", \"run_properties\": \"copy=True, feature_range=(0, 1\", \"primary_metric\": 0.89528177, \"best_metric\": 0.91754577}, {\"run_id\": \"AutoML_c6857abb-a0b5-4c5f-ae11-eeba33cf46c3_73\", \"run_number\": 79, \"metric\": null, \"status\": \"Completed\", \"run_type\": \"azureml.scriptrun\", \"training_percent\": \"100\", \"start_time\": \"2021-04-17T01:15:02.904801Z\", \"end_time\": \"2021-04-17T01:15:49.024565Z\", \"created_time\": \"2021-04-17T01:14:42.362353Z\", \"created_time_dt\": \"2021-04-17T01:14:42.362353Z\", \"duration\": \"0:01:06\", \"iteration\": \"73\", \"goal\": \"AUC_weighted_max\", \"run_name\": \"MinMaxScaler, LightGBM\", \"run_properties\": \"copy=True, feature_range=(0, 1\", \"primary_metric\": 0.90100431, \"best_metric\": 0.91754577}, {\"run_id\": \"AutoML_c6857abb-a0b5-4c5f-ae11-eeba33cf46c3_74\", \"run_number\": 80, \"metric\": null, \"status\": \"Completed\", \"run_type\": \"azureml.scriptrun\", \"training_percent\": \"100\", \"start_time\": \"2021-04-17T01:15:34.777081Z\", \"end_time\": \"2021-04-17T01:16:17.539344Z\", \"created_time\": \"2021-04-17T01:14:50.824846Z\", \"created_time_dt\": \"2021-04-17T01:14:50.824846Z\", \"duration\": \"0:01:26\", \"iteration\": \"74\", \"goal\": \"AUC_weighted_max\", \"run_name\": \"StandardScalerWrapper, XGBoostClassifier\", \"run_properties\": \"<azureml.automl.runtime.shared.model_wrappers.StandardScalerWrapper object at 0x7fde2cb73438\", \"primary_metric\": 0.90838123, \"best_metric\": 0.91754577}, {\"run_id\": \"AutoML_c6857abb-a0b5-4c5f-ae11-eeba33cf46c3_75\", \"run_number\": 81, \"metric\": null, \"status\": \"Completed\", \"run_type\": \"azureml.scriptrun\", \"training_percent\": \"100\", \"start_time\": \"2021-04-17T01:15:42.107251Z\", \"end_time\": \"2021-04-17T01:16:27.675839Z\", \"created_time\": \"2021-04-17T01:15:22.06546Z\", \"created_time_dt\": \"2021-04-17T01:15:22.06546Z\", \"duration\": \"0:01:05\", \"iteration\": \"75\", \"goal\": \"AUC_weighted_max\", \"run_name\": \"MaxAbsScaler, RandomForest\", \"run_properties\": \"copy=True\", \"primary_metric\": 0.91161021, \"best_metric\": 0.91754577}, {\"run_id\": \"AutoML_c6857abb-a0b5-4c5f-ae11-eeba33cf46c3_76\", \"run_number\": 82, \"metric\": null, \"status\": \"Completed\", \"run_type\": \"azureml.scriptrun\", \"training_percent\": \"100\", \"start_time\": \"2021-04-17T01:15:58.034343Z\", \"end_time\": \"2021-04-17T01:16:55.370206Z\", \"created_time\": \"2021-04-17T01:15:31.91846Z\", \"created_time_dt\": \"2021-04-17T01:15:31.91846Z\", \"duration\": \"0:01:23\", \"iteration\": \"76\", \"goal\": \"AUC_weighted_max\", \"run_name\": \"StandardScalerWrapper, RandomForest\", \"run_properties\": \"<azureml.automl.runtime.shared.model_wrappers.StandardScalerWrapper object at 0x7fe4c2579470\", \"primary_metric\": 0.9094007, \"best_metric\": 0.91754577}, {\"run_id\": \"AutoML_c6857abb-a0b5-4c5f-ae11-eeba33cf46c3_77\", \"run_number\": 83, \"metric\": null, \"status\": \"Completed\", \"run_type\": \"azureml.scriptrun\", \"training_percent\": \"100\", \"start_time\": \"2021-04-17T01:16:05.693837Z\", \"end_time\": \"2021-04-17T01:16:51.76894Z\", \"created_time\": \"2021-04-17T01:15:45.62701Z\", \"created_time_dt\": \"2021-04-17T01:15:45.62701Z\", \"duration\": \"0:01:06\", \"iteration\": \"77\", \"goal\": \"AUC_weighted_max\", \"run_name\": \"StandardScalerWrapper, GradientBoosting\", \"run_properties\": \"<azureml.automl.runtime.shared.model_wrappers.StandardScalerWrapper object at 0x7f7d7577c978\", \"primary_metric\": 0.89395559, \"best_metric\": 0.91754577}, {\"run_id\": \"AutoML_c6857abb-a0b5-4c5f-ae11-eeba33cf46c3_78\", \"run_number\": 84, \"metric\": null, \"status\": \"Completed\", \"run_type\": \"azureml.scriptrun\", \"training_percent\": \"100\", \"start_time\": \"2021-04-17T01:16:32.912424Z\", \"end_time\": \"2021-04-17T01:17:18.379356Z\", \"created_time\": \"2021-04-17T01:15:52.201924Z\", \"created_time_dt\": \"2021-04-17T01:15:52.201924Z\", \"duration\": \"0:01:26\", \"iteration\": \"78\", \"goal\": \"AUC_weighted_max\", \"run_name\": \"StandardScalerWrapper, GradientBoosting\", \"run_properties\": \"<azureml.automl.runtime.shared.model_wrappers.StandardScalerWrapper object at 0x7faaf9bc8dd8\", \"primary_metric\": 0.91490024, \"best_metric\": 0.91754577}, {\"run_id\": \"AutoML_c6857abb-a0b5-4c5f-ae11-eeba33cf46c3_79\", \"run_number\": 85, \"metric\": null, \"status\": \"Completed\", \"run_type\": \"azureml.scriptrun\", \"training_percent\": \"100\", \"start_time\": \"2021-04-17T01:16:40.118674Z\", \"end_time\": \"2021-04-17T01:17:28.981978Z\", \"created_time\": \"2021-04-17T01:16:20.202568Z\", \"created_time_dt\": \"2021-04-17T01:16:20.202568Z\", \"duration\": \"0:01:08\", \"iteration\": \"79\", \"goal\": \"AUC_weighted_max\", \"run_name\": \"StandardScalerWrapper, GradientBoosting\", \"run_properties\": \"<azureml.automl.runtime.shared.model_wrappers.StandardScalerWrapper object at 0x7f7cc5656be0\", \"primary_metric\": 0.91607867, \"best_metric\": 0.91754577}, {\"run_id\": \"AutoML_c6857abb-a0b5-4c5f-ae11-eeba33cf46c3_80\", \"run_number\": 86, \"metric\": null, \"status\": \"Completed\", \"run_type\": \"azureml.scriptrun\", \"training_percent\": \"100\", \"start_time\": \"2021-04-17T01:17:07.672222Z\", \"end_time\": \"2021-04-17T01:17:58.14423Z\", \"created_time\": \"2021-04-17T01:16:31.526215Z\", \"created_time_dt\": \"2021-04-17T01:16:31.526215Z\", \"duration\": \"0:01:26\", \"iteration\": \"80\", \"goal\": \"AUC_weighted_max\", \"run_name\": \"StandardScalerWrapper, RandomForest\", \"run_properties\": \"<azureml.automl.runtime.shared.model_wrappers.StandardScalerWrapper object at 0x7f7fcbd68eb8\", \"primary_metric\": 0.90500102, \"best_metric\": 0.91754577}, {\"run_id\": \"AutoML_c6857abb-a0b5-4c5f-ae11-eeba33cf46c3_81\", \"run_number\": 87, \"metric\": null, \"status\": \"Completed\", \"run_type\": \"azureml.scriptrun\", \"training_percent\": \"100\", \"start_time\": \"2021-04-17T01:17:10.412992Z\", \"end_time\": \"2021-04-17T01:17:55.41396Z\", \"created_time\": \"2021-04-17T01:16:54.193249Z\", \"created_time_dt\": \"2021-04-17T01:16:54.193249Z\", \"duration\": \"0:01:01\", \"iteration\": \"81\", \"goal\": \"AUC_weighted_max\", \"run_name\": \"StandardScalerWrapper, XGBoostClassifier\", \"run_properties\": \"<azureml.automl.runtime.shared.model_wrappers.StandardScalerWrapper object at 0x7fa040b92828\", \"primary_metric\": 0.91216498, \"best_metric\": 0.91754577}, {\"run_id\": \"AutoML_c6857abb-a0b5-4c5f-ae11-eeba33cf46c3_82\", \"run_number\": 88, \"metric\": null, \"status\": \"Completed\", \"run_type\": \"azureml.scriptrun\", \"training_percent\": \"100\", \"start_time\": \"2021-04-17T01:17:30.494697Z\", \"end_time\": \"2021-04-17T01:18:20.539799Z\", \"created_time\": \"2021-04-17T01:16:59.562012Z\", \"created_time_dt\": \"2021-04-17T01:16:59.562012Z\", \"duration\": \"0:01:20\", \"iteration\": \"82\", \"goal\": \"AUC_weighted_max\", \"run_name\": \"MaxAbsScaler, GradientBoosting\", \"run_properties\": \"copy=True\", \"primary_metric\": 0.91128588, \"best_metric\": 0.91754577}, {\"run_id\": \"AutoML_c6857abb-a0b5-4c5f-ae11-eeba33cf46c3_83\", \"run_number\": 89, \"metric\": null, \"status\": \"Completed\", \"run_type\": \"azureml.scriptrun\", \"training_percent\": \"100\", \"start_time\": \"2021-04-17T01:17:43.641677Z\", \"end_time\": \"2021-04-17T01:18:26.511927Z\", \"created_time\": \"2021-04-17T01:17:21.19938Z\", \"created_time_dt\": \"2021-04-17T01:17:21.19938Z\", \"duration\": \"0:01:05\", \"iteration\": \"83\", \"goal\": \"AUC_weighted_max\", \"run_name\": \"StandardScalerWrapper, XGBoostClassifier\", \"run_properties\": \"<azureml.automl.runtime.shared.model_wrappers.StandardScalerWrapper object at 0x7fe802389ef0\", \"primary_metric\": 0.91135737, \"best_metric\": 0.91754577}, {\"run_id\": \"AutoML_c6857abb-a0b5-4c5f-ae11-eeba33cf46c3_84\", \"run_number\": 90, \"metric\": null, \"status\": \"Completed\", \"run_type\": \"azureml.scriptrun\", \"training_percent\": \"100\", \"start_time\": \"2021-04-17T01:18:11.397674Z\", \"end_time\": \"2021-04-17T01:18:56.754759Z\", \"created_time\": \"2021-04-17T01:17:31.772263Z\", \"created_time_dt\": \"2021-04-17T01:17:31.772263Z\", \"duration\": \"0:01:24\", \"iteration\": \"84\", \"goal\": \"AUC_weighted_max\", \"run_name\": \"StandardScalerWrapper, GradientBoosting\", \"run_properties\": \"<azureml.automl.runtime.shared.model_wrappers.StandardScalerWrapper object at 0x7fc70078e2b0\", \"primary_metric\": 0.90167398, \"best_metric\": 0.91754577}, {\"run_id\": \"AutoML_c6857abb-a0b5-4c5f-ae11-eeba33cf46c3_85\", \"run_number\": 91, \"metric\": null, \"status\": \"Completed\", \"run_type\": \"azureml.scriptrun\", \"training_percent\": \"100\", \"start_time\": \"2021-04-17T01:18:12.137806Z\", \"end_time\": \"2021-04-17T01:19:04.479609Z\", \"created_time\": \"2021-04-17T01:17:58.721976Z\", \"created_time_dt\": \"2021-04-17T01:17:58.721976Z\", \"duration\": \"0:01:05\", \"iteration\": \"85\", \"goal\": \"AUC_weighted_max\", \"run_name\": \"RobustScaler, RandomForest\", \"run_properties\": \"copy=True, quantile_range=[25, 75], with_centering=False,\\n             with_scaling=False\", \"primary_metric\": 0.90970935, \"best_metric\": 0.91754577}, {\"run_id\": \"AutoML_c6857abb-a0b5-4c5f-ae11-eeba33cf46c3_86\", \"run_number\": 92, \"metric\": null, \"status\": \"Completed\", \"run_type\": \"azureml.scriptrun\", \"training_percent\": \"100\", \"start_time\": \"2021-04-17T01:18:35.033994Z\", \"end_time\": \"2021-04-17T01:19:23.407881Z\", \"created_time\": \"2021-04-17T01:18:03.508104Z\", \"created_time_dt\": \"2021-04-17T01:18:03.508104Z\", \"duration\": \"0:01:19\", \"iteration\": \"86\", \"goal\": \"AUC_weighted_max\", \"run_name\": \"StandardScalerWrapper, GradientBoosting\", \"run_properties\": \"<azureml.automl.runtime.shared.model_wrappers.StandardScalerWrapper object at 0x7fdddcd89828\", \"primary_metric\": 0.89731155, \"best_metric\": 0.91754577}, {\"run_id\": \"AutoML_c6857abb-a0b5-4c5f-ae11-eeba33cf46c3_87\", \"run_number\": 93, \"metric\": null, \"status\": \"Completed\", \"run_type\": \"azureml.scriptrun\", \"training_percent\": \"100\", \"start_time\": \"2021-04-17T01:18:41.601356Z\", \"end_time\": \"2021-04-17T01:19:26.862172Z\", \"created_time\": \"2021-04-17T01:18:23.3969Z\", \"created_time_dt\": \"2021-04-17T01:18:23.3969Z\", \"duration\": \"0:01:03\", \"iteration\": \"87\", \"goal\": \"AUC_weighted_max\", \"run_name\": \"MaxAbsScaler, GradientBoosting\", \"run_properties\": \"copy=True\", \"primary_metric\": 0.90321516, \"best_metric\": 0.91754577}, {\"run_id\": \"AutoML_c6857abb-a0b5-4c5f-ae11-eeba33cf46c3_88\", \"run_number\": 94, \"metric\": null, \"status\": \"Completed\", \"run_type\": \"azureml.scriptrun\", \"training_percent\": \"100\", \"start_time\": \"2021-04-17T01:19:09.317191Z\", \"end_time\": \"2021-04-17T01:20:01.22462Z\", \"created_time\": \"2021-04-17T01:18:28.402186Z\", \"created_time_dt\": \"2021-04-17T01:18:28.402186Z\", \"duration\": \"0:01:32\", \"iteration\": \"88\", \"goal\": \"AUC_weighted_max\", \"run_name\": \"StandardScalerWrapper, GradientBoosting\", \"run_properties\": \"<azureml.automl.runtime.shared.model_wrappers.StandardScalerWrapper object at 0x7ff41f737d30\", \"primary_metric\": 0.91542105, \"best_metric\": 0.91754577}, {\"run_id\": \"AutoML_c6857abb-a0b5-4c5f-ae11-eeba33cf46c3_89\", \"run_number\": 95, \"metric\": null, \"status\": \"Completed\", \"run_type\": \"azureml.scriptrun\", \"training_percent\": \"100\", \"start_time\": \"2021-04-17T01:19:19.161816Z\", \"end_time\": \"2021-04-17T01:20:05.041367Z\", \"created_time\": \"2021-04-17T01:18:59.269301Z\", \"created_time_dt\": \"2021-04-17T01:18:59.269301Z\", \"duration\": \"0:01:05\", \"iteration\": \"89\", \"goal\": \"AUC_weighted_max\", \"run_name\": \"StandardScalerWrapper, RandomForest\", \"run_properties\": \"<azureml.automl.runtime.shared.model_wrappers.StandardScalerWrapper object at 0x7fd7ca5c3470\", \"primary_metric\": 0.8911636, \"best_metric\": 0.91754577}, {\"run_id\": \"AutoML_c6857abb-a0b5-4c5f-ae11-eeba33cf46c3_90\", \"run_number\": 96, \"metric\": null, \"status\": \"Completed\", \"run_type\": \"azureml.scriptrun\", \"training_percent\": \"100\", \"start_time\": \"2021-04-17T01:19:40.420637Z\", \"end_time\": \"2021-04-17T01:20:26.907854Z\", \"created_time\": \"2021-04-17T01:19:08.0044Z\", \"created_time_dt\": \"2021-04-17T01:19:08.0044Z\", \"duration\": \"0:01:18\", \"iteration\": \"90\", \"goal\": \"AUC_weighted_max\", \"run_name\": \"MinMaxScaler, RandomForest\", \"run_properties\": \"copy=True, feature_range=(0, 1\", \"primary_metric\": 0.91127088, \"best_metric\": 0.91754577}, {\"run_id\": \"AutoML_c6857abb-a0b5-4c5f-ae11-eeba33cf46c3_91\", \"run_number\": 97, \"metric\": null, \"status\": \"Completed\", \"run_type\": \"azureml.scriptrun\", \"training_percent\": \"100\", \"start_time\": \"2021-04-17T01:19:41.719314Z\", \"end_time\": \"2021-04-17T01:20:29.427902Z\", \"created_time\": \"2021-04-17T01:19:26.253374Z\", \"created_time_dt\": \"2021-04-17T01:19:26.253374Z\", \"duration\": \"0:01:03\", \"iteration\": \"91\", \"goal\": \"AUC_weighted_max\", \"run_name\": \"StandardScalerWrapper, GradientBoosting\", \"run_properties\": \"<azureml.automl.runtime.shared.model_wrappers.StandardScalerWrapper object at 0x7f2e6cbedf98\", \"primary_metric\": 0.90643275, \"best_metric\": 0.91754577}, {\"run_id\": \"AutoML_c6857abb-a0b5-4c5f-ae11-eeba33cf46c3_92\", \"run_number\": 98, \"metric\": null, \"status\": \"Completed\", \"run_type\": \"azureml.scriptrun\", \"training_percent\": \"100\", \"start_time\": \"2021-04-17T01:20:11.879377Z\", \"end_time\": \"2021-04-17T01:20:57.250673Z\", \"created_time\": \"2021-04-17T01:19:31.085836Z\", \"created_time_dt\": \"2021-04-17T01:19:31.085836Z\", \"duration\": \"0:01:26\", \"iteration\": \"92\", \"goal\": \"AUC_weighted_max\", \"run_name\": \"RobustScaler, LightGBM\", \"run_properties\": \"copy=True, quantile_range=[25, 75], with_centering=False,\\n             with_scaling=False\", \"primary_metric\": 0.89736425, \"best_metric\": 0.91754577}, {\"run_id\": \"AutoML_c6857abb-a0b5-4c5f-ae11-eeba33cf46c3_93\", \"run_number\": 99, \"metric\": null, \"status\": \"Completed\", \"run_type\": \"azureml.scriptrun\", \"training_percent\": \"100\", \"start_time\": \"2021-04-17T01:20:19.408716Z\", \"end_time\": \"2021-04-17T01:21:09.460668Z\", \"created_time\": \"2021-04-17T01:20:03.664897Z\", \"created_time_dt\": \"2021-04-17T01:20:03.664897Z\", \"duration\": \"0:01:05\", \"iteration\": \"93\", \"goal\": \"AUC_weighted_max\", \"run_name\": \"MinMaxScaler, GradientBoosting\", \"run_properties\": \"copy=True, feature_range=(0, 1\", \"primary_metric\": 0.89305775, \"best_metric\": 0.91754577}, {\"run_id\": \"AutoML_c6857abb-a0b5-4c5f-ae11-eeba33cf46c3_94\", \"run_number\": 100, \"metric\": null, \"status\": \"Completed\", \"run_type\": \"azureml.scriptrun\", \"training_percent\": \"100\", \"start_time\": \"2021-04-17T01:20:43.215811Z\", \"end_time\": \"2021-04-17T01:21:34.073929Z\", \"created_time\": \"2021-04-17T01:20:08.622717Z\", \"created_time_dt\": \"2021-04-17T01:20:08.622717Z\", \"duration\": \"0:01:25\", \"iteration\": \"94\", \"goal\": \"AUC_weighted_max\", \"run_name\": \"RobustScaler, RandomForest\", \"run_properties\": \"copy=True, quantile_range=[25, 75], with_centering=True,\\n             with_scaling=False\", \"primary_metric\": 0.91603862, \"best_metric\": 0.91754577}, {\"run_id\": \"AutoML_c6857abb-a0b5-4c5f-ae11-eeba33cf46c3_95\", \"run_number\": 101, \"metric\": null, \"status\": \"Completed\", \"run_type\": \"azureml.scriptrun\", \"training_percent\": \"100\", \"start_time\": \"2021-04-17T01:20:46.106198Z\", \"end_time\": \"2021-04-17T01:21:33.505911Z\", \"created_time\": \"2021-04-17T01:20:30.033239Z\", \"created_time_dt\": \"2021-04-17T01:20:30.033239Z\", \"duration\": \"0:01:03\", \"iteration\": \"95\", \"goal\": \"AUC_weighted_max\", \"run_name\": \"StandardScalerWrapper, RandomForest\", \"run_properties\": \"<azureml.automl.runtime.shared.model_wrappers.StandardScalerWrapper object at 0x7fa38b3ac438\", \"primary_metric\": 0.90226481, \"best_metric\": 0.91754577}, {\"run_id\": \"AutoML_c6857abb-a0b5-4c5f-ae11-eeba33cf46c3_96\", \"run_number\": 102, \"metric\": null, \"status\": \"Completed\", \"run_type\": \"azureml.scriptrun\", \"training_percent\": \"100\", \"start_time\": \"2021-04-17T01:21:09.795222Z\", \"end_time\": \"2021-04-17T01:21:56.413057Z\", \"created_time\": \"2021-04-17T01:20:35.380032Z\", \"created_time_dt\": \"2021-04-17T01:20:35.380032Z\", \"duration\": \"0:01:21\", \"iteration\": \"96\", \"goal\": \"AUC_weighted_max\", \"run_name\": \"RobustScaler, RandomForest\", \"run_properties\": \"copy=True, quantile_range=[25, 75], with_centering=False,\\n             with_scaling=False\", \"primary_metric\": 0.91179487, \"best_metric\": 0.91754577}, {\"run_id\": \"AutoML_c6857abb-a0b5-4c5f-ae11-eeba33cf46c3_97\", \"run_number\": 103, \"metric\": null, \"status\": \"Completed\", \"run_type\": \"azureml.scriptrun\", \"training_percent\": \"100\", \"start_time\": \"2021-04-17T01:21:26.667585Z\", \"end_time\": \"2021-04-17T01:22:21.379565Z\", \"created_time\": \"2021-04-17T01:20:59.64863Z\", \"created_time_dt\": \"2021-04-17T01:20:59.64863Z\", \"duration\": \"0:01:21\", \"iteration\": \"97\", \"goal\": \"AUC_weighted_max\", \"run_name\": \"MaxAbsScaler, GradientBoosting\", \"run_properties\": \"copy=True\", \"primary_metric\": 0.90496701, \"best_metric\": 0.91754577}, {\"run_id\": \"AutoML_c6857abb-a0b5-4c5f-ae11-eeba33cf46c3_98\", \"run_number\": 104, \"metric\": null, \"status\": \"Completed\", \"run_type\": \"azureml.scriptrun\", \"training_percent\": \"100\", \"start_time\": \"2021-04-17T01:21:46.850393Z\", \"end_time\": \"2021-04-17T01:22:39.567488Z\", \"created_time\": \"2021-04-17T01:21:11.613731Z\", \"created_time_dt\": \"2021-04-17T01:21:11.613731Z\", \"duration\": \"0:01:27\", \"iteration\": \"98\", \"goal\": \"AUC_weighted_max\", \"run_name\": \"MaxAbsScaler, RandomForest\", \"run_properties\": \"copy=True\", \"primary_metric\": 0.91527392, \"best_metric\": 0.91754577}, {\"run_id\": \"AutoML_c6857abb-a0b5-4c5f-ae11-eeba33cf46c3_99\", \"run_number\": 105, \"metric\": null, \"status\": \"Completed\", \"run_type\": \"azureml.scriptrun\", \"training_percent\": \"100\", \"start_time\": \"2021-04-17T01:22:14.414922Z\", \"end_time\": \"2021-04-17T01:23:22.741191Z\", \"created_time\": \"2021-04-17T01:21:37.067904Z\", \"created_time_dt\": \"2021-04-17T01:21:37.067904Z\", \"duration\": \"0:01:45\", \"iteration\": \"99\", \"goal\": \"AUC_weighted_max\", \"run_name\": \"StandardScalerWrapper, RandomForest\", \"run_properties\": \"<azureml.automl.runtime.shared.model_wrappers.StandardScalerWrapper object at 0x7efd873d1e80\", \"primary_metric\": 0.90978357, \"best_metric\": 0.91754577}, {\"run_id\": \"AutoML_c6857abb-a0b5-4c5f-ae11-eeba33cf46c3_100\", \"run_number\": 106, \"metric\": null, \"status\": \"Completed\", \"run_type\": \"azureml.scriptrun\", \"training_percent\": \"100\", \"start_time\": \"2021-04-17T01:21:49.008353Z\", \"end_time\": \"2021-04-17T01:22:37.267963Z\", \"created_time\": \"2021-04-17T01:21:37.180514Z\", \"created_time_dt\": \"2021-04-17T01:21:37.180514Z\", \"duration\": \"0:01:00\", \"iteration\": \"100\", \"goal\": \"AUC_weighted_max\", \"run_name\": \"StandardScalerWrapper, ExtremeRandomTrees\", \"run_properties\": \"<azureml.automl.runtime.shared.model_wrappers.StandardScalerWrapper object at 0x7fabe6ff47b8\", \"primary_metric\": 0.88721202, \"best_metric\": 0.91754577}, {\"run_id\": \"AutoML_c6857abb-a0b5-4c5f-ae11-eeba33cf46c3_101\", \"run_number\": 107, \"metric\": null, \"status\": \"Completed\", \"run_type\": \"azureml.scriptrun\", \"training_percent\": \"100\", \"start_time\": \"2021-04-17T01:22:35.006808Z\", \"end_time\": \"2021-04-17T01:23:22.112307Z\", \"created_time\": \"2021-04-17T01:21:58.622474Z\", \"created_time_dt\": \"2021-04-17T01:21:58.622474Z\", \"duration\": \"0:01:23\", \"iteration\": \"101\", \"goal\": \"AUC_weighted_max\", \"run_name\": \"StandardScalerWrapper, XGBoostClassifier\", \"run_properties\": \"<azureml.automl.runtime.shared.model_wrappers.StandardScalerWrapper object at 0x7fc2c7bd6b00\", \"primary_metric\": 0.91116021, \"best_metric\": 0.91754577}, {\"run_id\": \"AutoML_c6857abb-a0b5-4c5f-ae11-eeba33cf46c3_102\", \"run_number\": 108, \"metric\": null, \"status\": \"Canceled\", \"run_type\": \"azureml.scriptrun\", \"training_percent\": \"100\", \"start_time\": \"2021-04-17T01:22:50.726269Z\", \"end_time\": \"2021-04-17T01:23:31.112702Z\", \"created_time\": \"2021-04-17T01:22:23.958701Z\", \"created_time_dt\": \"2021-04-17T01:22:23.958701Z\", \"duration\": \"0:01:07\", \"iteration\": \"102\", \"goal\": \"AUC_weighted_max\", \"run_name\": \"StandardScalerWrapper, XGBoostClassifier\", \"run_properties\": \"<azureml.automl.runtime.shared.model_wrappers.StandardScalerWrapper object at 0x7fbd02247240\", \"primary_metric\": 0.90559418, \"best_metric\": 0.91754577}, {\"run_id\": \"AutoML_c6857abb-a0b5-4c5f-ae11-eeba33cf46c3_103\", \"run_number\": 109, \"metric\": null, \"status\": \"Canceled\", \"run_type\": \"azureml.scriptrun\", \"training_percent\": \"100\", \"start_time\": \"2021-04-17T01:22:51.557271Z\", \"end_time\": \"2021-04-17T01:23:30.297034Z\", \"created_time\": \"2021-04-17T01:22:39.725863Z\", \"created_time_dt\": \"2021-04-17T01:22:39.725863Z\", \"duration\": \"0:00:50\", \"iteration\": \"103\", \"goal\": \"AUC_weighted_max\", \"run_name\": \"StandardScalerWrapper, XGBoostClassifier\", \"run_properties\": \"<azureml.automl.runtime.shared.model_wrappers.StandardScalerWrapper object at 0x7fe82ba48f60\", \"primary_metric\": 0.89857844, \"best_metric\": 0.91754577}, {\"run_id\": \"AutoML_c6857abb-a0b5-4c5f-ae11-eeba33cf46c3_104\", \"run_number\": 110, \"metric\": null, \"status\": \"Canceled\", \"run_type\": \"azureml.scriptrun\", \"training_percent\": \"100\", \"start_time\": \"2021-04-17T01:22:45.369736Z\", \"end_time\": \"2021-04-17T01:23:30.566875Z\", \"created_time\": \"2021-04-17T01:22:45.369736Z\", \"created_time_dt\": \"2021-04-17T01:22:45.369736Z\", \"duration\": \"0:00:45\", \"iteration\": \"104\", \"goal\": null, \"run_name\": \"Canceled\", \"run_properties\": null}, {\"run_id\": \"AutoML_c6857abb-a0b5-4c5f-ae11-eeba33cf46c3_105\", \"run_number\": 111, \"metric\": null, \"status\": \"Completed\", \"run_type\": \"azureml.scriptrun\", \"training_percent\": \"100\", \"start_time\": \"2021-04-17T01:23:42.100493Z\", \"end_time\": \"2021-04-17T01:25:23.506028Z\", \"created_time\": \"2021-04-17T01:23:33.308293Z\", \"created_time_dt\": \"2021-04-17T01:23:33.308293Z\", \"duration\": \"0:01:50\", \"iteration\": \"105\", \"goal\": \"AUC_weighted_max\", \"run_name\": \"VotingEnsemble\", \"run_properties\": \"classification_labels=None,\\n                              estimators=[('69',\\n                                           Pipeline(memory=None,\\n                                                    steps=[('minmaxscaler',\\n                                                            MinMaxScaler(copy=True,\\n                                                                         feature_range=(0,\\n                                                                                        1\", \"primary_metric\": 0.92261637, \"best_metric\": 0.92261637}, {\"run_id\": \"AutoML_c6857abb-a0b5-4c5f-ae11-eeba33cf46c3_106\", \"run_number\": 112, \"metric\": null, \"status\": \"Completed\", \"run_type\": \"azureml.scriptrun\", \"training_percent\": \"100\", \"start_time\": \"2021-04-17T01:23:44.415943Z\", \"end_time\": \"2021-04-17T01:25:21.046115Z\", \"created_time\": \"2021-04-17T01:23:33.512364Z\", \"created_time_dt\": \"2021-04-17T01:23:33.512364Z\", \"duration\": \"0:01:47\", \"iteration\": \"106\", \"goal\": \"AUC_weighted_max\", \"run_name\": \"StackEnsemble\", \"run_properties\": \"base_learners=[('69',\\n                                        Pipeline(memory=None,\\n                                                 steps=[('minmaxscaler',\\n                                                         MinMaxScaler(copy=True,\\n                                                                      feature_range=(0,\\n                                                                                     1\", \"primary_metric\": 0.91847139, \"best_metric\": 0.92261637}], \"children_metrics\": {\"categories\": [0], \"series\": {\"AUC_micro\": [{\"categories\": [\"0\", \"1\", \"2\", \"3\", \"4\", \"5\", \"6\", \"7\", \"8\", \"9\", \"10\", \"11\", \"12\", \"13\", \"14\", \"15\", \"16\", \"17\", \"18\", \"19\", \"20\", \"21\", \"22\", \"23\", \"24\", \"25\", \"26\", \"27\", \"28\", \"29\", \"30\", \"31\", \"32\", \"33\", \"34\", \"35\", \"36\", \"37\", \"38\", \"39\", \"40\", \"41\", \"42\", \"43\", \"44\", \"45\", \"46\", \"47\", \"48\", \"49\", \"50\", \"51\", \"52\", \"53\", \"54\", \"55\", \"56\", \"57\", \"58\", \"59\", \"60\", \"61\", \"62\", \"63\", \"64\", \"65\", \"66\", \"67\", \"68\", \"69\", \"70\", \"71\", \"72\", \"73\", \"74\", \"75\", \"76\", \"77\", \"78\", \"79\", \"80\", \"81\", \"82\", \"83\", \"84\", \"85\", \"86\", \"87\", \"88\", \"89\", \"90\", \"91\", \"92\", \"93\", \"94\", \"95\", \"96\", \"97\", \"98\", \"99\", \"100\", \"101\", \"102\", \"103\", \"105\", \"106\"], \"mode\": \"markers\", \"name\": \"AUC_micro\", \"stepped\": false, \"type\": \"scatter\", \"data\": [0.8880105014523284, 0.8999905678444892, 0.9047721440199176, 0.8711287465287754, 0.9012294200261739, 0.8955048198155063, 0.8993711417536467, 0.906668613744454, 0.8598438507453159, 0.8076344600849055, 0.8612289412365541, 0.8775898049730282, 0.9009164990902997, 0.8811999744645537, 0.8849354910785534, 0.6273795684509559, 0.8698637843531554, 0.8471976283954163, 0.9002574292189346, 0.9094226595167416, 0.8996790832774746, 0.8606444029493441, 0.891066535797504, 0.9160850489961379, 0.9116092597912477, 0.6552855182099652, 0.9100465862300107, 0.8616724281017587, 0.9035109802419484, 0.8921643525168375, 0.8965332918382328, 0.9044886686456637, 0.9043922723355358, 0.9048528519901688, 0.894692840499218, 0.7661392160617958, 0.9032004372945195, 0.8777512528328387, 0.895120670943854, 0.8958989115515976, 0.8066054933129049, 0.8998362539500144, 0.8987251428389034, 0.9010693925755691, 0.8782265632481087, 0.8847612116569312, 0.9174122059433751, 0.9155522838264867, 0.9058514315809634, 0.9078091704171853, 0.8484378690669985, 0.9006092597912477, 0.9047521944524244, 0.8793452711545212, 0.9093913147562962, 0.9075427878323599, 0.9078139263940758, 0.9125086022535032, 0.9132346228733761, 0.91667431134093, 0.8504986434294105, 0.9159905678444892, 0.9026059401832169, 0.9097811612244247, 0.9198181876216923, 0.9089416515049953, 0.9186363273644227, 0.909213731686297, 0.917050863417281, 0.919231782054965, 0.9060351910370583, 0.9013913147562962, 0.9028628267739155, 0.9056828657154714, 0.9123338600019151, 0.9090831497973124, 0.9100641737687127, 0.8997768840371542, 0.9100655782182642, 0.9184449711130263, 0.8923286411950588, 0.9122094544990265, 0.9164103067445497, 0.9131406045516932, 0.9060883686041686, 0.8984245587155671, 0.8957332024641707, 0.9095646365986786, 0.9158818187621692, 0.900569392575569, 0.9046159149669635, 0.9129625426920743, 0.9062825816336302, 0.8967578920489003, 0.9155299881898561, 0.9094767946630917, 0.9106154361773436, 0.910909365124964, 0.9151439401193782, 0.9058633055635354, 0.8908386159788055, 0.9099834338791535, 0.9077754636279487, 0.9064995850489961, 0.9214179035398512, 0.8756007213763606]}, {\"categories\": [\"0\", \"1\", \"2\", \"3\", \"4\", \"5\", \"6\", \"7\", \"8\", \"9\", \"10\", \"11\", \"12\", \"13\", \"14\", \"15\", \"16\", \"17\", \"18\", \"19\", \"20\", \"21\", \"22\", \"23\", \"24\", \"25\", \"26\", \"27\", \"28\", \"29\", \"30\", \"31\", \"32\", \"33\", \"34\", \"35\", \"36\", \"37\", \"38\", \"39\", \"40\", \"41\", \"42\", \"43\", \"44\", \"45\", \"46\", \"47\", \"48\", \"49\", \"50\", \"51\", \"52\", \"53\", \"54\", \"55\", \"56\", \"57\", \"58\", \"59\", \"60\", \"61\", \"62\", \"63\", \"64\", \"65\", \"66\", \"67\", \"68\", \"69\", \"70\", \"71\", \"72\", \"73\", \"74\", \"75\", \"76\", \"77\", \"78\", \"79\", \"80\", \"81\", \"82\", \"83\", \"84\", \"85\", \"86\", \"87\", \"88\", \"89\", \"90\", \"91\", \"92\", \"93\", \"94\", \"95\", \"96\", \"97\", \"98\", \"99\", \"100\", \"101\", \"102\", \"103\", \"105\", \"106\"], \"mode\": \"lines\", \"name\": \"AUC_micro_max\", \"stepped\": true, \"type\": \"scatter\", \"data\": [0.8880105014523284, 0.8999905678444892, 0.9047721440199176, 0.9047721440199176, 0.9047721440199176, 0.9047721440199176, 0.9047721440199176, 0.906668613744454, 0.906668613744454, 0.906668613744454, 0.906668613744454, 0.906668613744454, 0.906668613744454, 0.906668613744454, 0.906668613744454, 0.906668613744454, 0.906668613744454, 0.906668613744454, 0.906668613744454, 0.9094226595167416, 0.9094226595167416, 0.9094226595167416, 0.9094226595167416, 0.9160850489961379, 0.9160850489961379, 0.9160850489961379, 0.9160850489961379, 0.9160850489961379, 0.9160850489961379, 0.9160850489961379, 0.9160850489961379, 0.9160850489961379, 0.9160850489961379, 0.9160850489961379, 0.9160850489961379, 0.9160850489961379, 0.9160850489961379, 0.9160850489961379, 0.9160850489961379, 0.9160850489961379, 0.9160850489961379, 0.9160850489961379, 0.9160850489961379, 0.9160850489961379, 0.9160850489961379, 0.9160850489961379, 0.9174122059433751, 0.9174122059433751, 0.9174122059433751, 0.9174122059433751, 0.9174122059433751, 0.9174122059433751, 0.9174122059433751, 0.9174122059433751, 0.9174122059433751, 0.9174122059433751, 0.9174122059433751, 0.9174122059433751, 0.9174122059433751, 0.9174122059433751, 0.9174122059433751, 0.9174122059433751, 0.9174122059433751, 0.9174122059433751, 0.9198181876216923, 0.9198181876216923, 0.9198181876216923, 0.9198181876216923, 0.9198181876216923, 0.9198181876216923, 0.9198181876216923, 0.9198181876216923, 0.9198181876216923, 0.9198181876216923, 0.9198181876216923, 0.9198181876216923, 0.9198181876216923, 0.9198181876216923, 0.9198181876216923, 0.9198181876216923, 0.9198181876216923, 0.9198181876216923, 0.9198181876216923, 0.9198181876216923, 0.9198181876216923, 0.9198181876216923, 0.9198181876216923, 0.9198181876216923, 0.9198181876216923, 0.9198181876216923, 0.9198181876216923, 0.9198181876216923, 0.9198181876216923, 0.9198181876216923, 0.9198181876216923, 0.9198181876216923, 0.9198181876216923, 0.9198181876216923, 0.9198181876216923, 0.9198181876216923, 0.9198181876216923, 0.9198181876216923, 0.9198181876216923, 0.9198181876216923, 0.9214179035398512, 0.9214179035398512]}], \"precision_score_weighted\": [{\"categories\": [\"0\", \"1\", \"2\", \"3\", \"4\", \"5\", \"6\", \"7\", \"8\", \"9\", \"10\", \"11\", \"12\", \"13\", \"14\", \"15\", \"16\", \"17\", \"18\", \"19\", \"20\", \"21\", \"22\", \"23\", \"24\", \"25\", \"26\", \"27\", \"28\", \"29\", \"30\", \"31\", \"32\", \"33\", \"34\", \"35\", \"36\", \"37\", \"38\", \"39\", \"40\", \"41\", \"42\", \"43\", \"44\", \"45\", \"46\", \"47\", \"48\", \"49\", \"50\", \"51\", \"52\", \"53\", \"54\", \"55\", \"56\", \"57\", \"58\", \"59\", \"60\", \"61\", \"62\", \"63\", \"64\", \"65\", \"66\", \"67\", \"68\", \"69\", \"70\", \"71\", \"72\", \"73\", \"74\", \"75\", \"76\", \"77\", \"78\", \"79\", \"80\", \"81\", \"82\", \"83\", \"84\", \"85\", \"86\", \"87\", \"88\", \"89\", \"90\", \"91\", \"92\", \"93\", \"94\", \"95\", \"96\", \"97\", \"98\", \"99\", \"100\", \"101\", \"102\", \"103\", \"105\", \"106\"], \"mode\": \"markers\", \"name\": \"precision_score_weighted\", \"stepped\": false, \"type\": \"scatter\", \"data\": [0.8237683758533973, 0.8403871377947292, 0.852431918206841, 0.8102644967062276, 0.8387510827458614, 0.8408896169472493, 0.8546581271163702, 0.8771677834365711, 0.8007243864556214, 0.7695882951514441, 0.8127451264863984, 0.8582267884041135, 0.8288452675583518, 0.8438901283454351, 0.834627018026351, 0.6019922322856948, 0.8056291387286993, 0.7945046913142054, 0.8499002515036354, 0.8507055091800855, 0.8356680393661913, 0.8024067597098276, 0.8374965432944286, 0.8671151886410833, 0.8541399545213105, 0.5542051490946873, 0.8513830502976107, 0.8071174089580326, 0.8457286601380227, 0.8389610092410387, 0.841198910744188, 0.8473369241958079, 0.8539307578502628, 0.8496265252748145, 0.8444855510442544, 0.4689005075169971, 0.8458486361626629, 0.8461817675487536, 0.8510303860849934, 0.8713113331440525, 0.4689005075169971, 0.8342451061340267, 0.8375560196998204, 0.8436889673267949, 0.8407374045536857, 0.8352850682859335, 0.853058462508635, 0.8650099260364762, 0.8627856256765458, 0.8425860801099475, 0.708959783105189, 0.8495758214527674, 0.8538164184568335, 0.8409258788158359, 0.8548936368763387, 0.837931297393346, 0.8474611563726826, 0.8504375539305533, 0.8453420227846185, 0.854035676585729, 0.4689005075169971, 0.8351780679425639, 0.8493193915912993, 0.8527291674622466, 0.8558630516732173, 0.8577135392625443, 0.8473985234588733, 0.860359701062734, 0.8512595296826673, 0.8415722192625464, 0.856395437766898, 0.8436343984166387, 0.8621600161026546, 0.8318027296897309, 0.8571597871534378, 0.8596052292693719, 0.8389293932949708, 0.8410031427390093, 0.8703712342271664, 0.8600025305179203, 0.8408210490153947, 0.8637282982691973, 0.8618430543691993, 0.8546034265415253, 0.856006948713639, 0.8618741950440472, 0.8309298031792898, 0.8502917340807556, 0.8483418162124092, 0.8444679060885987, 0.8533106259709438, 0.8556127455611613, 0.8333159097342063, 0.8423077841806655, 0.8546155447562963, 0.8506860143946154, 0.8611570744604163, 0.848366455978543, 0.8468190020901887, 0.8605299154948931, 0.8689052530266774, 0.8394551356215855, 0.835746891343111, 0.8502847482397528, 0.8568664469679866, 0.603215509240487]}, {\"categories\": [\"0\", \"1\", \"2\", \"3\", \"4\", \"5\", \"6\", \"7\", \"8\", \"9\", \"10\", \"11\", \"12\", \"13\", \"14\", \"15\", \"16\", \"17\", \"18\", \"19\", \"20\", \"21\", \"22\", \"23\", \"24\", \"25\", \"26\", \"27\", \"28\", \"29\", \"30\", \"31\", \"32\", \"33\", \"34\", \"35\", \"36\", \"37\", \"38\", \"39\", \"40\", \"41\", \"42\", \"43\", \"44\", \"45\", \"46\", \"47\", \"48\", \"49\", \"50\", \"51\", \"52\", \"53\", \"54\", \"55\", \"56\", \"57\", \"58\", \"59\", \"60\", \"61\", \"62\", \"63\", \"64\", \"65\", \"66\", \"67\", \"68\", \"69\", \"70\", \"71\", \"72\", \"73\", \"74\", \"75\", \"76\", \"77\", \"78\", \"79\", \"80\", \"81\", \"82\", \"83\", \"84\", \"85\", \"86\", \"87\", \"88\", \"89\", \"90\", \"91\", \"92\", \"93\", \"94\", \"95\", \"96\", \"97\", \"98\", \"99\", \"100\", \"101\", \"102\", \"103\", \"105\", \"106\"], \"mode\": \"lines\", \"name\": \"precision_score_weighted_max\", \"stepped\": true, \"type\": \"scatter\", \"data\": [0.8237683758533973, 0.8403871377947292, 0.852431918206841, 0.852431918206841, 0.852431918206841, 0.852431918206841, 0.8546581271163702, 0.8771677834365711, 0.8771677834365711, 0.8771677834365711, 0.8771677834365711, 0.8771677834365711, 0.8771677834365711, 0.8771677834365711, 0.8771677834365711, 0.8771677834365711, 0.8771677834365711, 0.8771677834365711, 0.8771677834365711, 0.8771677834365711, 0.8771677834365711, 0.8771677834365711, 0.8771677834365711, 0.8771677834365711, 0.8771677834365711, 0.8771677834365711, 0.8771677834365711, 0.8771677834365711, 0.8771677834365711, 0.8771677834365711, 0.8771677834365711, 0.8771677834365711, 0.8771677834365711, 0.8771677834365711, 0.8771677834365711, 0.8771677834365711, 0.8771677834365711, 0.8771677834365711, 0.8771677834365711, 0.8771677834365711, 0.8771677834365711, 0.8771677834365711, 0.8771677834365711, 0.8771677834365711, 0.8771677834365711, 0.8771677834365711, 0.8771677834365711, 0.8771677834365711, 0.8771677834365711, 0.8771677834365711, 0.8771677834365711, 0.8771677834365711, 0.8771677834365711, 0.8771677834365711, 0.8771677834365711, 0.8771677834365711, 0.8771677834365711, 0.8771677834365711, 0.8771677834365711, 0.8771677834365711, 0.8771677834365711, 0.8771677834365711, 0.8771677834365711, 0.8771677834365711, 0.8771677834365711, 0.8771677834365711, 0.8771677834365711, 0.8771677834365711, 0.8771677834365711, 0.8771677834365711, 0.8771677834365711, 0.8771677834365711, 0.8771677834365711, 0.8771677834365711, 0.8771677834365711, 0.8771677834365711, 0.8771677834365711, 0.8771677834365711, 0.8771677834365711, 0.8771677834365711, 0.8771677834365711, 0.8771677834365711, 0.8771677834365711, 0.8771677834365711, 0.8771677834365711, 0.8771677834365711, 0.8771677834365711, 0.8771677834365711, 0.8771677834365711, 0.8771677834365711, 0.8771677834365711, 0.8771677834365711, 0.8771677834365711, 0.8771677834365711, 0.8771677834365711, 0.8771677834365711, 0.8771677834365711, 0.8771677834365711, 0.8771677834365711, 0.8771677834365711, 0.8771677834365711, 0.8771677834365711, 0.8771677834365711, 0.8771677834365711, 0.8771677834365711, 0.8771677834365711]}], \"log_loss\": [{\"categories\": [\"0\", \"1\", \"2\", \"3\", \"4\", \"5\", \"6\", \"7\", \"8\", \"9\", \"10\", \"11\", \"12\", \"13\", \"14\", \"15\", \"16\", \"17\", \"18\", \"19\", \"20\", \"21\", \"22\", \"23\", \"24\", \"25\", \"26\", \"27\", \"28\", \"29\", \"30\", \"31\", \"32\", \"33\", \"34\", \"35\", \"36\", \"37\", \"38\", \"39\", \"40\", \"41\", \"42\", \"43\", \"44\", \"45\", \"46\", \"47\", \"48\", \"49\", \"50\", \"51\", \"52\", \"53\", \"54\", \"55\", \"56\", \"57\", \"58\", \"59\", \"60\", \"61\", \"62\", \"63\", \"64\", \"65\", \"66\", \"67\", \"68\", \"69\", \"70\", \"71\", \"72\", \"73\", \"74\", \"75\", \"76\", \"77\", \"78\", \"79\", \"80\", \"81\", \"82\", \"83\", \"84\", \"85\", \"86\", \"87\", \"88\", \"89\", \"90\", \"91\", \"92\", \"93\", \"94\", \"95\", \"96\", \"97\", \"98\", \"99\", \"100\", \"101\", \"102\", \"103\", \"105\", \"106\"], \"mode\": \"markers\", \"name\": \"log_loss\", \"stepped\": false, \"type\": \"scatter\", \"data\": [0.5282491261622873, 0.43217688137359717, 0.39985667446513756, 0.48128848909997, 0.39622193120929255, 0.41493438875014627, 0.5133143794788768, 0.4105183548864805, 0.4833140713719513, 1.292911173952953, 0.4910186740095511, 0.4653540312586963, 0.43399906599799537, 0.4261101514513232, 0.4597403023059992, 0.8093375881662283, 0.4846274183565081, 0.6353134949508384, 0.5211247444260201, 0.47094650109329556, 0.4003675486198247, 0.514482947179772, 0.4866050459382543, 0.39387452683674795, 0.39354543051066326, 0.6864479130767581, 0.41700697030588857, 0.48873434813949784, 0.43176266602323243, 0.463175918196029, 0.44328049426827293, 0.4109073808266229, 0.40467658054101535, 0.4602098946400022, 0.4165220650482479, 0.6198207518792298, 0.5080378549951305, 0.4713423749750678, 0.5446244051108416, 0.41485744440208994, 0.5850929728602903, 0.47698731126881755, 0.44783612759254365, 0.4062300999387537, 0.4485469973330094, 0.475219491759293, 0.37030037049504916, 0.38158668761372305, 0.38540562800422884, 0.38333480744676496, 0.5255548645845696, 0.43677310916940826, 0.4160618807041104, 0.43502469900620133, 0.3970261187543206, 0.39703825967242456, 0.3889390713876167, 0.37408943614589585, 0.40003939868271327, 0.3747575065677492, 0.6279628975990874, 0.43663144983962443, 0.3973373990498079, 0.3820984215420778, 0.3685963265149594, 0.3883113426723033, 0.3652522335453919, 0.3873144702793061, 0.3922976960197529, 0.4828886434717122, 0.4262227796728403, 0.4113695421473075, 0.407227501270092, 0.4490721385562013, 0.3721751056544131, 0.420506704805838, 0.4685906929284295, 0.5728675432758296, 0.40128368739182924, 0.3685559240936106, 0.4595497869985091, 0.37928609200218977, 0.3866011026748253, 0.3730222281526081, 0.41262069014254443, 0.43651823990500827, 0.4455157828893822, 0.40100607769386265, 0.38284599987628926, 0.5662371453369033, 0.4213904788852723, 0.3765543939830765, 0.38960849096557526, 0.5068457900457747, 0.43698657628555065, 0.39684950578960865, 0.4015271758908069, 0.3937822066344233, 0.42589668767246935, 0.4214406065637698, 0.44172322214022114, 0.40189024785910776, 0.3839369109093364, 0.4236801590644503, 0.42811259742649577, 0.5328820083138707]}, {\"categories\": [\"0\", \"1\", \"2\", \"3\", \"4\", \"5\", \"6\", \"7\", \"8\", \"9\", \"10\", \"11\", \"12\", \"13\", \"14\", \"15\", \"16\", \"17\", \"18\", \"19\", \"20\", \"21\", \"22\", \"23\", \"24\", \"25\", \"26\", \"27\", \"28\", \"29\", \"30\", \"31\", \"32\", \"33\", \"34\", \"35\", \"36\", \"37\", \"38\", \"39\", \"40\", \"41\", \"42\", \"43\", \"44\", \"45\", \"46\", \"47\", \"48\", \"49\", \"50\", \"51\", \"52\", \"53\", \"54\", \"55\", \"56\", \"57\", \"58\", \"59\", \"60\", \"61\", \"62\", \"63\", \"64\", \"65\", \"66\", \"67\", \"68\", \"69\", \"70\", \"71\", \"72\", \"73\", \"74\", \"75\", \"76\", \"77\", \"78\", \"79\", \"80\", \"81\", \"82\", \"83\", \"84\", \"85\", \"86\", \"87\", \"88\", \"89\", \"90\", \"91\", \"92\", \"93\", \"94\", \"95\", \"96\", \"97\", \"98\", \"99\", \"100\", \"101\", \"102\", \"103\", \"105\", \"106\"], \"mode\": \"lines\", \"name\": \"log_loss_min\", \"stepped\": true, \"type\": \"scatter\", \"data\": [0.5282491261622873, 0.43217688137359717, 0.39985667446513756, 0.39985667446513756, 0.39622193120929255, 0.39622193120929255, 0.39622193120929255, 0.39622193120929255, 0.39622193120929255, 0.39622193120929255, 0.39622193120929255, 0.39622193120929255, 0.39622193120929255, 0.39622193120929255, 0.39622193120929255, 0.39622193120929255, 0.39622193120929255, 0.39622193120929255, 0.39622193120929255, 0.39622193120929255, 0.39622193120929255, 0.39622193120929255, 0.39622193120929255, 0.39387452683674795, 0.39354543051066326, 0.39354543051066326, 0.39354543051066326, 0.39354543051066326, 0.39354543051066326, 0.39354543051066326, 0.39354543051066326, 0.39354543051066326, 0.39354543051066326, 0.39354543051066326, 0.39354543051066326, 0.39354543051066326, 0.39354543051066326, 0.39354543051066326, 0.39354543051066326, 0.39354543051066326, 0.39354543051066326, 0.39354543051066326, 0.39354543051066326, 0.39354543051066326, 0.39354543051066326, 0.39354543051066326, 0.37030037049504916, 0.37030037049504916, 0.37030037049504916, 0.37030037049504916, 0.37030037049504916, 0.37030037049504916, 0.37030037049504916, 0.37030037049504916, 0.37030037049504916, 0.37030037049504916, 0.37030037049504916, 0.37030037049504916, 0.37030037049504916, 0.37030037049504916, 0.37030037049504916, 0.37030037049504916, 0.37030037049504916, 0.37030037049504916, 0.3685963265149594, 0.3685963265149594, 0.3652522335453919, 0.3652522335453919, 0.3652522335453919, 0.3652522335453919, 0.3652522335453919, 0.3652522335453919, 0.3652522335453919, 0.3652522335453919, 0.3652522335453919, 0.3652522335453919, 0.3652522335453919, 0.3652522335453919, 0.3652522335453919, 0.3652522335453919, 0.3652522335453919, 0.3652522335453919, 0.3652522335453919, 0.3652522335453919, 0.3652522335453919, 0.3652522335453919, 0.3652522335453919, 0.3652522335453919, 0.3652522335453919, 0.3652522335453919, 0.3652522335453919, 0.3652522335453919, 0.3652522335453919, 0.3652522335453919, 0.3652522335453919, 0.3652522335453919, 0.3652522335453919, 0.3652522335453919, 0.3652522335453919, 0.3652522335453919, 0.3652522335453919, 0.3652522335453919, 0.3652522335453919, 0.3652522335453919, 0.3652522335453919, 0.3652522335453919]}], \"average_precision_score_macro\": [{\"categories\": [\"0\", \"1\", \"2\", \"3\", \"4\", \"5\", \"6\", \"7\", \"8\", \"9\", \"10\", \"11\", \"12\", \"13\", \"14\", \"15\", \"16\", \"17\", \"18\", \"19\", \"20\", \"21\", \"22\", \"23\", \"24\", \"25\", \"26\", \"27\", \"28\", \"29\", \"30\", \"31\", \"32\", \"33\", \"34\", \"35\", \"36\", \"37\", \"38\", \"39\", \"40\", \"41\", \"42\", \"43\", \"44\", \"45\", \"46\", \"47\", \"48\", \"49\", \"50\", \"51\", \"52\", \"53\", \"54\", \"55\", \"56\", \"57\", \"58\", \"59\", \"60\", \"61\", \"62\", \"63\", \"64\", \"65\", \"66\", \"67\", \"68\", \"69\", \"70\", \"71\", \"72\", \"73\", \"74\", \"75\", \"76\", \"77\", \"78\", \"79\", \"80\", \"81\", \"82\", \"83\", \"84\", \"85\", \"86\", \"87\", \"88\", \"89\", \"90\", \"91\", \"92\", \"93\", \"94\", \"95\", \"96\", \"97\", \"98\", \"99\", \"100\", \"101\", \"102\", \"103\", \"105\", \"106\"], \"mode\": \"markers\", \"name\": \"average_precision_score_macro\", \"stepped\": false, \"type\": \"scatter\", \"data\": [0.8655792376041671, 0.8826936933050062, 0.8613785688415977, 0.873259948311565, 0.8729251279898638, 0.8721194428860988, 0.8685442847090344, 0.894911772448775, 0.8567380718762884, 0.7455889577323558, 0.8672617232711437, 0.8690890059513713, 0.8939291406520798, 0.8533397041058659, 0.8609203802202223, 0.5525347928626576, 0.8742775742036561, 0.809611574302599, 0.8778757684473432, 0.8946702481469491, 0.8671070127315643, 0.8433840340003489, 0.8559964807846858, 0.894492467459191, 0.8843505532485645, 0.5002708990723186, 0.8893335140198892, 0.857781803470081, 0.8846011642805625, 0.8859867551565817, 0.8902013767243112, 0.8817202617830905, 0.8876277011708058, 0.8862427309913802, 0.8836202219658228, 0.6415617893209155, 0.8821647313233726, 0.8262546188147215, 0.8709097604511497, 0.8751288012408949, 0.7806664235351747, 0.8836629400686743, 0.8920970158077806, 0.8802508367758257, 0.8517807213547188, 0.902049520145067, 0.9058205039145694, 0.9025712172639576, 0.8916435723564551, 0.8964233045002805, 0.8731658195656908, 0.8857293710663395, 0.8807160317351677, 0.8571347747087176, 0.8932176150555268, 0.8994085878220848, 0.8868245235403197, 0.8923819237522661, 0.9021514043754209, 0.9061140848276468, 0.8878156751312194, 0.9080209203213402, 0.890992003724584, 0.8961673542219488, 0.9050110281809982, 0.8889832364483438, 0.9055353991756764, 0.889365896527397, 0.902881547841403, 0.9095178165978706, 0.898892540950451, 0.8872981018867498, 0.8809873831552728, 0.8888289483934667, 0.8988457088093746, 0.9049611778912066, 0.8985480868415101, 0.879223973701821, 0.9034720210602986, 0.9074168569145659, 0.899218394786792, 0.9011780040552175, 0.9049701340094896, 0.8941366505785471, 0.8919645930829132, 0.896464491737351, 0.881118014387868, 0.8923151730459583, 0.905363439678794, 0.8786617906196111, 0.9000751952933357, 0.8980531702365816, 0.8861326948473508, 0.8744586248849927, 0.9034947712714544, 0.8877370015550282, 0.8990096664810014, 0.8945453957960664, 0.9045307337646731, 0.9008791957676541, 0.8789547195065859, 0.8952562358743623, 0.8898575629819664, 0.8869455180891102, 0.9151985863556545, 0.9099865016369872]}, {\"categories\": [\"0\", \"1\", \"2\", \"3\", \"4\", \"5\", \"6\", \"7\", \"8\", \"9\", \"10\", \"11\", \"12\", \"13\", \"14\", \"15\", \"16\", \"17\", \"18\", \"19\", \"20\", \"21\", \"22\", \"23\", \"24\", \"25\", \"26\", \"27\", \"28\", \"29\", \"30\", \"31\", \"32\", \"33\", \"34\", \"35\", \"36\", \"37\", \"38\", \"39\", \"40\", \"41\", \"42\", \"43\", \"44\", \"45\", \"46\", \"47\", \"48\", \"49\", \"50\", \"51\", \"52\", \"53\", \"54\", \"55\", \"56\", \"57\", \"58\", \"59\", \"60\", \"61\", \"62\", \"63\", \"64\", \"65\", \"66\", \"67\", \"68\", \"69\", \"70\", \"71\", \"72\", \"73\", \"74\", \"75\", \"76\", \"77\", \"78\", \"79\", \"80\", \"81\", \"82\", \"83\", \"84\", \"85\", \"86\", \"87\", \"88\", \"89\", \"90\", \"91\", \"92\", \"93\", \"94\", \"95\", \"96\", \"97\", \"98\", \"99\", \"100\", \"101\", \"102\", \"103\", \"105\", \"106\"], \"mode\": \"lines\", \"name\": \"average_precision_score_macro_max\", \"stepped\": true, \"type\": \"scatter\", \"data\": [0.8655792376041671, 0.8826936933050062, 0.8826936933050062, 0.8826936933050062, 0.8826936933050062, 0.8826936933050062, 0.8826936933050062, 0.894911772448775, 0.894911772448775, 0.894911772448775, 0.894911772448775, 0.894911772448775, 0.894911772448775, 0.894911772448775, 0.894911772448775, 0.894911772448775, 0.894911772448775, 0.894911772448775, 0.894911772448775, 0.894911772448775, 0.894911772448775, 0.894911772448775, 0.894911772448775, 0.894911772448775, 0.894911772448775, 0.894911772448775, 0.894911772448775, 0.894911772448775, 0.894911772448775, 0.894911772448775, 0.894911772448775, 0.894911772448775, 0.894911772448775, 0.894911772448775, 0.894911772448775, 0.894911772448775, 0.894911772448775, 0.894911772448775, 0.894911772448775, 0.894911772448775, 0.894911772448775, 0.894911772448775, 0.894911772448775, 0.894911772448775, 0.894911772448775, 0.902049520145067, 0.9058205039145694, 0.9058205039145694, 0.9058205039145694, 0.9058205039145694, 0.9058205039145694, 0.9058205039145694, 0.9058205039145694, 0.9058205039145694, 0.9058205039145694, 0.9058205039145694, 0.9058205039145694, 0.9058205039145694, 0.9058205039145694, 0.9061140848276468, 0.9061140848276468, 0.9080209203213402, 0.9080209203213402, 0.9080209203213402, 0.9080209203213402, 0.9080209203213402, 0.9080209203213402, 0.9080209203213402, 0.9080209203213402, 0.9095178165978706, 0.9095178165978706, 0.9095178165978706, 0.9095178165978706, 0.9095178165978706, 0.9095178165978706, 0.9095178165978706, 0.9095178165978706, 0.9095178165978706, 0.9095178165978706, 0.9095178165978706, 0.9095178165978706, 0.9095178165978706, 0.9095178165978706, 0.9095178165978706, 0.9095178165978706, 0.9095178165978706, 0.9095178165978706, 0.9095178165978706, 0.9095178165978706, 0.9095178165978706, 0.9095178165978706, 0.9095178165978706, 0.9095178165978706, 0.9095178165978706, 0.9095178165978706, 0.9095178165978706, 0.9095178165978706, 0.9095178165978706, 0.9095178165978706, 0.9095178165978706, 0.9095178165978706, 0.9095178165978706, 0.9095178165978706, 0.9095178165978706, 0.9151985863556545, 0.9151985863556545]}], \"accuracy\": [{\"categories\": [\"0\", \"1\", \"2\", \"3\", \"4\", \"5\", \"6\", \"7\", \"8\", \"9\", \"10\", \"11\", \"12\", \"13\", \"14\", \"15\", \"16\", \"17\", \"18\", \"19\", \"20\", \"21\", \"22\", \"23\", \"24\", \"25\", \"26\", \"27\", \"28\", \"29\", \"30\", \"31\", \"32\", \"33\", \"34\", \"35\", \"36\", \"37\", \"38\", \"39\", \"40\", \"41\", \"42\", \"43\", \"44\", \"45\", \"46\", \"47\", \"48\", \"49\", \"50\", \"51\", \"52\", \"53\", \"54\", \"55\", \"56\", \"57\", \"58\", \"59\", \"60\", \"61\", \"62\", \"63\", \"64\", \"65\", \"66\", \"67\", \"68\", \"69\", \"70\", \"71\", \"72\", \"73\", \"74\", \"75\", \"76\", \"77\", \"78\", \"79\", \"80\", \"81\", \"82\", \"83\", \"84\", \"85\", \"86\", \"87\", \"88\", \"89\", \"90\", \"91\", \"92\", \"93\", \"94\", \"95\", \"96\", \"97\", \"98\", \"99\", \"100\", \"101\", \"102\", \"103\", \"105\", \"106\"], \"mode\": \"markers\", \"name\": \"accuracy\", \"stepped\": false, \"type\": \"scatter\", \"data\": [0.8059887005649717, 0.8259322033898304, 0.8461581920903954, 0.7759887005649717, 0.8224293785310735, 0.8293220338983052, 0.8461016949152544, 0.8629943502824858, 0.7693785310734463, 0.7593220338983051, 0.7727118644067796, 0.8328813559322035, 0.79909604519774, 0.8227118644067797, 0.8158757062146892, 0.6153107344632769, 0.7694350282485876, 0.7723728813559323, 0.8326553672316382, 0.8260451977401131, 0.8259887005649716, 0.7859322033898304, 0.8260451977401129, 0.8562146892655367, 0.8362146892655368, 0.6724293785310734, 0.8393785310734463, 0.7725988700564972, 0.8324858757062147, 0.8260451977401131, 0.822768361581921, 0.8359887005649718, 0.8392655367231638, 0.8326553672316385, 0.8327118644067797, 0.67909604519774, 0.8325988700564972, 0.836045197740113, 0.8325988700564972, 0.8562711864406779, 0.67909604519774, 0.8091525423728813, 0.8091525423728813, 0.8325423728813559, 0.8160451977401131, 0.7894915254237287, 0.8394350282485876, 0.8495480225988701, 0.8493220338983051, 0.8260451977401131, 0.7258757062146893, 0.8294350282485876, 0.8392655367231638, 0.8160451977401131, 0.8393785310734463, 0.8225988700564972, 0.8325988700564972, 0.8359322033898305, 0.8327118644067797, 0.8393785310734463, 0.67909604519774, 0.8191525423728814, 0.8327118644067797, 0.8359322033898305, 0.8428248587570621, 0.8425988700564971, 0.8327118644067797, 0.8461016949152542, 0.8427683615819209, 0.8258192090395481, 0.8461581920903954, 0.8259322033898305, 0.8495480225988701, 0.8192655367231637, 0.8427683615819209, 0.8494915254237287, 0.8158757062146892, 0.8259887005649718, 0.8528248587570622, 0.8427683615819209, 0.8194350282485876, 0.8493785310734463, 0.8528248587570622, 0.8393220338983051, 0.8393785310734463, 0.8461016949152542, 0.8127118644067796, 0.8393220338983051, 0.8359887005649718, 0.8292090395480226, 0.8427118644067797, 0.8427683615819209, 0.8227118644067797, 0.8259887005649718, 0.8392090395480226, 0.8427118644067797, 0.8461016949152542, 0.8361016949152542, 0.8292090395480226, 0.846045197740113, 0.8528813559322034, 0.822598870056497, 0.8226553672316383, 0.8325988700564972, 0.8393785310734463, 0.7292655367231639]}, {\"categories\": [\"0\", \"1\", \"2\", \"3\", \"4\", \"5\", \"6\", \"7\", \"8\", \"9\", \"10\", \"11\", \"12\", \"13\", \"14\", \"15\", \"16\", \"17\", \"18\", \"19\", \"20\", \"21\", \"22\", \"23\", \"24\", \"25\", \"26\", \"27\", \"28\", \"29\", \"30\", \"31\", \"32\", \"33\", \"34\", \"35\", \"36\", \"37\", \"38\", \"39\", \"40\", \"41\", \"42\", \"43\", \"44\", \"45\", \"46\", \"47\", \"48\", \"49\", \"50\", \"51\", \"52\", \"53\", \"54\", \"55\", \"56\", \"57\", \"58\", \"59\", \"60\", \"61\", \"62\", \"63\", \"64\", \"65\", \"66\", \"67\", \"68\", \"69\", \"70\", \"71\", \"72\", \"73\", \"74\", \"75\", \"76\", \"77\", \"78\", \"79\", \"80\", \"81\", \"82\", \"83\", \"84\", \"85\", \"86\", \"87\", \"88\", \"89\", \"90\", \"91\", \"92\", \"93\", \"94\", \"95\", \"96\", \"97\", \"98\", \"99\", \"100\", \"101\", \"102\", \"103\", \"105\", \"106\"], \"mode\": \"lines\", \"name\": \"accuracy_max\", \"stepped\": true, \"type\": \"scatter\", \"data\": [0.8059887005649717, 0.8259322033898304, 0.8461581920903954, 0.8461581920903954, 0.8461581920903954, 0.8461581920903954, 0.8461581920903954, 0.8629943502824858, 0.8629943502824858, 0.8629943502824858, 0.8629943502824858, 0.8629943502824858, 0.8629943502824858, 0.8629943502824858, 0.8629943502824858, 0.8629943502824858, 0.8629943502824858, 0.8629943502824858, 0.8629943502824858, 0.8629943502824858, 0.8629943502824858, 0.8629943502824858, 0.8629943502824858, 0.8629943502824858, 0.8629943502824858, 0.8629943502824858, 0.8629943502824858, 0.8629943502824858, 0.8629943502824858, 0.8629943502824858, 0.8629943502824858, 0.8629943502824858, 0.8629943502824858, 0.8629943502824858, 0.8629943502824858, 0.8629943502824858, 0.8629943502824858, 0.8629943502824858, 0.8629943502824858, 0.8629943502824858, 0.8629943502824858, 0.8629943502824858, 0.8629943502824858, 0.8629943502824858, 0.8629943502824858, 0.8629943502824858, 0.8629943502824858, 0.8629943502824858, 0.8629943502824858, 0.8629943502824858, 0.8629943502824858, 0.8629943502824858, 0.8629943502824858, 0.8629943502824858, 0.8629943502824858, 0.8629943502824858, 0.8629943502824858, 0.8629943502824858, 0.8629943502824858, 0.8629943502824858, 0.8629943502824858, 0.8629943502824858, 0.8629943502824858, 0.8629943502824858, 0.8629943502824858, 0.8629943502824858, 0.8629943502824858, 0.8629943502824858, 0.8629943502824858, 0.8629943502824858, 0.8629943502824858, 0.8629943502824858, 0.8629943502824858, 0.8629943502824858, 0.8629943502824858, 0.8629943502824858, 0.8629943502824858, 0.8629943502824858, 0.8629943502824858, 0.8629943502824858, 0.8629943502824858, 0.8629943502824858, 0.8629943502824858, 0.8629943502824858, 0.8629943502824858, 0.8629943502824858, 0.8629943502824858, 0.8629943502824858, 0.8629943502824858, 0.8629943502824858, 0.8629943502824858, 0.8629943502824858, 0.8629943502824858, 0.8629943502824858, 0.8629943502824858, 0.8629943502824858, 0.8629943502824858, 0.8629943502824858, 0.8629943502824858, 0.8629943502824858, 0.8629943502824858, 0.8629943502824858, 0.8629943502824858, 0.8629943502824858, 0.8629943502824858, 0.8629943502824858]}], \"weighted_accuracy\": [{\"categories\": [\"0\", \"1\", \"2\", \"3\", \"4\", \"5\", \"6\", \"7\", \"8\", \"9\", \"10\", \"11\", \"12\", \"13\", \"14\", \"15\", \"16\", \"17\", \"18\", \"19\", \"20\", \"21\", \"22\", \"23\", \"24\", \"25\", \"26\", \"27\", \"28\", \"29\", \"30\", \"31\", \"32\", \"33\", \"34\", \"35\", \"36\", \"37\", \"38\", \"39\", \"40\", \"41\", \"42\", \"43\", \"44\", \"45\", \"46\", \"47\", \"48\", \"49\", \"50\", \"51\", \"52\", \"53\", \"54\", \"55\", \"56\", \"57\", \"58\", \"59\", \"60\", \"61\", \"62\", \"63\", \"64\", \"65\", \"66\", \"67\", \"68\", \"69\", \"70\", \"71\", \"72\", \"73\", \"74\", \"75\", \"76\", \"77\", \"78\", \"79\", \"80\", \"81\", \"82\", \"83\", \"84\", \"85\", \"86\", \"87\", \"88\", \"89\", \"90\", \"91\", \"92\", \"93\", \"94\", \"95\", \"96\", \"97\", \"98\", \"99\", \"100\", \"101\", \"102\", \"103\", \"105\", \"106\"], \"mode\": \"markers\", \"name\": \"weighted_accuracy\", \"stepped\": false, \"type\": \"scatter\", \"data\": [0.8252063202764133, 0.8406325321291572, 0.8703124098650454, 0.8381245425502932, 0.8351367050761617, 0.8557709468585536, 0.8683313487671992, 0.8870749382888548, 0.8306501216087723, 0.8191552656124355, 0.8392154422738554, 0.8753796909847116, 0.7947646964025978, 0.843066254008803, 0.8245286381342523, 0.6722707401586747, 0.8290736605827247, 0.786521589318047, 0.8361863851756415, 0.8394035882109765, 0.8492198450018815, 0.7956705133864448, 0.8490138507466132, 0.8797423592143014, 0.8539776533319484, 0.7711539879063055, 0.8568184663981835, 0.8387848239836158, 0.854716903598721, 0.858116054459957, 0.8648713354048659, 0.8543029713262138, 0.8583226043113102, 0.8515453699021069, 0.8593695682548554, 0.7971865900207855, 0.8486474450205114, 0.8663107447254437, 0.8512793877561956, 0.8875547482651018, 0.7971865900207855, 0.8090337821379157, 0.8049220545679436, 0.8489703922516603, 0.8360473402486086, 0.843944179079994, 0.8557282005817273, 0.8724503238160715, 0.8698427943350632, 0.8504943197719255, 0.8126028258737964, 0.8462491098303826, 0.8529063478501359, 0.8368715637433162, 0.8605720570615315, 0.8449337542344624, 0.8486332262121001, 0.8564010356838594, 0.8528042475897724, 0.8571040815291917, 0.7971865900207855, 0.8255848839945875, 0.8582989354234958, 0.855303690551116, 0.8626379347652711, 0.8589330601515195, 0.8485453447601479, 0.8651895922180278, 0.8621033623042894, 0.8309553507653666, 0.8764033347305669, 0.8450447877214915, 0.8794692375762656, 0.8469663563489425, 0.8615335103162407, 0.874559503392722, 0.8188017597722881, 0.8406160027334668, 0.8758262047635359, 0.8600922470852843, 0.8647935981152598, 0.8671040815291917, 0.8776568485254652, 0.8579212257076124, 0.8584936256889826, 0.8737406940746997, 0.8354028644522783, 0.8638493782311023, 0.851478747831506, 0.8371317863197241, 0.8692911368823065, 0.8608897582786085, 0.8509544967630758, 0.8394402262281744, 0.8424755407891198, 0.871329658485638, 0.8683511499149089, 0.8568897582786084, 0.8337422421599333, 0.870830959891156, 0.8879561268687999, 0.8432252591785669, 0.8443036654091566, 0.8513488257262422, 0.8560851677689973, 0.8003552361015457]}, {\"categories\": [\"0\", \"1\", \"2\", \"3\", \"4\", \"5\", \"6\", \"7\", \"8\", \"9\", \"10\", \"11\", \"12\", \"13\", \"14\", \"15\", \"16\", \"17\", \"18\", \"19\", \"20\", \"21\", \"22\", \"23\", \"24\", \"25\", \"26\", \"27\", \"28\", \"29\", \"30\", \"31\", \"32\", \"33\", \"34\", \"35\", \"36\", \"37\", \"38\", \"39\", \"40\", \"41\", \"42\", \"43\", \"44\", \"45\", \"46\", \"47\", \"48\", \"49\", \"50\", \"51\", \"52\", \"53\", \"54\", \"55\", \"56\", \"57\", \"58\", \"59\", \"60\", \"61\", \"62\", \"63\", \"64\", \"65\", \"66\", \"67\", \"68\", \"69\", \"70\", \"71\", \"72\", \"73\", \"74\", \"75\", \"76\", \"77\", \"78\", \"79\", \"80\", \"81\", \"82\", \"83\", \"84\", \"85\", \"86\", \"87\", \"88\", \"89\", \"90\", \"91\", \"92\", \"93\", \"94\", \"95\", \"96\", \"97\", \"98\", \"99\", \"100\", \"101\", \"102\", \"103\", \"105\", \"106\"], \"mode\": \"lines\", \"name\": \"weighted_accuracy_max\", \"stepped\": true, \"type\": \"scatter\", \"data\": [0.8252063202764133, 0.8406325321291572, 0.8703124098650454, 0.8703124098650454, 0.8703124098650454, 0.8703124098650454, 0.8703124098650454, 0.8870749382888548, 0.8870749382888548, 0.8870749382888548, 0.8870749382888548, 0.8870749382888548, 0.8870749382888548, 0.8870749382888548, 0.8870749382888548, 0.8870749382888548, 0.8870749382888548, 0.8870749382888548, 0.8870749382888548, 0.8870749382888548, 0.8870749382888548, 0.8870749382888548, 0.8870749382888548, 0.8870749382888548, 0.8870749382888548, 0.8870749382888548, 0.8870749382888548, 0.8870749382888548, 0.8870749382888548, 0.8870749382888548, 0.8870749382888548, 0.8870749382888548, 0.8870749382888548, 0.8870749382888548, 0.8870749382888548, 0.8870749382888548, 0.8870749382888548, 0.8870749382888548, 0.8870749382888548, 0.8875547482651018, 0.8875547482651018, 0.8875547482651018, 0.8875547482651018, 0.8875547482651018, 0.8875547482651018, 0.8875547482651018, 0.8875547482651018, 0.8875547482651018, 0.8875547482651018, 0.8875547482651018, 0.8875547482651018, 0.8875547482651018, 0.8875547482651018, 0.8875547482651018, 0.8875547482651018, 0.8875547482651018, 0.8875547482651018, 0.8875547482651018, 0.8875547482651018, 0.8875547482651018, 0.8875547482651018, 0.8875547482651018, 0.8875547482651018, 0.8875547482651018, 0.8875547482651018, 0.8875547482651018, 0.8875547482651018, 0.8875547482651018, 0.8875547482651018, 0.8875547482651018, 0.8875547482651018, 0.8875547482651018, 0.8875547482651018, 0.8875547482651018, 0.8875547482651018, 0.8875547482651018, 0.8875547482651018, 0.8875547482651018, 0.8875547482651018, 0.8875547482651018, 0.8875547482651018, 0.8875547482651018, 0.8875547482651018, 0.8875547482651018, 0.8875547482651018, 0.8875547482651018, 0.8875547482651018, 0.8875547482651018, 0.8875547482651018, 0.8875547482651018, 0.8875547482651018, 0.8875547482651018, 0.8875547482651018, 0.8875547482651018, 0.8875547482651018, 0.8875547482651018, 0.8875547482651018, 0.8875547482651018, 0.8875547482651018, 0.8875547482651018, 0.8879561268687999, 0.8879561268687999, 0.8879561268687999, 0.8879561268687999, 0.8879561268687999, 0.8879561268687999]}], \"f1_score_weighted\": [{\"categories\": [\"0\", \"1\", \"2\", \"3\", \"4\", \"5\", \"6\", \"7\", \"8\", \"9\", \"10\", \"11\", \"12\", \"13\", \"14\", \"15\", \"16\", \"17\", \"18\", \"19\", \"20\", \"21\", \"22\", \"23\", \"24\", \"25\", \"26\", \"27\", \"28\", \"29\", \"30\", \"31\", \"32\", \"33\", \"34\", \"35\", \"36\", \"37\", \"38\", \"39\", \"40\", \"41\", \"42\", \"43\", \"44\", \"45\", \"46\", \"47\", \"48\", \"49\", \"50\", \"51\", \"52\", \"53\", \"54\", \"55\", \"56\", \"57\", \"58\", \"59\", \"60\", \"61\", \"62\", \"63\", \"64\", \"65\", \"66\", \"67\", \"68\", \"69\", \"70\", \"71\", \"72\", \"73\", \"74\", \"75\", \"76\", \"77\", \"78\", \"79\", \"80\", \"81\", \"82\", \"83\", \"84\", \"85\", \"86\", \"87\", \"88\", \"89\", \"90\", \"91\", \"92\", \"93\", \"94\", \"95\", \"96\", \"97\", \"98\", \"99\", \"100\", \"101\", \"102\", \"103\", \"105\", \"106\"], \"mode\": \"markers\", \"name\": \"f1_score_weighted\", \"stepped\": false, \"type\": \"scatter\", \"data\": [0.8014398448329555, 0.8237396450256732, 0.8426168951369153, 0.7452224429237395, 0.822030781914181, 0.8229832091455641, 0.8423583182288189, 0.8570530957741307, 0.737123778196097, 0.7359836357954517, 0.734781932826176, 0.8181657692907877, 0.8050210842681519, 0.8183010761922818, 0.8179951786856009, 0.5942320550697178, 0.7340526600491819, 0.7755742420737383, 0.8361960768816722, 0.8224246263079633, 0.8228515293573521, 0.7872650962307725, 0.824671445351121, 0.851473550079899, 0.8335179682433104, 0.5819730190202076, 0.8376511197359289, 0.7389417308301948, 0.8277349852290407, 0.8171078974593664, 0.8095531126279042, 0.8325064455842914, 0.8349708346376126, 0.8284240986230669, 0.8268195291248748, 0.5526564268547016, 0.8316548792498116, 0.8294192767119221, 0.8289215547765891, 0.8485164963244513, 0.5526564268547016, 0.8141536799374853, 0.8150599994269656, 0.8307125215412532, 0.8111375615251999, 0.7533970150592584, 0.8367626791205701, 0.8427006870219612, 0.8450842217550513, 0.8201036261579382, 0.6485274324770667, 0.8263307209909667, 0.8381188303076419, 0.8096299902531776, 0.8344202203643846, 0.8192935718349739, 0.829637222561564, 0.8316751252563439, 0.8286235308266849, 0.8364017126605467, 0.5526564268547016, 0.8219739788470392, 0.8251959392904977, 0.8309824228779359, 0.8385262699374764, 0.8402675442587239, 0.8297493476943479, 0.8426009428375785, 0.8403175917748621, 0.8296123503716066, 0.8390394036811873, 0.8213169063123924, 0.8421546967457063, 0.8131631299608222, 0.8382107781451685, 0.8440585227168265, 0.8198158756638569, 0.8243283413580167, 0.8456416850932422, 0.8388222073029896, 0.8043074390814071, 0.8462044680446976, 0.8480277819697764, 0.8357079262931965, 0.8345303877877368, 0.8383472474765528, 0.8054951021191579, 0.8333977692685884, 0.8337271932873691, 0.831119589318825, 0.8366538590612793, 0.8386144003212765, 0.8163255239358719, 0.8235653852556556, 0.8429460185958174, 0.8370447486920181, 0.8408485248627022, 0.8316557477566413, 0.8323968129418571, 0.8400593972984234, 0.8436101024240804, 0.8176490892482032, 0.8184126518654207, 0.8299609990981278, 0.8359945753349244, 0.6521928567416595]}, {\"categories\": [\"0\", \"1\", \"2\", \"3\", \"4\", \"5\", \"6\", \"7\", \"8\", \"9\", \"10\", \"11\", \"12\", \"13\", \"14\", \"15\", \"16\", \"17\", \"18\", \"19\", \"20\", \"21\", \"22\", \"23\", \"24\", \"25\", \"26\", \"27\", \"28\", \"29\", \"30\", \"31\", \"32\", \"33\", \"34\", \"35\", \"36\", \"37\", \"38\", \"39\", \"40\", \"41\", \"42\", \"43\", \"44\", \"45\", \"46\", \"47\", \"48\", \"49\", \"50\", \"51\", \"52\", \"53\", \"54\", \"55\", \"56\", \"57\", \"58\", \"59\", \"60\", \"61\", \"62\", \"63\", \"64\", \"65\", \"66\", \"67\", \"68\", \"69\", \"70\", \"71\", \"72\", \"73\", \"74\", \"75\", \"76\", \"77\", \"78\", \"79\", \"80\", \"81\", \"82\", \"83\", \"84\", \"85\", \"86\", \"87\", \"88\", \"89\", \"90\", \"91\", \"92\", \"93\", \"94\", \"95\", \"96\", \"97\", \"98\", \"99\", \"100\", \"101\", \"102\", \"103\", \"105\", \"106\"], \"mode\": \"lines\", \"name\": \"f1_score_weighted_max\", \"stepped\": true, \"type\": \"scatter\", \"data\": [0.8014398448329555, 0.8237396450256732, 0.8426168951369153, 0.8426168951369153, 0.8426168951369153, 0.8426168951369153, 0.8426168951369153, 0.8570530957741307, 0.8570530957741307, 0.8570530957741307, 0.8570530957741307, 0.8570530957741307, 0.8570530957741307, 0.8570530957741307, 0.8570530957741307, 0.8570530957741307, 0.8570530957741307, 0.8570530957741307, 0.8570530957741307, 0.8570530957741307, 0.8570530957741307, 0.8570530957741307, 0.8570530957741307, 0.8570530957741307, 0.8570530957741307, 0.8570530957741307, 0.8570530957741307, 0.8570530957741307, 0.8570530957741307, 0.8570530957741307, 0.8570530957741307, 0.8570530957741307, 0.8570530957741307, 0.8570530957741307, 0.8570530957741307, 0.8570530957741307, 0.8570530957741307, 0.8570530957741307, 0.8570530957741307, 0.8570530957741307, 0.8570530957741307, 0.8570530957741307, 0.8570530957741307, 0.8570530957741307, 0.8570530957741307, 0.8570530957741307, 0.8570530957741307, 0.8570530957741307, 0.8570530957741307, 0.8570530957741307, 0.8570530957741307, 0.8570530957741307, 0.8570530957741307, 0.8570530957741307, 0.8570530957741307, 0.8570530957741307, 0.8570530957741307, 0.8570530957741307, 0.8570530957741307, 0.8570530957741307, 0.8570530957741307, 0.8570530957741307, 0.8570530957741307, 0.8570530957741307, 0.8570530957741307, 0.8570530957741307, 0.8570530957741307, 0.8570530957741307, 0.8570530957741307, 0.8570530957741307, 0.8570530957741307, 0.8570530957741307, 0.8570530957741307, 0.8570530957741307, 0.8570530957741307, 0.8570530957741307, 0.8570530957741307, 0.8570530957741307, 0.8570530957741307, 0.8570530957741307, 0.8570530957741307, 0.8570530957741307, 0.8570530957741307, 0.8570530957741307, 0.8570530957741307, 0.8570530957741307, 0.8570530957741307, 0.8570530957741307, 0.8570530957741307, 0.8570530957741307, 0.8570530957741307, 0.8570530957741307, 0.8570530957741307, 0.8570530957741307, 0.8570530957741307, 0.8570530957741307, 0.8570530957741307, 0.8570530957741307, 0.8570530957741307, 0.8570530957741307, 0.8570530957741307, 0.8570530957741307, 0.8570530957741307, 0.8570530957741307, 0.8570530957741307, 0.8570530957741307]}], \"f1_score_macro\": [{\"categories\": [\"0\", \"1\", \"2\", \"3\", \"4\", \"5\", \"6\", \"7\", \"8\", \"9\", \"10\", \"11\", \"12\", \"13\", \"14\", \"15\", \"16\", \"17\", \"18\", \"19\", \"20\", \"21\", \"22\", \"23\", \"24\", \"25\", \"26\", \"27\", \"28\", \"29\", \"30\", \"31\", \"32\", \"33\", \"34\", \"35\", \"36\", \"37\", \"38\", \"39\", \"40\", \"41\", \"42\", \"43\", \"44\", \"45\", \"46\", \"47\", \"48\", \"49\", \"50\", \"51\", \"52\", \"53\", \"54\", \"55\", \"56\", \"57\", \"58\", \"59\", \"60\", \"61\", \"62\", \"63\", \"64\", \"65\", \"66\", \"67\", \"68\", \"69\", \"70\", \"71\", \"72\", \"73\", \"74\", \"75\", \"76\", \"77\", \"78\", \"79\", \"80\", \"81\", \"82\", \"83\", \"84\", \"85\", \"86\", \"87\", \"88\", \"89\", \"90\", \"91\", \"92\", \"93\", \"94\", \"95\", \"96\", \"97\", \"98\", \"99\", \"100\", \"101\", \"102\", \"103\", \"105\", \"106\"], \"mode\": \"markers\", \"name\": \"f1_score_macro\", \"stepped\": false, \"type\": \"scatter\", \"data\": [0.7682096405971308, 0.7972526241921125, 0.8121201163634645, 0.6869569777118455, 0.7923753234833881, 0.79156223893066, 0.8129840214419269, 0.8343692525938902, 0.6833850174596034, 0.677864504364746, 0.6769255457776266, 0.7844570399346964, 0.7767621056894577, 0.7858167613018765, 0.7880479825694259, 0.5173668796330508, 0.6797419456775048, 0.7343978921938666, 0.8078683857405086, 0.7927862724365038, 0.7893697208449787, 0.7528731657601215, 0.7895136934710894, 0.8249107602989462, 0.8040326706794378, 0.4692989500259014, 0.8070900753578432, 0.6812868106356605, 0.795746683677871, 0.7838481648071174, 0.773244348209348, 0.8041722712027326, 0.805412404435223, 0.7979471253384297, 0.7957073886129916, 0.40276783177038933, 0.8004234469220253, 0.7972965954614303, 0.7956856694841192, 0.8224769654522233, 0.40276783177038933, 0.7838530099327488, 0.7875865524578319, 0.7999230207121998, 0.777731957024298, 0.709866921460664, 0.8075599875280058, 0.8163948346248115, 0.8173184271868482, 0.7862565572873823, 0.5664018697573157, 0.7953768902707224, 0.809659228747174, 0.7768120710169557, 0.8038654272335537, 0.7850600670442457, 0.8014003579751297, 0.8005461643368268, 0.7997137972055925, 0.8071997721983986, 0.40276783177038933, 0.7926795444263331, 0.7944081892766104, 0.8002951032645245, 0.8103047606859619, 0.8114278663239698, 0.799969793347855, 0.8140350594962091, 0.8129995793680005, 0.7997324489895141, 0.8096572702786119, 0.7875941901448278, 0.8151596591813984, 0.7776361502957247, 0.8093097076161593, 0.8163704310256736, 0.7902027853063809, 0.7943205019815622, 0.8200092932178453, 0.810510076541744, 0.7654049646213181, 0.8180152938860132, 0.8204654352921363, 0.8063441284803933, 0.8053890495016566, 0.8107238115614239, 0.7718653091978014, 0.8024328342612149, 0.8047419265630676, 0.803053021738142, 0.8076768154540472, 0.8113011396692663, 0.7815068333226227, 0.7948202933542772, 0.8151404483976318, 0.8068339466548053, 0.8136884373370888, 0.8031443766372843, 0.8045454508810183, 0.8114741270376132, 0.8163004578463852, 0.7865190724894848, 0.7859293538110348, 0.7997683548906716, 0.8063664974189777, 0.552272064369564]}, {\"categories\": [\"0\", \"1\", \"2\", \"3\", \"4\", \"5\", \"6\", \"7\", \"8\", \"9\", \"10\", \"11\", \"12\", \"13\", \"14\", \"15\", \"16\", \"17\", \"18\", \"19\", \"20\", \"21\", \"22\", \"23\", \"24\", \"25\", \"26\", \"27\", \"28\", \"29\", \"30\", \"31\", \"32\", \"33\", \"34\", \"35\", \"36\", \"37\", \"38\", \"39\", \"40\", \"41\", \"42\", \"43\", \"44\", \"45\", \"46\", \"47\", \"48\", \"49\", \"50\", \"51\", \"52\", \"53\", \"54\", \"55\", \"56\", \"57\", \"58\", \"59\", \"60\", \"61\", \"62\", \"63\", \"64\", \"65\", \"66\", \"67\", \"68\", \"69\", \"70\", \"71\", \"72\", \"73\", \"74\", \"75\", \"76\", \"77\", \"78\", \"79\", \"80\", \"81\", \"82\", \"83\", \"84\", \"85\", \"86\", \"87\", \"88\", \"89\", \"90\", \"91\", \"92\", \"93\", \"94\", \"95\", \"96\", \"97\", \"98\", \"99\", \"100\", \"101\", \"102\", \"103\", \"105\", \"106\"], \"mode\": \"lines\", \"name\": \"f1_score_macro_max\", \"stepped\": true, \"type\": \"scatter\", \"data\": [0.7682096405971308, 0.7972526241921125, 0.8121201163634645, 0.8121201163634645, 0.8121201163634645, 0.8121201163634645, 0.8129840214419269, 0.8343692525938902, 0.8343692525938902, 0.8343692525938902, 0.8343692525938902, 0.8343692525938902, 0.8343692525938902, 0.8343692525938902, 0.8343692525938902, 0.8343692525938902, 0.8343692525938902, 0.8343692525938902, 0.8343692525938902, 0.8343692525938902, 0.8343692525938902, 0.8343692525938902, 0.8343692525938902, 0.8343692525938902, 0.8343692525938902, 0.8343692525938902, 0.8343692525938902, 0.8343692525938902, 0.8343692525938902, 0.8343692525938902, 0.8343692525938902, 0.8343692525938902, 0.8343692525938902, 0.8343692525938902, 0.8343692525938902, 0.8343692525938902, 0.8343692525938902, 0.8343692525938902, 0.8343692525938902, 0.8343692525938902, 0.8343692525938902, 0.8343692525938902, 0.8343692525938902, 0.8343692525938902, 0.8343692525938902, 0.8343692525938902, 0.8343692525938902, 0.8343692525938902, 0.8343692525938902, 0.8343692525938902, 0.8343692525938902, 0.8343692525938902, 0.8343692525938902, 0.8343692525938902, 0.8343692525938902, 0.8343692525938902, 0.8343692525938902, 0.8343692525938902, 0.8343692525938902, 0.8343692525938902, 0.8343692525938902, 0.8343692525938902, 0.8343692525938902, 0.8343692525938902, 0.8343692525938902, 0.8343692525938902, 0.8343692525938902, 0.8343692525938902, 0.8343692525938902, 0.8343692525938902, 0.8343692525938902, 0.8343692525938902, 0.8343692525938902, 0.8343692525938902, 0.8343692525938902, 0.8343692525938902, 0.8343692525938902, 0.8343692525938902, 0.8343692525938902, 0.8343692525938902, 0.8343692525938902, 0.8343692525938902, 0.8343692525938902, 0.8343692525938902, 0.8343692525938902, 0.8343692525938902, 0.8343692525938902, 0.8343692525938902, 0.8343692525938902, 0.8343692525938902, 0.8343692525938902, 0.8343692525938902, 0.8343692525938902, 0.8343692525938902, 0.8343692525938902, 0.8343692525938902, 0.8343692525938902, 0.8343692525938902, 0.8343692525938902, 0.8343692525938902, 0.8343692525938902, 0.8343692525938902, 0.8343692525938902, 0.8343692525938902, 0.8343692525938902, 0.8343692525938902]}], \"average_precision_score_weighted\": [{\"categories\": [\"0\", \"1\", \"2\", \"3\", \"4\", \"5\", \"6\", \"7\", \"8\", \"9\", \"10\", \"11\", \"12\", \"13\", \"14\", \"15\", \"16\", \"17\", \"18\", \"19\", \"20\", \"21\", \"22\", \"23\", \"24\", \"25\", \"26\", \"27\", \"28\", \"29\", \"30\", \"31\", \"32\", \"33\", \"34\", \"35\", \"36\", \"37\", \"38\", \"39\", \"40\", \"41\", \"42\", \"43\", \"44\", \"45\", \"46\", \"47\", \"48\", \"49\", \"50\", \"51\", \"52\", \"53\", \"54\", \"55\", \"56\", \"57\", \"58\", \"59\", \"60\", \"61\", \"62\", \"63\", \"64\", \"65\", \"66\", \"67\", \"68\", \"69\", \"70\", \"71\", \"72\", \"73\", \"74\", \"75\", \"76\", \"77\", \"78\", \"79\", \"80\", \"81\", \"82\", \"83\", \"84\", \"85\", \"86\", \"87\", \"88\", \"89\", \"90\", \"91\", \"92\", \"93\", \"94\", \"95\", \"96\", \"97\", \"98\", \"99\", \"100\", \"101\", \"102\", \"103\", \"105\", \"106\"], \"mode\": \"markers\", \"name\": \"average_precision_score_weighted\", \"stepped\": false, \"type\": \"scatter\", \"data\": [0.8955370396295249, 0.9103506263314479, 0.9010204886404694, 0.8979303355757378, 0.9036285162552466, 0.8976043531656324, 0.8974028297843674, 0.9141292484946975, 0.8871785993580212, 0.7862334416854537, 0.891383355296189, 0.8938416569823134, 0.9178100460073327, 0.8901445260981413, 0.8920054991944383, 0.6031702289152213, 0.9028863211722926, 0.8571549702979204, 0.9100082006819544, 0.9178268415672477, 0.8974644121122923, 0.8722141235971526, 0.8908190589044587, 0.921827474595014, 0.9128186665510833, 0.5685077432640913, 0.9134378345638268, 0.8877612754442857, 0.9145334681368864, 0.911127181196848, 0.9162636121239365, 0.9116760103605748, 0.9132859411680425, 0.9139647337041321, 0.904820191376486, 0.7149577202675179, 0.9118211046417176, 0.8661251461703181, 0.9018516202417569, 0.9004391336688545, 0.8305928839391719, 0.9116949785971975, 0.9165927201721196, 0.9083074542887764, 0.8869727690851625, 0.926102862715188, 0.928377783967105, 0.9235673124108225, 0.9169833884937217, 0.9204630064024485, 0.9013485778582083, 0.9101412184364082, 0.911919133480995, 0.8906688081373607, 0.9204824810974014, 0.9240783352867655, 0.9141026492168969, 0.9215378581871363, 0.9257951451006747, 0.9282646328701093, 0.9149774645143924, 0.9292296975706336, 0.9169877180866557, 0.9204368432420841, 0.9272369744482825, 0.9177689311711308, 0.9286292187274823, 0.9172616989756831, 0.9256237346063761, 0.9307256144679432, 0.9206072228743949, 0.9138947442003026, 0.9063265133246151, 0.9152192234794235, 0.9227075644997725, 0.9261192281673754, 0.9211916048751091, 0.906347818646341, 0.9270775371626916, 0.9302993476284882, 0.9202917478962043, 0.9249083379475111, 0.9257836606060913, 0.9218699500695984, 0.9165163944268715, 0.9203587710010892, 0.909877972465112, 0.9154575396751822, 0.9284746712024499, 0.907394525541622, 0.9229978650892781, 0.919643660083012, 0.9128704528289251, 0.903850402205222, 0.9262702818532329, 0.9126502674360161, 0.9230134757856696, 0.9163534774062289, 0.9273817487544667, 0.9224983592365199, 0.9029989950241649, 0.922050354722086, 0.9172866681158223, 0.9128302337724129, 0.9352476103800835, 0.9308642256835948]}, {\"categories\": [\"0\", \"1\", \"2\", \"3\", \"4\", \"5\", \"6\", \"7\", \"8\", \"9\", \"10\", \"11\", \"12\", \"13\", \"14\", \"15\", \"16\", \"17\", \"18\", \"19\", \"20\", \"21\", \"22\", \"23\", \"24\", \"25\", \"26\", \"27\", \"28\", \"29\", \"30\", \"31\", \"32\", \"33\", \"34\", \"35\", \"36\", \"37\", \"38\", \"39\", \"40\", \"41\", \"42\", \"43\", \"44\", \"45\", \"46\", \"47\", \"48\", \"49\", \"50\", \"51\", \"52\", \"53\", \"54\", \"55\", \"56\", \"57\", \"58\", \"59\", \"60\", \"61\", \"62\", \"63\", \"64\", \"65\", \"66\", \"67\", \"68\", \"69\", \"70\", \"71\", \"72\", \"73\", \"74\", \"75\", \"76\", \"77\", \"78\", \"79\", \"80\", \"81\", \"82\", \"83\", \"84\", \"85\", \"86\", \"87\", \"88\", \"89\", \"90\", \"91\", \"92\", \"93\", \"94\", \"95\", \"96\", \"97\", \"98\", \"99\", \"100\", \"101\", \"102\", \"103\", \"105\", \"106\"], \"mode\": \"lines\", \"name\": \"average_precision_score_weighted_max\", \"stepped\": true, \"type\": \"scatter\", \"data\": [0.8955370396295249, 0.9103506263314479, 0.9103506263314479, 0.9103506263314479, 0.9103506263314479, 0.9103506263314479, 0.9103506263314479, 0.9141292484946975, 0.9141292484946975, 0.9141292484946975, 0.9141292484946975, 0.9141292484946975, 0.9178100460073327, 0.9178100460073327, 0.9178100460073327, 0.9178100460073327, 0.9178100460073327, 0.9178100460073327, 0.9178100460073327, 0.9178268415672477, 0.9178268415672477, 0.9178268415672477, 0.9178268415672477, 0.921827474595014, 0.921827474595014, 0.921827474595014, 0.921827474595014, 0.921827474595014, 0.921827474595014, 0.921827474595014, 0.921827474595014, 0.921827474595014, 0.921827474595014, 0.921827474595014, 0.921827474595014, 0.921827474595014, 0.921827474595014, 0.921827474595014, 0.921827474595014, 0.921827474595014, 0.921827474595014, 0.921827474595014, 0.921827474595014, 0.921827474595014, 0.921827474595014, 0.926102862715188, 0.928377783967105, 0.928377783967105, 0.928377783967105, 0.928377783967105, 0.928377783967105, 0.928377783967105, 0.928377783967105, 0.928377783967105, 0.928377783967105, 0.928377783967105, 0.928377783967105, 0.928377783967105, 0.928377783967105, 0.928377783967105, 0.928377783967105, 0.9292296975706336, 0.9292296975706336, 0.9292296975706336, 0.9292296975706336, 0.9292296975706336, 0.9292296975706336, 0.9292296975706336, 0.9292296975706336, 0.9307256144679432, 0.9307256144679432, 0.9307256144679432, 0.9307256144679432, 0.9307256144679432, 0.9307256144679432, 0.9307256144679432, 0.9307256144679432, 0.9307256144679432, 0.9307256144679432, 0.9307256144679432, 0.9307256144679432, 0.9307256144679432, 0.9307256144679432, 0.9307256144679432, 0.9307256144679432, 0.9307256144679432, 0.9307256144679432, 0.9307256144679432, 0.9307256144679432, 0.9307256144679432, 0.9307256144679432, 0.9307256144679432, 0.9307256144679432, 0.9307256144679432, 0.9307256144679432, 0.9307256144679432, 0.9307256144679432, 0.9307256144679432, 0.9307256144679432, 0.9307256144679432, 0.9307256144679432, 0.9307256144679432, 0.9307256144679432, 0.9307256144679432, 0.9352476103800835, 0.9352476103800835]}], \"balanced_accuracy\": [{\"categories\": [\"0\", \"1\", \"2\", \"3\", \"4\", \"5\", \"6\", \"7\", \"8\", \"9\", \"10\", \"11\", \"12\", \"13\", \"14\", \"15\", \"16\", \"17\", \"18\", \"19\", \"20\", \"21\", \"22\", \"23\", \"24\", \"25\", \"26\", \"27\", \"28\", \"29\", \"30\", \"31\", \"32\", \"33\", \"34\", \"35\", \"36\", \"37\", \"38\", \"39\", \"40\", \"41\", \"42\", \"43\", \"44\", \"45\", \"46\", \"47\", \"48\", \"49\", \"50\", \"51\", \"52\", \"53\", \"54\", \"55\", \"56\", \"57\", \"58\", \"59\", \"60\", \"61\", \"62\", \"63\", \"64\", \"65\", \"66\", \"67\", \"68\", \"69\", \"70\", \"71\", \"72\", \"73\", \"74\", \"75\", \"76\", \"77\", \"78\", \"79\", \"80\", \"81\", \"82\", \"83\", \"84\", \"85\", \"86\", \"87\", \"88\", \"89\", \"90\", \"91\", \"92\", \"93\", \"94\", \"95\", \"96\", \"97\", \"98\", \"99\", \"100\", \"101\", \"102\", \"103\", \"105\", \"106\"], \"mode\": \"markers\", \"name\": \"balanced_accuracy\", \"stepped\": false, \"type\": \"scatter\", \"data\": [0.7760209025470652, 0.8060125968992248, 0.8091583610188262, 0.6864880952380952, 0.803266196013289, 0.7910845791805095, 0.8125214562569214, 0.827470238095238, 0.6792815614617941, 0.6706803709856035, 0.6753571428571429, 0.7734523809523809, 0.8031983665559247, 0.7942095791805094, 0.8037423864894796, 0.5313406699889258, 0.6804720376522703, 0.7509191583610187, 0.82625069213732, 0.807062569213732, 0.7926321982281285, 0.7709316168327796, 0.792453626799557, 0.8214541805094131, 0.810204180509413, 0.5261821705426357, 0.8142988648947952, 0.6772577519379844, 0.7993798449612403, 0.779358388704319, 0.7634482281284607, 0.8085804263565892, 0.8104554263565891, 0.8069476744186046, 0.7952512458471761, 0.5, 0.8096477021040975, 0.791501245847176, 0.8076024363233664, 0.8112202380952382, 0.5, 0.8076411960132891, 0.8136447951273533, 0.8075643687707641, 0.7885548172757475, 0.7104761904761905, 0.8151363510520486, 0.8157398947951273, 0.8192054263565891, 0.7886184939091916, 0.6026744186046511, 0.8051065891472868, 0.8195840254706533, 0.7870667220376523, 0.8080232558139535, 0.7893798449612403, 0.8095245016611295, 0.8058720930232559, 0.8041756644518273, 0.8130191029900331, 0.5, 0.80859357696567, 0.7954637320044297, 0.8073006644518272, 0.8134738372093022, 0.8183679401993356, 0.8092393410852715, 0.8178446843853819, 0.8142988648947952, 0.8172245293466224, 0.8007357419712072, 0.7973643410852713, 0.8063946566998894, 0.7794476744186046, 0.8154934939091916, 0.8130571705426357, 0.8113019102990033, 0.8067351882613509, 0.8186226467331119, 0.8167732558139533, 0.7540434662236988, 0.8230191029900332, 0.8166285991140644, 0.8121220930232559, 0.8101065891472867, 0.8062970653377629, 0.7788309800664452, 0.8040012458471761, 0.8125685215946845, 0.8161274916943523, 0.8048345791805094, 0.8165012458471761, 0.7804934939091915, 0.8077470930232558, 0.8334745293466224, 0.799656007751938, 0.8142095791805094, 0.8065012458471761, 0.8215400055370987, 0.8104595791805094, 0.8020535714285714, 0.7918839977851606, 0.7895923311184939, 0.8066375968992249, 0.8148643410852714, 0.6147965116279069]}, {\"categories\": [\"0\", \"1\", \"2\", \"3\", \"4\", \"5\", \"6\", \"7\", \"8\", \"9\", \"10\", \"11\", \"12\", \"13\", \"14\", \"15\", \"16\", \"17\", \"18\", \"19\", \"20\", \"21\", \"22\", \"23\", \"24\", \"25\", \"26\", \"27\", \"28\", \"29\", \"30\", \"31\", \"32\", \"33\", \"34\", \"35\", \"36\", \"37\", \"38\", \"39\", \"40\", \"41\", \"42\", \"43\", \"44\", \"45\", \"46\", \"47\", \"48\", \"49\", \"50\", \"51\", \"52\", \"53\", \"54\", \"55\", \"56\", \"57\", \"58\", \"59\", \"60\", \"61\", \"62\", \"63\", \"64\", \"65\", \"66\", \"67\", \"68\", \"69\", \"70\", \"71\", \"72\", \"73\", \"74\", \"75\", \"76\", \"77\", \"78\", \"79\", \"80\", \"81\", \"82\", \"83\", \"84\", \"85\", \"86\", \"87\", \"88\", \"89\", \"90\", \"91\", \"92\", \"93\", \"94\", \"95\", \"96\", \"97\", \"98\", \"99\", \"100\", \"101\", \"102\", \"103\", \"105\", \"106\"], \"mode\": \"lines\", \"name\": \"balanced_accuracy_max\", \"stepped\": true, \"type\": \"scatter\", \"data\": [0.7760209025470652, 0.8060125968992248, 0.8091583610188262, 0.8091583610188262, 0.8091583610188262, 0.8091583610188262, 0.8125214562569214, 0.827470238095238, 0.827470238095238, 0.827470238095238, 0.827470238095238, 0.827470238095238, 0.827470238095238, 0.827470238095238, 0.827470238095238, 0.827470238095238, 0.827470238095238, 0.827470238095238, 0.827470238095238, 0.827470238095238, 0.827470238095238, 0.827470238095238, 0.827470238095238, 0.827470238095238, 0.827470238095238, 0.827470238095238, 0.827470238095238, 0.827470238095238, 0.827470238095238, 0.827470238095238, 0.827470238095238, 0.827470238095238, 0.827470238095238, 0.827470238095238, 0.827470238095238, 0.827470238095238, 0.827470238095238, 0.827470238095238, 0.827470238095238, 0.827470238095238, 0.827470238095238, 0.827470238095238, 0.827470238095238, 0.827470238095238, 0.827470238095238, 0.827470238095238, 0.827470238095238, 0.827470238095238, 0.827470238095238, 0.827470238095238, 0.827470238095238, 0.827470238095238, 0.827470238095238, 0.827470238095238, 0.827470238095238, 0.827470238095238, 0.827470238095238, 0.827470238095238, 0.827470238095238, 0.827470238095238, 0.827470238095238, 0.827470238095238, 0.827470238095238, 0.827470238095238, 0.827470238095238, 0.827470238095238, 0.827470238095238, 0.827470238095238, 0.827470238095238, 0.827470238095238, 0.827470238095238, 0.827470238095238, 0.827470238095238, 0.827470238095238, 0.827470238095238, 0.827470238095238, 0.827470238095238, 0.827470238095238, 0.827470238095238, 0.827470238095238, 0.827470238095238, 0.827470238095238, 0.827470238095238, 0.827470238095238, 0.827470238095238, 0.827470238095238, 0.827470238095238, 0.827470238095238, 0.827470238095238, 0.827470238095238, 0.827470238095238, 0.827470238095238, 0.827470238095238, 0.827470238095238, 0.8334745293466224, 0.8334745293466224, 0.8334745293466224, 0.8334745293466224, 0.8334745293466224, 0.8334745293466224, 0.8334745293466224, 0.8334745293466224, 0.8334745293466224, 0.8334745293466224, 0.8334745293466224, 0.8334745293466224]}], \"recall_score_macro\": [{\"categories\": [\"0\", \"1\", \"2\", \"3\", \"4\", \"5\", \"6\", \"7\", \"8\", \"9\", \"10\", \"11\", \"12\", \"13\", \"14\", \"15\", \"16\", \"17\", \"18\", \"19\", \"20\", \"21\", \"22\", \"23\", \"24\", \"25\", \"26\", \"27\", \"28\", \"29\", \"30\", \"31\", \"32\", \"33\", \"34\", \"35\", \"36\", \"37\", \"38\", \"39\", \"40\", \"41\", \"42\", \"43\", \"44\", \"45\", \"46\", \"47\", \"48\", \"49\", \"50\", \"51\", \"52\", \"53\", \"54\", \"55\", \"56\", \"57\", \"58\", \"59\", \"60\", \"61\", \"62\", \"63\", \"64\", \"65\", \"66\", \"67\", \"68\", \"69\", \"70\", \"71\", \"72\", \"73\", \"74\", \"75\", \"76\", \"77\", \"78\", \"79\", \"80\", \"81\", \"82\", \"83\", \"84\", \"85\", \"86\", \"87\", \"88\", \"89\", \"90\", \"91\", \"92\", \"93\", \"94\", \"95\", \"96\", \"97\", \"98\", \"99\", \"100\", \"101\", \"102\", \"103\", \"105\", \"106\"], \"mode\": \"markers\", \"name\": \"recall_score_macro\", \"stepped\": false, \"type\": \"scatter\", \"data\": [0.7760209025470652, 0.8060125968992248, 0.8091583610188262, 0.6864880952380952, 0.803266196013289, 0.7910845791805095, 0.8125214562569214, 0.827470238095238, 0.6792815614617941, 0.6706803709856035, 0.6753571428571429, 0.7734523809523809, 0.8031983665559247, 0.7942095791805094, 0.8037423864894796, 0.5313406699889258, 0.6804720376522703, 0.7509191583610187, 0.82625069213732, 0.807062569213732, 0.7926321982281285, 0.7709316168327796, 0.792453626799557, 0.8214541805094131, 0.810204180509413, 0.5261821705426357, 0.8142988648947952, 0.6772577519379844, 0.7993798449612403, 0.779358388704319, 0.7634482281284607, 0.8085804263565892, 0.8104554263565891, 0.8069476744186046, 0.7952512458471761, 0.5, 0.8096477021040975, 0.791501245847176, 0.8076024363233664, 0.8112202380952382, 0.5, 0.8076411960132891, 0.8136447951273533, 0.8075643687707641, 0.7885548172757475, 0.7104761904761905, 0.8151363510520486, 0.8157398947951273, 0.8192054263565891, 0.7886184939091916, 0.6026744186046511, 0.8051065891472868, 0.8195840254706533, 0.7870667220376523, 0.8080232558139535, 0.7893798449612403, 0.8095245016611295, 0.8058720930232559, 0.8041756644518273, 0.8130191029900331, 0.5, 0.80859357696567, 0.7954637320044297, 0.8073006644518272, 0.8134738372093022, 0.8183679401993356, 0.8092393410852715, 0.8178446843853819, 0.8142988648947952, 0.8172245293466224, 0.8007357419712072, 0.7973643410852713, 0.8063946566998894, 0.7794476744186046, 0.8154934939091916, 0.8130571705426357, 0.8113019102990033, 0.8067351882613509, 0.8186226467331119, 0.8167732558139533, 0.7540434662236988, 0.8230191029900332, 0.8166285991140644, 0.8121220930232559, 0.8101065891472867, 0.8062970653377629, 0.7788309800664452, 0.8040012458471761, 0.8125685215946845, 0.8161274916943523, 0.8048345791805094, 0.8165012458471761, 0.7804934939091915, 0.8077470930232558, 0.8334745293466224, 0.799656007751938, 0.8142095791805094, 0.8065012458471761, 0.8215400055370987, 0.8104595791805094, 0.8020535714285714, 0.7918839977851606, 0.7895923311184939, 0.8066375968992249, 0.8148643410852714, 0.6147965116279069]}, {\"categories\": [\"0\", \"1\", \"2\", \"3\", \"4\", \"5\", \"6\", \"7\", \"8\", \"9\", \"10\", \"11\", \"12\", \"13\", \"14\", \"15\", \"16\", \"17\", \"18\", \"19\", \"20\", \"21\", \"22\", \"23\", \"24\", \"25\", \"26\", \"27\", \"28\", \"29\", \"30\", \"31\", \"32\", \"33\", \"34\", \"35\", \"36\", \"37\", \"38\", \"39\", \"40\", \"41\", \"42\", \"43\", \"44\", \"45\", \"46\", \"47\", \"48\", \"49\", \"50\", \"51\", \"52\", \"53\", \"54\", \"55\", \"56\", \"57\", \"58\", \"59\", \"60\", \"61\", \"62\", \"63\", \"64\", \"65\", \"66\", \"67\", \"68\", \"69\", \"70\", \"71\", \"72\", \"73\", \"74\", \"75\", \"76\", \"77\", \"78\", \"79\", \"80\", \"81\", \"82\", \"83\", \"84\", \"85\", \"86\", \"87\", \"88\", \"89\", \"90\", \"91\", \"92\", \"93\", \"94\", \"95\", \"96\", \"97\", \"98\", \"99\", \"100\", \"101\", \"102\", \"103\", \"105\", \"106\"], \"mode\": \"lines\", \"name\": \"recall_score_macro_max\", \"stepped\": true, \"type\": \"scatter\", \"data\": [0.7760209025470652, 0.8060125968992248, 0.8091583610188262, 0.8091583610188262, 0.8091583610188262, 0.8091583610188262, 0.8125214562569214, 0.827470238095238, 0.827470238095238, 0.827470238095238, 0.827470238095238, 0.827470238095238, 0.827470238095238, 0.827470238095238, 0.827470238095238, 0.827470238095238, 0.827470238095238, 0.827470238095238, 0.827470238095238, 0.827470238095238, 0.827470238095238, 0.827470238095238, 0.827470238095238, 0.827470238095238, 0.827470238095238, 0.827470238095238, 0.827470238095238, 0.827470238095238, 0.827470238095238, 0.827470238095238, 0.827470238095238, 0.827470238095238, 0.827470238095238, 0.827470238095238, 0.827470238095238, 0.827470238095238, 0.827470238095238, 0.827470238095238, 0.827470238095238, 0.827470238095238, 0.827470238095238, 0.827470238095238, 0.827470238095238, 0.827470238095238, 0.827470238095238, 0.827470238095238, 0.827470238095238, 0.827470238095238, 0.827470238095238, 0.827470238095238, 0.827470238095238, 0.827470238095238, 0.827470238095238, 0.827470238095238, 0.827470238095238, 0.827470238095238, 0.827470238095238, 0.827470238095238, 0.827470238095238, 0.827470238095238, 0.827470238095238, 0.827470238095238, 0.827470238095238, 0.827470238095238, 0.827470238095238, 0.827470238095238, 0.827470238095238, 0.827470238095238, 0.827470238095238, 0.827470238095238, 0.827470238095238, 0.827470238095238, 0.827470238095238, 0.827470238095238, 0.827470238095238, 0.827470238095238, 0.827470238095238, 0.827470238095238, 0.827470238095238, 0.827470238095238, 0.827470238095238, 0.827470238095238, 0.827470238095238, 0.827470238095238, 0.827470238095238, 0.827470238095238, 0.827470238095238, 0.827470238095238, 0.827470238095238, 0.827470238095238, 0.827470238095238, 0.827470238095238, 0.827470238095238, 0.827470238095238, 0.8334745293466224, 0.8334745293466224, 0.8334745293466224, 0.8334745293466224, 0.8334745293466224, 0.8334745293466224, 0.8334745293466224, 0.8334745293466224, 0.8334745293466224, 0.8334745293466224, 0.8334745293466224, 0.8334745293466224]}], \"AUC_macro\": [{\"categories\": [\"0\", \"1\", \"2\", \"3\", \"4\", \"5\", \"6\", \"7\", \"8\", \"9\", \"10\", \"11\", \"12\", \"13\", \"14\", \"15\", \"16\", \"17\", \"18\", \"19\", \"20\", \"21\", \"22\", \"23\", \"24\", \"25\", \"26\", \"27\", \"28\", \"29\", \"30\", \"31\", \"32\", \"33\", \"34\", \"35\", \"36\", \"37\", \"38\", \"39\", \"40\", \"41\", \"42\", \"43\", \"44\", \"45\", \"46\", \"47\", \"48\", \"49\", \"50\", \"51\", \"52\", \"53\", \"54\", \"55\", \"56\", \"57\", \"58\", \"59\", \"60\", \"61\", \"62\", \"63\", \"64\", \"65\", \"66\", \"67\", \"68\", \"69\", \"70\", \"71\", \"72\", \"73\", \"74\", \"75\", \"76\", \"77\", \"78\", \"79\", \"80\", \"81\", \"82\", \"83\", \"84\", \"85\", \"86\", \"87\", \"88\", \"89\", \"90\", \"91\", \"92\", \"93\", \"94\", \"95\", \"96\", \"97\", \"98\", \"99\", \"100\", \"101\", \"102\", \"103\", \"105\", \"106\"], \"mode\": \"markers\", \"name\": \"AUC_macro\", \"stepped\": false, \"type\": \"scatter\", \"data\": [0.8811331210778885, 0.8929591177556295, 0.8934560262089333, 0.8767684800664451, 0.8957902362495386, 0.8888514442598744, 0.8874735718899963, 0.8984160898855666, 0.866266011443337, 0.7514726836471023, 0.8698127076411961, 0.8750452657807308, 0.9035765273163529, 0.871858573274271, 0.880233204134367, 0.48227655500184563, 0.8885217331118493, 0.8280775424510889, 0.900453373015873, 0.9075663528977482, 0.8871740494647472, 0.8486069121447027, 0.8790120431893687, 0.9080675295311924, 0.9029375, 0.45647435631229233, 0.9008541666666666, 0.8638174141749723, 0.9030508259505353, 0.903234657622739, 0.9031540928386859, 0.9027052648578812, 0.8985246631598376, 0.9044380306386122, 0.8946952288667406, 0.7081640134736065, 0.900950673680325, 0.876766957364341, 0.8894354466592838, 0.885687569213732, 0.8036196820782576, 0.8962002353266888, 0.9024019702842377, 0.8927307124400148, 0.8677544296788483, 0.9145857558139534, 0.9147940430047988, 0.9081042128091547, 0.9010646686969361, 0.9035221483942413, 0.8871494785898856, 0.8920280777039498, 0.9050786960132889, 0.8701928525286083, 0.9106343669250645, 0.9082037421557771, 0.9031526854928018, 0.9113176218161684, 0.9149159514581026, 0.912436877076412, 0.9071122877445552, 0.9170260474344778, 0.9012742017349575, 0.903859888335179, 0.912579595791805, 0.9077314045773347, 0.9156065430047988, 0.905967377260982, 0.9118184754521963, 0.9175457733480987, 0.9056925064599483, 0.9012008351790328, 0.89528176910299, 0.9010043143226284, 0.9083812292358804, 0.9116102113325951, 0.9094007013658176, 0.8939555878552972, 0.9149002399409376, 0.9160786729420451, 0.905001015134736, 0.9121649824658545, 0.9112858757844224, 0.9113573735695828, 0.9016739802510152, 0.9097093484680693, 0.897311554078996, 0.9032151624215577, 0.9154210502030269, 0.8911635981912145, 0.9112708794758214, 0.9064327473237357, 0.8973642488002953, 0.8930577473237358, 0.9160386212624585, 0.9022648117386488, 0.911794873569583, 0.9049670081210779, 0.9152739248800297, 0.9097835686600222, 0.8872120247323736, 0.9111602067183462, 0.905594176818014, 0.8985784422296049, 0.9226163713547434, 0.9184713916574383]}, {\"categories\": [\"0\", \"1\", \"2\", \"3\", \"4\", \"5\", \"6\", \"7\", \"8\", \"9\", \"10\", \"11\", \"12\", \"13\", \"14\", \"15\", \"16\", \"17\", \"18\", \"19\", \"20\", \"21\", \"22\", \"23\", \"24\", \"25\", \"26\", \"27\", \"28\", \"29\", \"30\", \"31\", \"32\", \"33\", \"34\", \"35\", \"36\", \"37\", \"38\", \"39\", \"40\", \"41\", \"42\", \"43\", \"44\", \"45\", \"46\", \"47\", \"48\", \"49\", \"50\", \"51\", \"52\", \"53\", \"54\", \"55\", \"56\", \"57\", \"58\", \"59\", \"60\", \"61\", \"62\", \"63\", \"64\", \"65\", \"66\", \"67\", \"68\", \"69\", \"70\", \"71\", \"72\", \"73\", \"74\", \"75\", \"76\", \"77\", \"78\", \"79\", \"80\", \"81\", \"82\", \"83\", \"84\", \"85\", \"86\", \"87\", \"88\", \"89\", \"90\", \"91\", \"92\", \"93\", \"94\", \"95\", \"96\", \"97\", \"98\", \"99\", \"100\", \"101\", \"102\", \"103\", \"105\", \"106\"], \"mode\": \"lines\", \"name\": \"AUC_macro_max\", \"stepped\": true, \"type\": \"scatter\", \"data\": [0.8811331210778885, 0.8929591177556295, 0.8934560262089333, 0.8934560262089333, 0.8957902362495386, 0.8957902362495386, 0.8957902362495386, 0.8984160898855666, 0.8984160898855666, 0.8984160898855666, 0.8984160898855666, 0.8984160898855666, 0.9035765273163529, 0.9035765273163529, 0.9035765273163529, 0.9035765273163529, 0.9035765273163529, 0.9035765273163529, 0.9035765273163529, 0.9075663528977482, 0.9075663528977482, 0.9075663528977482, 0.9075663528977482, 0.9080675295311924, 0.9080675295311924, 0.9080675295311924, 0.9080675295311924, 0.9080675295311924, 0.9080675295311924, 0.9080675295311924, 0.9080675295311924, 0.9080675295311924, 0.9080675295311924, 0.9080675295311924, 0.9080675295311924, 0.9080675295311924, 0.9080675295311924, 0.9080675295311924, 0.9080675295311924, 0.9080675295311924, 0.9080675295311924, 0.9080675295311924, 0.9080675295311924, 0.9080675295311924, 0.9080675295311924, 0.9145857558139534, 0.9147940430047988, 0.9147940430047988, 0.9147940430047988, 0.9147940430047988, 0.9147940430047988, 0.9147940430047988, 0.9147940430047988, 0.9147940430047988, 0.9147940430047988, 0.9147940430047988, 0.9147940430047988, 0.9147940430047988, 0.9149159514581026, 0.9149159514581026, 0.9149159514581026, 0.9170260474344778, 0.9170260474344778, 0.9170260474344778, 0.9170260474344778, 0.9170260474344778, 0.9170260474344778, 0.9170260474344778, 0.9170260474344778, 0.9175457733480987, 0.9175457733480987, 0.9175457733480987, 0.9175457733480987, 0.9175457733480987, 0.9175457733480987, 0.9175457733480987, 0.9175457733480987, 0.9175457733480987, 0.9175457733480987, 0.9175457733480987, 0.9175457733480987, 0.9175457733480987, 0.9175457733480987, 0.9175457733480987, 0.9175457733480987, 0.9175457733480987, 0.9175457733480987, 0.9175457733480987, 0.9175457733480987, 0.9175457733480987, 0.9175457733480987, 0.9175457733480987, 0.9175457733480987, 0.9175457733480987, 0.9175457733480987, 0.9175457733480987, 0.9175457733480987, 0.9175457733480987, 0.9175457733480987, 0.9175457733480987, 0.9175457733480987, 0.9175457733480987, 0.9175457733480987, 0.9175457733480987, 0.9226163713547434, 0.9226163713547434]}], \"f1_score_micro\": [{\"categories\": [\"0\", \"1\", \"2\", \"3\", \"4\", \"5\", \"6\", \"7\", \"8\", \"9\", \"10\", \"11\", \"12\", \"13\", \"14\", \"15\", \"16\", \"17\", \"18\", \"19\", \"20\", \"21\", \"22\", \"23\", \"24\", \"25\", \"26\", \"27\", \"28\", \"29\", \"30\", \"31\", \"32\", \"33\", \"34\", \"35\", \"36\", \"37\", \"38\", \"39\", \"40\", \"41\", \"42\", \"43\", \"44\", \"45\", \"46\", \"47\", \"48\", \"49\", \"50\", \"51\", \"52\", \"53\", \"54\", \"55\", \"56\", \"57\", \"58\", \"59\", \"60\", \"61\", \"62\", \"63\", \"64\", \"65\", \"66\", \"67\", \"68\", \"69\", \"70\", \"71\", \"72\", \"73\", \"74\", \"75\", \"76\", \"77\", \"78\", \"79\", \"80\", \"81\", \"82\", \"83\", \"84\", \"85\", \"86\", \"87\", \"88\", \"89\", \"90\", \"91\", \"92\", \"93\", \"94\", \"95\", \"96\", \"97\", \"98\", \"99\", \"100\", \"101\", \"102\", \"103\", \"105\", \"106\"], \"mode\": \"markers\", \"name\": \"f1_score_micro\", \"stepped\": false, \"type\": \"scatter\", \"data\": [0.8059887005649718, 0.8259322033898304, 0.8461581920903954, 0.7759887005649718, 0.8224293785310735, 0.8293220338983052, 0.8461016949152544, 0.8629943502824858, 0.7693785310734464, 0.7593220338983051, 0.7727118644067796, 0.8328813559322035, 0.79909604519774, 0.8227118644067797, 0.8158757062146893, 0.6153107344632769, 0.7694350282485876, 0.7723728813559323, 0.8326553672316385, 0.8260451977401131, 0.8259887005649718, 0.7859322033898305, 0.8260451977401131, 0.8562146892655367, 0.8362146892655368, 0.6724293785310734, 0.8393785310734463, 0.7725988700564972, 0.8324858757062147, 0.8260451977401131, 0.822768361581921, 0.8359887005649718, 0.8392655367231638, 0.8326553672316385, 0.8327118644067797, 0.67909604519774, 0.8325988700564972, 0.836045197740113, 0.8325988700564972, 0.8562711864406779, 0.67909604519774, 0.8091525423728815, 0.8091525423728815, 0.8325423728813559, 0.8160451977401131, 0.7894915254237288, 0.8394350282485876, 0.8495480225988701, 0.8493220338983051, 0.8260451977401131, 0.7258757062146893, 0.8294350282485876, 0.8392655367231638, 0.8160451977401131, 0.8393785310734463, 0.8225988700564972, 0.8325988700564972, 0.8359322033898305, 0.8327118644067797, 0.8393785310734463, 0.67909604519774, 0.8191525423728814, 0.8327118644067797, 0.8359322033898305, 0.8428248587570621, 0.8425988700564971, 0.8327118644067797, 0.8461016949152542, 0.8427683615819209, 0.8258192090395481, 0.8461581920903954, 0.8259322033898305, 0.8495480225988701, 0.8192655367231639, 0.8427683615819209, 0.8494915254237287, 0.8158757062146893, 0.8259887005649718, 0.8528248587570622, 0.8427683615819209, 0.8194350282485876, 0.8493785310734465, 0.8528248587570622, 0.8393220338983051, 0.8393785310734463, 0.8461016949152542, 0.8127118644067798, 0.8393220338983051, 0.8359887005649718, 0.8292090395480226, 0.8427118644067797, 0.8427683615819209, 0.8227118644067797, 0.8259887005649718, 0.8392090395480226, 0.8427118644067797, 0.8461016949152542, 0.8361016949152542, 0.8292090395480226, 0.846045197740113, 0.8528813559322034, 0.822598870056497, 0.8226553672316383, 0.8325988700564972, 0.8393785310734463, 0.7292655367231639]}, {\"categories\": [\"0\", \"1\", \"2\", \"3\", \"4\", \"5\", \"6\", \"7\", \"8\", \"9\", \"10\", \"11\", \"12\", \"13\", \"14\", \"15\", \"16\", \"17\", \"18\", \"19\", \"20\", \"21\", \"22\", \"23\", \"24\", \"25\", \"26\", \"27\", \"28\", \"29\", \"30\", \"31\", \"32\", \"33\", \"34\", \"35\", \"36\", \"37\", \"38\", \"39\", \"40\", \"41\", \"42\", \"43\", \"44\", \"45\", \"46\", \"47\", \"48\", \"49\", \"50\", \"51\", \"52\", \"53\", \"54\", \"55\", \"56\", \"57\", \"58\", \"59\", \"60\", \"61\", \"62\", \"63\", \"64\", \"65\", \"66\", \"67\", \"68\", \"69\", \"70\", \"71\", \"72\", \"73\", \"74\", \"75\", \"76\", \"77\", \"78\", \"79\", \"80\", \"81\", \"82\", \"83\", \"84\", \"85\", \"86\", \"87\", \"88\", \"89\", \"90\", \"91\", \"92\", \"93\", \"94\", \"95\", \"96\", \"97\", \"98\", \"99\", \"100\", \"101\", \"102\", \"103\", \"105\", \"106\"], \"mode\": \"lines\", \"name\": \"f1_score_micro_max\", \"stepped\": true, \"type\": \"scatter\", \"data\": [0.8059887005649718, 0.8259322033898304, 0.8461581920903954, 0.8461581920903954, 0.8461581920903954, 0.8461581920903954, 0.8461581920903954, 0.8629943502824858, 0.8629943502824858, 0.8629943502824858, 0.8629943502824858, 0.8629943502824858, 0.8629943502824858, 0.8629943502824858, 0.8629943502824858, 0.8629943502824858, 0.8629943502824858, 0.8629943502824858, 0.8629943502824858, 0.8629943502824858, 0.8629943502824858, 0.8629943502824858, 0.8629943502824858, 0.8629943502824858, 0.8629943502824858, 0.8629943502824858, 0.8629943502824858, 0.8629943502824858, 0.8629943502824858, 0.8629943502824858, 0.8629943502824858, 0.8629943502824858, 0.8629943502824858, 0.8629943502824858, 0.8629943502824858, 0.8629943502824858, 0.8629943502824858, 0.8629943502824858, 0.8629943502824858, 0.8629943502824858, 0.8629943502824858, 0.8629943502824858, 0.8629943502824858, 0.8629943502824858, 0.8629943502824858, 0.8629943502824858, 0.8629943502824858, 0.8629943502824858, 0.8629943502824858, 0.8629943502824858, 0.8629943502824858, 0.8629943502824858, 0.8629943502824858, 0.8629943502824858, 0.8629943502824858, 0.8629943502824858, 0.8629943502824858, 0.8629943502824858, 0.8629943502824858, 0.8629943502824858, 0.8629943502824858, 0.8629943502824858, 0.8629943502824858, 0.8629943502824858, 0.8629943502824858, 0.8629943502824858, 0.8629943502824858, 0.8629943502824858, 0.8629943502824858, 0.8629943502824858, 0.8629943502824858, 0.8629943502824858, 0.8629943502824858, 0.8629943502824858, 0.8629943502824858, 0.8629943502824858, 0.8629943502824858, 0.8629943502824858, 0.8629943502824858, 0.8629943502824858, 0.8629943502824858, 0.8629943502824858, 0.8629943502824858, 0.8629943502824858, 0.8629943502824858, 0.8629943502824858, 0.8629943502824858, 0.8629943502824858, 0.8629943502824858, 0.8629943502824858, 0.8629943502824858, 0.8629943502824858, 0.8629943502824858, 0.8629943502824858, 0.8629943502824858, 0.8629943502824858, 0.8629943502824858, 0.8629943502824858, 0.8629943502824858, 0.8629943502824858, 0.8629943502824858, 0.8629943502824858, 0.8629943502824858, 0.8629943502824858, 0.8629943502824858, 0.8629943502824858]}], \"average_precision_score_micro\": [{\"categories\": [\"0\", \"1\", \"2\", \"3\", \"4\", \"5\", \"6\", \"7\", \"8\", \"9\", \"10\", \"11\", \"12\", \"13\", \"14\", \"15\", \"16\", \"17\", \"18\", \"19\", \"20\", \"21\", \"22\", \"23\", \"24\", \"25\", \"26\", \"27\", \"28\", \"29\", \"30\", \"31\", \"32\", \"33\", \"34\", \"35\", \"36\", \"37\", \"38\", \"39\", \"40\", \"41\", \"42\", \"43\", \"44\", \"45\", \"46\", \"47\", \"48\", \"49\", \"50\", \"51\", \"52\", \"53\", \"54\", \"55\", \"56\", \"57\", \"58\", \"59\", \"60\", \"61\", \"62\", \"63\", \"64\", \"65\", \"66\", \"67\", \"68\", \"69\", \"70\", \"71\", \"72\", \"73\", \"74\", \"75\", \"76\", \"77\", \"78\", \"79\", \"80\", \"81\", \"82\", \"83\", \"84\", \"85\", \"86\", \"87\", \"88\", \"89\", \"90\", \"91\", \"92\", \"93\", \"94\", \"95\", \"96\", \"97\", \"98\", \"99\", \"100\", \"101\", \"102\", \"103\", \"105\", \"106\"], \"mode\": \"markers\", \"name\": \"average_precision_score_micro\", \"stepped\": false, \"type\": \"scatter\", \"data\": [0.887958292631032, 0.9018582931163117, 0.9072772030823518, 0.8737330182528273, 0.9014892273888974, 0.8911090334061391, 0.8967299226105402, 0.9044204968141468, 0.8634139020530398, 0.7923478012471382, 0.8631503839941459, 0.8787184091372879, 0.9051358750900246, 0.8833623130114183, 0.8855704732065399, 0.6180888504381511, 0.8778616166782015, 0.8501218080060532, 0.8986747917122185, 0.9076275684514943, 0.900454527352726, 0.8641171136451113, 0.8874872925745552, 0.9186822907437137, 0.9088631684549414, 0.6281118298574266, 0.9086559363698121, 0.8700657470473849, 0.9078103684639119, 0.89350105949264, 0.9017267344887452, 0.9080215985233231, 0.9063456213191184, 0.9068599442006778, 0.891100539888452, 0.7485731232380919, 0.90629844351907, 0.8679920381372364, 0.8967144702085978, 0.8947896490160951, 0.8185136240089921, 0.9029742656175355, 0.9010062237968943, 0.902783619668212, 0.8797772210407853, 0.8928252445281354, 0.9208459297959898, 0.9170301117856399, 0.9083926231176271, 0.9118928263879725, 0.8585642154241017, 0.9015177825981116, 0.9083565381223007, 0.8812560804594346, 0.9136086415260719, 0.9116700674106086, 0.9093534796050504, 0.9169904752148426, 0.9159091671741155, 0.918725288761338, 0.8661921265519211, 0.9180298941639853, 0.9065351185571707, 0.9130780129695275, 0.9196312312980176, 0.9121604267058805, 0.9218341736181751, 0.9121656861691472, 0.919382877215295, 0.9219906500533972, 0.9073132178663347, 0.9052186384359686, 0.903503240614349, 0.909131403946024, 0.915570139182267, 0.9122834876712462, 0.9104173051626596, 0.9024065216818895, 0.914351538712371, 0.9221505424370525, 0.8950913876051668, 0.9146081910608419, 0.9162659999420664, 0.9174640478100884, 0.9094402561608087, 0.9029234525354346, 0.8994314890371575, 0.9091949729269923, 0.9197697521858696, 0.8992523101436388, 0.9069611460460008, 0.9128565777646797, 0.9087025025325085, 0.8995221203629189, 0.9160612677089042, 0.9073144524193552, 0.9137110737123473, 0.9101466433971359, 0.91768109009833, 0.9081046197488852, 0.8921553956807221, 0.9142793540450738, 0.9111922768960241, 0.9096804573574915, 0.9241824826533982, 0.8875656359721441]}, {\"categories\": [\"0\", \"1\", \"2\", \"3\", \"4\", \"5\", \"6\", \"7\", \"8\", \"9\", \"10\", \"11\", \"12\", \"13\", \"14\", \"15\", \"16\", \"17\", \"18\", \"19\", \"20\", \"21\", \"22\", \"23\", \"24\", \"25\", \"26\", \"27\", \"28\", \"29\", \"30\", \"31\", \"32\", \"33\", \"34\", \"35\", \"36\", \"37\", \"38\", \"39\", \"40\", \"41\", \"42\", \"43\", \"44\", \"45\", \"46\", \"47\", \"48\", \"49\", \"50\", \"51\", \"52\", \"53\", \"54\", \"55\", \"56\", \"57\", \"58\", \"59\", \"60\", \"61\", \"62\", \"63\", \"64\", \"65\", \"66\", \"67\", \"68\", \"69\", \"70\", \"71\", \"72\", \"73\", \"74\", \"75\", \"76\", \"77\", \"78\", \"79\", \"80\", \"81\", \"82\", \"83\", \"84\", \"85\", \"86\", \"87\", \"88\", \"89\", \"90\", \"91\", \"92\", \"93\", \"94\", \"95\", \"96\", \"97\", \"98\", \"99\", \"100\", \"101\", \"102\", \"103\", \"105\", \"106\"], \"mode\": \"lines\", \"name\": \"average_precision_score_micro_max\", \"stepped\": true, \"type\": \"scatter\", \"data\": [0.887958292631032, 0.9018582931163117, 0.9072772030823518, 0.9072772030823518, 0.9072772030823518, 0.9072772030823518, 0.9072772030823518, 0.9072772030823518, 0.9072772030823518, 0.9072772030823518, 0.9072772030823518, 0.9072772030823518, 0.9072772030823518, 0.9072772030823518, 0.9072772030823518, 0.9072772030823518, 0.9072772030823518, 0.9072772030823518, 0.9072772030823518, 0.9076275684514943, 0.9076275684514943, 0.9076275684514943, 0.9076275684514943, 0.9186822907437137, 0.9186822907437137, 0.9186822907437137, 0.9186822907437137, 0.9186822907437137, 0.9186822907437137, 0.9186822907437137, 0.9186822907437137, 0.9186822907437137, 0.9186822907437137, 0.9186822907437137, 0.9186822907437137, 0.9186822907437137, 0.9186822907437137, 0.9186822907437137, 0.9186822907437137, 0.9186822907437137, 0.9186822907437137, 0.9186822907437137, 0.9186822907437137, 0.9186822907437137, 0.9186822907437137, 0.9186822907437137, 0.9208459297959898, 0.9208459297959898, 0.9208459297959898, 0.9208459297959898, 0.9208459297959898, 0.9208459297959898, 0.9208459297959898, 0.9208459297959898, 0.9208459297959898, 0.9208459297959898, 0.9208459297959898, 0.9208459297959898, 0.9208459297959898, 0.9208459297959898, 0.9208459297959898, 0.9208459297959898, 0.9208459297959898, 0.9208459297959898, 0.9208459297959898, 0.9208459297959898, 0.9218341736181751, 0.9218341736181751, 0.9218341736181751, 0.9219906500533972, 0.9219906500533972, 0.9219906500533972, 0.9219906500533972, 0.9219906500533972, 0.9219906500533972, 0.9219906500533972, 0.9219906500533972, 0.9219906500533972, 0.9219906500533972, 0.9221505424370525, 0.9221505424370525, 0.9221505424370525, 0.9221505424370525, 0.9221505424370525, 0.9221505424370525, 0.9221505424370525, 0.9221505424370525, 0.9221505424370525, 0.9221505424370525, 0.9221505424370525, 0.9221505424370525, 0.9221505424370525, 0.9221505424370525, 0.9221505424370525, 0.9221505424370525, 0.9221505424370525, 0.9221505424370525, 0.9221505424370525, 0.9221505424370525, 0.9221505424370525, 0.9221505424370525, 0.9221505424370525, 0.9221505424370525, 0.9221505424370525, 0.9241824826533982, 0.9241824826533982]}], \"AUC_weighted\": [{\"categories\": [\"0\", \"1\", \"2\", \"3\", \"4\", \"5\", \"6\", \"7\", \"8\", \"9\", \"10\", \"11\", \"12\", \"13\", \"14\", \"15\", \"16\", \"17\", \"18\", \"19\", \"20\", \"21\", \"22\", \"23\", \"24\", \"25\", \"26\", \"27\", \"28\", \"29\", \"30\", \"31\", \"32\", \"33\", \"34\", \"35\", \"36\", \"37\", \"38\", \"39\", \"40\", \"41\", \"42\", \"43\", \"44\", \"45\", \"46\", \"47\", \"48\", \"49\", \"50\", \"51\", \"52\", \"53\", \"54\", \"55\", \"56\", \"57\", \"58\", \"59\", \"60\", \"61\", \"62\", \"63\", \"64\", \"65\", \"66\", \"67\", \"68\", \"69\", \"70\", \"71\", \"72\", \"73\", \"74\", \"75\", \"76\", \"77\", \"78\", \"79\", \"80\", \"81\", \"82\", \"83\", \"84\", \"85\", \"86\", \"87\", \"88\", \"89\", \"90\", \"91\", \"92\", \"93\", \"94\", \"95\", \"96\", \"97\", \"98\", \"99\", \"100\", \"101\", \"102\", \"103\", \"105\", \"106\"], \"mode\": \"markers\", \"name\": \"AUC_weighted\", \"stepped\": false, \"type\": \"scatter\", \"data\": [0.8811331210778885, 0.8929591177556293, 0.893456026208933, 0.8767684800664451, 0.8957902362495386, 0.8888514442598744, 0.8874070563204259, 0.8984160898855666, 0.866266011443337, 0.7514726836471023, 0.8698127076411961, 0.8750452657807308, 0.9035765273163529, 0.871858573274271, 0.880233204134367, 0.48227655500184563, 0.8885217331118493, 0.8280775424510889, 0.900453373015873, 0.9075663528977482, 0.8871740494647472, 0.8486069121447027, 0.8790120431893687, 0.9080675295311922, 0.9029375, 0.45647435631229233, 0.9008541666666666, 0.8638174141749723, 0.9030508259505353, 0.903234657622739, 0.9031540928386859, 0.9027052648578812, 0.8985246631598376, 0.9044380306386121, 0.8946952288667405, 0.7081640134736065, 0.9009506736803248, 0.876766957364341, 0.8894354466592839, 0.885687569213732, 0.8036196820782576, 0.8962002353266888, 0.9024019702842377, 0.8927307124400148, 0.8677544296788483, 0.9145857558139534, 0.9147940430047988, 0.9081042128091547, 0.9010646686969361, 0.9035221483942413, 0.8871494785898856, 0.8920280777039498, 0.9050786960132889, 0.8701928525286083, 0.9106343669250647, 0.9082037421557771, 0.9031526854928018, 0.9113176218161684, 0.9149159514581026, 0.912436877076412, 0.9071122877445552, 0.9170260474344776, 0.9012742017349575, 0.903859888335179, 0.912579595791805, 0.9077314045773349, 0.9156065430047988, 0.9059673772609818, 0.9118184754521963, 0.9175457733480987, 0.9056925064599483, 0.9012008351790328, 0.8952817691029902, 0.9010043143226282, 0.9083812292358804, 0.9116102113325951, 0.9094007013658176, 0.8939555878552972, 0.9149002399409376, 0.9160786729420451, 0.905001015134736, 0.9121649824658545, 0.9112858757844224, 0.911357373569583, 0.9016739802510152, 0.9097093484680693, 0.897311554078996, 0.9032151624215577, 0.9154210502030271, 0.8911635981912145, 0.9112708794758214, 0.9064327473237356, 0.8973642488002953, 0.8930577473237358, 0.9160386212624585, 0.9022648117386488, 0.911794873569583, 0.9049670081210779, 0.9152739248800295, 0.9097835686600222, 0.8872120247323736, 0.9111602067183462, 0.9055941768180139, 0.8985784422296051, 0.9226163713547434, 0.9184713916574383]}, {\"categories\": [\"0\", \"1\", \"2\", \"3\", \"4\", \"5\", \"6\", \"7\", \"8\", \"9\", \"10\", \"11\", \"12\", \"13\", \"14\", \"15\", \"16\", \"17\", \"18\", \"19\", \"20\", \"21\", \"22\", \"23\", \"24\", \"25\", \"26\", \"27\", \"28\", \"29\", \"30\", \"31\", \"32\", \"33\", \"34\", \"35\", \"36\", \"37\", \"38\", \"39\", \"40\", \"41\", \"42\", \"43\", \"44\", \"45\", \"46\", \"47\", \"48\", \"49\", \"50\", \"51\", \"52\", \"53\", \"54\", \"55\", \"56\", \"57\", \"58\", \"59\", \"60\", \"61\", \"62\", \"63\", \"64\", \"65\", \"66\", \"67\", \"68\", \"69\", \"70\", \"71\", \"72\", \"73\", \"74\", \"75\", \"76\", \"77\", \"78\", \"79\", \"80\", \"81\", \"82\", \"83\", \"84\", \"85\", \"86\", \"87\", \"88\", \"89\", \"90\", \"91\", \"92\", \"93\", \"94\", \"95\", \"96\", \"97\", \"98\", \"99\", \"100\", \"101\", \"102\", \"103\", \"105\", \"106\"], \"mode\": \"lines\", \"name\": \"AUC_weighted_max\", \"stepped\": true, \"type\": \"scatter\", \"data\": [0.8811331210778885, 0.8929591177556293, 0.893456026208933, 0.893456026208933, 0.8957902362495386, 0.8957902362495386, 0.8957902362495386, 0.8984160898855666, 0.8984160898855666, 0.8984160898855666, 0.8984160898855666, 0.8984160898855666, 0.9035765273163529, 0.9035765273163529, 0.9035765273163529, 0.9035765273163529, 0.9035765273163529, 0.9035765273163529, 0.9035765273163529, 0.9075663528977482, 0.9075663528977482, 0.9075663528977482, 0.9075663528977482, 0.9080675295311922, 0.9080675295311922, 0.9080675295311922, 0.9080675295311922, 0.9080675295311922, 0.9080675295311922, 0.9080675295311922, 0.9080675295311922, 0.9080675295311922, 0.9080675295311922, 0.9080675295311922, 0.9080675295311922, 0.9080675295311922, 0.9080675295311922, 0.9080675295311922, 0.9080675295311922, 0.9080675295311922, 0.9080675295311922, 0.9080675295311922, 0.9080675295311922, 0.9080675295311922, 0.9080675295311922, 0.9145857558139534, 0.9147940430047988, 0.9147940430047988, 0.9147940430047988, 0.9147940430047988, 0.9147940430047988, 0.9147940430047988, 0.9147940430047988, 0.9147940430047988, 0.9147940430047988, 0.9147940430047988, 0.9147940430047988, 0.9147940430047988, 0.9149159514581026, 0.9149159514581026, 0.9149159514581026, 0.9170260474344776, 0.9170260474344776, 0.9170260474344776, 0.9170260474344776, 0.9170260474344776, 0.9170260474344776, 0.9170260474344776, 0.9170260474344776, 0.9175457733480987, 0.9175457733480987, 0.9175457733480987, 0.9175457733480987, 0.9175457733480987, 0.9175457733480987, 0.9175457733480987, 0.9175457733480987, 0.9175457733480987, 0.9175457733480987, 0.9175457733480987, 0.9175457733480987, 0.9175457733480987, 0.9175457733480987, 0.9175457733480987, 0.9175457733480987, 0.9175457733480987, 0.9175457733480987, 0.9175457733480987, 0.9175457733480987, 0.9175457733480987, 0.9175457733480987, 0.9175457733480987, 0.9175457733480987, 0.9175457733480987, 0.9175457733480987, 0.9175457733480987, 0.9175457733480987, 0.9175457733480987, 0.9175457733480987, 0.9175457733480987, 0.9175457733480987, 0.9175457733480987, 0.9175457733480987, 0.9175457733480987, 0.9226163713547434, 0.9226163713547434]}], \"recall_score_weighted\": [{\"categories\": [\"0\", \"1\", \"2\", \"3\", \"4\", \"5\", \"6\", \"7\", \"8\", \"9\", \"10\", \"11\", \"12\", \"13\", \"14\", \"15\", \"16\", \"17\", \"18\", \"19\", \"20\", \"21\", \"22\", \"23\", \"24\", \"25\", \"26\", \"27\", \"28\", \"29\", \"30\", \"31\", \"32\", \"33\", \"34\", \"35\", \"36\", \"37\", \"38\", \"39\", \"40\", \"41\", \"42\", \"43\", \"44\", \"45\", \"46\", \"47\", \"48\", \"49\", \"50\", \"51\", \"52\", \"53\", \"54\", \"55\", \"56\", \"57\", \"58\", \"59\", \"60\", \"61\", \"62\", \"63\", \"64\", \"65\", \"66\", \"67\", \"68\", \"69\", \"70\", \"71\", \"72\", \"73\", \"74\", \"75\", \"76\", \"77\", \"78\", \"79\", \"80\", \"81\", \"82\", \"83\", \"84\", \"85\", \"86\", \"87\", \"88\", \"89\", \"90\", \"91\", \"92\", \"93\", \"94\", \"95\", \"96\", \"97\", \"98\", \"99\", \"100\", \"101\", \"102\", \"103\", \"105\", \"106\"], \"mode\": \"markers\", \"name\": \"recall_score_weighted\", \"stepped\": false, \"type\": \"scatter\", \"data\": [0.8059887005649717, 0.8259322033898304, 0.8461581920903954, 0.7759887005649717, 0.8224293785310735, 0.8293220338983052, 0.8461016949152544, 0.8629943502824858, 0.7693785310734463, 0.7593220338983051, 0.7727118644067796, 0.8328813559322035, 0.79909604519774, 0.8227118644067797, 0.8158757062146892, 0.6153107344632769, 0.7694350282485876, 0.7723728813559323, 0.8326553672316382, 0.8260451977401131, 0.8259887005649716, 0.7859322033898304, 0.8260451977401129, 0.8562146892655367, 0.8362146892655368, 0.6724293785310734, 0.8393785310734463, 0.7725988700564972, 0.8324858757062147, 0.8260451977401131, 0.822768361581921, 0.8359887005649718, 0.8392655367231638, 0.8326553672316385, 0.8327118644067797, 0.67909604519774, 0.8325988700564972, 0.836045197740113, 0.8325988700564972, 0.8562711864406779, 0.67909604519774, 0.8091525423728813, 0.8091525423728813, 0.8325423728813559, 0.8160451977401131, 0.7894915254237287, 0.8394350282485876, 0.8495480225988701, 0.8493220338983051, 0.8260451977401131, 0.7258757062146893, 0.8294350282485876, 0.8392655367231638, 0.8160451977401131, 0.8393785310734463, 0.8225988700564972, 0.8325988700564972, 0.8359322033898305, 0.8327118644067797, 0.8393785310734463, 0.67909604519774, 0.8191525423728814, 0.8327118644067797, 0.8359322033898305, 0.8428248587570621, 0.8425988700564971, 0.8327118644067797, 0.8461016949152542, 0.8427683615819209, 0.8258192090395481, 0.8461581920903954, 0.8259322033898305, 0.8495480225988701, 0.8192655367231637, 0.8427683615819209, 0.8494915254237287, 0.8158757062146892, 0.8259887005649718, 0.8528248587570622, 0.8427683615819209, 0.8194350282485876, 0.8493785310734463, 0.8528248587570622, 0.8393220338983051, 0.8393785310734463, 0.8461016949152542, 0.8127118644067796, 0.8393220338983051, 0.8359887005649718, 0.8292090395480226, 0.8427118644067797, 0.8427683615819209, 0.8227118644067797, 0.8259887005649718, 0.8392090395480226, 0.8427118644067797, 0.8461016949152542, 0.8361016949152542, 0.8292090395480226, 0.846045197740113, 0.8528813559322034, 0.822598870056497, 0.8226553672316383, 0.8325988700564972, 0.8393785310734463, 0.7292655367231639]}, {\"categories\": [\"0\", \"1\", \"2\", \"3\", \"4\", \"5\", \"6\", \"7\", \"8\", \"9\", \"10\", \"11\", \"12\", \"13\", \"14\", \"15\", \"16\", \"17\", \"18\", \"19\", \"20\", \"21\", \"22\", \"23\", \"24\", \"25\", \"26\", \"27\", \"28\", \"29\", \"30\", \"31\", \"32\", \"33\", \"34\", \"35\", \"36\", \"37\", \"38\", \"39\", \"40\", \"41\", \"42\", \"43\", \"44\", \"45\", \"46\", \"47\", \"48\", \"49\", \"50\", \"51\", \"52\", \"53\", \"54\", \"55\", \"56\", \"57\", \"58\", \"59\", \"60\", \"61\", \"62\", \"63\", \"64\", \"65\", \"66\", \"67\", \"68\", \"69\", \"70\", \"71\", \"72\", \"73\", \"74\", \"75\", \"76\", \"77\", \"78\", \"79\", \"80\", \"81\", \"82\", \"83\", \"84\", \"85\", \"86\", \"87\", \"88\", \"89\", \"90\", \"91\", \"92\", \"93\", \"94\", \"95\", \"96\", \"97\", \"98\", \"99\", \"100\", \"101\", \"102\", \"103\", \"105\", \"106\"], \"mode\": \"lines\", \"name\": \"recall_score_weighted_max\", \"stepped\": true, \"type\": \"scatter\", \"data\": [0.8059887005649717, 0.8259322033898304, 0.8461581920903954, 0.8461581920903954, 0.8461581920903954, 0.8461581920903954, 0.8461581920903954, 0.8629943502824858, 0.8629943502824858, 0.8629943502824858, 0.8629943502824858, 0.8629943502824858, 0.8629943502824858, 0.8629943502824858, 0.8629943502824858, 0.8629943502824858, 0.8629943502824858, 0.8629943502824858, 0.8629943502824858, 0.8629943502824858, 0.8629943502824858, 0.8629943502824858, 0.8629943502824858, 0.8629943502824858, 0.8629943502824858, 0.8629943502824858, 0.8629943502824858, 0.8629943502824858, 0.8629943502824858, 0.8629943502824858, 0.8629943502824858, 0.8629943502824858, 0.8629943502824858, 0.8629943502824858, 0.8629943502824858, 0.8629943502824858, 0.8629943502824858, 0.8629943502824858, 0.8629943502824858, 0.8629943502824858, 0.8629943502824858, 0.8629943502824858, 0.8629943502824858, 0.8629943502824858, 0.8629943502824858, 0.8629943502824858, 0.8629943502824858, 0.8629943502824858, 0.8629943502824858, 0.8629943502824858, 0.8629943502824858, 0.8629943502824858, 0.8629943502824858, 0.8629943502824858, 0.8629943502824858, 0.8629943502824858, 0.8629943502824858, 0.8629943502824858, 0.8629943502824858, 0.8629943502824858, 0.8629943502824858, 0.8629943502824858, 0.8629943502824858, 0.8629943502824858, 0.8629943502824858, 0.8629943502824858, 0.8629943502824858, 0.8629943502824858, 0.8629943502824858, 0.8629943502824858, 0.8629943502824858, 0.8629943502824858, 0.8629943502824858, 0.8629943502824858, 0.8629943502824858, 0.8629943502824858, 0.8629943502824858, 0.8629943502824858, 0.8629943502824858, 0.8629943502824858, 0.8629943502824858, 0.8629943502824858, 0.8629943502824858, 0.8629943502824858, 0.8629943502824858, 0.8629943502824858, 0.8629943502824858, 0.8629943502824858, 0.8629943502824858, 0.8629943502824858, 0.8629943502824858, 0.8629943502824858, 0.8629943502824858, 0.8629943502824858, 0.8629943502824858, 0.8629943502824858, 0.8629943502824858, 0.8629943502824858, 0.8629943502824858, 0.8629943502824858, 0.8629943502824858, 0.8629943502824858, 0.8629943502824858, 0.8629943502824858, 0.8629943502824858, 0.8629943502824858]}], \"recall_score_micro\": [{\"categories\": [\"0\", \"1\", \"2\", \"3\", \"4\", \"5\", \"6\", \"7\", \"8\", \"9\", \"10\", \"11\", \"12\", \"13\", \"14\", \"15\", \"16\", \"17\", \"18\", \"19\", \"20\", \"21\", \"22\", \"23\", \"24\", \"25\", \"26\", \"27\", \"28\", \"29\", \"30\", \"31\", \"32\", \"33\", \"34\", \"35\", \"36\", \"37\", \"38\", \"39\", \"40\", \"41\", \"42\", \"43\", \"44\", \"45\", \"46\", \"47\", \"48\", \"49\", \"50\", \"51\", \"52\", \"53\", \"54\", \"55\", \"56\", \"57\", \"58\", \"59\", \"60\", \"61\", \"62\", \"63\", \"64\", \"65\", \"66\", \"67\", \"68\", \"69\", \"70\", \"71\", \"72\", \"73\", \"74\", \"75\", \"76\", \"77\", \"78\", \"79\", \"80\", \"81\", \"82\", \"83\", \"84\", \"85\", \"86\", \"87\", \"88\", \"89\", \"90\", \"91\", \"92\", \"93\", \"94\", \"95\", \"96\", \"97\", \"98\", \"99\", \"100\", \"101\", \"102\", \"103\", \"105\", \"106\"], \"mode\": \"markers\", \"name\": \"recall_score_micro\", \"stepped\": false, \"type\": \"scatter\", \"data\": [0.8059887005649717, 0.8259322033898304, 0.8461581920903954, 0.7759887005649717, 0.8224293785310735, 0.8293220338983052, 0.8461016949152544, 0.8629943502824858, 0.7693785310734463, 0.7593220338983051, 0.7727118644067796, 0.8328813559322035, 0.79909604519774, 0.8227118644067797, 0.8158757062146892, 0.6153107344632769, 0.7694350282485876, 0.7723728813559323, 0.8326553672316382, 0.8260451977401131, 0.8259887005649716, 0.7859322033898304, 0.8260451977401129, 0.8562146892655367, 0.8362146892655368, 0.6724293785310734, 0.8393785310734463, 0.7725988700564972, 0.8324858757062147, 0.8260451977401131, 0.822768361581921, 0.8359887005649718, 0.8392655367231638, 0.8326553672316385, 0.8327118644067797, 0.67909604519774, 0.8325988700564972, 0.836045197740113, 0.8325988700564972, 0.8562711864406779, 0.67909604519774, 0.8091525423728813, 0.8091525423728813, 0.8325423728813559, 0.8160451977401131, 0.7894915254237287, 0.8394350282485876, 0.8495480225988701, 0.8493220338983051, 0.8260451977401131, 0.7258757062146893, 0.8294350282485876, 0.8392655367231638, 0.8160451977401131, 0.8393785310734463, 0.8225988700564972, 0.8325988700564972, 0.8359322033898305, 0.8327118644067797, 0.8393785310734463, 0.67909604519774, 0.8191525423728814, 0.8327118644067797, 0.8359322033898305, 0.8428248587570621, 0.8425988700564971, 0.8327118644067797, 0.8461016949152542, 0.8427683615819209, 0.8258192090395481, 0.8461581920903954, 0.8259322033898305, 0.8495480225988701, 0.8192655367231637, 0.8427683615819209, 0.8494915254237287, 0.8158757062146892, 0.8259887005649718, 0.8528248587570622, 0.8427683615819209, 0.8194350282485876, 0.8493785310734463, 0.8528248587570622, 0.8393220338983051, 0.8393785310734463, 0.8461016949152542, 0.8127118644067796, 0.8393220338983051, 0.8359887005649718, 0.8292090395480226, 0.8427118644067797, 0.8427683615819209, 0.8227118644067797, 0.8259887005649718, 0.8392090395480226, 0.8427118644067797, 0.8461016949152542, 0.8361016949152542, 0.8292090395480226, 0.846045197740113, 0.8528813559322034, 0.822598870056497, 0.8226553672316383, 0.8325988700564972, 0.8393785310734463, 0.7292655367231639]}, {\"categories\": [\"0\", \"1\", \"2\", \"3\", \"4\", \"5\", \"6\", \"7\", \"8\", \"9\", \"10\", \"11\", \"12\", \"13\", \"14\", \"15\", \"16\", \"17\", \"18\", \"19\", \"20\", \"21\", \"22\", \"23\", \"24\", \"25\", \"26\", \"27\", \"28\", \"29\", \"30\", \"31\", \"32\", \"33\", \"34\", \"35\", \"36\", \"37\", \"38\", \"39\", \"40\", \"41\", \"42\", \"43\", \"44\", \"45\", \"46\", \"47\", \"48\", \"49\", \"50\", \"51\", \"52\", \"53\", \"54\", \"55\", \"56\", \"57\", \"58\", \"59\", \"60\", \"61\", \"62\", \"63\", \"64\", \"65\", \"66\", \"67\", \"68\", \"69\", \"70\", \"71\", \"72\", \"73\", \"74\", \"75\", \"76\", \"77\", \"78\", \"79\", \"80\", \"81\", \"82\", \"83\", \"84\", \"85\", \"86\", \"87\", \"88\", \"89\", \"90\", \"91\", \"92\", \"93\", \"94\", \"95\", \"96\", \"97\", \"98\", \"99\", \"100\", \"101\", \"102\", \"103\", \"105\", \"106\"], \"mode\": \"lines\", \"name\": \"recall_score_micro_max\", \"stepped\": true, \"type\": \"scatter\", \"data\": [0.8059887005649717, 0.8259322033898304, 0.8461581920903954, 0.8461581920903954, 0.8461581920903954, 0.8461581920903954, 0.8461581920903954, 0.8629943502824858, 0.8629943502824858, 0.8629943502824858, 0.8629943502824858, 0.8629943502824858, 0.8629943502824858, 0.8629943502824858, 0.8629943502824858, 0.8629943502824858, 0.8629943502824858, 0.8629943502824858, 0.8629943502824858, 0.8629943502824858, 0.8629943502824858, 0.8629943502824858, 0.8629943502824858, 0.8629943502824858, 0.8629943502824858, 0.8629943502824858, 0.8629943502824858, 0.8629943502824858, 0.8629943502824858, 0.8629943502824858, 0.8629943502824858, 0.8629943502824858, 0.8629943502824858, 0.8629943502824858, 0.8629943502824858, 0.8629943502824858, 0.8629943502824858, 0.8629943502824858, 0.8629943502824858, 0.8629943502824858, 0.8629943502824858, 0.8629943502824858, 0.8629943502824858, 0.8629943502824858, 0.8629943502824858, 0.8629943502824858, 0.8629943502824858, 0.8629943502824858, 0.8629943502824858, 0.8629943502824858, 0.8629943502824858, 0.8629943502824858, 0.8629943502824858, 0.8629943502824858, 0.8629943502824858, 0.8629943502824858, 0.8629943502824858, 0.8629943502824858, 0.8629943502824858, 0.8629943502824858, 0.8629943502824858, 0.8629943502824858, 0.8629943502824858, 0.8629943502824858, 0.8629943502824858, 0.8629943502824858, 0.8629943502824858, 0.8629943502824858, 0.8629943502824858, 0.8629943502824858, 0.8629943502824858, 0.8629943502824858, 0.8629943502824858, 0.8629943502824858, 0.8629943502824858, 0.8629943502824858, 0.8629943502824858, 0.8629943502824858, 0.8629943502824858, 0.8629943502824858, 0.8629943502824858, 0.8629943502824858, 0.8629943502824858, 0.8629943502824858, 0.8629943502824858, 0.8629943502824858, 0.8629943502824858, 0.8629943502824858, 0.8629943502824858, 0.8629943502824858, 0.8629943502824858, 0.8629943502824858, 0.8629943502824858, 0.8629943502824858, 0.8629943502824858, 0.8629943502824858, 0.8629943502824858, 0.8629943502824858, 0.8629943502824858, 0.8629943502824858, 0.8629943502824858, 0.8629943502824858, 0.8629943502824858, 0.8629943502824858, 0.8629943502824858, 0.8629943502824858]}], \"precision_score_micro\": [{\"categories\": [\"0\", \"1\", \"2\", \"3\", \"4\", \"5\", \"6\", \"7\", \"8\", \"9\", \"10\", \"11\", \"12\", \"13\", \"14\", \"15\", \"16\", \"17\", \"18\", \"19\", \"20\", \"21\", \"22\", \"23\", \"24\", \"25\", \"26\", \"27\", \"28\", \"29\", \"30\", \"31\", \"32\", \"33\", \"34\", \"35\", \"36\", \"37\", \"38\", \"39\", \"40\", \"41\", \"42\", \"43\", \"44\", \"45\", \"46\", \"47\", \"48\", \"49\", \"50\", \"51\", \"52\", \"53\", \"54\", \"55\", \"56\", \"57\", \"58\", \"59\", \"60\", \"61\", \"62\", \"63\", \"64\", \"65\", \"66\", \"67\", \"68\", \"69\", \"70\", \"71\", \"72\", \"73\", \"74\", \"75\", \"76\", \"77\", \"78\", \"79\", \"80\", \"81\", \"82\", \"83\", \"84\", \"85\", \"86\", \"87\", \"88\", \"89\", \"90\", \"91\", \"92\", \"93\", \"94\", \"95\", \"96\", \"97\", \"98\", \"99\", \"100\", \"101\", \"102\", \"103\", \"105\", \"106\"], \"mode\": \"markers\", \"name\": \"precision_score_micro\", \"stepped\": false, \"type\": \"scatter\", \"data\": [0.8059887005649717, 0.8259322033898304, 0.8461581920903954, 0.7759887005649717, 0.8224293785310735, 0.8293220338983052, 0.8461016949152544, 0.8629943502824858, 0.7693785310734463, 0.7593220338983051, 0.7727118644067796, 0.8328813559322035, 0.79909604519774, 0.8227118644067797, 0.8158757062146892, 0.6153107344632769, 0.7694350282485876, 0.7723728813559323, 0.8326553672316382, 0.8260451977401131, 0.8259887005649716, 0.7859322033898304, 0.8260451977401129, 0.8562146892655367, 0.8362146892655368, 0.6724293785310734, 0.8393785310734463, 0.7725988700564972, 0.8324858757062147, 0.8260451977401131, 0.822768361581921, 0.8359887005649718, 0.8392655367231638, 0.8326553672316385, 0.8327118644067797, 0.67909604519774, 0.8325988700564972, 0.836045197740113, 0.8325988700564972, 0.8562711864406779, 0.67909604519774, 0.8091525423728813, 0.8091525423728813, 0.8325423728813559, 0.8160451977401131, 0.7894915254237287, 0.8394350282485876, 0.8495480225988701, 0.8493220338983051, 0.8260451977401131, 0.7258757062146893, 0.8294350282485876, 0.8392655367231638, 0.8160451977401131, 0.8393785310734463, 0.8225988700564972, 0.8325988700564972, 0.8359322033898305, 0.8327118644067797, 0.8393785310734463, 0.67909604519774, 0.8191525423728814, 0.8327118644067797, 0.8359322033898305, 0.8428248587570621, 0.8425988700564971, 0.8327118644067797, 0.8461016949152542, 0.8427683615819209, 0.8258192090395481, 0.8461581920903954, 0.8259322033898305, 0.8495480225988701, 0.8192655367231637, 0.8427683615819209, 0.8494915254237287, 0.8158757062146892, 0.8259887005649718, 0.8528248587570622, 0.8427683615819209, 0.8194350282485876, 0.8493785310734463, 0.8528248587570622, 0.8393220338983051, 0.8393785310734463, 0.8461016949152542, 0.8127118644067796, 0.8393220338983051, 0.8359887005649718, 0.8292090395480226, 0.8427118644067797, 0.8427683615819209, 0.8227118644067797, 0.8259887005649718, 0.8392090395480226, 0.8427118644067797, 0.8461016949152542, 0.8361016949152542, 0.8292090395480226, 0.846045197740113, 0.8528813559322034, 0.822598870056497, 0.8226553672316383, 0.8325988700564972, 0.8393785310734463, 0.7292655367231639]}, {\"categories\": [\"0\", \"1\", \"2\", \"3\", \"4\", \"5\", \"6\", \"7\", \"8\", \"9\", \"10\", \"11\", \"12\", \"13\", \"14\", \"15\", \"16\", \"17\", \"18\", \"19\", \"20\", \"21\", \"22\", \"23\", \"24\", \"25\", \"26\", \"27\", \"28\", \"29\", \"30\", \"31\", \"32\", \"33\", \"34\", \"35\", \"36\", \"37\", \"38\", \"39\", \"40\", \"41\", \"42\", \"43\", \"44\", \"45\", \"46\", \"47\", \"48\", \"49\", \"50\", \"51\", \"52\", \"53\", \"54\", \"55\", \"56\", \"57\", \"58\", \"59\", \"60\", \"61\", \"62\", \"63\", \"64\", \"65\", \"66\", \"67\", \"68\", \"69\", \"70\", \"71\", \"72\", \"73\", \"74\", \"75\", \"76\", \"77\", \"78\", \"79\", \"80\", \"81\", \"82\", \"83\", \"84\", \"85\", \"86\", \"87\", \"88\", \"89\", \"90\", \"91\", \"92\", \"93\", \"94\", \"95\", \"96\", \"97\", \"98\", \"99\", \"100\", \"101\", \"102\", \"103\", \"105\", \"106\"], \"mode\": \"lines\", \"name\": \"precision_score_micro_max\", \"stepped\": true, \"type\": \"scatter\", \"data\": [0.8059887005649717, 0.8259322033898304, 0.8461581920903954, 0.8461581920903954, 0.8461581920903954, 0.8461581920903954, 0.8461581920903954, 0.8629943502824858, 0.8629943502824858, 0.8629943502824858, 0.8629943502824858, 0.8629943502824858, 0.8629943502824858, 0.8629943502824858, 0.8629943502824858, 0.8629943502824858, 0.8629943502824858, 0.8629943502824858, 0.8629943502824858, 0.8629943502824858, 0.8629943502824858, 0.8629943502824858, 0.8629943502824858, 0.8629943502824858, 0.8629943502824858, 0.8629943502824858, 0.8629943502824858, 0.8629943502824858, 0.8629943502824858, 0.8629943502824858, 0.8629943502824858, 0.8629943502824858, 0.8629943502824858, 0.8629943502824858, 0.8629943502824858, 0.8629943502824858, 0.8629943502824858, 0.8629943502824858, 0.8629943502824858, 0.8629943502824858, 0.8629943502824858, 0.8629943502824858, 0.8629943502824858, 0.8629943502824858, 0.8629943502824858, 0.8629943502824858, 0.8629943502824858, 0.8629943502824858, 0.8629943502824858, 0.8629943502824858, 0.8629943502824858, 0.8629943502824858, 0.8629943502824858, 0.8629943502824858, 0.8629943502824858, 0.8629943502824858, 0.8629943502824858, 0.8629943502824858, 0.8629943502824858, 0.8629943502824858, 0.8629943502824858, 0.8629943502824858, 0.8629943502824858, 0.8629943502824858, 0.8629943502824858, 0.8629943502824858, 0.8629943502824858, 0.8629943502824858, 0.8629943502824858, 0.8629943502824858, 0.8629943502824858, 0.8629943502824858, 0.8629943502824858, 0.8629943502824858, 0.8629943502824858, 0.8629943502824858, 0.8629943502824858, 0.8629943502824858, 0.8629943502824858, 0.8629943502824858, 0.8629943502824858, 0.8629943502824858, 0.8629943502824858, 0.8629943502824858, 0.8629943502824858, 0.8629943502824858, 0.8629943502824858, 0.8629943502824858, 0.8629943502824858, 0.8629943502824858, 0.8629943502824858, 0.8629943502824858, 0.8629943502824858, 0.8629943502824858, 0.8629943502824858, 0.8629943502824858, 0.8629943502824858, 0.8629943502824858, 0.8629943502824858, 0.8629943502824858, 0.8629943502824858, 0.8629943502824858, 0.8629943502824858, 0.8629943502824858, 0.8629943502824858, 0.8629943502824858]}], \"matthews_correlation\": [{\"categories\": [\"0\", \"1\", \"2\", \"3\", \"4\", \"5\", \"6\", \"7\", \"8\", \"9\", \"10\", \"11\", \"12\", \"13\", \"14\", \"15\", \"16\", \"17\", \"18\", \"19\", \"20\", \"21\", \"22\", \"23\", \"24\", \"25\", \"26\", \"27\", \"28\", \"29\", \"30\", \"31\", \"32\", \"33\", \"34\", \"35\", \"36\", \"37\", \"38\", \"39\", \"40\", \"41\", \"42\", \"43\", \"44\", \"45\", \"46\", \"47\", \"48\", \"49\", \"50\", \"51\", \"52\", \"53\", \"54\", \"55\", \"56\", \"57\", \"58\", \"59\", \"60\", \"61\", \"62\", \"63\", \"64\", \"65\", \"66\", \"67\", \"68\", \"69\", \"70\", \"71\", \"72\", \"73\", \"74\", \"75\", \"76\", \"77\", \"78\", \"79\", \"80\", \"81\", \"82\", \"83\", \"84\", \"85\", \"86\", \"87\", \"88\", \"89\", \"90\", \"91\", \"92\", \"93\", \"94\", \"95\", \"96\", \"97\", \"98\", \"99\", \"100\", \"101\", \"102\", \"103\", \"105\", \"106\"], \"mode\": \"markers\", \"name\": \"matthews_correlation\", \"stepped\": false, \"type\": \"scatter\", \"data\": [0.5628617041183437, 0.6132552509330647, 0.6384352113465306, 0.4724154976327807, 0.6020406725680597, 0.6074916876789281, 0.6432879081284686, 0.6955484157121992, 0.46054120894097544, 0.416717014557646, 0.46977623971373283, 0.6255370747799713, 0.5741418110878035, 0.6019732997198831, 0.5918518024730884, 0.06532248141362067, 0.45811448289106294, 0.4871440330392778, 0.6275145426418451, 0.6170804711017206, 0.5955923005653161, 0.5222282304024789, 0.5943570088685872, 0.6712932766814868, 0.6334790801594391, 0.07032893008673508, 0.6306346532812425, 0.4666429933345001, 0.6137300351884478, 0.5979266412414492, 0.5930149221821293, 0.6263801611359413, 0.6336437357178627, 0.6220093770730027, 0.6150506493185386, 0.0, 0.6168013327606616, 0.6178231972574668, 0.6193362206864689, 0.6770473038415485, 0.0, 0.5852848911778946, 0.5945129556575395, 0.6149607548315923, 0.5903431657959342, 0.5251869817811722, 0.6349631713310113, 0.6624942634643427, 0.6559013608625995, 0.6007227917664573, 0.3202457291792912, 0.6178480215796454, 0.6365058368520498, 0.590829539771007, 0.6334558548131021, 0.5914794604237575, 0.6231840999865249, 0.6238050982046925, 0.619837496255164, 0.635029850698884, 0.0, 0.596902341156582, 0.619812871208927, 0.6267175110981824, 0.6429412409950823, 0.6424114619833323, 0.621024674856816, 0.6495644252772685, 0.6393904984874427, 0.6091957722820152, 0.6441511191435293, 0.6027931641685447, 0.6586049532223057, 0.5801983156689035, 0.6425567637833349, 0.6541808578077186, 0.5977060563261125, 0.6082274226727427, 0.6712882027971947, 0.6462390528984695, 0.5839929651480471, 0.6567561836322403, 0.660181995902745, 0.6347499964152502, 0.637342192083558, 0.6518257119908304, 0.5776824619579476, 0.6277879753435215, 0.6265279477194509, 0.618289598710526, 0.6378871281983896, 0.6434510479619231, 0.5865773459750554, 0.611589631058864, 0.6398492257642266, 0.6329202464532593, 0.6520003207789928, 0.6271426162917635, 0.6216296032067418, 0.6486611469947318, 0.6695102052332731, 0.5990715344015476, 0.5930141466188541, 0.6222847800864515, 0.6370694049823383, 0.22821241906568956]}, {\"categories\": [\"0\", \"1\", \"2\", \"3\", \"4\", \"5\", \"6\", \"7\", \"8\", \"9\", \"10\", \"11\", \"12\", \"13\", \"14\", \"15\", \"16\", \"17\", \"18\", \"19\", \"20\", \"21\", \"22\", \"23\", \"24\", \"25\", \"26\", \"27\", \"28\", \"29\", \"30\", \"31\", \"32\", \"33\", \"34\", \"35\", \"36\", \"37\", \"38\", \"39\", \"40\", \"41\", \"42\", \"43\", \"44\", \"45\", \"46\", \"47\", \"48\", \"49\", \"50\", \"51\", \"52\", \"53\", \"54\", \"55\", \"56\", \"57\", \"58\", \"59\", \"60\", \"61\", \"62\", \"63\", \"64\", \"65\", \"66\", \"67\", \"68\", \"69\", \"70\", \"71\", \"72\", \"73\", \"74\", \"75\", \"76\", \"77\", \"78\", \"79\", \"80\", \"81\", \"82\", \"83\", \"84\", \"85\", \"86\", \"87\", \"88\", \"89\", \"90\", \"91\", \"92\", \"93\", \"94\", \"95\", \"96\", \"97\", \"98\", \"99\", \"100\", \"101\", \"102\", \"103\", \"105\", \"106\"], \"mode\": \"lines\", \"name\": \"matthews_correlation_max\", \"stepped\": true, \"type\": \"scatter\", \"data\": [0.5628617041183437, 0.6132552509330647, 0.6384352113465306, 0.6384352113465306, 0.6384352113465306, 0.6384352113465306, 0.6432879081284686, 0.6955484157121992, 0.6955484157121992, 0.6955484157121992, 0.6955484157121992, 0.6955484157121992, 0.6955484157121992, 0.6955484157121992, 0.6955484157121992, 0.6955484157121992, 0.6955484157121992, 0.6955484157121992, 0.6955484157121992, 0.6955484157121992, 0.6955484157121992, 0.6955484157121992, 0.6955484157121992, 0.6955484157121992, 0.6955484157121992, 0.6955484157121992, 0.6955484157121992, 0.6955484157121992, 0.6955484157121992, 0.6955484157121992, 0.6955484157121992, 0.6955484157121992, 0.6955484157121992, 0.6955484157121992, 0.6955484157121992, 0.6955484157121992, 0.6955484157121992, 0.6955484157121992, 0.6955484157121992, 0.6955484157121992, 0.6955484157121992, 0.6955484157121992, 0.6955484157121992, 0.6955484157121992, 0.6955484157121992, 0.6955484157121992, 0.6955484157121992, 0.6955484157121992, 0.6955484157121992, 0.6955484157121992, 0.6955484157121992, 0.6955484157121992, 0.6955484157121992, 0.6955484157121992, 0.6955484157121992, 0.6955484157121992, 0.6955484157121992, 0.6955484157121992, 0.6955484157121992, 0.6955484157121992, 0.6955484157121992, 0.6955484157121992, 0.6955484157121992, 0.6955484157121992, 0.6955484157121992, 0.6955484157121992, 0.6955484157121992, 0.6955484157121992, 0.6955484157121992, 0.6955484157121992, 0.6955484157121992, 0.6955484157121992, 0.6955484157121992, 0.6955484157121992, 0.6955484157121992, 0.6955484157121992, 0.6955484157121992, 0.6955484157121992, 0.6955484157121992, 0.6955484157121992, 0.6955484157121992, 0.6955484157121992, 0.6955484157121992, 0.6955484157121992, 0.6955484157121992, 0.6955484157121992, 0.6955484157121992, 0.6955484157121992, 0.6955484157121992, 0.6955484157121992, 0.6955484157121992, 0.6955484157121992, 0.6955484157121992, 0.6955484157121992, 0.6955484157121992, 0.6955484157121992, 0.6955484157121992, 0.6955484157121992, 0.6955484157121992, 0.6955484157121992, 0.6955484157121992, 0.6955484157121992, 0.6955484157121992, 0.6955484157121992, 0.6955484157121992, 0.6955484157121992]}], \"precision_score_macro\": [{\"categories\": [\"0\", \"1\", \"2\", \"3\", \"4\", \"5\", \"6\", \"7\", \"8\", \"9\", \"10\", \"11\", \"12\", \"13\", \"14\", \"15\", \"16\", \"17\", \"18\", \"19\", \"20\", \"21\", \"22\", \"23\", \"24\", \"25\", \"26\", \"27\", \"28\", \"29\", \"30\", \"31\", \"32\", \"33\", \"34\", \"35\", \"36\", \"37\", \"38\", \"39\", \"40\", \"41\", \"42\", \"43\", \"44\", \"45\", \"46\", \"47\", \"48\", \"49\", \"50\", \"51\", \"52\", \"53\", \"54\", \"55\", \"56\", \"57\", \"58\", \"59\", \"60\", \"61\", \"62\", \"63\", \"64\", \"65\", \"66\", \"67\", \"68\", \"69\", \"70\", \"71\", \"72\", \"73\", \"74\", \"75\", \"76\", \"77\", \"78\", \"79\", \"80\", \"81\", \"82\", \"83\", \"84\", \"85\", \"86\", \"87\", \"88\", \"89\", \"90\", \"91\", \"92\", \"93\", \"94\", \"95\", \"96\", \"97\", \"98\", \"99\", \"100\", \"101\", \"102\", \"103\", \"105\", \"106\"], \"mode\": \"markers\", \"name\": \"precision_score_macro\", \"stepped\": false, \"type\": \"scatter\", \"data\": [0.7889041743265773, 0.8086642059265495, 0.8307885939985535, 0.8113674213984773, 0.7999721933245263, 0.8186261883514672, 0.8329001307860169, 0.8716246446672657, 0.8021557014414157, 0.7573881765399129, 0.8242891962773535, 0.8620193531958238, 0.772254813126476, 0.8109524825683231, 0.7894698691094573, 0.5343494917780632, 0.8031587557692793, 0.7376060067936223, 0.8022961497126865, 0.8134115884115884, 0.8045307774813292, 0.7528792542093458, 0.803330474948087, 0.8525989086728784, 0.8266890054390054, 0.49430512016718914, 0.8178795506334033, 0.8132297162168733, 0.8162148685580937, 0.8215530604661041, 0.8369147079121504, 0.819081168924394, 0.8251361132173246, 0.8178888371272981, 0.8219584533064748, 0.33954802259887, 0.8085154889850588, 0.8283040329235982, 0.8149869976026001, 0.8707073216638435, 0.33954802259887, 0.7789823841553017, 0.7822359893743827, 0.808416568281405, 0.8057518640185325, 0.8468769215645698, 0.8217160764562659, 0.8504796017900652, 0.8384631338956037, 0.8151285258228148, 0.7229324622745675, 0.8156320381325249, 0.818274475717444, 0.8081734986343239, 0.8281675989913977, 0.8039201016374931, 0.8153010736067001, 0.819987259117694, 0.8173139243317007, 0.8237841817475685, 0.33954802259887, 0.7891816399974294, 0.8278950305014134, 0.8219510726059245, 0.8318498724133734, 0.8255877009137877, 0.8136407481716408, 0.8337592696293218, 0.8259268695916486, 0.7929521457449173, 0.8460361713855503, 0.8082836739901957, 0.855745282419391, 0.8032845728391159, 0.8294550428365366, 0.8433315037058584, 0.7879129397734049, 0.8034500280141614, 0.8563282550782552, 0.8319352715124173, 0.8386957055549493, 0.8355101697493001, 0.8455357231421061, 0.8245702606572172, 0.8299034519663568, 0.8487968591691996, 0.8031602922722255, 0.8259031540460773, 0.8151983753270938, 0.8028681758987105, 0.8349655414750053, 0.8286845039018953, 0.8084090902427732, 0.8058637196137196, 0.807418068222416, 0.8347884758443765, 0.8400547774770046, 0.8223788593966358, 0.8010555555555555, 0.8406492422669262, 0.8739293134908772, 0.8095884938623144, 0.8050352317778, 0.8177538261681484, 0.824556798401192, 0.5134688995215312]}, {\"categories\": [\"0\", \"1\", \"2\", \"3\", \"4\", \"5\", \"6\", \"7\", \"8\", \"9\", \"10\", \"11\", \"12\", \"13\", \"14\", \"15\", \"16\", \"17\", \"18\", \"19\", \"20\", \"21\", \"22\", \"23\", \"24\", \"25\", \"26\", \"27\", \"28\", \"29\", \"30\", \"31\", \"32\", \"33\", \"34\", \"35\", \"36\", \"37\", \"38\", \"39\", \"40\", \"41\", \"42\", \"43\", \"44\", \"45\", \"46\", \"47\", \"48\", \"49\", \"50\", \"51\", \"52\", \"53\", \"54\", \"55\", \"56\", \"57\", \"58\", \"59\", \"60\", \"61\", \"62\", \"63\", \"64\", \"65\", \"66\", \"67\", \"68\", \"69\", \"70\", \"71\", \"72\", \"73\", \"74\", \"75\", \"76\", \"77\", \"78\", \"79\", \"80\", \"81\", \"82\", \"83\", \"84\", \"85\", \"86\", \"87\", \"88\", \"89\", \"90\", \"91\", \"92\", \"93\", \"94\", \"95\", \"96\", \"97\", \"98\", \"99\", \"100\", \"101\", \"102\", \"103\", \"105\", \"106\"], \"mode\": \"lines\", \"name\": \"precision_score_macro_max\", \"stepped\": true, \"type\": \"scatter\", \"data\": [0.7889041743265773, 0.8086642059265495, 0.8307885939985535, 0.8307885939985535, 0.8307885939985535, 0.8307885939985535, 0.8329001307860169, 0.8716246446672657, 0.8716246446672657, 0.8716246446672657, 0.8716246446672657, 0.8716246446672657, 0.8716246446672657, 0.8716246446672657, 0.8716246446672657, 0.8716246446672657, 0.8716246446672657, 0.8716246446672657, 0.8716246446672657, 0.8716246446672657, 0.8716246446672657, 0.8716246446672657, 0.8716246446672657, 0.8716246446672657, 0.8716246446672657, 0.8716246446672657, 0.8716246446672657, 0.8716246446672657, 0.8716246446672657, 0.8716246446672657, 0.8716246446672657, 0.8716246446672657, 0.8716246446672657, 0.8716246446672657, 0.8716246446672657, 0.8716246446672657, 0.8716246446672657, 0.8716246446672657, 0.8716246446672657, 0.8716246446672657, 0.8716246446672657, 0.8716246446672657, 0.8716246446672657, 0.8716246446672657, 0.8716246446672657, 0.8716246446672657, 0.8716246446672657, 0.8716246446672657, 0.8716246446672657, 0.8716246446672657, 0.8716246446672657, 0.8716246446672657, 0.8716246446672657, 0.8716246446672657, 0.8716246446672657, 0.8716246446672657, 0.8716246446672657, 0.8716246446672657, 0.8716246446672657, 0.8716246446672657, 0.8716246446672657, 0.8716246446672657, 0.8716246446672657, 0.8716246446672657, 0.8716246446672657, 0.8716246446672657, 0.8716246446672657, 0.8716246446672657, 0.8716246446672657, 0.8716246446672657, 0.8716246446672657, 0.8716246446672657, 0.8716246446672657, 0.8716246446672657, 0.8716246446672657, 0.8716246446672657, 0.8716246446672657, 0.8716246446672657, 0.8716246446672657, 0.8716246446672657, 0.8716246446672657, 0.8716246446672657, 0.8716246446672657, 0.8716246446672657, 0.8716246446672657, 0.8716246446672657, 0.8716246446672657, 0.8716246446672657, 0.8716246446672657, 0.8716246446672657, 0.8716246446672657, 0.8716246446672657, 0.8716246446672657, 0.8716246446672657, 0.8716246446672657, 0.8716246446672657, 0.8716246446672657, 0.8716246446672657, 0.8716246446672657, 0.8716246446672657, 0.8739293134908772, 0.8739293134908772, 0.8739293134908772, 0.8739293134908772, 0.8739293134908772, 0.8739293134908772]}], \"norm_macro_recall\": [{\"categories\": [\"0\", \"1\", \"2\", \"3\", \"4\", \"5\", \"6\", \"7\", \"8\", \"9\", \"10\", \"11\", \"12\", \"13\", \"14\", \"15\", \"16\", \"17\", \"18\", \"19\", \"20\", \"21\", \"22\", \"23\", \"24\", \"25\", \"26\", \"27\", \"28\", \"29\", \"30\", \"31\", \"32\", \"33\", \"34\", \"35\", \"36\", \"37\", \"38\", \"39\", \"40\", \"41\", \"42\", \"43\", \"44\", \"45\", \"46\", \"47\", \"48\", \"49\", \"50\", \"51\", \"52\", \"53\", \"54\", \"55\", \"56\", \"57\", \"58\", \"59\", \"60\", \"61\", \"62\", \"63\", \"64\", \"65\", \"66\", \"67\", \"68\", \"69\", \"70\", \"71\", \"72\", \"73\", \"74\", \"75\", \"76\", \"77\", \"78\", \"79\", \"80\", \"81\", \"82\", \"83\", \"84\", \"85\", \"86\", \"87\", \"88\", \"89\", \"90\", \"91\", \"92\", \"93\", \"94\", \"95\", \"96\", \"97\", \"98\", \"99\", \"100\", \"101\", \"102\", \"103\", \"105\", \"106\"], \"mode\": \"markers\", \"name\": \"norm_macro_recall\", \"stepped\": false, \"type\": \"scatter\", \"data\": [0.5520418050941306, 0.6120251937984496, 0.6183167220376522, 0.37297619047619046, 0.606532392026578, 0.5821691583610188, 0.6250429125138428, 0.6549404761904762, 0.35856312292358805, 0.34136074197120714, 0.3507142857142857, 0.5469047619047618, 0.6063967331118494, 0.5884191583610188, 0.6074847729789592, 0.07768133997785158, 0.3609440753045405, 0.5018383167220375, 0.6525013842746401, 0.614125138427464, 0.5852643964562569, 0.5418632336655593, 0.584907253599114, 0.6429083610188261, 0.6204083610188261, 0.062364341085271356, 0.6285977297895902, 0.354515503875969, 0.5987596899224806, 0.5587167774086378, 0.5268964562569214, 0.6171608527131782, 0.6209108527131784, 0.6138953488372093, 0.5905024916943521, 0.0, 0.6192954042081948, 0.5830024916943521, 0.6152048726467332, 0.6224404761904763, 0.0, 0.6152823920265781, 0.6272895902547065, 0.6151287375415281, 0.577109634551495, 0.42095238095238086, 0.6302727021040975, 0.6314797895902547, 0.6384108527131783, 0.5772369878183831, 0.20534883720930228, 0.6102131782945737, 0.6391680509413068, 0.5741334440753045, 0.6160465116279069, 0.5787596899224807, 0.6190490033222592, 0.6117441860465116, 0.6083513289036546, 0.6260382059800664, 0.0, 0.6171871539313399, 0.5909274640088593, 0.6146013289036546, 0.6269476744186047, 0.6367358803986709, 0.6184786821705426, 0.6356893687707641, 0.6285977297895903, 0.6344490586932447, 0.6014714839424142, 0.5947286821705425, 0.6127893133997786, 0.5588953488372093, 0.6309869878183832, 0.6261143410852713, 0.6226038205980067, 0.613470376522702, 0.6372452934662237, 0.6335465116279069, 0.5080869324473977, 0.6460382059800663, 0.6332571982281285, 0.6242441860465116, 0.6202131782945737, 0.612594130675526, 0.5576619601328904, 0.6080024916943522, 0.6251370431893687, 0.6322549833887043, 0.6096691583610189, 0.6330024916943522, 0.5609869878183831, 0.6154941860465115, 0.6669490586932447, 0.599312015503876, 0.6284191583610188, 0.6130024916943522, 0.6430800110741971, 0.6209191583610189, 0.604107142857143, 0.5837679955703212, 0.5791846622369878, 0.6132751937984497, 0.6297286821705427, 0.22959302325581396]}, {\"categories\": [\"0\", \"1\", \"2\", \"3\", \"4\", \"5\", \"6\", \"7\", \"8\", \"9\", \"10\", \"11\", \"12\", \"13\", \"14\", \"15\", \"16\", \"17\", \"18\", \"19\", \"20\", \"21\", \"22\", \"23\", \"24\", \"25\", \"26\", \"27\", \"28\", \"29\", \"30\", \"31\", \"32\", \"33\", \"34\", \"35\", \"36\", \"37\", \"38\", \"39\", \"40\", \"41\", \"42\", \"43\", \"44\", \"45\", \"46\", \"47\", \"48\", \"49\", \"50\", \"51\", \"52\", \"53\", \"54\", \"55\", \"56\", \"57\", \"58\", \"59\", \"60\", \"61\", \"62\", \"63\", \"64\", \"65\", \"66\", \"67\", \"68\", \"69\", \"70\", \"71\", \"72\", \"73\", \"74\", \"75\", \"76\", \"77\", \"78\", \"79\", \"80\", \"81\", \"82\", \"83\", \"84\", \"85\", \"86\", \"87\", \"88\", \"89\", \"90\", \"91\", \"92\", \"93\", \"94\", \"95\", \"96\", \"97\", \"98\", \"99\", \"100\", \"101\", \"102\", \"103\", \"105\", \"106\"], \"mode\": \"lines\", \"name\": \"norm_macro_recall_max\", \"stepped\": true, \"type\": \"scatter\", \"data\": [0.5520418050941306, 0.6120251937984496, 0.6183167220376522, 0.6183167220376522, 0.6183167220376522, 0.6183167220376522, 0.6250429125138428, 0.6549404761904762, 0.6549404761904762, 0.6549404761904762, 0.6549404761904762, 0.6549404761904762, 0.6549404761904762, 0.6549404761904762, 0.6549404761904762, 0.6549404761904762, 0.6549404761904762, 0.6549404761904762, 0.6549404761904762, 0.6549404761904762, 0.6549404761904762, 0.6549404761904762, 0.6549404761904762, 0.6549404761904762, 0.6549404761904762, 0.6549404761904762, 0.6549404761904762, 0.6549404761904762, 0.6549404761904762, 0.6549404761904762, 0.6549404761904762, 0.6549404761904762, 0.6549404761904762, 0.6549404761904762, 0.6549404761904762, 0.6549404761904762, 0.6549404761904762, 0.6549404761904762, 0.6549404761904762, 0.6549404761904762, 0.6549404761904762, 0.6549404761904762, 0.6549404761904762, 0.6549404761904762, 0.6549404761904762, 0.6549404761904762, 0.6549404761904762, 0.6549404761904762, 0.6549404761904762, 0.6549404761904762, 0.6549404761904762, 0.6549404761904762, 0.6549404761904762, 0.6549404761904762, 0.6549404761904762, 0.6549404761904762, 0.6549404761904762, 0.6549404761904762, 0.6549404761904762, 0.6549404761904762, 0.6549404761904762, 0.6549404761904762, 0.6549404761904762, 0.6549404761904762, 0.6549404761904762, 0.6549404761904762, 0.6549404761904762, 0.6549404761904762, 0.6549404761904762, 0.6549404761904762, 0.6549404761904762, 0.6549404761904762, 0.6549404761904762, 0.6549404761904762, 0.6549404761904762, 0.6549404761904762, 0.6549404761904762, 0.6549404761904762, 0.6549404761904762, 0.6549404761904762, 0.6549404761904762, 0.6549404761904762, 0.6549404761904762, 0.6549404761904762, 0.6549404761904762, 0.6549404761904762, 0.6549404761904762, 0.6549404761904762, 0.6549404761904762, 0.6549404761904762, 0.6549404761904762, 0.6549404761904762, 0.6549404761904762, 0.6549404761904762, 0.6669490586932447, 0.6669490586932447, 0.6669490586932447, 0.6669490586932447, 0.6669490586932447, 0.6669490586932447, 0.6669490586932447, 0.6669490586932447, 0.6669490586932447, 0.6669490586932447, 0.6669490586932447, 0.6669490586932447]}]}, \"metricName\": null, \"primaryMetricName\": \"AUC_weighted\", \"showLegend\": false}, \"run_metrics\": [{\"name\": \"experiment_status\", \"run_id\": \"AutoML_c6857abb-a0b5-4c5f-ae11-eeba33cf46c3\", \"categories\": [0, 1, 2, 3, 4, 5, 6, 7, 8, 9, 10, 11, 12, 13], \"series\": [{\"data\": [\"DatasetEvaluation\", \"FeaturesGeneration\", \"DatasetFeaturization\", \"DatasetFeaturizationCompleted\", \"DatasetCrossValidationSplit\", \"ModelSelection\", \"BestRunExplainModel\", \"ModelExplanationDataSetSetup\", \"PickSurrogateModel\", \"EngineeredFeatureExplanations\", \"EngineeredFeatureExplanations\", \"RawFeaturesExplanations\", \"RawFeaturesExplanations\", \"BestRunExplainModel\"]}]}, {\"name\": \"experiment_status_description\", \"run_id\": \"AutoML_c6857abb-a0b5-4c5f-ae11-eeba33cf46c3\", \"categories\": [0, 1, 2, 3, 4, 5, 6, 7, 8, 9, 10, 11, 12, 13], \"series\": [{\"data\": [\"Gathering dataset statistics.\", \"Generating features for the dataset.\", \"Beginning to fit featurizers and featurize the dataset.\", \"Completed fit featurizers and featurizing the dataset.\", \"Generating individually featurized CV splits.\", \"Beginning model selection.\", \"Best run model explanations started\", \"Model explanations data setup completed\", \"Choosing LightGBM as the surrogate model for explanations\", \"Computation of engineered features started\", \"Computation of engineered features completed\", \"Computation of raw features started\", \"Computation of raw features completed\", \"Best run model explanations completed\"]}]}, {\"name\": \"f1_score_micro\", \"run_id\": \"AutoML_c6857abb-a0b5-4c5f-ae11-eeba33cf46c3\", \"categories\": [0], \"series\": [{\"data\": [0.8393785310734463]}]}, {\"name\": \"norm_macro_recall\", \"run_id\": \"AutoML_c6857abb-a0b5-4c5f-ae11-eeba33cf46c3\", \"categories\": [0], \"series\": [{\"data\": [0.6297286821705427]}]}, {\"name\": \"log_loss\", \"run_id\": \"AutoML_c6857abb-a0b5-4c5f-ae11-eeba33cf46c3\", \"categories\": [0], \"series\": [{\"data\": [0.42811259742649577]}]}, {\"name\": \"f1_score_macro\", \"run_id\": \"AutoML_c6857abb-a0b5-4c5f-ae11-eeba33cf46c3\", \"categories\": [0], \"series\": [{\"data\": [0.8063664974189777]}]}, {\"name\": \"recall_score_micro\", \"run_id\": \"AutoML_c6857abb-a0b5-4c5f-ae11-eeba33cf46c3\", \"categories\": [0], \"series\": [{\"data\": [0.8393785310734463]}]}, {\"name\": \"AUC_macro\", \"run_id\": \"AutoML_c6857abb-a0b5-4c5f-ae11-eeba33cf46c3\", \"categories\": [0], \"series\": [{\"data\": [0.9226163713547434]}]}, {\"name\": \"accuracy\", \"run_id\": \"AutoML_c6857abb-a0b5-4c5f-ae11-eeba33cf46c3\", \"categories\": [0], \"series\": [{\"data\": [0.8393785310734463]}]}, {\"name\": \"balanced_accuracy\", \"run_id\": \"AutoML_c6857abb-a0b5-4c5f-ae11-eeba33cf46c3\", \"categories\": [0], \"series\": [{\"data\": [0.8148643410852714]}]}, {\"name\": \"f1_score_weighted\", \"run_id\": \"AutoML_c6857abb-a0b5-4c5f-ae11-eeba33cf46c3\", \"categories\": [0], \"series\": [{\"data\": [0.8359945753349244]}]}, {\"name\": \"weighted_accuracy\", \"run_id\": \"AutoML_c6857abb-a0b5-4c5f-ae11-eeba33cf46c3\", \"categories\": [0], \"series\": [{\"data\": [0.8560851677689973]}]}, {\"name\": \"AUC_micro\", \"run_id\": \"AutoML_c6857abb-a0b5-4c5f-ae11-eeba33cf46c3\", \"categories\": [0], \"series\": [{\"data\": [0.9214179035398512]}]}, {\"name\": \"precision_score_weighted\", \"run_id\": \"AutoML_c6857abb-a0b5-4c5f-ae11-eeba33cf46c3\", \"categories\": [0], \"series\": [{\"data\": [0.8568664469679866]}]}, {\"name\": \"average_precision_score_macro\", \"run_id\": \"AutoML_c6857abb-a0b5-4c5f-ae11-eeba33cf46c3\", \"categories\": [0], \"series\": [{\"data\": [0.9151985863556545]}]}, {\"name\": \"average_precision_score_micro\", \"run_id\": \"AutoML_c6857abb-a0b5-4c5f-ae11-eeba33cf46c3\", \"categories\": [0], \"series\": [{\"data\": [0.9241824826533982]}]}, {\"name\": \"matthews_correlation\", \"run_id\": \"AutoML_c6857abb-a0b5-4c5f-ae11-eeba33cf46c3\", \"categories\": [0], \"series\": [{\"data\": [0.6370694049823383]}]}, {\"name\": \"average_precision_score_weighted\", \"run_id\": \"AutoML_c6857abb-a0b5-4c5f-ae11-eeba33cf46c3\", \"categories\": [0], \"series\": [{\"data\": [0.9352476103800835]}]}, {\"name\": \"precision_score_micro\", \"run_id\": \"AutoML_c6857abb-a0b5-4c5f-ae11-eeba33cf46c3\", \"categories\": [0], \"series\": [{\"data\": [0.8393785310734463]}]}, {\"name\": \"recall_score_macro\", \"run_id\": \"AutoML_c6857abb-a0b5-4c5f-ae11-eeba33cf46c3\", \"categories\": [0], \"series\": [{\"data\": [0.8148643410852714]}]}, {\"name\": \"AUC_weighted\", \"run_id\": \"AutoML_c6857abb-a0b5-4c5f-ae11-eeba33cf46c3\", \"categories\": [0], \"series\": [{\"data\": [0.9226163713547434]}]}, {\"name\": \"recall_score_weighted\", \"run_id\": \"AutoML_c6857abb-a0b5-4c5f-ae11-eeba33cf46c3\", \"categories\": [0], \"series\": [{\"data\": [0.8393785310734463]}]}, {\"name\": \"precision_score_macro\", \"run_id\": \"AutoML_c6857abb-a0b5-4c5f-ae11-eeba33cf46c3\", \"categories\": [0], \"series\": [{\"data\": [0.824556798401192]}]}], \"run_logs\": \"\\nRun is completed.\", \"graph\": {}, \"widget_settings\": {\"childWidgetDisplay\": \"popup\", \"send_telemetry\": false, \"log_level\": \"INFO\", \"sdk_version\": \"1.26.0\"}, \"loading\": false}"
     },
     "metadata": {},
     "output_type": "display_data"
    },
    {
     "data": {
      "text/html": [
       "<table style=\"width:100%\"><tr><th>Experiment</th><th>Id</th><th>Type</th><th>Status</th><th>Details Page</th><th>Docs Page</th></tr><tr><td>heartfailure-automl</td><td>AutoML_c6857abb-a0b5-4c5f-ae11-eeba33cf46c3</td><td>automl</td><td>NotStarted</td><td><a href=\"https://ml.azure.com/runs/AutoML_c6857abb-a0b5-4c5f-ae11-eeba33cf46c3?wsid=/subscriptions/3d1a56d2-7c81-4118-9790-f85d1acf0c77/resourcegroups/aml-quickstarts-142887/workspaces/quick-starts-ws-142887&amp;tid=660b3398-b80e-49d2-bc5b-ac1dc93b5254\" target=\"_blank\" rel=\"noopener\">Link to Azure Machine Learning studio</a></td><td><a href=\"https://docs.microsoft.com/en-us/python/api/overview/azure/ml/intro?view=azure-ml-py\" target=\"_blank\" rel=\"noopener\">Link to Documentation</a></td></tr></table>"
      ],
      "text/plain": [
       "<IPython.core.display.HTML object>"
      ]
     },
     "metadata": {},
     "output_type": "display_data"
    },
    {
     "name": "stdout",
     "output_type": "stream",
     "text": [
      "\n",
      "Current status: FeaturesGeneration. Generating features for the dataset.\n",
      "Current status: ModelSelection. Beginning model selection.\n",
      "\n",
      "****************************************************************************************************\n",
      "DATA GUARDRAILS: \n",
      "\n",
      "TYPE:         Class balancing detection\n",
      "STATUS:       PASSED\n",
      "DESCRIPTION:  Your inputs were analyzed, and all classes are balanced in your training data.\n",
      "              Learn more about imbalanced data: https://aka.ms/AutomatedMLImbalancedData\n",
      "\n",
      "****************************************************************************************************\n",
      "\n",
      "TYPE:         Missing feature values imputation\n",
      "STATUS:       PASSED\n",
      "DESCRIPTION:  No feature missing values were detected in the training data.\n",
      "              Learn more about missing value imputation: https://aka.ms/AutomatedMLFeaturization\n",
      "\n",
      "****************************************************************************************************\n",
      "\n",
      "TYPE:         High cardinality feature detection\n",
      "STATUS:       PASSED\n",
      "DESCRIPTION:  Your inputs were analyzed, and no high cardinality features were detected.\n",
      "              Learn more about high cardinality feature handling: https://aka.ms/AutomatedMLFeaturization\n",
      "\n",
      "****************************************************************************************************\n",
      "\n",
      "****************************************************************************************************\n",
      "ITERATION: The iteration being evaluated.\n",
      "PIPELINE: A summary description of the pipeline being evaluated.\n",
      "DURATION: Time taken for the current iteration.\n",
      "METRIC: The result of computing score on the fitted pipeline.\n",
      "BEST: The best observed score thus far.\n",
      "****************************************************************************************************\n",
      "\n",
      " ITERATION   PIPELINE                                       DURATION      METRIC      BEST\n",
      "         0   MaxAbsScaler LightGBM                          0:01:03       0.8811    0.8811\n",
      "         3   RobustScaler ExtremeRandomTrees                0:00:46       0.8768    0.8811\n",
      "         5   MinMaxScaler RandomForest                      0:00:50       0.8889    0.8889\n",
      "         6   StandardScalerWrapper RandomForest             0:00:43       0.8874    0.8889\n",
      "         2   MinMaxScaler RandomForest                      0:02:36       0.8935    0.8935\n",
      "         4   MinMaxScaler RandomForest                      0:03:07       0.8958    0.8958\n",
      "         1   MaxAbsScaler XGBoostClassifier                 0:03:15       0.8930    0.8958\n",
      "         7   MinMaxScaler ExtremeRandomTrees                0:00:45       0.8984    0.8984\n",
      "         8   MinMaxScaler ExtremeRandomTrees                0:00:47       0.8663    0.8984\n",
      "        10   MinMaxScaler ExtremeRandomTrees                0:00:43       0.8698    0.8984\n",
      "         9   SparseNormalizer KNN                           0:00:45       0.7515    0.8984\n",
      "        11   RobustScaler ExtremeRandomTrees                0:00:42       0.8750    0.8984\n",
      "        12   StandardScalerWrapper RandomForest             0:00:49       0.9036    0.9036\n",
      "        13   StandardScalerWrapper SGD                      0:00:47       0.8719    0.9036\n",
      "        14   RobustScaler RandomForest                      0:00:44       0.8802    0.9036\n",
      "        15   StandardScalerWrapper KNN                      0:00:54       0.4823    0.9036\n",
      "        16   MinMaxScaler RandomForest                      0:00:47       0.8885    0.9036\n",
      "        17   MinMaxScaler ExtremeRandomTrees                0:00:44       0.8281    0.9036\n",
      "        18   MaxAbsScaler RandomForest                      0:00:42       0.9005    0.9036\n",
      "        19   StandardScalerWrapper XGBoostClassifier        0:00:51       0.9076    0.9076\n",
      "        20   MaxAbsScaler RandomForest                      0:00:45       0.8872    0.9076\n",
      "        21   MaxAbsScaler ExtremeRandomTrees                0:00:48       0.8486    0.9076\n",
      "        22   MaxAbsScaler ExtremeRandomTrees                0:00:54       0.8790    0.9076\n",
      "        23   MinMaxScaler RandomForest                      0:00:47       0.9081    0.9081\n",
      "        35   StandardScalerWrapper RandomForest             0:00:48       0.7082    0.9081\n",
      "        36   StandardScalerWrapper XGBoostClassifier        0:00:45       0.9010    0.9081\n",
      "        37   MinMaxScaler LightGBM                          0:00:47       0.8768    0.9081\n",
      "        38   StandardScalerWrapper XGBoostClassifier        0:00:53       0.8894    0.9081\n",
      "        40   MaxAbsScaler RandomForest                      0:00:41       0.8036    0.9081\n",
      "        39   MaxAbsScaler ExtremeRandomTrees                0:00:47       0.8857    0.9081\n",
      "        41   StandardScalerWrapper RandomForest             0:00:47       0.8962    0.9081\n",
      "        44   StandardScalerWrapper LogisticRegression       0:00:44       0.8678    0.9081\n",
      "        42   MaxAbsScaler RandomForest                      0:00:54       0.9024    0.9081\n",
      "        43   MaxAbsScaler LightGBM                          0:00:56       0.8927    0.9081\n",
      "        45   MaxAbsScaler RandomForest                      0:00:53       0.9146    0.9146\n",
      "        46   MaxAbsScaler GradientBoosting                  0:00:44       0.9148    0.9148\n",
      "        47   StandardScalerWrapper GradientBoosting         0:00:45       0.9081    0.9148\n",
      "        48   RobustScaler GradientBoosting                  0:00:53       0.9011    0.9148\n",
      "        49   StandardScalerWrapper LightGBM                 0:00:46       0.9035    0.9148\n",
      "        50   MinMaxScaler RandomForest                      0:00:43       0.8871    0.9148\n",
      "        51   StandardScalerWrapper GradientBoosting         0:00:49       0.8920    0.9148\n",
      "        52   StandardScalerWrapper XGBoostClassifier        0:00:52       0.9051    0.9148\n",
      "        53   StandardScalerWrapper LogisticRegression       0:00:53       0.8702    0.9148\n",
      "        54   StandardScalerWrapper XGBoostClassifier        0:00:44       0.9106    0.9148\n",
      "        55   StandardScalerWrapper GradientBoosting         0:00:50       0.9082    0.9148\n",
      "        56   StandardScalerWrapper XGBoostClassifier        0:00:43       0.9032    0.9148\n",
      "        57   StandardScalerWrapper XGBoostClassifier        0:00:35       0.9113    0.9148\n",
      "        58   StandardScalerWrapper XGBoostClassifier        0:00:53       0.9149    0.9149\n",
      "        59   RobustScaler GradientBoosting                  0:00:49       0.9124    0.9149\n",
      "        60   MinMaxScaler GradientBoosting                  0:00:47       0.9071    0.9149\n",
      "        61   StandardScalerWrapper RandomForest             0:00:48       0.9170    0.9170\n",
      "        62   RobustScaler GradientBoosting                  0:00:45       0.9013    0.9170\n",
      "        63   StandardScalerWrapper XGBoostClassifier        0:00:45       0.9039    0.9170\n",
      "        64   StandardScalerWrapper GradientBoosting         0:00:46       0.9126    0.9170\n",
      "        65   StandardScalerWrapper XGBoostClassifier        0:00:44       0.9077    0.9170\n",
      "        66   StandardScalerWrapper GradientBoosting         0:00:47       0.9156    0.9170\n",
      "        67   StandardScalerWrapper XGBoostClassifier        0:00:54       0.9060    0.9170\n",
      "        68   StandardScalerWrapper RandomForest             0:00:49       0.9118    0.9170\n",
      "        69   MinMaxScaler RandomForest                      0:00:47       0.9175    0.9175\n",
      "        70   StandardScalerWrapper RandomForest             0:00:51       0.9057    0.9175\n",
      "        71   RobustScaler LightGBM                          0:00:43       0.9012    0.9175\n",
      "        72   MinMaxScaler ExtremeRandomTrees                0:00:52       0.8953    0.9175\n",
      "        73   MinMaxScaler LightGBM                          0:00:46       0.9010    0.9175\n",
      "        74   StandardScalerWrapper XGBoostClassifier        0:00:43       0.9084    0.9175\n",
      "        75   MaxAbsScaler RandomForest                      0:00:46       0.9116    0.9175\n",
      "        76   StandardScalerWrapper RandomForest             0:00:57       0.9094    0.9175\n",
      "        77   StandardScalerWrapper GradientBoosting         0:00:46       0.8940    0.9175\n",
      "        78   StandardScalerWrapper GradientBoosting         0:00:45       0.9149    0.9175\n",
      "        79   StandardScalerWrapper GradientBoosting         0:00:49       0.9161    0.9175\n",
      "        80   StandardScalerWrapper RandomForest             0:00:50       0.9050    0.9175\n",
      "        81   StandardScalerWrapper XGBoostClassifier        0:00:45       0.9122    0.9175\n",
      "        82   MaxAbsScaler GradientBoosting                  0:00:50       0.9113    0.9175\n",
      "        83   StandardScalerWrapper XGBoostClassifier        0:00:43       0.9114    0.9175\n",
      "        84   StandardScalerWrapper GradientBoosting         0:00:45       0.9017    0.9175\n",
      "        85   RobustScaler RandomForest                      0:00:52       0.9097    0.9175\n",
      "        86   StandardScalerWrapper GradientBoosting         0:00:48       0.8973    0.9175\n",
      "        87   MaxAbsScaler GradientBoosting                  0:00:45       0.9032    0.9175\n",
      "        88   StandardScalerWrapper GradientBoosting         0:00:52       0.9154    0.9175\n",
      "        89   StandardScalerWrapper RandomForest             0:00:46       0.8912    0.9175\n",
      "        90   MinMaxScaler RandomForest                      0:00:46       0.9113    0.9175\n",
      "        91   StandardScalerWrapper GradientBoosting         0:00:48       0.9064    0.9175\n",
      "        92   RobustScaler LightGBM                          0:00:45       0.8974    0.9175\n",
      "        93   MinMaxScaler GradientBoosting                  0:00:50       0.8931    0.9175\n",
      "        94   RobustScaler RandomForest                      0:00:51       0.9160    0.9175\n",
      "        95   StandardScalerWrapper RandomForest             0:00:47       0.9023    0.9175\n",
      "        96   RobustScaler RandomForest                      0:00:47       0.9118    0.9175\n",
      "        97   MaxAbsScaler GradientBoosting                  0:00:55       0.9050    0.9175\n",
      "       100   StandardScalerWrapper ExtremeRandomTrees       0:00:48       0.8872    0.9175\n",
      "        98   MaxAbsScaler RandomForest                      0:00:53       0.9153    0.9175\n",
      "       101   StandardScalerWrapper XGBoostClassifier        0:00:47       0.9112    0.9175\n",
      "        99   StandardScalerWrapper RandomForest             0:01:08       0.9098    0.9175\n",
      "       102   StandardScalerWrapper XGBoostClassifier        0:00:40       0.9056    0.9175\n",
      "ERROR: {\n",
      "    \"additional_properties\": {},\n",
      "    \"error\": {\n",
      "        \"additional_properties\": {\n",
      "            \"debugInfo\": null\n",
      "        },\n",
      "        \"code\": \"UserError\",\n",
      "        \"severity\": null,\n",
      "        \"message\": \"Experiment timeout reached, please consider increasing your experiment timeout.\",\n",
      "        \"message_format\": \"Experiment timeout reached, please consider increasing your experiment timeout.\",\n",
      "        \"message_parameters\": {},\n",
      "        \"reference_code\": null,\n",
      "        \"details_uri\": null,\n",
      "        \"target\": null,\n",
      "        \"details\": [],\n",
      "        \"inner_error\": {\n",
      "            \"additional_properties\": {},\n",
      "            \"code\": \"ResourceExhausted\",\n",
      "            \"inner_error\": {\n",
      "                \"additional_properties\": {},\n",
      "                \"code\": \"Timeout\",\n",
      "                \"inner_error\": {\n",
      "                    \"additional_properties\": {},\n",
      "                    \"code\": \"ExperimentTimeoutForIterations\",\n",
      "                    \"inner_error\": null\n",
      "                }\n",
      "            }\n",
      "        }\n",
      "    },\n",
      "    \"correlation\": null,\n",
      "    \"environment\": null,\n",
      "    \"location\": null,\n",
      "    \"time\": {},\n",
      "    \"component_name\": null\n",
      "}\n",
      "       103   StandardScalerWrapper XGBoostClassifier        0:00:39       0.8986    0.9175\n",
      "ERROR: {\n",
      "    \"additional_properties\": {},\n",
      "    \"error\": {\n",
      "        \"additional_properties\": {\n",
      "            \"debugInfo\": null\n",
      "        },\n",
      "        \"code\": \"UserError\",\n",
      "        \"severity\": null,\n",
      "        \"message\": \"Experiment timeout reached, please consider increasing your experiment timeout.\",\n",
      "        \"message_format\": \"Experiment timeout reached, please consider increasing your experiment timeout.\",\n",
      "        \"message_parameters\": {},\n",
      "        \"reference_code\": null,\n",
      "        \"details_uri\": null,\n",
      "        \"target\": null,\n",
      "        \"details\": [],\n",
      "        \"inner_error\": {\n",
      "            \"additional_properties\": {},\n",
      "            \"code\": \"ResourceExhausted\",\n",
      "            \"inner_error\": {\n",
      "                \"additional_properties\": {},\n",
      "                \"code\": \"Timeout\",\n",
      "                \"inner_error\": {\n",
      "                    \"additional_properties\": {},\n",
      "                    \"code\": \"ExperimentTimeoutForIterations\",\n",
      "                    \"inner_error\": null\n",
      "                }\n",
      "            }\n",
      "        }\n",
      "    },\n",
      "    \"correlation\": null,\n",
      "    \"environment\": null,\n",
      "    \"location\": null,\n",
      "    \"time\": {},\n",
      "    \"component_name\": null\n",
      "}\n",
      "       104                                                  0:00:45          nan    0.9175\n",
      "ERROR: {\n",
      "    \"additional_properties\": {},\n",
      "    \"error\": {\n",
      "        \"additional_properties\": {\n",
      "            \"debugInfo\": null\n",
      "        },\n",
      "        \"code\": \"UserError\",\n",
      "        \"severity\": null,\n",
      "        \"message\": \"Experiment timeout reached, please consider increasing your experiment timeout.\",\n",
      "        \"message_format\": \"Experiment timeout reached, please consider increasing your experiment timeout.\",\n",
      "        \"message_parameters\": {},\n",
      "        \"reference_code\": null,\n",
      "        \"details_uri\": null,\n",
      "        \"target\": null,\n",
      "        \"details\": [],\n",
      "        \"inner_error\": {\n",
      "            \"additional_properties\": {},\n",
      "            \"code\": \"ResourceExhausted\",\n",
      "            \"inner_error\": {\n",
      "                \"additional_properties\": {},\n",
      "                \"code\": \"Timeout\",\n",
      "                \"inner_error\": {\n",
      "                    \"additional_properties\": {},\n",
      "                    \"code\": \"ExperimentTimeoutForIterations\",\n",
      "                    \"inner_error\": null\n",
      "                }\n",
      "            }\n",
      "        }\n",
      "    },\n",
      "    \"correlation\": null,\n",
      "    \"environment\": null,\n",
      "    \"location\": null,\n",
      "    \"time\": {},\n",
      "    \"component_name\": null\n",
      "}\n",
      "       105    VotingEnsemble                                0:01:41       0.9226    0.9226\n",
      "       106    StackEnsemble                                 0:01:37       0.9185    0.9226\n"
     ]
    },
    {
     "data": {
      "text/plain": [
       "{'runId': 'AutoML_c6857abb-a0b5-4c5f-ae11-eeba33cf46c3',\n",
       " 'target': 'project-automl',\n",
       " 'status': 'Completed',\n",
       " 'startTimeUtc': '2021-04-17T00:43:24.693872Z',\n",
       " 'endTimeUtc': '2021-04-17T01:25:32.7212Z',\n",
       " 'properties': {'num_iterations': '1000',\n",
       "  'training_type': 'TrainFull',\n",
       "  'acquisition_function': 'EI',\n",
       "  'primary_metric': 'AUC_weighted',\n",
       "  'train_split': '0',\n",
       "  'acquisition_parameter': '0',\n",
       "  'num_cross_validation': '5',\n",
       "  'target': 'project-automl',\n",
       "  'AMLSettingsJsonString': '{\"path\":null,\"name\":\"heartfailure-automl\",\"subscription_id\":\"3d1a56d2-7c81-4118-9790-f85d1acf0c77\",\"resource_group\":\"aml-quickstarts-142887\",\"workspace_name\":\"quick-starts-ws-142887\",\"region\":\"southcentralus\",\"compute_target\":\"project-automl\",\"spark_service\":null,\"azure_service\":\"remote\",\"many_models\":false,\"pipeline_fetch_max_batch_size\":1,\"enable_batch_run\":false,\"enable_run_restructure\":false,\"iterations\":1000,\"primary_metric\":\"AUC_weighted\",\"task_type\":\"classification\",\"data_script\":null,\"test_size\":0.0,\"validation_size\":0.0,\"n_cross_validations\":5,\"y_min\":null,\"y_max\":null,\"num_classes\":null,\"featurization\":\"auto\",\"_ignore_package_version_incompatibilities\":false,\"is_timeseries\":false,\"max_cores_per_iteration\":1,\"max_concurrent_iterations\":5,\"iteration_timeout_minutes\":null,\"mem_in_mb\":null,\"enforce_time_on_windows\":false,\"experiment_timeout_minutes\":30,\"experiment_exit_score\":null,\"whitelist_models\":null,\"blacklist_algos\":[\"TensorFlowLinearClassifier\",\"TensorFlowDNN\"],\"supported_models\":[\"RandomForest\",\"BernoulliNaiveBayes\",\"SGD\",\"TensorFlowDNN\",\"TensorFlowLinearClassifier\",\"SVM\",\"LinearSVM\",\"AveragedPerceptronClassifier\",\"LogisticRegression\",\"LightGBM\",\"XGBoostClassifier\",\"GradientBoosting\",\"DecisionTree\",\"KNN\",\"ExtremeRandomTrees\",\"MultinomialNaiveBayes\"],\"private_models\":[],\"auto_blacklist\":true,\"blacklist_samples_reached\":false,\"exclude_nan_labels\":true,\"verbosity\":20,\"_debug_log\":\"azureml_automl.log\",\"show_warnings\":false,\"model_explainability\":true,\"service_url\":null,\"sdk_url\":null,\"sdk_packages\":null,\"enable_onnx_compatible_models\":false,\"enable_split_onnx_featurizer_estimator_models\":false,\"vm_type\":\"STANDARD_D2_V2\",\"telemetry_verbosity\":20,\"send_telemetry\":true,\"enable_dnn\":false,\"scenario\":\"SDK-1.13.0\",\"environment_label\":null,\"save_mlflow\":false,\"force_text_dnn\":false,\"enable_feature_sweeping\":true,\"enable_early_stopping\":false,\"early_stopping_n_iters\":10,\"metrics\":null,\"enable_metric_confidence\":false,\"enable_ensembling\":true,\"enable_stack_ensembling\":true,\"ensemble_iterations\":15,\"enable_tf\":false,\"enable_subsampling\":null,\"subsample_seed\":null,\"enable_nimbusml\":false,\"enable_streaming\":false,\"force_streaming\":false,\"track_child_runs\":true,\"allowed_private_models\":[],\"label_column_name\":\"DEATH_EVENT\",\"weight_column_name\":null,\"cv_split_column_names\":null,\"enable_local_managed\":false,\"_local_managed_run_id\":null,\"cost_mode\":1,\"lag_length\":0,\"metric_operation\":\"maximize\",\"preprocess\":true}',\n",
       "  'DataPrepJsonString': '{\\\\\"training_data\\\\\": {\\\\\"datasetId\\\\\": \\\\\"2444f06b-bc46-4743-b8d5-947a8dfd06ac\\\\\"}, \\\\\"datasets\\\\\": 0}',\n",
       "  'EnableSubsampling': None,\n",
       "  'runTemplate': 'AutoML',\n",
       "  'azureml.runsource': 'automl',\n",
       "  'display_task_type': 'classification',\n",
       "  'dependencies_versions': '{\"azureml-widgets\": \"1.26.0\", \"azureml-train\": \"1.26.0\", \"azureml-train-restclients-hyperdrive\": \"1.26.0\", \"azureml-train-core\": \"1.26.0\", \"azureml-train-automl\": \"1.26.0\", \"azureml-train-automl-runtime\": \"1.26.0\", \"azureml-train-automl-client\": \"1.26.0\", \"azureml-tensorboard\": \"1.26.0\", \"azureml-telemetry\": \"1.26.0\", \"azureml-sdk\": \"1.26.0\", \"azureml-samples\": \"0+unknown\", \"azureml-pipeline\": \"1.26.0\", \"azureml-pipeline-steps\": \"1.26.0\", \"azureml-pipeline-core\": \"1.26.0\", \"azureml-opendatasets\": \"1.26.0\", \"azureml-model-management-sdk\": \"1.0.1b6.post1\", \"azureml-mlflow\": \"1.26.0\", \"azureml-interpret\": \"1.26.0\", \"azureml-explain-model\": \"1.26.0\", \"azureml-defaults\": \"1.26.0\", \"azureml-dataset-runtime\": \"1.26.0\", \"azureml-dataprep\": \"2.13.2\", \"azureml-dataprep-rslex\": \"1.11.2\", \"azureml-dataprep-native\": \"32.0.0\", \"azureml-datadrift\": \"1.26.0\", \"azureml-core\": \"1.26.0\", \"azureml-contrib-services\": \"1.26.0\", \"azureml-contrib-server\": \"1.26.0\", \"azureml-contrib-reinforcementlearning\": \"1.26.0\", \"azureml-contrib-pipeline-steps\": \"1.26.0\", \"azureml-contrib-notebook\": \"1.26.0\", \"azureml-contrib-gbdt\": \"1.26.0\", \"azureml-contrib-fairness\": \"1.26.0\", \"azureml-contrib-dataset\": \"1.26.0\", \"azureml-cli-common\": \"1.26.0\", \"azureml-automl-runtime\": \"1.26.0\", \"azureml-automl-dnn-nlp\": \"1.26.0\", \"azureml-automl-core\": \"1.26.0\", \"azureml-accel-models\": \"1.26.0\"}',\n",
       "  '_aml_system_scenario_identification': 'Remote.Parent',\n",
       "  'ClientType': 'SDK',\n",
       "  'environment_cpu_name': 'AzureML-AutoML',\n",
       "  'environment_cpu_label': 'prod',\n",
       "  'environment_gpu_name': 'AzureML-AutoML-GPU',\n",
       "  'environment_gpu_label': 'prod',\n",
       "  'root_attribution': 'automl',\n",
       "  'attribution': 'AutoML',\n",
       "  'Orchestrator': 'AutoML',\n",
       "  'CancelUri': 'https://southcentralus.experiments.azureml.net/jasmine/v1.0/subscriptions/3d1a56d2-7c81-4118-9790-f85d1acf0c77/resourceGroups/aml-quickstarts-142887/providers/Microsoft.MachineLearningServices/workspaces/quick-starts-ws-142887/experimentids/ceb92770-3213-457f-98dc-37b431eb81d7/cancel/AutoML_c6857abb-a0b5-4c5f-ae11-eeba33cf46c3',\n",
       "  'azureml.git.repository_uri': 'https://github.com/PeacePeters/Heart-Failure-Prediction-using-AzureML',\n",
       "  'mlflow.source.git.repoURL': 'https://github.com/PeacePeters/Heart-Failure-Prediction-using-AzureML',\n",
       "  'azureml.git.branch': 'main',\n",
       "  'mlflow.source.git.branch': 'main',\n",
       "  'azureml.git.commit': 'd2fb8a4ec103019681ab24bf4effa4f211a17b19',\n",
       "  'mlflow.source.git.commit': 'd2fb8a4ec103019681ab24bf4effa4f211a17b19',\n",
       "  'azureml.git.dirty': 'True',\n",
       "  'ClientSdkVersion': '1.25.0',\n",
       "  'snapshotId': '00000000-0000-0000-0000-000000000000',\n",
       "  'SetupRunId': 'AutoML_c6857abb-a0b5-4c5f-ae11-eeba33cf46c3_setup',\n",
       "  'SetupRunContainerId': 'dcid.AutoML_c6857abb-a0b5-4c5f-ae11-eeba33cf46c3_setup',\n",
       "  'FeaturizationRunJsonPath': 'featurizer_container.json',\n",
       "  'FeaturizationRunId': 'AutoML_c6857abb-a0b5-4c5f-ae11-eeba33cf46c3_featurize',\n",
       "  'ProblemInfoJsonString': '{\"dataset_num_categorical\": 0, \"is_sparse\": false, \"subsampling\": false, \"dataset_classes\": 2, \"dataset_features\": 12, \"dataset_samples\": 299, \"single_frequency_class_detected\": false}',\n",
       "  'ModelExplainRunId': 'AutoML_c6857abb-a0b5-4c5f-ae11-eeba33cf46c3_ModelExplain'},\n",
       " 'inputDatasets': [{'dataset': {'id': '2444f06b-bc46-4743-b8d5-947a8dfd06ac'}, 'consumptionDetails': {'type': 'RunInput', 'inputName': 'training_data', 'mechanism': 'Direct'}}],\n",
       " 'outputDatasets': [],\n",
       " 'logFiles': {},\n",
       " 'submittedBy': 'ODL_User 142887'}"
      ]
     },
     "execution_count": 10,
     "metadata": {},
     "output_type": "execute_result"
    }
   ],
   "source": [
    "RunDetails(remote_run).show()\n",
    "remote_run.wait_for_completion(show_output=True)"
   ]
  },
  {
   "cell_type": "markdown",
   "metadata": {},
   "source": [
    "## Best Model"
   ]
  },
  {
   "cell_type": "code",
   "execution_count": 11,
   "metadata": {
    "gather": {
     "logged": 1618622963588
    }
   },
   "outputs": [],
   "source": [
    "# Get best run and model\n",
    "best_run, best_model = remote_run.get_output()"
   ]
  },
  {
   "cell_type": "code",
   "execution_count": 12,
   "metadata": {
    "gather": {
     "logged": 1618622972553
    }
   },
   "outputs": [
    {
     "data": {
      "text/html": [
       "<table style=\"width:100%\"><tr><th>Experiment</th><th>Id</th><th>Type</th><th>Status</th><th>Details Page</th><th>Docs Page</th></tr><tr><td>heartfailure-automl</td><td>AutoML_c6857abb-a0b5-4c5f-ae11-eeba33cf46c3_105</td><td>azureml.scriptrun</td><td>Completed</td><td><a href=\"https://ml.azure.com/runs/AutoML_c6857abb-a0b5-4c5f-ae11-eeba33cf46c3_105?wsid=/subscriptions/3d1a56d2-7c81-4118-9790-f85d1acf0c77/resourcegroups/aml-quickstarts-142887/workspaces/quick-starts-ws-142887&amp;tid=660b3398-b80e-49d2-bc5b-ac1dc93b5254\" target=\"_blank\" rel=\"noopener\">Link to Azure Machine Learning studio</a></td><td><a href=\"https://docs.microsoft.com/en-us/python/api/azureml-core/azureml.core.run.Run?view=azure-ml-py\" target=\"_blank\" rel=\"noopener\">Link to Documentation</a></td></tr></table>"
      ],
      "text/plain": [
       "Run(Experiment: heartfailure-automl,\n",
       "Id: AutoML_c6857abb-a0b5-4c5f-ae11-eeba33cf46c3_105,\n",
       "Type: azureml.scriptrun,\n",
       "Status: Completed)"
      ]
     },
     "execution_count": 12,
     "metadata": {},
     "output_type": "execute_result"
    }
   ],
   "source": [
    "best_run"
   ]
  },
  {
   "cell_type": "code",
   "execution_count": 13,
   "metadata": {
    "gather": {
     "logged": 1618622995756
    }
   },
   "outputs": [
    {
     "name": "stdout",
     "output_type": "stream",
     "text": [
      "recall_score_weighted 0.8393785310734463\n",
      "precision_score_macro 0.824556798401192\n",
      "accuracy 0.8393785310734463\n",
      "f1_score_weighted 0.8359945753349244\n",
      "balanced_accuracy 0.8148643410852714\n",
      "average_precision_score_micro 0.9241824826533982\n",
      "AUC_weighted 0.9226163713547434\n",
      "log_loss 0.42811259742649577\n",
      "norm_macro_recall 0.6297286821705427\n",
      "precision_score_micro 0.8393785310734463\n",
      "recall_score_macro 0.8148643410852714\n",
      "average_precision_score_weighted 0.9352476103800835\n",
      "matthews_correlation 0.6370694049823383\n",
      "f1_score_micro 0.8393785310734463\n",
      "precision_score_weighted 0.8568664469679866\n",
      "average_precision_score_macro 0.9151985863556545\n",
      "weighted_accuracy 0.8560851677689973\n",
      "f1_score_macro 0.8063664974189777\n",
      "AUC_micro 0.9214179035398512\n",
      "AUC_macro 0.9226163713547434\n",
      "recall_score_micro 0.8393785310734463\n",
      "confusion_matrix aml://artifactId/ExperimentRun/dcid.AutoML_c6857abb-a0b5-4c5f-ae11-eeba33cf46c3_105/confusion_matrix\n",
      "accuracy_table aml://artifactId/ExperimentRun/dcid.AutoML_c6857abb-a0b5-4c5f-ae11-eeba33cf46c3_105/accuracy_table\n"
     ]
    }
   ],
   "source": [
    "# Get all metrics of the best run\n",
    "best_run_metrics = best_run.get_metrics()\n",
    "\n",
    "# Print all metrics of the best run\n",
    "for metric_name in best_run_metrics:\n",
    "    metric = best_run_metrics[metric_name]\n",
    "    print(metric_name, metric)"
   ]
  },
  {
   "cell_type": "code",
   "execution_count": 14,
   "metadata": {
    "gather": {
     "logged": 1618623050347
    }
   },
   "outputs": [
    {
     "name": "stdout",
     "output_type": "stream",
     "text": [
      "Best Run Id: AutoML_c6857abb-a0b5-4c5f-ae11-eeba33cf46c3_105 Best Model Name: AutoMLc6857abba105\n",
      "\n",
      " AUC_weighted: 0.9226163713547434\n"
     ]
    }
   ],
   "source": [
    "print('Best Run Id: ' + best_run.id,\n",
    "     'Best Model Name: ' + best_run.properties['model_name'])\n",
    "print('\\n AUC_weighted:', best_run_metrics['AUC_weighted'])"
   ]
  },
  {
   "cell_type": "code",
   "execution_count": 15,
   "metadata": {
    "gather": {
     "logged": 1618623066730
    }
   },
   "outputs": [
    {
     "data": {
      "text/plain": [
       "Pipeline(memory=None,\n",
       "         steps=[('datatransformer',\n",
       "                 DataTransformer(enable_dnn=None, enable_feature_sweeping=None,\n",
       "                                 feature_sweeping_config=None,\n",
       "                                 feature_sweeping_timeout=None,\n",
       "                                 featurization_config=None, force_text_dnn=None,\n",
       "                                 is_cross_validation=None,\n",
       "                                 is_onnx_compatible=None, logger=None,\n",
       "                                 observer=None, task=None, working_dir=None)),\n",
       "                ('prefittedsoftvotingclassifier',...\n",
       "                                                                                               scale_pos_weight=1,\n",
       "                                                                                               seed=None,\n",
       "                                                                                               silent=None,\n",
       "                                                                                               subsample=0.6,\n",
       "                                                                                               tree_method='auto',\n",
       "                                                                                               verbose=-10,\n",
       "                                                                                               verbosity=0))],\n",
       "                                                                     verbose=False))],\n",
       "                                               flatten_transform=None,\n",
       "                                               weights=[0.07142857142857142,\n",
       "                                                        0.14285714285714285,\n",
       "                                                        0.07142857142857142,\n",
       "                                                        0.07142857142857142,\n",
       "                                                        0.07142857142857142,\n",
       "                                                        0.14285714285714285,\n",
       "                                                        0.07142857142857142,\n",
       "                                                        0.07142857142857142,\n",
       "                                                        0.07142857142857142,\n",
       "                                                        0.21428571428571427]))],\n",
       "         verbose=False)"
      ]
     },
     "execution_count": 15,
     "metadata": {},
     "output_type": "execute_result"
    }
   ],
   "source": [
    "best_model"
   ]
  },
  {
   "cell_type": "code",
   "execution_count": 16,
   "metadata": {
    "gather": {
     "logged": 1618623096962
    }
   },
   "outputs": [
    {
     "data": {
      "text/plain": [
       "PreFittedSoftVotingClassifier(classification_labels=None,\n",
       "                              estimators=[('69',\n",
       "                                           Pipeline(memory=None,\n",
       "                                                    steps=[('minmaxscaler',\n",
       "                                                            MinMaxScaler(copy=True,\n",
       "                                                                         feature_range=(0,\n",
       "                                                                                        1))),\n",
       "                                                           ('randomforestclassifier',\n",
       "                                                            RandomForestClassifier(bootstrap=True,\n",
       "                                                                                   ccp_alpha=0.0,\n",
       "                                                                                   class_weight='balanced',\n",
       "                                                                                   criterion='gini',\n",
       "                                                                                   max_depth=None,\n",
       "                                                                                   max_features=0.2,\n",
       "                                                                                   max_leaf_nodes=None,\n",
       "                                                                                   max_samples=Non...\n",
       "                                                                              scale_pos_weight=1,\n",
       "                                                                              seed=None,\n",
       "                                                                              silent=None,\n",
       "                                                                              subsample=0.6,\n",
       "                                                                              tree_method='auto',\n",
       "                                                                              verbose=-10,\n",
       "                                                                              verbosity=0))],\n",
       "                                                    verbose=False))],\n",
       "                              flatten_transform=None,\n",
       "                              weights=[0.07142857142857142, 0.14285714285714285,\n",
       "                                       0.07142857142857142, 0.07142857142857142,\n",
       "                                       0.07142857142857142, 0.14285714285714285,\n",
       "                                       0.07142857142857142, 0.07142857142857142,\n",
       "                                       0.07142857142857142,\n",
       "                                       0.21428571428571427])"
      ]
     },
     "execution_count": 16,
     "metadata": {},
     "output_type": "execute_result"
    }
   ],
   "source": [
    "best_model._final_estimator"
   ]
  },
  {
   "cell_type": "code",
   "execution_count": 17,
   "metadata": {
    "gather": {
     "logged": 1618623102036
    }
   },
   "outputs": [
    {
     "name": "stdout",
     "output_type": "stream",
     "text": [
      "datatransformer\n",
      "{'enable_dnn': None,\n",
      " 'enable_feature_sweeping': None,\n",
      " 'feature_sweeping_config': None,\n",
      " 'feature_sweeping_timeout': None,\n",
      " 'featurization_config': None,\n",
      " 'force_text_dnn': None,\n",
      " 'is_cross_validation': None,\n",
      " 'is_onnx_compatible': None,\n",
      " 'logger': None,\n",
      " 'observer': None,\n",
      " 'task': None,\n",
      " 'working_dir': None}\n",
      "\n",
      "prefittedsoftvotingclassifier\n",
      "{'estimators': ['69', '61', '79', '94', '66', '60', '98', '64', '49', '19'],\n",
      " 'weights': [0.07142857142857142,\n",
      "             0.14285714285714285,\n",
      "             0.07142857142857142,\n",
      "             0.07142857142857142,\n",
      "             0.07142857142857142,\n",
      "             0.14285714285714285,\n",
      "             0.07142857142857142,\n",
      "             0.07142857142857142,\n",
      "             0.07142857142857142,\n",
      "             0.21428571428571427]}\n",
      "\n",
      "69 - minmaxscaler\n",
      "{'copy': True, 'feature_range': (0, 1)}\n",
      "\n",
      "69 - randomforestclassifier\n",
      "{'bootstrap': True,\n",
      " 'ccp_alpha': 0.0,\n",
      " 'class_weight': 'balanced',\n",
      " 'criterion': 'gini',\n",
      " 'max_depth': None,\n",
      " 'max_features': 0.2,\n",
      " 'max_leaf_nodes': None,\n",
      " 'max_samples': None,\n",
      " 'min_impurity_decrease': 0.0,\n",
      " 'min_impurity_split': None,\n",
      " 'min_samples_leaf': 0.01,\n",
      " 'min_samples_split': 0.2442105263157895,\n",
      " 'min_weight_fraction_leaf': 0.0,\n",
      " 'n_estimators': 100,\n",
      " 'n_jobs': 1,\n",
      " 'oob_score': True,\n",
      " 'random_state': None,\n",
      " 'verbose': 0,\n",
      " 'warm_start': False}\n",
      "\n",
      "61 - standardscalerwrapper\n",
      "{'class_name': 'StandardScaler',\n",
      " 'copy': True,\n",
      " 'module_name': 'sklearn.preprocessing._data',\n",
      " 'with_mean': False,\n",
      " 'with_std': True}\n",
      "\n",
      "61 - randomforestclassifier\n",
      "{'bootstrap': True,\n",
      " 'ccp_alpha': 0.0,\n",
      " 'class_weight': 'balanced',\n",
      " 'criterion': 'entropy',\n",
      " 'max_depth': None,\n",
      " 'max_features': 'log2',\n",
      " 'max_leaf_nodes': None,\n",
      " 'max_samples': None,\n",
      " 'min_impurity_decrease': 0.0,\n",
      " 'min_impurity_split': None,\n",
      " 'min_samples_leaf': 0.01,\n",
      " 'min_samples_split': 0.2442105263157895,\n",
      " 'min_weight_fraction_leaf': 0.0,\n",
      " 'n_estimators': 200,\n",
      " 'n_jobs': 1,\n",
      " 'oob_score': True,\n",
      " 'random_state': None,\n",
      " 'verbose': 0,\n",
      " 'warm_start': False}\n",
      "\n",
      "79 - standardscalerwrapper\n",
      "{'class_name': 'StandardScaler',\n",
      " 'copy': True,\n",
      " 'module_name': 'sklearn.preprocessing._data',\n",
      " 'with_mean': False,\n",
      " 'with_std': True}\n",
      "\n",
      "79 - gradientboostingclassifier\n",
      "{'ccp_alpha': 0.0,\n",
      " 'criterion': 'friedman_mse',\n",
      " 'init': None,\n",
      " 'learning_rate': 0.01,\n",
      " 'loss': 'deviance',\n",
      " 'max_depth': 9,\n",
      " 'max_features': 0.3,\n",
      " 'max_leaf_nodes': None,\n",
      " 'min_impurity_decrease': 0.0,\n",
      " 'min_impurity_split': None,\n",
      " 'min_samples_leaf': 0.06157894736842105,\n",
      " 'min_samples_split': 0.29105263157894734,\n",
      " 'min_weight_fraction_leaf': 0.0,\n",
      " 'n_estimators': 600,\n",
      " 'n_iter_no_change': None,\n",
      " 'presort': 'deprecated',\n",
      " 'random_state': None,\n",
      " 'subsample': 0.8105263157894737,\n",
      " 'tol': 0.0001,\n",
      " 'validation_fraction': 0.1,\n",
      " 'verbose': 0,\n",
      " 'warm_start': False}\n",
      "\n",
      "94 - robustscaler\n",
      "{'copy': True,\n",
      " 'quantile_range': [25, 75],\n",
      " 'with_centering': True,\n",
      " 'with_scaling': False}\n",
      "\n",
      "94 - randomforestclassifier\n",
      "{'bootstrap': True,\n",
      " 'ccp_alpha': 0.0,\n",
      " 'class_weight': 'balanced',\n",
      " 'criterion': 'entropy',\n",
      " 'max_depth': None,\n",
      " 'max_features': 'log2',\n",
      " 'max_leaf_nodes': None,\n",
      " 'max_samples': None,\n",
      " 'min_impurity_decrease': 0.0,\n",
      " 'min_impurity_split': None,\n",
      " 'min_samples_leaf': 0.06157894736842105,\n",
      " 'min_samples_split': 0.10368421052631578,\n",
      " 'min_weight_fraction_leaf': 0.0,\n",
      " 'n_estimators': 50,\n",
      " 'n_jobs': 1,\n",
      " 'oob_score': True,\n",
      " 'random_state': None,\n",
      " 'verbose': 0,\n",
      " 'warm_start': False}\n",
      "\n",
      "66 - standardscalerwrapper\n",
      "{'class_name': 'StandardScaler',\n",
      " 'copy': True,\n",
      " 'module_name': 'sklearn.preprocessing._data',\n",
      " 'with_mean': True,\n",
      " 'with_std': True}\n",
      "\n",
      "66 - gradientboostingclassifier\n",
      "{'ccp_alpha': 0.0,\n",
      " 'criterion': 'mse',\n",
      " 'init': None,\n",
      " 'learning_rate': 0.01,\n",
      " 'loss': 'deviance',\n",
      " 'max_depth': 8,\n",
      " 'max_features': None,\n",
      " 'max_leaf_nodes': None,\n",
      " 'min_impurity_decrease': 0.0,\n",
      " 'min_impurity_split': None,\n",
      " 'min_samples_leaf': 0.035789473684210524,\n",
      " 'min_samples_split': 0.29105263157894734,\n",
      " 'min_weight_fraction_leaf': 0.0,\n",
      " 'n_estimators': 400,\n",
      " 'n_iter_no_change': None,\n",
      " 'presort': 'deprecated',\n",
      " 'random_state': None,\n",
      " 'subsample': 0.6684210526315789,\n",
      " 'tol': 0.0001,\n",
      " 'validation_fraction': 0.1,\n",
      " 'verbose': 0,\n",
      " 'warm_start': False}\n",
      "\n",
      "60 - minmaxscaler\n",
      "{'copy': True, 'feature_range': (0, 1)}\n",
      "\n",
      "60 - gradientboostingclassifier\n",
      "{'ccp_alpha': 0.0,\n",
      " 'criterion': 'mse',\n",
      " 'init': None,\n",
      " 'learning_rate': 0.00021544346900318845,\n",
      " 'loss': 'deviance',\n",
      " 'max_depth': 5,\n",
      " 'max_features': None,\n",
      " 'max_leaf_nodes': None,\n",
      " 'min_impurity_decrease': 0.0,\n",
      " 'min_impurity_split': None,\n",
      " 'min_samples_leaf': 0.035789473684210524,\n",
      " 'min_samples_split': 0.15052631578947367,\n",
      " 'min_weight_fraction_leaf': 0.0,\n",
      " 'n_estimators': 100,\n",
      " 'n_iter_no_change': None,\n",
      " 'presort': 'deprecated',\n",
      " 'random_state': None,\n",
      " 'subsample': 0.38421052631578945,\n",
      " 'tol': 0.0001,\n",
      " 'validation_fraction': 0.1,\n",
      " 'verbose': 0,\n",
      " 'warm_start': False}\n",
      "\n",
      "98 - maxabsscaler\n",
      "{'copy': True}\n",
      "\n",
      "98 - randomforestclassifier\n",
      "{'bootstrap': True,\n",
      " 'ccp_alpha': 0.0,\n",
      " 'class_weight': 'balanced',\n",
      " 'criterion': 'entropy',\n",
      " 'max_depth': None,\n",
      " 'max_features': 0.3,\n",
      " 'max_leaf_nodes': None,\n",
      " 'max_samples': None,\n",
      " 'min_impurity_decrease': 0.0,\n",
      " 'min_impurity_split': None,\n",
      " 'min_samples_leaf': 0.01,\n",
      " 'min_samples_split': 0.19736842105263158,\n",
      " 'min_weight_fraction_leaf': 0.0,\n",
      " 'n_estimators': 400,\n",
      " 'n_jobs': 1,\n",
      " 'oob_score': False,\n",
      " 'random_state': None,\n",
      " 'verbose': 0,\n",
      " 'warm_start': False}\n",
      "\n",
      "64 - standardscalerwrapper\n",
      "{'class_name': 'StandardScaler',\n",
      " 'copy': True,\n",
      " 'module_name': 'sklearn.preprocessing._data',\n",
      " 'with_mean': True,\n",
      " 'with_std': False}\n",
      "\n",
      "64 - gradientboostingclassifier\n",
      "{'ccp_alpha': 0.0,\n",
      " 'criterion': 'mse',\n",
      " 'init': None,\n",
      " 'learning_rate': 0.021544346900318822,\n",
      " 'loss': 'deviance',\n",
      " 'max_depth': 8,\n",
      " 'max_features': 0.5,\n",
      " 'max_leaf_nodes': None,\n",
      " 'min_impurity_decrease': 0.0,\n",
      " 'min_impurity_split': None,\n",
      " 'min_samples_leaf': 0.01,\n",
      " 'min_samples_split': 0.38473684210526315,\n",
      " 'min_weight_fraction_leaf': 0.0,\n",
      " 'n_estimators': 400,\n",
      " 'n_iter_no_change': None,\n",
      " 'presort': 'deprecated',\n",
      " 'random_state': None,\n",
      " 'subsample': 0.43157894736842106,\n",
      " 'tol': 0.0001,\n",
      " 'validation_fraction': 0.1,\n",
      " 'verbose': 0,\n",
      " 'warm_start': False}\n",
      "\n",
      "49 - standardscalerwrapper\n",
      "{'class_name': 'StandardScaler',\n",
      " 'copy': True,\n",
      " 'module_name': 'sklearn.preprocessing._data',\n",
      " 'with_mean': False,\n",
      " 'with_std': False}\n",
      "\n",
      "49 - lightgbmclassifier\n",
      "{'boosting_type': 'goss',\n",
      " 'class_weight': None,\n",
      " 'colsample_bytree': 0.1,\n",
      " 'importance_type': 'split',\n",
      " 'learning_rate': 0.07368684210526316,\n",
      " 'max_bin': 380,\n",
      " 'max_depth': 2,\n",
      " 'min_child_samples': 9,\n",
      " 'min_child_weight': 2,\n",
      " 'min_split_gain': 0.8421052631578947,\n",
      " 'n_estimators': 800,\n",
      " 'n_jobs': 1,\n",
      " 'num_leaves': 56,\n",
      " 'objective': None,\n",
      " 'random_state': None,\n",
      " 'reg_alpha': 1,\n",
      " 'reg_lambda': 0.7368421052631579,\n",
      " 'silent': True,\n",
      " 'subsample': 1,\n",
      " 'subsample_for_bin': 200000,\n",
      " 'subsample_freq': 0,\n",
      " 'verbose': -10}\n",
      "\n",
      "19 - standardscalerwrapper\n",
      "{'class_name': 'StandardScaler',\n",
      " 'copy': True,\n",
      " 'module_name': 'sklearn.preprocessing._data',\n",
      " 'with_mean': False,\n",
      " 'with_std': False}\n",
      "\n",
      "19 - xgboostclassifier\n",
      "{'base_score': 0.5,\n",
      " 'booster': 'gbtree',\n",
      " 'colsample_bylevel': 1,\n",
      " 'colsample_bynode': 1,\n",
      " 'colsample_bytree': 0.7,\n",
      " 'eta': 0.001,\n",
      " 'gamma': 0,\n",
      " 'learning_rate': 0.1,\n",
      " 'max_delta_step': 0,\n",
      " 'max_depth': 5,\n",
      " 'max_leaves': 0,\n",
      " 'min_child_weight': 1,\n",
      " 'missing': nan,\n",
      " 'n_estimators': 10,\n",
      " 'n_jobs': 1,\n",
      " 'nthread': None,\n",
      " 'objective': 'reg:logistic',\n",
      " 'random_state': 0,\n",
      " 'reg_alpha': 1.1458333333333335,\n",
      " 'reg_lambda': 1.3541666666666667,\n",
      " 'scale_pos_weight': 1,\n",
      " 'seed': None,\n",
      " 'silent': None,\n",
      " 'subsample': 0.6,\n",
      " 'tree_method': 'auto',\n",
      " 'verbose': -10,\n",
      " 'verbosity': 0}\n",
      "\n"
     ]
    }
   ],
   "source": [
    "# Print detailed parameters of the fitted model\n",
    "def print_model(model, prefix=\"\"):\n",
    "    for step in model.steps:\n",
    "        print(prefix + step[0])\n",
    "        if hasattr(step[1], 'estimators') and hasattr(step[1], 'weights'):\n",
    "            pprint({'estimators': list(\n",
    "                e[0] for e in step[1].estimators), 'weights': step[1].weights})\n",
    "            print()\n",
    "            for estimator in step[1].estimators:\n",
    "                print_model(estimator[1], estimator[0] + ' - ')\n",
    "        else:\n",
    "            pprint(step[1].get_params())\n",
    "            print()\n",
    "\n",
    "print_model(best_model)"
   ]
  },
  {
   "cell_type": "code",
   "execution_count": null,
   "metadata": {},
   "outputs": [],
   "source": [
    "best_run.get_environment()"
   ]
  },
  {
   "cell_type": "code",
   "execution_count": 18,
   "metadata": {
    "gather": {
     "logged": 1618623136526
    },
    "jupyter": {
     "outputs_hidden": false,
     "source_hidden": false
    },
    "nteract": {
     "transient": {
      "deleting": false
     }
    }
   },
   "outputs": [
    {
     "data": {
      "text/plain": [
       "{'_aml_system_azureml.automlComponent': 'AutoML',\n",
       " '_aml_system_ComputeTargetStatus': '{\"AllocationState\":\"steady\",\"PreparingNodeCount\":0,\"RunningNodeCount\":4,\"CurrentNodeCount\":4}',\n",
       " 'mlflow.source.type': 'JOB',\n",
       " 'mlflow.source.name': 'automl_driver.py',\n",
       " 'ensembled_iterations': '[69, 61, 79, 94, 66, 60, 98, 64, 49, 19]',\n",
       " 'ensembled_algorithms': \"['RandomForest', 'RandomForest', 'GradientBoosting', 'RandomForest', 'GradientBoosting', 'GradientBoosting', 'RandomForest', 'GradientBoosting', 'LightGBM', 'XGBoostClassifier']\",\n",
       " 'ensemble_weights': '[0.07142857142857142, 0.14285714285714285, 0.07142857142857142, 0.07142857142857142, 0.07142857142857142, 0.14285714285714285, 0.07142857142857142, 0.07142857142857142, 0.07142857142857142, 0.21428571428571427]',\n",
       " 'best_individual_pipeline_score': '0.9175457733480987',\n",
       " 'best_individual_iteration': '69',\n",
       " '_aml_system_automl_is_child_run_end_telemetry_event_logged': 'True'}"
      ]
     },
     "execution_count": 18,
     "metadata": {},
     "output_type": "execute_result"
    }
   ],
   "source": [
    "best_run.get_tags()"
   ]
  },
  {
   "cell_type": "markdown",
   "metadata": {},
   "source": [
    "## Model Deployment"
   ]
  },
  {
   "cell_type": "code",
   "execution_count": 23,
   "metadata": {
    "gather": {
     "logged": 1618623783560
    },
    "jupyter": {
     "outputs_hidden": false,
     "source_hidden": false
    },
    "nteract": {
     "transient": {
      "deleting": false
     }
    }
   },
   "outputs": [
    {
     "data": {
      "text/plain": [
       "Model(workspace=Workspace.create(name='quick-starts-ws-142887', subscription_id='3d1a56d2-7c81-4118-9790-f85d1acf0c77', resource_group='aml-quickstarts-142887'), name=heartfailure-automl-model, id=heartfailure-automl-model:2, version=2, tags={'Training context': 'AutoML', 'type': 'Classification'}, properties={})"
      ]
     },
     "execution_count": 23,
     "metadata": {},
     "output_type": "execute_result"
    }
   ],
   "source": [
    "# Register the model\n",
    "myModel = best_run.register_model(model_path='outputs/model.pkl', model_name=experiment_name+\"-model\",\n",
    "                   tags={'Training context':'AutoML', 'type': 'Classification'})\n",
    "myModel"
   ]
  },
  {
   "cell_type": "code",
   "execution_count": 20,
   "metadata": {
    "gather": {
     "logged": 1618623149041
    }
   },
   "outputs": [
    {
     "name": "stdout",
     "output_type": "stream",
     "text": [
      "heartfailure-automl-model version: 1\n",
      "\t Training context : AutoML\n",
      "\t type : Classification\n",
      "\n",
      "\n",
      "hyperdrive-heart-failure-best-model version: 1\n",
      "\t Training context : Parameterized SKLearn Estimator\n",
      "\t type : Classification\n",
      "\t AUC_weighted : 0.8166666666666667\n",
      "\n",
      "\n"
     ]
    }
   ],
   "source": [
    "# List registered models to verify if model has been saved\n",
    "for model in Model.list(ws):\n",
    "    print(model.name, 'version:', model.version)\n",
    "    for tag_name in model.tags:\n",
    "        tag = model.tags[tag_name]\n",
    "        print ('\\t',tag_name, ':', tag)\n",
    "    for prop_name in model.properties:\n",
    "        prop = model.properties[prop_name]\n",
    "        print ('\\t',prop_name, ':', prop)\n",
    "    print('\\n')"
   ]
  },
  {
   "cell_type": "code",
   "execution_count": 21,
   "metadata": {
    "gather": {
     "logged": 1618623164117
    }
   },
   "outputs": [],
   "source": [
    "best_run.download_file('outputs/model.pkl', './model.pkl')\n",
    "\n",
    "# Download scoring file\n",
    "best_run.download_file('outputs/scoring_file_v_1_0_0.py', './score.py')\n",
    "\n",
    "best_run.download_file('outputs/conda_env_v_1_0_0.yml', 'envFile.yml')"
   ]
  },
  {
   "cell_type": "code",
   "execution_count": 24,
   "metadata": {
    "gather": {
     "logged": 1618624174244
    }
   },
   "outputs": [
    {
     "name": "stdout",
     "output_type": "stream",
     "text": [
      "Tips: You can try get_logs(): https://aka.ms/debugimage#dockerlog or local deployment: https://aka.ms/debugimage#debug-locally to debug if deployment takes longer than 10 minutes.\n",
      "Running\n",
      "2021-04-17 01:43:26+00:00 Creating Container Registry if not exists.\n",
      "2021-04-17 01:43:27+00:00 Registering the environment.\n",
      "2021-04-17 01:43:27+00:00 Use the existing image.\n",
      "2021-04-17 01:43:28+00:00 Generating deployment configuration.\n",
      "2021-04-17 01:43:28+00:00 Submitting deployment to compute.\n",
      "2021-04-17 01:43:31+00:00 Checking the status of deployment heartfailure-automl-service..\n",
      "2021-04-17 01:49:30+00:00 Checking the status of inference endpoint heartfailure-automl-service.\n",
      "Succeeded\n",
      "ACI service creation operation finished, operation \"Succeeded\"\n",
      "Healthy\n"
     ]
    }
   ],
   "source": [
    "from azureml.core.webservice import AciWebservice\n",
    "from azureml.core.model import InferenceConfig\n",
    "\n",
    "env = Environment.get(ws, \"AzureML-AutoML\")\n",
    "inference_config = InferenceConfig(entry_script='./score.py', environment=env)\n",
    "\n",
    "aci_config = AciWebservice.deploy_configuration(cpu_cores=1,\n",
    "                                               memory_gb=1,\n",
    "                                               enable_app_insights=True, \n",
    "                                               tags={'name': 'aci-cluster', 'framework': 'AutoML'},\n",
    "                                               description='Heart Failure Predictor Web Service')\n",
    "\n",
    "service = Model.deploy(workspace=ws, \n",
    "                           name=experiment_name+\"-service\",\n",
    "                           models=[myModel], \n",
    "                           inference_config=inference_config, \n",
    "                           deployment_config=aci_config,\n",
    "                           overwrite=True)\n",
    "\n",
    "service.wait_for_deployment(show_output = True)\n",
    "print(service.state)"
   ]
  },
  {
   "cell_type": "code",
   "execution_count": 25,
   "metadata": {
    "gather": {
     "logged": 1618624253360
    }
   },
   "outputs": [
    {
     "name": "stdout",
     "output_type": "stream",
     "text": [
      "http://b0f36165-afd0-403d-a7f4-56024382d28b.southcentralus.azurecontainer.io/score\n",
      "http://b0f36165-afd0-403d-a7f4-56024382d28b.southcentralus.azurecontainer.io/swagger.json\n"
     ]
    }
   ],
   "source": [
    "print(service.scoring_uri)\n",
    "\n",
    "print(service.swagger_uri)"
   ]
  },
  {
   "cell_type": "code",
   "execution_count": 58,
   "metadata": {
    "gather": {
     "logged": 1618630471297
    }
   },
   "outputs": [
    {
     "name": "stdout",
     "output_type": "stream",
     "text": [
      "{\"data\": [{\"age\": 67.0, \"anaemia\": 0, \"creatinine_phosphokinase\": 582, \"diabetes\": 0, \"ejection_fraction\": 50, \"high_blood_pressure\": 0, \"platelets\": 263358.03, \"serum_creatinine\": 1.18, \"serum_sodium\": 137, \"sex\": 1, \"smoking\": 1, \"time\": 76}, {\"age\": 52.0, \"anaemia\": 0, \"creatinine_phosphokinase\": 132, \"diabetes\": 0, \"ejection_fraction\": 30, \"high_blood_pressure\": 0, \"platelets\": 218000.0, \"serum_creatinine\": 0.7, \"serum_sodium\": 136, \"sex\": 1, \"smoking\": 1, \"time\": 112}, {\"age\": 65.0, \"anaemia\": 0, \"creatinine_phosphokinase\": 167, \"diabetes\": 0, \"ejection_fraction\": 30, \"high_blood_pressure\": 0, \"platelets\": 259000.0, \"serum_creatinine\": 0.8, \"serum_sodium\": 138, \"sex\": 0, \"smoking\": 0, \"time\": 186}, {\"age\": 70.0, \"anaemia\": 1, \"creatinine_phosphokinase\": 59, \"diabetes\": 0, \"ejection_fraction\": 60, \"high_blood_pressure\": 0, \"platelets\": 255000.0, \"serum_creatinine\": 1.1, \"serum_sodium\": 136, \"sex\": 0, \"smoking\": 0, \"time\": 85}, {\"age\": 50.0, \"anaemia\": 1, \"creatinine_phosphokinase\": 168, \"diabetes\": 0, \"ejection_fraction\": 38, \"high_blood_pressure\": 1, \"platelets\": 276000.0, \"serum_creatinine\": 1.1, \"serum_sodium\": 137, \"sex\": 1, \"smoking\": 0, \"time\": 11}]}\n"
     ]
    }
   ],
   "source": [
    "import json\n",
    "import requests\n",
    "\n",
    "# import test data\n",
    "test_df = df.sample(5) # data is the pandas dataframe of the original data\n",
    "label_df = test_df.pop('DEATH_EVENT')\n",
    "\n",
    "test_sample = json.dumps({'data': test_df.to_dict(orient='records')})\n",
    "print(test_sample)"
   ]
  },
  {
   "cell_type": "code",
   "execution_count": 59,
   "metadata": {
    "gather": {
     "logged": 1618630475869
    }
   },
   "outputs": [
    {
     "name": "stdout",
     "output_type": "stream",
     "text": [
      "{\"result\": [0, 0, 0, 0, 1]}\n"
     ]
    }
   ],
   "source": [
    "# predict using the deployed model\n",
    "result = service.run(test_sample)\n",
    "print(result)"
   ]
  },
  {
   "cell_type": "code",
   "execution_count": 60,
   "metadata": {
    "gather": {
     "logged": 1618630483422
    }
   },
   "outputs": [
    {
     "name": "stdout",
     "output_type": "stream",
     "text": [
      "\"{\\\"result\\\": [0, 0, 0, 0, 1]}\"\n"
     ]
    }
   ],
   "source": [
    "# Set the content type\n",
    "headers = {'Content-type': 'application/json'}\n",
    "\n",
    "response = requests.post(service.scoring_uri, test_sample, headers=headers)\n",
    "\n",
    "# Print results from the inference\n",
    "print(response.text)"
   ]
  },
  {
   "cell_type": "code",
   "execution_count": 61,
   "metadata": {
    "gather": {
     "logged": 1618630492704
    }
   },
   "outputs": [],
   "source": [
    "# Print original labels\n",
    "print(label_df)"
   ]
  },
  {
   "cell_type": "code",
   "execution_count": null,
   "metadata": {},
   "outputs": [],
   "source": [
    "print(service.get_logs())"
   ]
  },
  {
   "cell_type": "code",
   "execution_count": null,
   "metadata": {
    "jupyter": {
     "outputs_hidden": false,
     "source_hidden": false
    },
    "nteract": {
     "transient": {
      "deleting": false
     }
    }
   },
   "outputs": [],
   "source": [
    "service.delete()"
   ]
  }
 ],
 "metadata": {
  "kernel_info": {
   "name": "python3-azureml"
  },
  "kernelspec": {
   "display_name": "Python 3",
   "language": "python",
   "name": "python3"
  },
  "language_info": {
   "codemirror_mode": {
    "name": "ipython",
    "version": 3
   },
   "file_extension": ".py",
   "mimetype": "text/x-python",
   "name": "python",
   "nbconvert_exporter": "python",
   "pygments_lexer": "ipython3",
   "version": "3.7.6"
  },
  "microsoft": {
   "host": {
    "AzureML": {
     "notebookHasBeenCompleted": true
    }
   }
  },
  "nteract": {
   "version": "nteract-front-end@1.0.0"
  }
 },
 "nbformat": 4,
 "nbformat_minor": 2
}
