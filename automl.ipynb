{
  "cells": [
    {
      "cell_type": "markdown",
      "source": [
        "# Automated ML on Heart Failure Dataset\n",
        "\n",
        "Importing dependencies"
      ],
      "metadata": {}
    },
    {
      "cell_type": "code",
      "source": [
        "import os\n",
        "import joblib\n",
        "import azureml.core\n",
        "from azureml.core import Workspace, Experiment, Dataset, Environment\n",
        "from azureml.core.compute import ComputeTarget, AmlCompute\n",
        "from azureml.core.compute_target import ComputeTargetException\n",
        "from azureml.widgets import RunDetails\n",
        "from azureml.train.automl import AutoMLConfig\n",
        "from pprint import pprint # Used in printing automl model parameters\n",
        "from azureml.core import Model # Used to get model information\n",
        "\n",
        "# Check core SDK version number\n",
        "print(\"SDK version:\", azureml.core.VERSION)"
      ],
      "outputs": [
        {
          "output_type": "stream",
          "name": "stdout",
          "text": [
            "SDK version: 1.26.0\n"
          ]
        }
      ],
      "execution_count": 1,
      "metadata": {
        "gather": {
          "logged": 1618620112813
        },
        "jupyter": {
          "outputs_hidden": false,
          "source_hidden": false
        },
        "nteract": {
          "transient": {
            "deleting": false
          }
        }
      }
    },
    {
      "cell_type": "markdown",
      "source": [
        "## Initialize Workspace\n",
        "\n",
        "Initialize a workspace object from persisted configuration. "
      ],
      "metadata": {}
    },
    {
      "cell_type": "code",
      "source": [
        "ws = Workspace.from_config()\n",
        "print(ws.name, ws.resource_group, ws.location, ws.subscription_id, sep = '\\n')"
      ],
      "outputs": [
        {
          "output_type": "stream",
          "name": "stdout",
          "text": [
            "quick-starts-ws-142998\n",
            "aml-quickstarts-142998\n",
            "southcentralus\n",
            "3d1a56d2-7c81-4118-9790-f85d1acf0c77\n"
          ]
        }
      ],
      "execution_count": 2,
      "metadata": {
        "gather": {
          "logged": 1618620118137
        }
      }
    },
    {
      "cell_type": "markdown",
      "source": [
        "## Create an Azure ML experiment\n",
        "\n",
        "Create an [Experiment](https://docs.microsoft.com/en-gb/azure/machine-learning/concept-azure-machine-learning-architecture#experiment) to track all the runs in your workspace."
      ],
      "metadata": {}
    },
    {
      "cell_type": "code",
      "source": [
        "# Choose a name for the run history container in the workspace\n",
        "experiment_name = 'heartfailure-automl'\n",
        "experiment = Experiment(ws, experiment_name)\n",
        "\n",
        "run = experiment.start_logging()"
      ],
      "outputs": [],
      "execution_count": 3,
      "metadata": {
        "gather": {
          "logged": 1618620127402
        }
      }
    },
    {
      "cell_type": "markdown",
      "source": [
        "## Create or Attach an AmlCompute cluster\n",
        "\n",
        "Create a [compute target](https://docs.microsoft.com/azure/machine-learning/service/concept-azure-machine-learning-architecture#compute-target) for AutoML run"
      ],
      "metadata": {}
    },
    {
      "cell_type": "code",
      "source": [
        "# Choose a name for your cluster\n",
        "# Compute name should contain only letters, digits, hyphen and should be 2-16 charachters long\n",
        "#cluster_name = \"aml-cluster\"\n",
        "cluster_name = \"project-automl\"\n",
        "\n",
        "try:\n",
        "    compute_target = ComputeTarget(workspace=ws, name=cluster_name)\n",
        "    print(f'{cluster_name} exists already')\n",
        "except ComputeTargetException:\n",
        "    print('Creating a new compute target...')\n",
        "    compute_config = AmlCompute.provisioning_configuration(vm_size='STANDARD_D2_V2', max_nodes=4)\n",
        "    \n",
        "    # create the cluster\n",
        "    compute_target = ComputeTarget.create(ws, cluster_name, compute_config)\n",
        "    \n",
        "    compute_target.wait_for_completion(show_output=True, min_node_count = 1, timeout_in_minutes = 10)\n",
        "    \n",
        "compute_targets = ws.compute_targets\n",
        "for name, ct in compute_targets.items():\n",
        "    print(name, ct.type, ct.provisioning_state)"
      ],
      "outputs": [
        {
          "output_type": "stream",
          "name": "stdout",
          "text": [
            "project-automl exists already\n",
            "notebook142998 ComputeInstance Succeeded\n",
            "project-automl AmlCompute Succeeded\n"
          ]
        }
      ],
      "execution_count": 4,
      "metadata": {
        "gather": {
          "logged": 1618620130081
        }
      }
    },
    {
      "cell_type": "markdown",
      "source": [
        "## Dataset\n",
        "\n",
        "### Overview\n",
        "\n",
        "In this project, we are going to predict mortality due to heart failure with the use of AutoML. Heart failure is a common event caused by Cardiovascular diseases (CVDs), and it occurs when the heart cannot pump enough blood to meet the needs of the body.\n",
        "\n",
        "The [Heart Failure Prediction](https://archive.ics.uci.edu/ml/datasets/Heart+failure+clinical+records) dataset is used as the training data for this task. It comprises of 299 heart failure patients and 12 features, which report clinical, body, and lifestyle information.\n",
        "\n",
        "The task here is to train a binary classification model that predict the target column DEATH_EVENT, which indicates if the patient died or survived before the end of the follow-up period, based on the information provided by the other 11 columns (predictors). The time feature was dropped before training since we cannot get a time value for new patients after deployment. Prediction models based on these predictors, if accurate, can potentially be used to help hospitals in assessing the severity of patients with cardiovascular diseases."
      ],
      "metadata": {}
    },
    {
      "cell_type": "code",
      "source": [
        "# Try to load the dataset from the Workspace. Otherwise, create it from the file\n",
        "found = False\n",
        "key = \"Heart-Failure Dataset\"\n",
        "description_text = \"Heart-Failure Dataset for Captone project\"\n",
        "\n",
        "if key in ws.datasets.keys(): \n",
        "        found = True\n",
        "        dataset = ws.datasets[key] \n",
        "\n",
        "if not found:\n",
        "        # Create AML Dataset and register it into Workspace\n",
        "        example_data = 'https://raw.githubusercontent.com/PeacePeters/Heart-Failure-Prediction-using-AzureML/main/heart_failure.csv'\n",
        "        dataset = Dataset.Tabular.from_delimited_files(example_data)        \n",
        "        # Register Dataset in Workspace\n",
        "        dataset = dataset.register(workspace=ws,\n",
        "                                   name=key,\n",
        "                                   description=description_text)\n",
        "\n",
        "df = dataset.to_pandas_dataframe()\n",
        "df.describe()"
      ],
      "outputs": [
        {
          "output_type": "execute_result",
          "execution_count": 5,
          "data": {
            "text/html": "<div>\n<style scoped>\n    .dataframe tbody tr th:only-of-type {\n        vertical-align: middle;\n    }\n\n    .dataframe tbody tr th {\n        vertical-align: top;\n    }\n\n    .dataframe thead th {\n        text-align: right;\n    }\n</style>\n<table border=\"1\" class=\"dataframe\">\n  <thead>\n    <tr style=\"text-align: right;\">\n      <th></th>\n      <th>age</th>\n      <th>anaemia</th>\n      <th>creatinine_phosphokinase</th>\n      <th>diabetes</th>\n      <th>ejection_fraction</th>\n      <th>high_blood_pressure</th>\n      <th>platelets</th>\n      <th>serum_creatinine</th>\n      <th>serum_sodium</th>\n      <th>sex</th>\n      <th>smoking</th>\n      <th>time</th>\n      <th>DEATH_EVENT</th>\n    </tr>\n  </thead>\n  <tbody>\n    <tr>\n      <th>count</th>\n      <td>299.000000</td>\n      <td>299.000000</td>\n      <td>299.000000</td>\n      <td>299.000000</td>\n      <td>299.000000</td>\n      <td>299.000000</td>\n      <td>299.000000</td>\n      <td>299.00000</td>\n      <td>299.000000</td>\n      <td>299.000000</td>\n      <td>299.00000</td>\n      <td>299.000000</td>\n      <td>299.00000</td>\n    </tr>\n    <tr>\n      <th>mean</th>\n      <td>60.833893</td>\n      <td>0.431438</td>\n      <td>581.839465</td>\n      <td>0.418060</td>\n      <td>38.083612</td>\n      <td>0.351171</td>\n      <td>263358.029264</td>\n      <td>1.39388</td>\n      <td>136.625418</td>\n      <td>0.648829</td>\n      <td>0.32107</td>\n      <td>130.260870</td>\n      <td>0.32107</td>\n    </tr>\n    <tr>\n      <th>std</th>\n      <td>11.894809</td>\n      <td>0.496107</td>\n      <td>970.287881</td>\n      <td>0.494067</td>\n      <td>11.834841</td>\n      <td>0.478136</td>\n      <td>97804.236869</td>\n      <td>1.03451</td>\n      <td>4.412477</td>\n      <td>0.478136</td>\n      <td>0.46767</td>\n      <td>77.614208</td>\n      <td>0.46767</td>\n    </tr>\n    <tr>\n      <th>min</th>\n      <td>40.000000</td>\n      <td>0.000000</td>\n      <td>23.000000</td>\n      <td>0.000000</td>\n      <td>14.000000</td>\n      <td>0.000000</td>\n      <td>25100.000000</td>\n      <td>0.50000</td>\n      <td>113.000000</td>\n      <td>0.000000</td>\n      <td>0.00000</td>\n      <td>4.000000</td>\n      <td>0.00000</td>\n    </tr>\n    <tr>\n      <th>25%</th>\n      <td>51.000000</td>\n      <td>0.000000</td>\n      <td>116.500000</td>\n      <td>0.000000</td>\n      <td>30.000000</td>\n      <td>0.000000</td>\n      <td>212500.000000</td>\n      <td>0.90000</td>\n      <td>134.000000</td>\n      <td>0.000000</td>\n      <td>0.00000</td>\n      <td>73.000000</td>\n      <td>0.00000</td>\n    </tr>\n    <tr>\n      <th>50%</th>\n      <td>60.000000</td>\n      <td>0.000000</td>\n      <td>250.000000</td>\n      <td>0.000000</td>\n      <td>38.000000</td>\n      <td>0.000000</td>\n      <td>262000.000000</td>\n      <td>1.10000</td>\n      <td>137.000000</td>\n      <td>1.000000</td>\n      <td>0.00000</td>\n      <td>115.000000</td>\n      <td>0.00000</td>\n    </tr>\n    <tr>\n      <th>75%</th>\n      <td>70.000000</td>\n      <td>1.000000</td>\n      <td>582.000000</td>\n      <td>1.000000</td>\n      <td>45.000000</td>\n      <td>1.000000</td>\n      <td>303500.000000</td>\n      <td>1.40000</td>\n      <td>140.000000</td>\n      <td>1.000000</td>\n      <td>1.00000</td>\n      <td>203.000000</td>\n      <td>1.00000</td>\n    </tr>\n    <tr>\n      <th>max</th>\n      <td>95.000000</td>\n      <td>1.000000</td>\n      <td>7861.000000</td>\n      <td>1.000000</td>\n      <td>80.000000</td>\n      <td>1.000000</td>\n      <td>850000.000000</td>\n      <td>9.40000</td>\n      <td>148.000000</td>\n      <td>1.000000</td>\n      <td>1.00000</td>\n      <td>285.000000</td>\n      <td>1.00000</td>\n    </tr>\n  </tbody>\n</table>\n</div>",
            "text/plain": "              age     anaemia  creatinine_phosphokinase    diabetes  \\\ncount  299.000000  299.000000                299.000000  299.000000   \nmean    60.833893    0.431438                581.839465    0.418060   \nstd     11.894809    0.496107                970.287881    0.494067   \nmin     40.000000    0.000000                 23.000000    0.000000   \n25%     51.000000    0.000000                116.500000    0.000000   \n50%     60.000000    0.000000                250.000000    0.000000   \n75%     70.000000    1.000000                582.000000    1.000000   \nmax     95.000000    1.000000               7861.000000    1.000000   \n\n       ejection_fraction  high_blood_pressure      platelets  \\\ncount         299.000000           299.000000     299.000000   \nmean           38.083612             0.351171  263358.029264   \nstd            11.834841             0.478136   97804.236869   \nmin            14.000000             0.000000   25100.000000   \n25%            30.000000             0.000000  212500.000000   \n50%            38.000000             0.000000  262000.000000   \n75%            45.000000             1.000000  303500.000000   \nmax            80.000000             1.000000  850000.000000   \n\n       serum_creatinine  serum_sodium         sex    smoking        time  \\\ncount         299.00000    299.000000  299.000000  299.00000  299.000000   \nmean            1.39388    136.625418    0.648829    0.32107  130.260870   \nstd             1.03451      4.412477    0.478136    0.46767   77.614208   \nmin             0.50000    113.000000    0.000000    0.00000    4.000000   \n25%             0.90000    134.000000    0.000000    0.00000   73.000000   \n50%             1.10000    137.000000    1.000000    0.00000  115.000000   \n75%             1.40000    140.000000    1.000000    1.00000  203.000000   \nmax             9.40000    148.000000    1.000000    1.00000  285.000000   \n\n       DEATH_EVENT  \ncount    299.00000  \nmean       0.32107  \nstd        0.46767  \nmin        0.00000  \n25%        0.00000  \n50%        0.00000  \n75%        1.00000  \nmax        1.00000  "
          },
          "metadata": {}
        }
      ],
      "execution_count": 5,
      "metadata": {
        "gather": {
          "logged": 1618620166944
        },
        "jupyter": {
          "outputs_hidden": false,
          "source_hidden": false
        },
        "nteract": {
          "transient": {
            "deleting": false
          }
        }
      }
    },
    {
      "cell_type": "code",
      "source": [
        "# Review the dataset result\n",
        "dataset.take(5).to_pandas_dataframe()"
      ],
      "outputs": [
        {
          "output_type": "execute_result",
          "execution_count": 6,
          "data": {
            "text/html": "<div>\n<style scoped>\n    .dataframe tbody tr th:only-of-type {\n        vertical-align: middle;\n    }\n\n    .dataframe tbody tr th {\n        vertical-align: top;\n    }\n\n    .dataframe thead th {\n        text-align: right;\n    }\n</style>\n<table border=\"1\" class=\"dataframe\">\n  <thead>\n    <tr style=\"text-align: right;\">\n      <th></th>\n      <th>age</th>\n      <th>anaemia</th>\n      <th>creatinine_phosphokinase</th>\n      <th>diabetes</th>\n      <th>ejection_fraction</th>\n      <th>high_blood_pressure</th>\n      <th>platelets</th>\n      <th>serum_creatinine</th>\n      <th>serum_sodium</th>\n      <th>sex</th>\n      <th>smoking</th>\n      <th>time</th>\n      <th>DEATH_EVENT</th>\n    </tr>\n  </thead>\n  <tbody>\n    <tr>\n      <th>0</th>\n      <td>75.0</td>\n      <td>0</td>\n      <td>582</td>\n      <td>0</td>\n      <td>20</td>\n      <td>1</td>\n      <td>265000.00</td>\n      <td>1.9</td>\n      <td>130</td>\n      <td>1</td>\n      <td>0</td>\n      <td>4</td>\n      <td>1</td>\n    </tr>\n    <tr>\n      <th>1</th>\n      <td>55.0</td>\n      <td>0</td>\n      <td>7861</td>\n      <td>0</td>\n      <td>38</td>\n      <td>0</td>\n      <td>263358.03</td>\n      <td>1.1</td>\n      <td>136</td>\n      <td>1</td>\n      <td>0</td>\n      <td>6</td>\n      <td>1</td>\n    </tr>\n    <tr>\n      <th>2</th>\n      <td>65.0</td>\n      <td>0</td>\n      <td>146</td>\n      <td>0</td>\n      <td>20</td>\n      <td>0</td>\n      <td>162000.00</td>\n      <td>1.3</td>\n      <td>129</td>\n      <td>1</td>\n      <td>1</td>\n      <td>7</td>\n      <td>1</td>\n    </tr>\n    <tr>\n      <th>3</th>\n      <td>50.0</td>\n      <td>1</td>\n      <td>111</td>\n      <td>0</td>\n      <td>20</td>\n      <td>0</td>\n      <td>210000.00</td>\n      <td>1.9</td>\n      <td>137</td>\n      <td>1</td>\n      <td>0</td>\n      <td>7</td>\n      <td>1</td>\n    </tr>\n    <tr>\n      <th>4</th>\n      <td>65.0</td>\n      <td>1</td>\n      <td>160</td>\n      <td>1</td>\n      <td>20</td>\n      <td>0</td>\n      <td>327000.00</td>\n      <td>2.7</td>\n      <td>116</td>\n      <td>0</td>\n      <td>0</td>\n      <td>8</td>\n      <td>1</td>\n    </tr>\n  </tbody>\n</table>\n</div>",
            "text/plain": "    age  anaemia  creatinine_phosphokinase  diabetes  ejection_fraction  \\\n0  75.0        0                       582         0                 20   \n1  55.0        0                      7861         0                 38   \n2  65.0        0                       146         0                 20   \n3  50.0        1                       111         0                 20   \n4  65.0        1                       160         1                 20   \n\n   high_blood_pressure  platelets  serum_creatinine  serum_sodium  sex  \\\n0                    1  265000.00               1.9           130    1   \n1                    0  263358.03               1.1           136    1   \n2                    0  162000.00               1.3           129    1   \n3                    0  210000.00               1.9           137    1   \n4                    0  327000.00               2.7           116    0   \n\n   smoking  time  DEATH_EVENT  \n0        0     4            1  \n1        0     6            1  \n2        1     7            1  \n3        0     7            1  \n4        0     8            1  "
          },
          "metadata": {}
        }
      ],
      "execution_count": 6,
      "metadata": {
        "gather": {
          "logged": 1618620172580
        }
      }
    },
    {
      "cell_type": "markdown",
      "source": [
        "## AutoML Configuration\n",
        "\n",
        "The AutoML settings are:\n",
        "1. The model is a classification task to predict mortality caused by heart failure.\n",
        "2. The primary metric used is AUC weighted, which is more appropriate than accuracy since the dataset is moderately imbalanced (67.89% negative elements and 32.11% positive elements). \n",
        "3. A cross validation of 5 folds rather than 3 is used which gives a better performance. \n",
        "4. A 30 minutes timeout is specified to constrain usage. \n",
        "5. The maximum number of iterations to be executed in parallel during training is set to 5 max concurrent iterations. "
      ],
      "metadata": {}
    },
    {
      "cell_type": "code",
      "source": [
        "# Put your automl settings here\n",
        "automl_settings = {\n",
        "    \"experiment_timeout_minutes\": 30,\n",
        "    \"max_concurrent_iterations\": 5,\n",
        "    \"primary_metric\" : 'AUC_weighted'\n",
        "    }\n",
        "\n",
        "# Put your automl config here\n",
        "automl_config = AutoMLConfig(\n",
        "        compute_target=compute_target,\n",
        "        task=\"classification\",\n",
        "        training_data=dataset,\n",
        "        label_column_name=\"DEATH_EVENT\",\n",
        "        n_cross_validations=5,\n",
        "        debug_log=\"automl_errors.log\",\n",
        "        **automl_settings\n",
        "        )"
      ],
      "outputs": [],
      "execution_count": 7,
      "metadata": {
        "gather": {
          "logged": 1618620178626
        },
        "jupyter": {
          "outputs_hidden": false,
          "source_hidden": false
        },
        "nteract": {
          "transient": {
            "deleting": false
          }
        }
      }
    },
    {
      "cell_type": "code",
      "source": [
        "# Submit your experiment\n",
        "remote_run = experiment.submit(automl_config)"
      ],
      "outputs": [
        {
          "output_type": "stream",
          "name": "stdout",
          "text": [
            "Submitting remote run.\n"
          ]
        },
        {
          "output_type": "display_data",
          "data": {
            "text/html": "<table style=\"width:100%\"><tr><th>Experiment</th><th>Id</th><th>Type</th><th>Status</th><th>Details Page</th><th>Docs Page</th></tr><tr><td>heartfailure-automl</td><td>AutoML_35950e74-8857-40bf-a9d1-607581a39c1c</td><td>automl</td><td>NotStarted</td><td><a href=\"https://ml.azure.com/runs/AutoML_35950e74-8857-40bf-a9d1-607581a39c1c?wsid=/subscriptions/3d1a56d2-7c81-4118-9790-f85d1acf0c77/resourcegroups/aml-quickstarts-142998/workspaces/quick-starts-ws-142998&amp;tid=660b3398-b80e-49d2-bc5b-ac1dc93b5254\" target=\"_blank\" rel=\"noopener\">Link to Azure Machine Learning studio</a></td><td><a href=\"https://docs.microsoft.com/en-us/python/api/overview/azure/ml/intro?view=azure-ml-py\" target=\"_blank\" rel=\"noopener\">Link to Documentation</a></td></tr></table>",
            "text/plain": "<IPython.core.display.HTML object>"
          },
          "metadata": {}
        }
      ],
      "execution_count": 8,
      "metadata": {
        "gather": {
          "logged": 1618620188399
        },
        "jupyter": {
          "outputs_hidden": false,
          "source_hidden": false
        },
        "nteract": {
          "transient": {
            "deleting": false
          }
        }
      }
    },
    {
      "cell_type": "markdown",
      "source": [
        "## Run Details"
      ],
      "metadata": {}
    },
    {
      "cell_type": "code",
      "source": [
        "RunDetails(remote_run).show()\n",
        "remote_run.wait_for_completion(show_output=True)"
      ],
      "outputs": [
        {
          "output_type": "display_data",
          "data": {
            "application/vnd.jupyter.widget-view+json": {
              "model_id": "d7ef43b7ebcc495d98c0acce441af57d",
              "version_major": 2,
              "version_minor": 0
            },
            "text/plain": "_AutoMLWidget(widget_settings={'childWidgetDisplay': 'popup', 'send_telemetry': False, 'log_level': 'INFO', 's…"
          },
          "metadata": {}
        },
        {
          "output_type": "display_data",
          "data": {
            "application/aml.mini.widget.v1": "{\"status\": \"Completed\", \"workbench_run_details_uri\": \"https://ml.azure.com/runs/AutoML_35950e74-8857-40bf-a9d1-607581a39c1c?wsid=/subscriptions/3d1a56d2-7c81-4118-9790-f85d1acf0c77/resourcegroups/aml-quickstarts-142998/workspaces/quick-starts-ws-142998&tid=660b3398-b80e-49d2-bc5b-ac1dc93b5254\", \"run_id\": \"AutoML_35950e74-8857-40bf-a9d1-607581a39c1c\", \"run_properties\": {\"run_id\": \"AutoML_35950e74-8857-40bf-a9d1-607581a39c1c\", \"created_utc\": \"2021-04-18T08:02:47.261356Z\", \"properties\": {\"num_iterations\": \"1000\", \"training_type\": \"TrainFull\", \"acquisition_function\": \"EI\", \"primary_metric\": \"AUC_weighted\", \"train_split\": \"0\", \"acquisition_parameter\": \"0\", \"num_cross_validation\": \"5\", \"target\": \"project-automl\", \"AMLSettingsJsonString\": \"{\\\"path\\\":null,\\\"name\\\":\\\"heartfailure-automl\\\",\\\"subscription_id\\\":\\\"3d1a56d2-7c81-4118-9790-f85d1acf0c77\\\",\\\"resource_group\\\":\\\"aml-quickstarts-142998\\\",\\\"workspace_name\\\":\\\"quick-starts-ws-142998\\\",\\\"region\\\":\\\"southcentralus\\\",\\\"compute_target\\\":\\\"project-automl\\\",\\\"spark_service\\\":null,\\\"azure_service\\\":\\\"remote\\\",\\\"many_models\\\":false,\\\"pipeline_fetch_max_batch_size\\\":1,\\\"enable_batch_run\\\":false,\\\"enable_run_restructure\\\":false,\\\"iterations\\\":1000,\\\"primary_metric\\\":\\\"AUC_weighted\\\",\\\"task_type\\\":\\\"classification\\\",\\\"data_script\\\":null,\\\"test_size\\\":0.0,\\\"validation_size\\\":0.0,\\\"n_cross_validations\\\":5,\\\"y_min\\\":null,\\\"y_max\\\":null,\\\"num_classes\\\":null,\\\"featurization\\\":\\\"auto\\\",\\\"_ignore_package_version_incompatibilities\\\":false,\\\"is_timeseries\\\":false,\\\"max_cores_per_iteration\\\":1,\\\"max_concurrent_iterations\\\":5,\\\"iteration_timeout_minutes\\\":null,\\\"mem_in_mb\\\":null,\\\"enforce_time_on_windows\\\":false,\\\"experiment_timeout_minutes\\\":30,\\\"experiment_exit_score\\\":null,\\\"whitelist_models\\\":null,\\\"blacklist_algos\\\":[\\\"TensorFlowLinearClassifier\\\",\\\"TensorFlowDNN\\\"],\\\"supported_models\\\":[\\\"LogisticRegression\\\",\\\"GradientBoosting\\\",\\\"ExtremeRandomTrees\\\",\\\"KNN\\\",\\\"TensorFlowLinearClassifier\\\",\\\"RandomForest\\\",\\\"DecisionTree\\\",\\\"AveragedPerceptronClassifier\\\",\\\"MultinomialNaiveBayes\\\",\\\"TensorFlowDNN\\\",\\\"SGD\\\",\\\"BernoulliNaiveBayes\\\",\\\"SVM\\\",\\\"LightGBM\\\",\\\"XGBoostClassifier\\\",\\\"LinearSVM\\\"],\\\"private_models\\\":[],\\\"auto_blacklist\\\":true,\\\"blacklist_samples_reached\\\":false,\\\"exclude_nan_labels\\\":true,\\\"verbosity\\\":20,\\\"_debug_log\\\":\\\"azureml_automl.log\\\",\\\"show_warnings\\\":false,\\\"model_explainability\\\":true,\\\"service_url\\\":null,\\\"sdk_url\\\":null,\\\"sdk_packages\\\":null,\\\"enable_onnx_compatible_models\\\":false,\\\"enable_split_onnx_featurizer_estimator_models\\\":false,\\\"vm_type\\\":\\\"STANDARD_D2_V2\\\",\\\"telemetry_verbosity\\\":20,\\\"send_telemetry\\\":true,\\\"enable_dnn\\\":false,\\\"scenario\\\":\\\"SDK-1.13.0\\\",\\\"environment_label\\\":null,\\\"save_mlflow\\\":false,\\\"force_text_dnn\\\":false,\\\"enable_feature_sweeping\\\":true,\\\"enable_early_stopping\\\":false,\\\"early_stopping_n_iters\\\":10,\\\"metrics\\\":null,\\\"enable_metric_confidence\\\":false,\\\"enable_ensembling\\\":true,\\\"enable_stack_ensembling\\\":true,\\\"ensemble_iterations\\\":15,\\\"enable_tf\\\":false,\\\"enable_subsampling\\\":null,\\\"subsample_seed\\\":null,\\\"enable_nimbusml\\\":false,\\\"enable_streaming\\\":false,\\\"force_streaming\\\":false,\\\"track_child_runs\\\":true,\\\"allowed_private_models\\\":[],\\\"label_column_name\\\":\\\"DEATH_EVENT\\\",\\\"weight_column_name\\\":null,\\\"cv_split_column_names\\\":null,\\\"enable_local_managed\\\":false,\\\"_local_managed_run_id\\\":null,\\\"cost_mode\\\":1,\\\"lag_length\\\":0,\\\"metric_operation\\\":\\\"maximize\\\",\\\"preprocess\\\":true}\", \"DataPrepJsonString\": \"{\\\\\\\"training_data\\\\\\\": {\\\\\\\"datasetId\\\\\\\": \\\\\\\"a65f4d9e-7ea9-4366-abf0-e7c9009e278a\\\\\\\"}, \\\\\\\"datasets\\\\\\\": 0}\", \"EnableSubsampling\": null, \"runTemplate\": \"AutoML\", \"azureml.runsource\": \"automl\", \"display_task_type\": \"classification\", \"dependencies_versions\": \"{\\\"azureml-widgets\\\": \\\"1.26.0\\\", \\\"azureml-train\\\": \\\"1.26.0\\\", \\\"azureml-train-restclients-hyperdrive\\\": \\\"1.26.0\\\", \\\"azureml-train-core\\\": \\\"1.26.0\\\", \\\"azureml-train-automl\\\": \\\"1.26.0\\\", \\\"azureml-train-automl-runtime\\\": \\\"1.26.0\\\", \\\"azureml-train-automl-client\\\": \\\"1.26.0\\\", \\\"azureml-tensorboard\\\": \\\"1.26.0\\\", \\\"azureml-telemetry\\\": \\\"1.26.0\\\", \\\"azureml-sdk\\\": \\\"1.26.0\\\", \\\"azureml-samples\\\": \\\"0+unknown\\\", \\\"azureml-pipeline\\\": \\\"1.26.0\\\", \\\"azureml-pipeline-steps\\\": \\\"1.26.0\\\", \\\"azureml-pipeline-core\\\": \\\"1.26.0\\\", \\\"azureml-opendatasets\\\": \\\"1.26.0\\\", \\\"azureml-model-management-sdk\\\": \\\"1.0.1b6.post1\\\", \\\"azureml-mlflow\\\": \\\"1.26.0\\\", \\\"azureml-interpret\\\": \\\"1.26.0\\\", \\\"azureml-explain-model\\\": \\\"1.26.0\\\", \\\"azureml-defaults\\\": \\\"1.26.0\\\", \\\"azureml-dataset-runtime\\\": \\\"1.26.0\\\", \\\"azureml-dataprep\\\": \\\"2.13.2\\\", \\\"azureml-dataprep-rslex\\\": \\\"1.11.2\\\", \\\"azureml-dataprep-native\\\": \\\"32.0.0\\\", \\\"azureml-datadrift\\\": \\\"1.26.0\\\", \\\"azureml-core\\\": \\\"1.26.0\\\", \\\"azureml-contrib-services\\\": \\\"1.26.0\\\", \\\"azureml-contrib-server\\\": \\\"1.26.0\\\", \\\"azureml-contrib-reinforcementlearning\\\": \\\"1.26.0\\\", \\\"azureml-contrib-pipeline-steps\\\": \\\"1.26.0\\\", \\\"azureml-contrib-notebook\\\": \\\"1.26.0\\\", \\\"azureml-contrib-gbdt\\\": \\\"1.26.0\\\", \\\"azureml-contrib-fairness\\\": \\\"1.26.0\\\", \\\"azureml-contrib-dataset\\\": \\\"1.26.0\\\", \\\"azureml-cli-common\\\": \\\"1.26.0\\\", \\\"azureml-automl-runtime\\\": \\\"1.26.0\\\", \\\"azureml-automl-dnn-nlp\\\": \\\"1.26.0\\\", \\\"azureml-automl-core\\\": \\\"1.26.0\\\", \\\"azureml-accel-models\\\": \\\"1.26.0\\\"}\", \"_aml_system_scenario_identification\": \"Remote.Parent\", \"ClientType\": \"SDK\", \"environment_cpu_name\": \"AzureML-AutoML\", \"environment_cpu_label\": \"prod\", \"environment_gpu_name\": \"AzureML-AutoML-GPU\", \"environment_gpu_label\": \"prod\", \"root_attribution\": \"automl\", \"attribution\": \"AutoML\", \"Orchestrator\": \"AutoML\", \"CancelUri\": \"https://southcentralus.experiments.azureml.net/jasmine/v1.0/subscriptions/3d1a56d2-7c81-4118-9790-f85d1acf0c77/resourceGroups/aml-quickstarts-142998/providers/Microsoft.MachineLearningServices/workspaces/quick-starts-ws-142998/experimentids/f514100e-deee-4959-aa81-936e4579a48b/cancel/AutoML_35950e74-8857-40bf-a9d1-607581a39c1c\", \"azureml.git.repository_uri\": \"https://github.com/PeacePeters/Heart-Failure-Prediction-using-AzureML\", \"mlflow.source.git.repoURL\": \"https://github.com/PeacePeters/Heart-Failure-Prediction-using-AzureML\", \"azureml.git.branch\": \"main\", \"mlflow.source.git.branch\": \"main\", \"azureml.git.commit\": \"0d8b50a1797aa3cf9adb1246738bca62fb64fe80\", \"mlflow.source.git.commit\": \"0d8b50a1797aa3cf9adb1246738bca62fb64fe80\", \"azureml.git.dirty\": \"True\", \"ClientSdkVersion\": \"1.25.0\", \"snapshotId\": \"00000000-0000-0000-0000-000000000000\", \"SetupRunId\": \"AutoML_35950e74-8857-40bf-a9d1-607581a39c1c_setup\", \"SetupRunContainerId\": \"dcid.AutoML_35950e74-8857-40bf-a9d1-607581a39c1c_setup\", \"FeaturizationRunJsonPath\": \"featurizer_container.json\", \"FeaturizationRunId\": \"AutoML_35950e74-8857-40bf-a9d1-607581a39c1c_featurize\", \"ProblemInfoJsonString\": \"{\\\"dataset_num_categorical\\\": 0, \\\"is_sparse\\\": false, \\\"subsampling\\\": false, \\\"dataset_classes\\\": 2, \\\"dataset_features\\\": 12, \\\"dataset_samples\\\": 299, \\\"single_frequency_class_detected\\\": false}\", \"ModelExplainRunId\": \"AutoML_35950e74-8857-40bf-a9d1-607581a39c1c_ModelExplain\"}, \"tags\": {\"model_explain_run\": \"best_run\", \"_aml_system_azureml.automlComponent\": \"AutoML\", \"pipeline_id\": \"\", \"score\": \"\", \"predicted_cost\": \"\", \"fit_time\": \"\", \"training_percent\": \"\", \"iteration\": \"\", \"run_preprocessor\": \"\", \"run_algorithm\": \"\", \"dynamic_whitelisting_iterations\": \"<25>;<30>;<35>;<40>;<45>;<50>;<55>;<60>;<65>;<70>;<75>;<80>;<84>;<90>;<95>;<99>;\", \"automl_best_child_run_id\": \"AutoML_35950e74-8857-40bf-a9d1-607581a39c1c_102\", \"model_explain_best_run_child_id\": \"AutoML_35950e74-8857-40bf-a9d1-607581a39c1c_102\"}, \"end_time_utc\": \"2021-04-18T08:42:17.086535Z\", \"status\": \"Completed\", \"log_files\": {}, \"log_groups\": [], \"run_duration\": \"0:39:29\", \"run_number\": \"2\", \"run_queued_details\": {\"status\": \"Completed\", \"details\": null}}, \"child_runs\": [{\"run_id\": \"AutoML_35950e74-8857-40bf-a9d1-607581a39c1c_0\", \"run_number\": 6, \"metric\": null, \"status\": \"Completed\", \"run_type\": \"azureml.scriptrun\", \"training_percent\": \"100\", \"start_time\": \"2021-04-18T08:09:55.098305Z\", \"end_time\": \"2021-04-18T08:10:45.685659Z\", \"created_time\": \"2021-04-18T08:09:39.617688Z\", \"created_time_dt\": \"2021-04-18T08:09:39.617688Z\", \"duration\": \"0:01:06\", \"iteration\": \"0\", \"goal\": \"AUC_weighted_max\", \"run_name\": \"MaxAbsScaler, LightGBM\", \"run_properties\": \"copy=True\", \"primary_metric\": 0.88113312, \"best_metric\": 0.88113312}, {\"run_id\": \"AutoML_35950e74-8857-40bf-a9d1-607581a39c1c_4\", \"run_number\": 7, \"metric\": null, \"status\": \"Completed\", \"run_type\": \"azureml.scriptrun\", \"training_percent\": \"100\", \"start_time\": \"2021-04-18T08:13:11.530156Z\", \"end_time\": \"2021-04-18T08:14:02.016197Z\", \"created_time\": \"2021-04-18T08:09:39.729649Z\", \"created_time_dt\": \"2021-04-18T08:09:39.729649Z\", \"duration\": \"0:04:22\", \"iteration\": \"4\", \"goal\": \"AUC_weighted_max\", \"run_name\": \"MinMaxScaler, RandomForest\", \"run_properties\": \"copy=True, feature_range=(0, 1\", \"primary_metric\": 0.91102972, \"best_metric\": 0.91102972}, {\"run_id\": \"AutoML_35950e74-8857-40bf-a9d1-607581a39c1c_2\", \"run_number\": 8, \"metric\": null, \"status\": \"Completed\", \"run_type\": \"azureml.scriptrun\", \"training_percent\": \"100\", \"start_time\": \"2021-04-18T08:12:10.066408Z\", \"end_time\": \"2021-04-18T08:12:52.065337Z\", \"created_time\": \"2021-04-18T08:09:39.739357Z\", \"created_time_dt\": \"2021-04-18T08:09:39.739357Z\", \"duration\": \"0:03:12\", \"iteration\": \"2\", \"goal\": \"AUC_weighted_max\", \"run_name\": \"MinMaxScaler, RandomForest\", \"run_properties\": \"copy=True, feature_range=(0, 1\", \"primary_metric\": 0.89763333, \"best_metric\": 0.89763333}, {\"run_id\": \"AutoML_35950e74-8857-40bf-a9d1-607581a39c1c_1\", \"run_number\": 9, \"metric\": null, \"status\": \"Completed\", \"run_type\": \"azureml.scriptrun\", \"training_percent\": \"100\", \"start_time\": \"2021-04-18T08:13:16.544771Z\", \"end_time\": \"2021-04-18T08:15:59.940163Z\", \"created_time\": \"2021-04-18T08:09:39.742433Z\", \"created_time_dt\": \"2021-04-18T08:09:39.742433Z\", \"duration\": \"0:06:20\", \"iteration\": \"1\", \"goal\": \"AUC_weighted_max\", \"run_name\": \"MaxAbsScaler, XGBoostClassifier\", \"run_properties\": \"copy=True\", \"primary_metric\": 0.89295912, \"best_metric\": 0.89295912}, {\"run_id\": \"AutoML_35950e74-8857-40bf-a9d1-607581a39c1c_3\", \"run_number\": 10, \"metric\": null, \"status\": \"Completed\", \"run_type\": \"azureml.scriptrun\", \"training_percent\": \"100\", \"start_time\": \"2021-04-18T08:11:02.331613Z\", \"end_time\": \"2021-04-18T08:11:49.608324Z\", \"created_time\": \"2021-04-18T08:09:39.740641Z\", \"created_time_dt\": \"2021-04-18T08:09:39.740641Z\", \"duration\": \"0:02:09\", \"iteration\": \"3\", \"goal\": \"AUC_weighted_max\", \"run_name\": \"RobustScaler, ExtremeRandomTrees\", \"run_properties\": \"copy=True, quantile_range=[10, 90], with_centering=False,\\n             with_scaling=False\", \"primary_metric\": 0.87936263, \"best_metric\": 0.89763333}, {\"run_id\": \"AutoML_35950e74-8857-40bf-a9d1-607581a39c1c_5\", \"run_number\": 11, \"metric\": null, \"status\": \"Completed\", \"run_type\": \"azureml.scriptrun\", \"training_percent\": \"100\", \"start_time\": \"2021-04-18T08:13:14.912877Z\", \"end_time\": \"2021-04-18T08:15:31.264975Z\", \"created_time\": \"2021-04-18T08:10:47.548728Z\", \"created_time_dt\": \"2021-04-18T08:10:47.548728Z\", \"duration\": \"0:04:43\", \"iteration\": \"5\", \"goal\": \"AUC_weighted_max\", \"run_name\": \"MinMaxScaler, RandomForest\", \"run_properties\": \"copy=True, feature_range=(0, 1\", \"primary_metric\": 0.90380546, \"best_metric\": 0.91102972}, {\"run_id\": \"AutoML_35950e74-8857-40bf-a9d1-607581a39c1c_6\", \"run_number\": 12, \"metric\": null, \"status\": \"Completed\", \"run_type\": \"azureml.scriptrun\", \"training_percent\": \"100\", \"start_time\": \"2021-04-18T08:13:16.020124Z\", \"end_time\": \"2021-04-18T08:15:22.446212Z\", \"created_time\": \"2021-04-18T08:11:52.446079Z\", \"created_time_dt\": \"2021-04-18T08:11:52.446079Z\", \"duration\": \"0:03:30\", \"iteration\": \"6\", \"goal\": \"AUC_weighted_max\", \"run_name\": \"StandardScalerWrapper, RandomForest\", \"run_properties\": \"<azureml.automl.runtime.shared.model_wrappers.StandardScalerWrapper object at 0x7f36ce8ea470\", \"primary_metric\": 0.89136356, \"best_metric\": 0.91102972}, {\"run_id\": \"AutoML_35950e74-8857-40bf-a9d1-607581a39c1c_7\", \"run_number\": 13, \"metric\": null, \"status\": \"Completed\", \"run_type\": \"azureml.scriptrun\", \"training_percent\": \"100\", \"start_time\": \"2021-04-18T08:14:12.88598Z\", \"end_time\": \"2021-04-18T08:15:11.319978Z\", \"created_time\": \"2021-04-18T08:12:55.333339Z\", \"created_time_dt\": \"2021-04-18T08:12:55.333339Z\", \"duration\": \"0:02:15\", \"iteration\": \"7\", \"goal\": \"AUC_weighted_max\", \"run_name\": \"MinMaxScaler, ExtremeRandomTrees\", \"run_properties\": \"copy=True, feature_range=(0, 1\", \"primary_metric\": 0.91617659, \"best_metric\": 0.91617659}, {\"run_id\": \"AutoML_35950e74-8857-40bf-a9d1-607581a39c1c_8\", \"run_number\": 14, \"metric\": null, \"status\": \"Completed\", \"run_type\": \"azureml.scriptrun\", \"training_percent\": \"100\", \"start_time\": \"2021-04-18T08:15:25.637797Z\", \"end_time\": \"2021-04-18T08:16:09.786287Z\", \"created_time\": \"2021-04-18T08:14:05.419266Z\", \"created_time_dt\": \"2021-04-18T08:14:05.419266Z\", \"duration\": \"0:02:04\", \"iteration\": \"8\", \"goal\": \"AUC_weighted_max\", \"run_name\": \"MinMaxScaler, ExtremeRandomTrees\", \"run_properties\": \"copy=True, feature_range=(0, 1\", \"primary_metric\": 0.86431368, \"best_metric\": 0.91617659}, {\"run_id\": \"AutoML_35950e74-8857-40bf-a9d1-607581a39c1c_9\", \"run_number\": 15, \"metric\": null, \"status\": \"Completed\", \"run_type\": \"azureml.scriptrun\", \"training_percent\": \"100\", \"start_time\": \"2021-04-18T08:15:40.097249Z\", \"end_time\": \"2021-04-18T08:16:31.073604Z\", \"created_time\": \"2021-04-18T08:15:14.513523Z\", \"created_time_dt\": \"2021-04-18T08:15:14.513523Z\", \"duration\": \"0:01:16\", \"iteration\": \"9\", \"goal\": \"AUC_weighted_max\", \"run_name\": \"SparseNormalizer, KNN\", \"run_properties\": \"<azureml.automl.runtime.shared.model_wrappers.SparseNormalizer object at 0x7f810d353748\", \"primary_metric\": 0.75147268, \"best_metric\": 0.91617659}, {\"run_id\": \"AutoML_35950e74-8857-40bf-a9d1-607581a39c1c_10\", \"run_number\": 16, \"metric\": null, \"status\": \"Completed\", \"run_type\": \"azureml.scriptrun\", \"training_percent\": \"100\", \"start_time\": \"2021-04-18T08:15:46.254981Z\", \"end_time\": \"2021-04-18T08:16:37.338239Z\", \"created_time\": \"2021-04-18T08:15:25.604133Z\", \"created_time_dt\": \"2021-04-18T08:15:25.604133Z\", \"duration\": \"0:01:11\", \"iteration\": \"10\", \"goal\": \"AUC_weighted_max\", \"run_name\": \"MinMaxScaler, ExtremeRandomTrees\", \"run_properties\": \"copy=True, feature_range=(0, 1\", \"primary_metric\": 0.88774912, \"best_metric\": 0.91617659}, {\"run_id\": \"AutoML_35950e74-8857-40bf-a9d1-607581a39c1c_11\", \"run_number\": 17, \"metric\": null, \"status\": \"Completed\", \"run_type\": \"azureml.scriptrun\", \"training_percent\": \"100\", \"start_time\": \"2021-04-18T08:16:15.954441Z\", \"end_time\": \"2021-04-18T08:17:13.995113Z\", \"created_time\": \"2021-04-18T08:15:34.437823Z\", \"created_time_dt\": \"2021-04-18T08:15:34.437823Z\", \"duration\": \"0:01:39\", \"iteration\": \"11\", \"goal\": \"AUC_weighted_max\", \"run_name\": \"RobustScaler, ExtremeRandomTrees\", \"run_properties\": \"copy=True, quantile_range=[10, 90], with_centering=True,\\n             with_scaling=False\", \"primary_metric\": 0.89112182, \"best_metric\": 0.91617659}, {\"run_id\": \"AutoML_35950e74-8857-40bf-a9d1-607581a39c1c_12\", \"run_number\": 18, \"metric\": null, \"status\": \"Completed\", \"run_type\": \"azureml.scriptrun\", \"training_percent\": \"100\", \"start_time\": \"2021-04-18T08:16:25.649968Z\", \"end_time\": \"2021-04-18T08:17:14.668179Z\", \"created_time\": \"2021-04-18T08:16:03.161831Z\", \"created_time_dt\": \"2021-04-18T08:16:03.161831Z\", \"duration\": \"0:01:11\", \"iteration\": \"12\", \"goal\": \"AUC_weighted_max\", \"run_name\": \"StandardScalerWrapper, RandomForest\", \"run_properties\": \"<azureml.automl.runtime.shared.model_wrappers.StandardScalerWrapper object at 0x7f1fae7e0da0\", \"primary_metric\": 0.89988418, \"best_metric\": 0.91617659}, {\"run_id\": \"AutoML_35950e74-8857-40bf-a9d1-607581a39c1c_13\", \"run_number\": 19, \"metric\": null, \"status\": \"Completed\", \"run_type\": \"azureml.scriptrun\", \"training_percent\": \"100\", \"start_time\": \"2021-04-18T08:16:42.10474Z\", \"end_time\": \"2021-04-18T08:17:30.485465Z\", \"created_time\": \"2021-04-18T08:16:12.800631Z\", \"created_time_dt\": \"2021-04-18T08:16:12.800631Z\", \"duration\": \"0:01:17\", \"iteration\": \"13\", \"goal\": \"AUC_weighted_max\", \"run_name\": \"StandardScalerWrapper, SGD\", \"run_properties\": \"<azureml.automl.runtime.shared.model_wrappers.StandardScalerWrapper object at 0x7f7da588edd8\", \"primary_metric\": 0.87066214, \"best_metric\": 0.91617659}, {\"run_id\": \"AutoML_35950e74-8857-40bf-a9d1-607581a39c1c_14\", \"run_number\": 20, \"metric\": null, \"status\": \"Completed\", \"run_type\": \"azureml.scriptrun\", \"training_percent\": \"100\", \"start_time\": \"2021-04-18T08:16:52.421578Z\", \"end_time\": \"2021-04-18T08:17:37.82647Z\", \"created_time\": \"2021-04-18T08:16:34.218421Z\", \"created_time_dt\": \"2021-04-18T08:16:34.218421Z\", \"duration\": \"0:01:03\", \"iteration\": \"14\", \"goal\": \"AUC_weighted_max\", \"run_name\": \"RobustScaler, RandomForest\", \"run_properties\": \"copy=True, quantile_range=[10, 90], with_centering=True,\\n             with_scaling=False\", \"primary_metric\": 0.90047211, \"best_metric\": 0.91617659}, {\"run_id\": \"AutoML_35950e74-8857-40bf-a9d1-607581a39c1c_15\", \"run_number\": 21, \"metric\": null, \"status\": \"Completed\", \"run_type\": \"azureml.scriptrun\", \"training_percent\": \"100\", \"start_time\": \"2021-04-18T08:17:28.575931Z\", \"end_time\": \"2021-04-18T08:18:08.700333Z\", \"created_time\": \"2021-04-18T08:16:40.921566Z\", \"created_time_dt\": \"2021-04-18T08:16:40.921566Z\", \"duration\": \"0:01:27\", \"iteration\": \"15\", \"goal\": \"AUC_weighted_max\", \"run_name\": \"StandardScalerWrapper, KNN\", \"run_properties\": \"<azureml.automl.runtime.shared.model_wrappers.StandardScalerWrapper object at 0x7f404f706710\", \"primary_metric\": 0.48227656, \"best_metric\": 0.91617659}, {\"run_id\": \"AutoML_35950e74-8857-40bf-a9d1-607581a39c1c_16\", \"run_number\": 22, \"metric\": null, \"status\": \"Completed\", \"run_type\": \"azureml.scriptrun\", \"training_percent\": \"100\", \"start_time\": \"2021-04-18T08:17:28.260187Z\", \"end_time\": \"2021-04-18T08:18:14.075024Z\", \"created_time\": \"2021-04-18T08:17:16.901076Z\", \"created_time_dt\": \"2021-04-18T08:17:16.901076Z\", \"duration\": \"0:00:57\", \"iteration\": \"16\", \"goal\": \"AUC_weighted_max\", \"run_name\": \"MinMaxScaler, RandomForest\", \"run_properties\": \"copy=True, feature_range=(0, 1\", \"primary_metric\": 0.89112422, \"best_metric\": 0.91617659}, {\"run_id\": \"AutoML_35950e74-8857-40bf-a9d1-607581a39c1c_17\", \"run_number\": 23, \"metric\": null, \"status\": \"Completed\", \"run_type\": \"azureml.scriptrun\", \"training_percent\": \"100\", \"start_time\": \"2021-04-18T08:17:44.426493Z\", \"end_time\": \"2021-04-18T08:18:27.823873Z\", \"created_time\": \"2021-04-18T08:17:22.1178Z\", \"created_time_dt\": \"2021-04-18T08:17:22.1178Z\", \"duration\": \"0:01:05\", \"iteration\": \"17\", \"goal\": \"AUC_weighted_max\", \"run_name\": \"MinMaxScaler, ExtremeRandomTrees\", \"run_properties\": \"copy=True, feature_range=(0, 1\", \"primary_metric\": 0.83860788, \"best_metric\": 0.91617659}, {\"run_id\": \"AutoML_35950e74-8857-40bf-a9d1-607581a39c1c_18\", \"run_number\": 24, \"metric\": null, \"status\": \"Completed\", \"run_type\": \"azureml.scriptrun\", \"training_percent\": \"100\", \"start_time\": \"2021-04-18T08:17:52.610171Z\", \"end_time\": \"2021-04-18T08:18:44.442726Z\", \"created_time\": \"2021-04-18T08:17:33.384005Z\", \"created_time_dt\": \"2021-04-18T08:17:33.384005Z\", \"duration\": \"0:01:11\", \"iteration\": \"18\", \"goal\": \"AUC_weighted_max\", \"run_name\": \"MaxAbsScaler, RandomForest\", \"run_properties\": \"copy=True\", \"primary_metric\": 0.88078034, \"best_metric\": 0.91617659}, {\"run_id\": \"AutoML_35950e74-8857-40bf-a9d1-607581a39c1c_19\", \"run_number\": 25, \"metric\": null, \"status\": \"Completed\", \"run_type\": \"azureml.scriptrun\", \"training_percent\": \"100\", \"start_time\": \"2021-04-18T08:18:20.980812Z\", \"end_time\": \"2021-04-18T08:19:05.332216Z\", \"created_time\": \"2021-04-18T08:17:40.902076Z\", \"created_time_dt\": \"2021-04-18T08:17:40.902076Z\", \"duration\": \"0:01:24\", \"iteration\": \"19\", \"goal\": \"AUC_weighted_max\", \"run_name\": \"StandardScalerWrapper, XGBoostClassifier\", \"run_properties\": \"<azureml.automl.runtime.shared.model_wrappers.StandardScalerWrapper object at 0x7efd6fca63c8\", \"primary_metric\": 0.90756635, \"best_metric\": 0.91617659}, {\"run_id\": \"AutoML_35950e74-8857-40bf-a9d1-607581a39c1c_20\", \"run_number\": 26, \"metric\": null, \"status\": \"Completed\", \"run_type\": \"azureml.scriptrun\", \"training_percent\": \"100\", \"start_time\": \"2021-04-18T08:18:27.510834Z\", \"end_time\": \"2021-04-18T08:19:23.55491Z\", \"created_time\": \"2021-04-18T08:18:12.001582Z\", \"created_time_dt\": \"2021-04-18T08:18:12.001582Z\", \"duration\": \"0:01:11\", \"iteration\": \"20\", \"goal\": \"AUC_weighted_max\", \"run_name\": \"MaxAbsScaler, RandomForest\", \"run_properties\": \"copy=True\", \"primary_metric\": 0.9103278, \"best_metric\": 0.91617659}, {\"run_id\": \"AutoML_35950e74-8857-40bf-a9d1-607581a39c1c_21\", \"run_number\": 27, \"metric\": null, \"status\": \"Completed\", \"run_type\": \"azureml.scriptrun\", \"training_percent\": \"100\", \"start_time\": \"2021-04-18T08:18:43.41811Z\", \"end_time\": \"2021-04-18T08:19:25.129253Z\", \"created_time\": \"2021-04-18T08:18:17.417058Z\", \"created_time_dt\": \"2021-04-18T08:18:17.417058Z\", \"duration\": \"0:01:07\", \"iteration\": \"21\", \"goal\": \"AUC_weighted_max\", \"run_name\": \"MaxAbsScaler, ExtremeRandomTrees\", \"run_properties\": \"copy=True\", \"primary_metric\": 0.84686665, \"best_metric\": 0.91617659}, {\"run_id\": \"AutoML_35950e74-8857-40bf-a9d1-607581a39c1c_22\", \"run_number\": 28, \"metric\": null, \"status\": \"Completed\", \"run_type\": \"azureml.scriptrun\", \"training_percent\": \"100\", \"start_time\": \"2021-04-18T08:18:59.313432Z\", \"end_time\": \"2021-04-18T08:19:49.368352Z\", \"created_time\": \"2021-04-18T08:18:32.715685Z\", \"created_time_dt\": \"2021-04-18T08:18:32.715685Z\", \"duration\": \"0:01:16\", \"iteration\": \"22\", \"goal\": \"AUC_weighted_max\", \"run_name\": \"MaxAbsScaler, ExtremeRandomTrees\", \"run_properties\": \"copy=True\", \"primary_metric\": 0.87709097, \"best_metric\": 0.91617659}, {\"run_id\": \"AutoML_35950e74-8857-40bf-a9d1-607581a39c1c_23\", \"run_number\": 29, \"metric\": null, \"status\": \"Completed\", \"run_type\": \"azureml.scriptrun\", \"training_percent\": \"100\", \"start_time\": \"2021-04-18T08:19:19.056817Z\", \"end_time\": \"2021-04-18T08:20:01.775622Z\", \"created_time\": \"2021-04-18T08:18:47.537062Z\", \"created_time_dt\": \"2021-04-18T08:18:47.537062Z\", \"duration\": \"0:01:14\", \"iteration\": \"23\", \"goal\": \"AUC_weighted_max\", \"run_name\": \"MinMaxScaler, RandomForest\", \"run_properties\": \"copy=True, feature_range=(0, 1\", \"primary_metric\": 0.91016985, \"best_metric\": 0.91617659}, {\"run_id\": \"AutoML_35950e74-8857-40bf-a9d1-607581a39c1c_24\", \"run_number\": 30, \"metric\": null, \"status\": \"Completed\", \"run_type\": \"azureml.scriptrun\", \"training_percent\": \"100\", \"start_time\": \"2021-04-18T08:19:41.781508Z\", \"end_time\": \"2021-04-18T08:20:28.338841Z\", \"created_time\": \"2021-04-18T08:19:08.11744Z\", \"created_time_dt\": \"2021-04-18T08:19:08.11744Z\", \"duration\": \"0:01:20\", \"iteration\": \"24\", \"goal\": \"AUC_weighted_max\", \"run_name\": \"MinMaxScaler, ExtremeRandomTrees\", \"run_properties\": \"copy=True, feature_range=(0, 1\", \"primary_metric\": 0.9063822, \"best_metric\": 0.91617659}, {\"run_id\": \"AutoML_35950e74-8857-40bf-a9d1-607581a39c1c_25\", \"run_number\": 31, \"metric\": null, \"status\": \"Completed\", \"run_type\": \"azureml.scriptrun\", \"training_percent\": \"100\", \"start_time\": \"2021-04-18T08:19:41.588588Z\", \"end_time\": \"2021-04-18T08:20:25.198424Z\", \"created_time\": \"2021-04-18T08:19:28.119803Z\", \"created_time_dt\": \"2021-04-18T08:19:28.119803Z\", \"duration\": \"0:00:57\", \"iteration\": \"25\", \"goal\": \"AUC_weighted_max\", \"run_name\": \"StandardScalerWrapper, ExtremeRandomTrees\", \"run_properties\": \"<azureml.automl.runtime.shared.model_wrappers.StandardScalerWrapper object at 0x7fde050fa748\", \"primary_metric\": 0.88527284, \"best_metric\": 0.91617659}, {\"run_id\": \"AutoML_35950e74-8857-40bf-a9d1-607581a39c1c_26\", \"run_number\": 32, \"metric\": null, \"status\": \"Completed\", \"run_type\": \"azureml.scriptrun\", \"training_percent\": \"100\", \"start_time\": \"2021-04-18T08:20:01.916895Z\", \"end_time\": \"2021-04-18T08:20:50.041743Z\", \"created_time\": \"2021-04-18T08:19:33.117347Z\", \"created_time_dt\": \"2021-04-18T08:19:33.117347Z\", \"duration\": \"0:01:16\", \"iteration\": \"26\", \"goal\": \"AUC_weighted_max\", \"run_name\": \"MaxAbsScaler, ExtremeRandomTrees\", \"run_properties\": \"copy=True\", \"primary_metric\": 0.89868653, \"best_metric\": 0.91617659}, {\"run_id\": \"AutoML_35950e74-8857-40bf-a9d1-607581a39c1c_27\", \"run_number\": 33, \"metric\": null, \"status\": \"Completed\", \"run_type\": \"azureml.scriptrun\", \"training_percent\": \"100\", \"start_time\": \"2021-04-18T08:20:17.876205Z\", \"end_time\": \"2021-04-18T08:21:03.045226Z\", \"created_time\": \"2021-04-18T08:19:51.414667Z\", \"created_time_dt\": \"2021-04-18T08:19:51.414667Z\", \"duration\": \"0:01:11\", \"iteration\": \"27\", \"goal\": \"AUC_weighted_max\", \"run_name\": \"StandardScalerWrapper, LightGBM\", \"run_properties\": \"<azureml.automl.runtime.shared.model_wrappers.StandardScalerWrapper object at 0x7f3588c1d400\", \"primary_metric\": 0.84508082, \"best_metric\": 0.91617659}, {\"run_id\": \"AutoML_35950e74-8857-40bf-a9d1-607581a39c1c_28\", \"run_number\": 34, \"metric\": null, \"status\": \"Completed\", \"run_type\": \"azureml.scriptrun\", \"training_percent\": \"100\", \"start_time\": \"2021-04-18T08:20:39.103261Z\", \"end_time\": \"2021-04-18T08:21:28.179596Z\", \"created_time\": \"2021-04-18T08:20:03.775084Z\", \"created_time_dt\": \"2021-04-18T08:20:03.775084Z\", \"duration\": \"0:01:24\", \"iteration\": \"28\", \"goal\": \"AUC_weighted_max\", \"run_name\": \"StandardScalerWrapper, LightGBM\", \"run_properties\": \"<azureml.automl.runtime.shared.model_wrappers.StandardScalerWrapper object at 0x7f50a33be198\", \"primary_metric\": 0.86381741, \"best_metric\": 0.91617659}, {\"run_id\": \"AutoML_35950e74-8857-40bf-a9d1-607581a39c1c_29\", \"run_number\": 35, \"metric\": null, \"status\": \"Completed\", \"run_type\": \"azureml.scriptrun\", \"training_percent\": \"100\", \"start_time\": \"2021-04-18T08:20:43.220429Z\", \"end_time\": \"2021-04-18T08:21:32.570768Z\", \"created_time\": \"2021-04-18T08:20:27.206789Z\", \"created_time_dt\": \"2021-04-18T08:20:27.206789Z\", \"duration\": \"0:01:05\", \"iteration\": \"29\", \"goal\": \"AUC_weighted_max\", \"run_name\": \"StandardScalerWrapper, XGBoostClassifier\", \"run_properties\": \"<azureml.automl.runtime.shared.model_wrappers.StandardScalerWrapper object at 0x7f8a9eb1c240\", \"primary_metric\": 0.90768559, \"best_metric\": 0.91617659}, {\"run_id\": \"AutoML_35950e74-8857-40bf-a9d1-607581a39c1c_30\", \"run_number\": 36, \"metric\": null, \"status\": \"Completed\", \"run_type\": \"azureml.scriptrun\", \"training_percent\": \"100\", \"start_time\": \"2021-04-18T08:21:03.957597Z\", \"end_time\": \"2021-04-18T08:21:56.218371Z\", \"created_time\": \"2021-04-18T08:20:33.108755Z\", \"created_time_dt\": \"2021-04-18T08:20:33.108755Z\", \"duration\": \"0:01:23\", \"iteration\": \"30\", \"goal\": \"AUC_weighted_max\", \"run_name\": \"PCA, ExtremeRandomTrees\", \"run_properties\": \"copy=True, iterated_power='auto', n_components=0.15842105263157896,\\n    random_state=None, svd_solver='auto', tol=0.0, whiten=True\", \"primary_metric\": 0.53921089, \"best_metric\": 0.91617659}, {\"run_id\": \"AutoML_35950e74-8857-40bf-a9d1-607581a39c1c_31\", \"run_number\": 37, \"metric\": null, \"status\": \"Completed\", \"run_type\": \"azureml.scriptrun\", \"training_percent\": \"100\", \"start_time\": \"2021-04-18T08:21:17.885836Z\", \"end_time\": \"2021-04-18T08:22:08.114575Z\", \"created_time\": \"2021-04-18T08:20:52.089861Z\", \"created_time_dt\": \"2021-04-18T08:20:52.089861Z\", \"duration\": \"0:01:16\", \"iteration\": \"31\", \"goal\": \"AUC_weighted_max\", \"run_name\": \"StandardScalerWrapper, GradientBoosting\", \"run_properties\": \"<azureml.automl.runtime.shared.model_wrappers.StandardScalerWrapper object at 0x7fdddb32a0b8\", \"primary_metric\": 0.88923613, \"best_metric\": 0.91617659}, {\"run_id\": \"AutoML_35950e74-8857-40bf-a9d1-607581a39c1c_32\", \"run_number\": 38, \"metric\": null, \"status\": \"Completed\", \"run_type\": \"azureml.scriptrun\", \"training_percent\": \"100\", \"start_time\": \"2021-04-18T08:21:44.694616Z\", \"end_time\": \"2021-04-18T08:22:39.275933Z\", \"created_time\": \"2021-04-18T08:21:06.063833Z\", \"created_time_dt\": \"2021-04-18T08:21:06.063833Z\", \"duration\": \"0:01:33\", \"iteration\": \"32\", \"goal\": \"AUC_weighted_max\", \"run_name\": \"StandardScalerWrapper, XGBoostClassifier\", \"run_properties\": \"<azureml.automl.runtime.shared.model_wrappers.StandardScalerWrapper object at 0x7f84fba43908\", \"primary_metric\": 0.91465702, \"best_metric\": 0.91617659}, {\"run_id\": \"AutoML_35950e74-8857-40bf-a9d1-607581a39c1c_33\", \"run_number\": 39, \"metric\": null, \"status\": \"Completed\", \"run_type\": \"azureml.scriptrun\", \"training_percent\": \"100\", \"start_time\": \"2021-04-18T08:21:48.834497Z\", \"end_time\": \"2021-04-18T08:22:30.728137Z\", \"created_time\": \"2021-04-18T08:21:31.559806Z\", \"created_time_dt\": \"2021-04-18T08:21:31.559806Z\", \"duration\": \"0:00:59\", \"iteration\": \"33\", \"goal\": \"AUC_weighted_max\", \"run_name\": \"RobustScaler, LightGBM\", \"run_properties\": \"copy=True, quantile_range=[25, 75], with_centering=False,\\n             with_scaling=True\", \"primary_metric\": 0.90185301, \"best_metric\": 0.91617659}, {\"run_id\": \"AutoML_35950e74-8857-40bf-a9d1-607581a39c1c_34\", \"run_number\": 40, \"metric\": null, \"status\": \"Completed\", \"run_type\": \"azureml.scriptrun\", \"training_percent\": \"100\", \"start_time\": \"2021-04-18T08:22:10.587431Z\", \"end_time\": \"2021-04-18T08:22:54.688411Z\", \"created_time\": \"2021-04-18T08:21:35.294034Z\", \"created_time_dt\": \"2021-04-18T08:21:35.294034Z\", \"duration\": \"0:01:19\", \"iteration\": \"34\", \"goal\": \"AUC_weighted_max\", \"run_name\": \"RobustScaler, LightGBM\", \"run_properties\": \"copy=True, quantile_range=[25, 75], with_centering=False,\\n             with_scaling=True\", \"primary_metric\": 0.90152178, \"best_metric\": 0.91617659}, {\"run_id\": \"AutoML_35950e74-8857-40bf-a9d1-607581a39c1c_35\", \"run_number\": 41, \"metric\": null, \"status\": \"Completed\", \"run_type\": \"azureml.scriptrun\", \"training_percent\": \"100\", \"start_time\": \"2021-04-18T08:22:21.111464Z\", \"end_time\": \"2021-04-18T08:23:03.584538Z\", \"created_time\": \"2021-04-18T08:21:59.734737Z\", \"created_time_dt\": \"2021-04-18T08:21:59.734737Z\", \"duration\": \"0:01:03\", \"iteration\": \"35\", \"goal\": \"AUC_weighted_max\", \"run_name\": \"StandardScalerWrapper, ExtremeRandomTrees\", \"run_properties\": \"<azureml.automl.runtime.shared.model_wrappers.StandardScalerWrapper object at 0x7fa76d252278\", \"primary_metric\": 0.86791353, \"best_metric\": 0.91617659}, {\"run_id\": \"AutoML_35950e74-8857-40bf-a9d1-607581a39c1c_36\", \"run_number\": 42, \"metric\": null, \"status\": \"Completed\", \"run_type\": \"azureml.scriptrun\", \"training_percent\": \"100\", \"start_time\": \"2021-04-18T08:22:46.932103Z\", \"end_time\": \"2021-04-18T08:23:30.55567Z\", \"created_time\": \"2021-04-18T08:22:11.517233Z\", \"created_time_dt\": \"2021-04-18T08:22:11.517233Z\", \"duration\": \"0:01:19\", \"iteration\": \"36\", \"goal\": \"AUC_weighted_max\", \"run_name\": \"MinMaxScaler, GradientBoosting\", \"run_properties\": \"copy=True, feature_range=(0, 1\", \"primary_metric\": 0.90969064, \"best_metric\": 0.91617659}, {\"run_id\": \"AutoML_35950e74-8857-40bf-a9d1-607581a39c1c_37\", \"run_number\": 43, \"metric\": null, \"status\": \"Completed\", \"run_type\": \"azureml.scriptrun\", \"training_percent\": \"100\", \"start_time\": \"2021-04-18T08:22:49.004648Z\", \"end_time\": \"2021-04-18T08:23:33.021027Z\", \"created_time\": \"2021-04-18T08:22:33.472059Z\", \"created_time_dt\": \"2021-04-18T08:22:33.472059Z\", \"duration\": \"0:00:59\", \"iteration\": \"37\", \"goal\": \"AUC_weighted_max\", \"run_name\": \"MaxAbsScaler, RandomForest\", \"run_properties\": \"copy=True\", \"primary_metric\": 0.90408144, \"best_metric\": 0.91617659}, {\"run_id\": \"AutoML_35950e74-8857-40bf-a9d1-607581a39c1c_38\", \"run_number\": 44, \"metric\": null, \"status\": \"Completed\", \"run_type\": \"azureml.scriptrun\", \"training_percent\": \"100\", \"start_time\": \"2021-04-18T08:23:07.757489Z\", \"end_time\": \"2021-04-18T08:23:52.503828Z\", \"created_time\": \"2021-04-18T08:22:41.215652Z\", \"created_time_dt\": \"2021-04-18T08:22:41.215652Z\", \"duration\": \"0:01:11\", \"iteration\": \"38\", \"goal\": \"AUC_weighted_max\", \"run_name\": \"StandardScalerWrapper, XGBoostClassifier\", \"run_properties\": \"<azureml.automl.runtime.shared.model_wrappers.StandardScalerWrapper object at 0x7f52e4d15908\", \"primary_metric\": 0.90315269, \"best_metric\": 0.91617659}, {\"run_id\": \"AutoML_35950e74-8857-40bf-a9d1-607581a39c1c_39\", \"run_number\": 45, \"metric\": null, \"status\": \"Completed\", \"run_type\": \"azureml.scriptrun\", \"training_percent\": \"100\", \"start_time\": \"2021-04-18T08:23:16.997783Z\", \"end_time\": \"2021-04-18T08:24:07.849043Z\", \"created_time\": \"2021-04-18T08:22:57.485796Z\", \"created_time_dt\": \"2021-04-18T08:22:57.485796Z\", \"duration\": \"0:01:10\", \"iteration\": \"39\", \"goal\": \"AUC_weighted_max\", \"run_name\": \"StandardScalerWrapper, XGBoostClassifier\", \"run_properties\": \"<azureml.automl.runtime.shared.model_wrappers.StandardScalerWrapper object at 0x7f86f82bf400\", \"primary_metric\": 0.88943545, \"best_metric\": 0.91617659}, {\"run_id\": \"AutoML_35950e74-8857-40bf-a9d1-607581a39c1c_40\", \"run_number\": 46, \"metric\": null, \"status\": \"Completed\", \"run_type\": \"azureml.scriptrun\", \"training_percent\": \"100\", \"start_time\": \"2021-04-18T08:23:46.965946Z\", \"end_time\": \"2021-04-18T08:24:35.332349Z\", \"created_time\": \"2021-04-18T08:23:07.640823Z\", \"created_time_dt\": \"2021-04-18T08:23:07.640823Z\", \"duration\": \"0:01:27\", \"iteration\": \"40\", \"goal\": \"AUC_weighted_max\", \"run_name\": \"RobustScaler, ExtremeRandomTrees\", \"run_properties\": \"copy=True, quantile_range=[25, 75], with_centering=True,\\n             with_scaling=False\", \"primary_metric\": 0.90146839, \"best_metric\": 0.91617659}, {\"run_id\": \"AutoML_35950e74-8857-40bf-a9d1-607581a39c1c_41\", \"run_number\": 47, \"metric\": null, \"status\": \"Completed\", \"run_type\": \"azureml.scriptrun\", \"training_percent\": \"100\", \"start_time\": \"2021-04-18T08:23:48.16911Z\", \"end_time\": \"2021-04-18T08:24:32.360427Z\", \"created_time\": \"2021-04-18T08:23:32.371498Z\", \"created_time_dt\": \"2021-04-18T08:23:32.371498Z\", \"duration\": \"0:00:59\", \"iteration\": \"41\", \"goal\": \"AUC_weighted_max\", \"run_name\": \"StandardScalerWrapper, XGBoostClassifier\", \"run_properties\": \"<azureml.automl.runtime.shared.model_wrappers.StandardScalerWrapper object at 0x7fd75f033588\", \"primary_metric\": 0.88495844, \"best_metric\": 0.91617659}, {\"run_id\": \"AutoML_35950e74-8857-40bf-a9d1-607581a39c1c_42\", \"run_number\": 48, \"metric\": null, \"status\": \"Completed\", \"run_type\": \"azureml.scriptrun\", \"training_percent\": \"100\", \"start_time\": \"2021-04-18T08:24:08.39043Z\", \"end_time\": \"2021-04-18T08:24:57.179503Z\", \"created_time\": \"2021-04-18T08:23:36.643824Z\", \"created_time_dt\": \"2021-04-18T08:23:36.643824Z\", \"duration\": \"0:01:20\", \"iteration\": \"42\", \"goal\": \"AUC_weighted_max\", \"run_name\": \"StandardScalerWrapper, XGBoostClassifier\", \"run_properties\": \"<azureml.automl.runtime.shared.model_wrappers.StandardScalerWrapper object at 0x7f65b3ccb9b0\", \"primary_metric\": 0.90717502, \"best_metric\": 0.91617659}, {\"run_id\": \"AutoML_35950e74-8857-40bf-a9d1-607581a39c1c_43\", \"run_number\": 49, \"metric\": null, \"status\": \"Completed\", \"run_type\": \"azureml.scriptrun\", \"training_percent\": \"100\", \"start_time\": \"2021-04-18T08:24:21.558278Z\", \"end_time\": \"2021-04-18T08:25:08.986939Z\", \"created_time\": \"2021-04-18T08:23:54.518037Z\", \"created_time_dt\": \"2021-04-18T08:23:54.518037Z\", \"duration\": \"0:01:14\", \"iteration\": \"43\", \"goal\": \"AUC_weighted_max\", \"run_name\": \"StandardScalerWrapper, XGBoostClassifier\", \"run_properties\": \"<azureml.automl.runtime.shared.model_wrappers.StandardScalerWrapper object at 0x7f59c5679518\", \"primary_metric\": 0.91060853, \"best_metric\": 0.91617659}, {\"run_id\": \"AutoML_35950e74-8857-40bf-a9d1-607581a39c1c_44\", \"run_number\": 50, \"metric\": null, \"status\": \"Completed\", \"run_type\": \"azureml.scriptrun\", \"training_percent\": \"100\", \"start_time\": \"2021-04-18T08:24:49.906501Z\", \"end_time\": \"2021-04-18T08:25:34.578068Z\", \"created_time\": \"2021-04-18T08:24:09.665057Z\", \"created_time_dt\": \"2021-04-18T08:24:09.665057Z\", \"duration\": \"0:01:24\", \"iteration\": \"44\", \"goal\": \"AUC_weighted_max\", \"run_name\": \"StandardScalerWrapper, XGBoostClassifier\", \"run_properties\": \"<azureml.automl.runtime.shared.model_wrappers.StandardScalerWrapper object at 0x7f221c7d9d30\", \"primary_metric\": 0.91323549, \"best_metric\": 0.91617659}, {\"run_id\": \"AutoML_35950e74-8857-40bf-a9d1-607581a39c1c_45\", \"run_number\": 51, \"metric\": null, \"status\": \"Completed\", \"run_type\": \"azureml.scriptrun\", \"training_percent\": \"100\", \"start_time\": \"2021-04-18T08:24:51.072213Z\", \"end_time\": \"2021-04-18T08:25:37.548243Z\", \"created_time\": \"2021-04-18T08:24:35.697381Z\", \"created_time_dt\": \"2021-04-18T08:24:35.697381Z\", \"duration\": \"0:01:01\", \"iteration\": \"45\", \"goal\": \"AUC_weighted_max\", \"run_name\": \"RobustScaler, ExtremeRandomTrees\", \"run_properties\": \"copy=True, quantile_range=[10, 90], with_centering=True,\\n             with_scaling=False\", \"primary_metric\": 0.87684305, \"best_metric\": 0.91617659}, {\"run_id\": \"AutoML_35950e74-8857-40bf-a9d1-607581a39c1c_46\", \"run_number\": 52, \"metric\": null, \"status\": \"Completed\", \"run_type\": \"azureml.scriptrun\", \"training_percent\": \"100\", \"start_time\": \"2021-04-18T08:25:13.680062Z\", \"end_time\": \"2021-04-18T08:25:57.052152Z\", \"created_time\": \"2021-04-18T08:24:38.911783Z\", \"created_time_dt\": \"2021-04-18T08:24:38.911783Z\", \"duration\": \"0:01:18\", \"iteration\": \"46\", \"goal\": \"AUC_weighted_max\", \"run_name\": \"MaxAbsScaler, RandomForest\", \"run_properties\": \"copy=True\", \"primary_metric\": 0.91071237, \"best_metric\": 0.91617659}, {\"run_id\": \"AutoML_35950e74-8857-40bf-a9d1-607581a39c1c_47\", \"run_number\": 53, \"metric\": null, \"status\": \"Completed\", \"run_type\": \"azureml.scriptrun\", \"training_percent\": \"100\", \"start_time\": \"2021-04-18T08:25:22.142032Z\", \"end_time\": \"2021-04-18T08:26:08.25011Z\", \"created_time\": \"2021-04-18T08:24:58.941371Z\", \"created_time_dt\": \"2021-04-18T08:24:58.941371Z\", \"duration\": \"0:01:09\", \"iteration\": \"47\", \"goal\": \"AUC_weighted_max\", \"run_name\": \"MinMaxScaler, RandomForest\", \"run_properties\": \"copy=True, feature_range=(0, 1\", \"primary_metric\": 0.90922508, \"best_metric\": 0.91617659}, {\"run_id\": \"AutoML_35950e74-8857-40bf-a9d1-607581a39c1c_48\", \"run_number\": 54, \"metric\": null, \"status\": \"Completed\", \"run_type\": \"azureml.scriptrun\", \"training_percent\": \"100\", \"start_time\": \"2021-04-18T08:25:48.146998Z\", \"end_time\": \"2021-04-18T08:26:35.432373Z\", \"created_time\": \"2021-04-18T08:25:11.165735Z\", \"created_time_dt\": \"2021-04-18T08:25:11.165735Z\", \"duration\": \"0:01:24\", \"iteration\": \"48\", \"goal\": \"AUC_weighted_max\", \"run_name\": \"StandardScalerWrapper, XGBoostClassifier\", \"run_properties\": \"<azureml.automl.runtime.shared.model_wrappers.StandardScalerWrapper object at 0x7f0fa11f9470\", \"primary_metric\": 0.89080047, \"best_metric\": 0.91617659}, {\"run_id\": \"AutoML_35950e74-8857-40bf-a9d1-607581a39c1c_49\", \"run_number\": 55, \"metric\": null, \"status\": \"Completed\", \"run_type\": \"azureml.scriptrun\", \"training_percent\": \"100\", \"start_time\": \"2021-04-18T08:25:52.411928Z\", \"end_time\": \"2021-04-18T08:26:36.733749Z\", \"created_time\": \"2021-04-18T08:25:36.485161Z\", \"created_time_dt\": \"2021-04-18T08:25:36.485161Z\", \"duration\": \"0:01:00\", \"iteration\": \"49\", \"goal\": \"AUC_weighted_max\", \"run_name\": \"MinMaxScaler, LightGBM\", \"run_properties\": \"copy=True, feature_range=(0, 1\", \"primary_metric\": 0.91209944, \"best_metric\": 0.91617659}, {\"run_id\": \"AutoML_35950e74-8857-40bf-a9d1-607581a39c1c_50\", \"run_number\": 56, \"metric\": null, \"status\": \"Completed\", \"run_type\": \"azureml.scriptrun\", \"training_percent\": \"100\", \"start_time\": \"2021-04-18T08:26:09.252503Z\", \"end_time\": \"2021-04-18T08:27:00.792304Z\", \"created_time\": \"2021-04-18T08:25:41.50206Z\", \"created_time_dt\": \"2021-04-18T08:25:41.50206Z\", \"duration\": \"0:01:19\", \"iteration\": \"50\", \"goal\": \"AUC_weighted_max\", \"run_name\": \"RobustScaler, ExtremeRandomTrees\", \"run_properties\": \"copy=True, quantile_range=[25, 75], with_centering=True,\\n             with_scaling=False\", \"primary_metric\": 0.87738709, \"best_metric\": 0.91617659}, {\"run_id\": \"AutoML_35950e74-8857-40bf-a9d1-607581a39c1c_51\", \"run_number\": 57, \"metric\": null, \"status\": \"Completed\", \"run_type\": \"azureml.scriptrun\", \"training_percent\": \"100\", \"start_time\": \"2021-04-18T08:26:21.793758Z\", \"end_time\": \"2021-04-18T08:27:14.41504Z\", \"created_time\": \"2021-04-18T08:25:58.964653Z\", \"created_time_dt\": \"2021-04-18T08:25:58.964653Z\", \"duration\": \"0:01:15\", \"iteration\": \"51\", \"goal\": \"AUC_weighted_max\", \"run_name\": \"StandardScalerWrapper, ExtremeRandomTrees\", \"run_properties\": \"<azureml.automl.runtime.shared.model_wrappers.StandardScalerWrapper object at 0x7fabb2d572b0\", \"primary_metric\": 0.90418962, \"best_metric\": 0.91617659}, {\"run_id\": \"AutoML_35950e74-8857-40bf-a9d1-607581a39c1c_52\", \"run_number\": 58, \"metric\": null, \"status\": \"Completed\", \"run_type\": \"azureml.scriptrun\", \"training_percent\": \"100\", \"start_time\": \"2021-04-18T08:26:50.096191Z\", \"end_time\": \"2021-04-18T08:27:37.947429Z\", \"created_time\": \"2021-04-18T08:26:10.319106Z\", \"created_time_dt\": \"2021-04-18T08:26:10.319106Z\", \"duration\": \"0:01:27\", \"iteration\": \"52\", \"goal\": \"AUC_weighted_max\", \"run_name\": \"RobustScaler, RandomForest\", \"run_properties\": \"copy=True, quantile_range=[25, 75], with_centering=True,\\n             with_scaling=False\", \"primary_metric\": 0.91408257, \"best_metric\": 0.91617659}, {\"run_id\": \"AutoML_35950e74-8857-40bf-a9d1-607581a39c1c_53\", \"run_number\": 59, \"metric\": null, \"status\": \"Completed\", \"run_type\": \"azureml.scriptrun\", \"training_percent\": \"100\", \"start_time\": \"2021-04-18T08:26:51.06457Z\", \"end_time\": \"2021-04-18T08:27:37.394897Z\", \"created_time\": \"2021-04-18T08:26:37.60489Z\", \"created_time_dt\": \"2021-04-18T08:26:37.60489Z\", \"duration\": \"0:00:59\", \"iteration\": \"53\", \"goal\": \"AUC_weighted_max\", \"run_name\": \"StandardScalerWrapper, LightGBM\", \"run_properties\": \"<azureml.automl.runtime.shared.model_wrappers.StandardScalerWrapper object at 0x7f523dae4dd8\", \"primary_metric\": 0.90352215, \"best_metric\": 0.91617659}, {\"run_id\": \"AutoML_35950e74-8857-40bf-a9d1-607581a39c1c_54\", \"run_number\": 60, \"metric\": null, \"status\": \"Completed\", \"run_type\": \"azureml.scriptrun\", \"training_percent\": \"100\", \"start_time\": \"2021-04-18T08:27:15.647106Z\", \"end_time\": \"2021-04-18T08:28:08.628631Z\", \"created_time\": \"2021-04-18T08:26:42.162693Z\", \"created_time_dt\": \"2021-04-18T08:26:42.162693Z\", \"duration\": \"0:01:26\", \"iteration\": \"54\", \"goal\": \"AUC_weighted_max\", \"run_name\": \"StandardScalerWrapper, XGBoostClassifier\", \"run_properties\": \"<azureml.automl.runtime.shared.model_wrappers.StandardScalerWrapper object at 0x7fe595f02438\", \"primary_metric\": 0.91491595, \"best_metric\": 0.91617659}, {\"run_id\": \"AutoML_35950e74-8857-40bf-a9d1-607581a39c1c_55\", \"run_number\": 61, \"metric\": null, \"status\": \"Completed\", \"run_type\": \"azureml.scriptrun\", \"training_percent\": \"100\", \"start_time\": \"2021-04-18T08:27:27.848839Z\", \"end_time\": \"2021-04-18T08:28:14.714732Z\", \"created_time\": \"2021-04-18T08:27:03.657312Z\", \"created_time_dt\": \"2021-04-18T08:27:03.657312Z\", \"duration\": \"0:01:11\", \"iteration\": \"55\", \"goal\": \"AUC_weighted_max\", \"run_name\": \"StandardScalerWrapper, ExtremeRandomTrees\", \"run_properties\": \"<azureml.automl.runtime.shared.model_wrappers.StandardScalerWrapper object at 0x7f1344d90278\", \"primary_metric\": 0.85809217, \"best_metric\": 0.91617659}, {\"run_id\": \"AutoML_35950e74-8857-40bf-a9d1-607581a39c1c_56\", \"run_number\": 62, \"metric\": null, \"status\": \"Completed\", \"run_type\": \"azureml.scriptrun\", \"training_percent\": \"100\", \"start_time\": \"2021-04-18T08:27:53.502433Z\", \"end_time\": \"2021-04-18T08:28:41.846548Z\", \"created_time\": \"2021-04-18T08:27:16.724138Z\", \"created_time_dt\": \"2021-04-18T08:27:16.724138Z\", \"duration\": \"0:01:25\", \"iteration\": \"56\", \"goal\": \"AUC_weighted_max\", \"run_name\": \"StandardScalerWrapper, XGBoostClassifier\", \"run_properties\": \"<azureml.automl.runtime.shared.model_wrappers.StandardScalerWrapper object at 0x7f9676554128\", \"primary_metric\": 0.90996546, \"best_metric\": 0.91617659}, {\"run_id\": \"AutoML_35950e74-8857-40bf-a9d1-607581a39c1c_57\", \"run_number\": 63, \"metric\": null, \"status\": \"Completed\", \"run_type\": \"azureml.scriptrun\", \"training_percent\": \"100\", \"start_time\": \"2021-04-18T08:27:52.734774Z\", \"end_time\": \"2021-04-18T08:28:36.615775Z\", \"created_time\": \"2021-04-18T08:27:39.241587Z\", \"created_time_dt\": \"2021-04-18T08:27:39.241587Z\", \"duration\": \"0:00:57\", \"iteration\": \"57\", \"goal\": \"AUC_weighted_max\", \"run_name\": \"StandardScalerWrapper, XGBoostClassifier\", \"run_properties\": \"<azureml.automl.runtime.shared.model_wrappers.StandardScalerWrapper object at 0x7fef273e6f98\", \"primary_metric\": 0.90284408, \"best_metric\": 0.91617659}, {\"run_id\": \"AutoML_35950e74-8857-40bf-a9d1-607581a39c1c_58\", \"run_number\": 64, \"metric\": null, \"status\": \"Completed\", \"run_type\": \"azureml.scriptrun\", \"training_percent\": \"100\", \"start_time\": \"2021-04-18T08:28:22.025677Z\", \"end_time\": \"2021-04-18T08:29:14.366381Z\", \"created_time\": \"2021-04-18T08:27:42.627151Z\", \"created_time_dt\": \"2021-04-18T08:27:42.627151Z\", \"duration\": \"0:01:31\", \"iteration\": \"58\", \"goal\": \"AUC_weighted_max\", \"run_name\": \"StandardScalerWrapper, XGBoostClassifier\", \"run_properties\": \"<azureml.automl.runtime.shared.model_wrappers.StandardScalerWrapper object at 0x7f5f38e4d358\", \"primary_metric\": 0.90398452, \"best_metric\": 0.91617659}, {\"run_id\": \"AutoML_35950e74-8857-40bf-a9d1-607581a39c1c_59\", \"run_number\": 65, \"metric\": null, \"status\": \"Completed\", \"run_type\": \"azureml.scriptrun\", \"training_percent\": \"100\", \"start_time\": \"2021-04-18T08:28:29.146312Z\", \"end_time\": \"2021-04-18T08:29:21.476055Z\", \"created_time\": \"2021-04-18T08:28:10.449255Z\", \"created_time_dt\": \"2021-04-18T08:28:10.449255Z\", \"duration\": \"0:01:11\", \"iteration\": \"59\", \"goal\": \"AUC_weighted_max\", \"run_name\": \"MaxAbsScaler, RandomForest\", \"run_properties\": \"copy=True\", \"primary_metric\": 0.9036071, \"best_metric\": 0.91617659}, {\"run_id\": \"AutoML_35950e74-8857-40bf-a9d1-607581a39c1c_60\", \"run_number\": 66, \"metric\": null, \"status\": \"Completed\", \"run_type\": \"azureml.scriptrun\", \"training_percent\": \"100\", \"start_time\": \"2021-04-18T08:28:50.634048Z\", \"end_time\": \"2021-04-18T08:29:37.452663Z\", \"created_time\": \"2021-04-18T08:28:17.505143Z\", \"created_time_dt\": \"2021-04-18T08:28:17.505143Z\", \"duration\": \"0:01:19\", \"iteration\": \"60\", \"goal\": \"AUC_weighted_max\", \"run_name\": \"StandardScalerWrapper, ExtremeRandomTrees\", \"run_properties\": \"<azureml.automl.runtime.shared.model_wrappers.StandardScalerWrapper object at 0x7f36ff556f98\", \"primary_metric\": 0.87133084, \"best_metric\": 0.91617659}, {\"run_id\": \"AutoML_35950e74-8857-40bf-a9d1-607581a39c1c_61\", \"run_number\": 67, \"metric\": null, \"status\": \"Completed\", \"run_type\": \"azureml.scriptrun\", \"training_percent\": \"100\", \"start_time\": \"2021-04-18T08:28:57.975311Z\", \"end_time\": \"2021-04-18T08:29:55.157518Z\", \"created_time\": \"2021-04-18T08:28:38.422531Z\", \"created_time_dt\": \"2021-04-18T08:28:38.422531Z\", \"duration\": \"0:01:16\", \"iteration\": \"61\", \"goal\": \"AUC_weighted_max\", \"run_name\": \"StandardScalerWrapper, XGBoostClassifier\", \"run_properties\": \"<azureml.automl.runtime.shared.model_wrappers.StandardScalerWrapper object at 0x7ff00e45b780\", \"primary_metric\": 0.90424026, \"best_metric\": 0.91617659}, {\"run_id\": \"AutoML_35950e74-8857-40bf-a9d1-607581a39c1c_62\", \"run_number\": 68, \"metric\": null, \"status\": \"Completed\", \"run_type\": \"azureml.scriptrun\", \"training_percent\": \"100\", \"start_time\": \"2021-04-18T08:29:28.846073Z\", \"end_time\": \"2021-04-18T08:30:21.3426Z\", \"created_time\": \"2021-04-18T08:28:43.531867Z\", \"created_time_dt\": \"2021-04-18T08:28:43.531867Z\", \"duration\": \"0:01:37\", \"iteration\": \"62\", \"goal\": \"AUC_weighted_max\", \"run_name\": \"StandardScalerWrapper, XGBoostClassifier\", \"run_properties\": \"<azureml.automl.runtime.shared.model_wrappers.StandardScalerWrapper object at 0x7f86c250e208\", \"primary_metric\": 0.89878304, \"best_metric\": 0.91617659}, {\"run_id\": \"AutoML_35950e74-8857-40bf-a9d1-607581a39c1c_63\", \"run_number\": 69, \"metric\": null, \"status\": \"Completed\", \"run_type\": \"azureml.scriptrun\", \"training_percent\": \"100\", \"start_time\": \"2021-04-18T08:29:35.017509Z\", \"end_time\": \"2021-04-18T08:30:41.791056Z\", \"created_time\": \"2021-04-18T08:29:16.415269Z\", \"created_time_dt\": \"2021-04-18T08:29:16.415269Z\", \"duration\": \"0:01:25\", \"iteration\": \"63\", \"goal\": \"AUC_weighted_max\", \"run_name\": \"StandardScalerWrapper, XGBoostClassifier\", \"run_properties\": \"<azureml.automl.runtime.shared.model_wrappers.StandardScalerWrapper object at 0x7f23f836d8d0\", \"primary_metric\": 0.9047461, \"best_metric\": 0.91617659}, {\"run_id\": \"AutoML_35950e74-8857-40bf-a9d1-607581a39c1c_64\", \"run_number\": 70, \"metric\": null, \"status\": \"Completed\", \"run_type\": \"azureml.scriptrun\", \"training_percent\": \"100\", \"start_time\": \"2021-04-18T08:29:51.877312Z\", \"end_time\": \"2021-04-18T08:30:37.17448Z\", \"created_time\": \"2021-04-18T08:29:23.320919Z\", \"created_time_dt\": \"2021-04-18T08:29:23.320919Z\", \"duration\": \"0:01:13\", \"iteration\": \"64\", \"goal\": \"AUC_weighted_max\", \"run_name\": \"StandardScalerWrapper, XGBoostClassifier\", \"run_properties\": \"<azureml.automl.runtime.shared.model_wrappers.StandardScalerWrapper object at 0x7fb2399cba20\", \"primary_metric\": 0.90659337, \"best_metric\": 0.91617659}, {\"run_id\": \"AutoML_35950e74-8857-40bf-a9d1-607581a39c1c_65\", \"run_number\": 71, \"metric\": null, \"status\": \"Completed\", \"run_type\": \"azureml.scriptrun\", \"training_percent\": \"100\", \"start_time\": \"2021-04-18T08:30:12.564874Z\", \"end_time\": \"2021-04-18T08:31:01.978822Z\", \"created_time\": \"2021-04-18T08:29:40.801936Z\", \"created_time_dt\": \"2021-04-18T08:29:40.801936Z\", \"duration\": \"0:01:21\", \"iteration\": \"65\", \"goal\": \"AUC_weighted_max\", \"run_name\": \"MinMaxScaler, ExtremeRandomTrees\", \"run_properties\": \"copy=True, feature_range=(0, 1\", \"primary_metric\": 0.89749882, \"best_metric\": 0.91617659}, {\"run_id\": \"AutoML_35950e74-8857-40bf-a9d1-607581a39c1c_66\", \"run_number\": 72, \"metric\": null, \"status\": \"Completed\", \"run_type\": \"azureml.scriptrun\", \"training_percent\": \"100\", \"start_time\": \"2021-04-18T08:30:37.364653Z\", \"end_time\": \"2021-04-18T08:31:26.492598Z\", \"created_time\": \"2021-04-18T08:29:56.962356Z\", \"created_time_dt\": \"2021-04-18T08:29:56.962356Z\", \"duration\": \"0:01:29\", \"iteration\": \"66\", \"goal\": \"AUC_weighted_max\", \"run_name\": \"StandardScalerWrapper, GradientBoosting\", \"run_properties\": \"<azureml.automl.runtime.shared.model_wrappers.StandardScalerWrapper object at 0x7f8da6582cc0\", \"primary_metric\": 0.88744947, \"best_metric\": 0.91617659}, {\"run_id\": \"AutoML_35950e74-8857-40bf-a9d1-607581a39c1c_67\", \"run_number\": 73, \"metric\": null, \"status\": \"Completed\", \"run_type\": \"azureml.scriptrun\", \"training_percent\": \"100\", \"start_time\": \"2021-04-18T08:30:50.286716Z\", \"end_time\": \"2021-04-18T08:31:44.192267Z\", \"created_time\": \"2021-04-18T08:30:23.762241Z\", \"created_time_dt\": \"2021-04-18T08:30:23.762241Z\", \"duration\": \"0:01:20\", \"iteration\": \"67\", \"goal\": \"AUC_weighted_max\", \"run_name\": \"StandardScalerWrapper, XGBoostClassifier\", \"run_properties\": \"<azureml.automl.runtime.shared.model_wrappers.StandardScalerWrapper object at 0x7f3292c1be80\", \"primary_metric\": 0.91182759, \"best_metric\": 0.91617659}, {\"run_id\": \"AutoML_35950e74-8857-40bf-a9d1-607581a39c1c_68\", \"run_number\": 74, \"metric\": null, \"status\": \"Completed\", \"run_type\": \"azureml.scriptrun\", \"training_percent\": \"100\", \"start_time\": \"2021-04-18T08:30:58.439526Z\", \"end_time\": \"2021-04-18T08:31:53.792997Z\", \"created_time\": \"2021-04-18T08:30:40.352667Z\", \"created_time_dt\": \"2021-04-18T08:30:40.352667Z\", \"duration\": \"0:01:13\", \"iteration\": \"68\", \"goal\": \"AUC_weighted_max\", \"run_name\": \"StandardScalerWrapper, XGBoostClassifier\", \"run_properties\": \"<azureml.automl.runtime.shared.model_wrappers.StandardScalerWrapper object at 0x7f774cdcb278\", \"primary_metric\": 0.9131403, \"best_metric\": 0.91617659}, {\"run_id\": \"AutoML_35950e74-8857-40bf-a9d1-607581a39c1c_69\", \"run_number\": 75, \"metric\": null, \"status\": \"Completed\", \"run_type\": \"azureml.scriptrun\", \"training_percent\": \"100\", \"start_time\": \"2021-04-18T08:31:17.78525Z\", \"end_time\": \"2021-04-18T08:32:10.13809Z\", \"created_time\": \"2021-04-18T08:30:45.401423Z\", \"created_time_dt\": \"2021-04-18T08:30:45.401423Z\", \"duration\": \"0:01:24\", \"iteration\": \"69\", \"goal\": \"AUC_weighted_max\", \"run_name\": \"StandardScalerWrapper, XGBoostClassifier\", \"run_properties\": \"<azureml.automl.runtime.shared.model_wrappers.StandardScalerWrapper object at 0x7fe512805390\", \"primary_metric\": 0.90596738, \"best_metric\": 0.91617659}, {\"run_id\": \"AutoML_35950e74-8857-40bf-a9d1-607581a39c1c_70\", \"run_number\": 76, \"metric\": null, \"status\": \"Completed\", \"run_type\": \"azureml.scriptrun\", \"training_percent\": \"100\", \"start_time\": \"2021-04-18T08:31:45.490872Z\", \"end_time\": \"2021-04-18T08:32:38.473119Z\", \"created_time\": \"2021-04-18T08:31:04.820787Z\", \"created_time_dt\": \"2021-04-18T08:31:04.820787Z\", \"duration\": \"0:01:33\", \"iteration\": \"70\", \"goal\": \"AUC_weighted_max\", \"run_name\": \"MinMaxScaler, ExtremeRandomTrees\", \"run_properties\": \"copy=True, feature_range=(0, 1\", \"primary_metric\": 0.8775424, \"best_metric\": 0.91617659}, {\"run_id\": \"AutoML_35950e74-8857-40bf-a9d1-607581a39c1c_71\", \"run_number\": 77, \"metric\": null, \"status\": \"Completed\", \"run_type\": \"azureml.scriptrun\", \"training_percent\": \"100\", \"start_time\": \"2021-04-18T08:32:01.043155Z\", \"end_time\": \"2021-04-18T08:32:55.992408Z\", \"created_time\": \"2021-04-18T08:31:28.455632Z\", \"created_time_dt\": \"2021-04-18T08:31:28.455632Z\", \"duration\": \"0:01:27\", \"iteration\": \"71\", \"goal\": \"AUC_weighted_max\", \"run_name\": \"StandardScalerWrapper, RandomForest\", \"run_properties\": \"<azureml.automl.runtime.shared.model_wrappers.StandardScalerWrapper object at 0x7f65292f9eb8\", \"primary_metric\": 0.91037807, \"best_metric\": 0.91617659}, {\"run_id\": \"AutoML_35950e74-8857-40bf-a9d1-607581a39c1c_72\", \"run_number\": 78, \"metric\": null, \"status\": \"Completed\", \"run_type\": \"azureml.scriptrun\", \"training_percent\": \"100\", \"start_time\": \"2021-04-18T08:32:06.914654Z\", \"end_time\": \"2021-04-18T08:32:54.132758Z\", \"created_time\": \"2021-04-18T08:31:46.329045Z\", \"created_time_dt\": \"2021-04-18T08:31:46.329045Z\", \"duration\": \"0:01:07\", \"iteration\": \"72\", \"goal\": \"AUC_weighted_max\", \"run_name\": \"StandardScalerWrapper, XGBoostClassifier\", \"run_properties\": \"<azureml.automl.runtime.shared.model_wrappers.StandardScalerWrapper object at 0x7f5cb0f09e48\", \"primary_metric\": 0.90695882, \"best_metric\": 0.91617659}, {\"run_id\": \"AutoML_35950e74-8857-40bf-a9d1-607581a39c1c_73\", \"run_number\": 79, \"metric\": null, \"status\": \"Completed\", \"run_type\": \"azureml.scriptrun\", \"training_percent\": \"100\", \"start_time\": \"2021-04-18T08:32:22.802984Z\", \"end_time\": \"2021-04-18T08:33:13.287459Z\", \"created_time\": \"2021-04-18T08:31:55.422648Z\", \"created_time_dt\": \"2021-04-18T08:31:55.422648Z\", \"duration\": \"0:01:17\", \"iteration\": \"73\", \"goal\": \"AUC_weighted_max\", \"run_name\": \"StandardScalerWrapper, XGBoostClassifier\", \"run_properties\": \"<azureml.automl.runtime.shared.model_wrappers.StandardScalerWrapper object at 0x7fe2491d7f98\", \"primary_metric\": 0.90838123, \"best_metric\": 0.91617659}, {\"run_id\": \"AutoML_35950e74-8857-40bf-a9d1-607581a39c1c_74\", \"run_number\": 80, \"metric\": null, \"status\": \"Completed\", \"run_type\": \"azureml.scriptrun\", \"training_percent\": \"100\", \"start_time\": \"2021-04-18T08:32:52.685448Z\", \"end_time\": \"2021-04-18T08:33:41.302692Z\", \"created_time\": \"2021-04-18T08:32:11.81277Z\", \"created_time_dt\": \"2021-04-18T08:32:11.81277Z\", \"duration\": \"0:01:29\", \"iteration\": \"74\", \"goal\": \"AUC_weighted_max\", \"run_name\": \"StandardScalerWrapper, XGBoostClassifier\", \"run_properties\": \"<azureml.automl.runtime.shared.model_wrappers.StandardScalerWrapper object at 0x7f81f4824b70\", \"primary_metric\": 0.90544449, \"best_metric\": 0.91617659}, {\"run_id\": \"AutoML_35950e74-8857-40bf-a9d1-607581a39c1c_75\", \"run_number\": 81, \"metric\": null, \"status\": \"Completed\", \"run_type\": \"azureml.scriptrun\", \"training_percent\": \"100\", \"start_time\": \"2021-04-18T08:33:09.692683Z\", \"end_time\": \"2021-04-18T08:33:57.568335Z\", \"created_time\": \"2021-04-18T08:32:41.363788Z\", \"created_time_dt\": \"2021-04-18T08:32:41.363788Z\", \"duration\": \"0:01:16\", \"iteration\": \"75\", \"goal\": \"AUC_weighted_max\", \"run_name\": \"MinMaxScaler, ExtremeRandomTrees\", \"run_properties\": \"copy=True, feature_range=(0, 1\", \"primary_metric\": 0.76064861, \"best_metric\": 0.91617659}, {\"run_id\": \"AutoML_35950e74-8857-40bf-a9d1-607581a39c1c_76\", \"run_number\": 82, \"metric\": null, \"status\": \"Completed\", \"run_type\": \"azureml.scriptrun\", \"training_percent\": \"100\", \"start_time\": \"2021-04-18T08:33:11.257833Z\", \"end_time\": \"2021-04-18T08:33:58.533915Z\", \"created_time\": \"2021-04-18T08:32:55.982703Z\", \"created_time_dt\": \"2021-04-18T08:32:55.982703Z\", \"duration\": \"0:01:02\", \"iteration\": \"76\", \"goal\": \"AUC_weighted_max\", \"run_name\": \"StandardScalerWrapper, XGBoostClassifier\", \"run_properties\": \"<azureml.automl.runtime.shared.model_wrappers.StandardScalerWrapper object at 0x7f21643cb1d0\", \"primary_metric\": 0.90368002, \"best_metric\": 0.91617659}, {\"run_id\": \"AutoML_35950e74-8857-40bf-a9d1-607581a39c1c_77\", \"run_number\": 83, \"metric\": null, \"status\": \"Completed\", \"run_type\": \"azureml.scriptrun\", \"training_percent\": \"100\", \"start_time\": \"2021-04-18T08:33:30.255206Z\", \"end_time\": \"2021-04-18T08:34:18.146307Z\", \"created_time\": \"2021-04-18T08:33:00.832827Z\", \"created_time_dt\": \"2021-04-18T08:33:00.832827Z\", \"duration\": \"0:01:17\", \"iteration\": \"77\", \"goal\": \"AUC_weighted_max\", \"run_name\": \"MaxAbsScaler, LightGBM\", \"run_properties\": \"copy=True\", \"primary_metric\": 0.89499988, \"best_metric\": 0.91617659}, {\"run_id\": \"AutoML_35950e74-8857-40bf-a9d1-607581a39c1c_78\", \"run_number\": 84, \"metric\": null, \"status\": \"Completed\", \"run_type\": \"azureml.scriptrun\", \"training_percent\": \"100\", \"start_time\": \"2021-04-18T08:33:57.34242Z\", \"end_time\": \"2021-04-18T08:34:46.659858Z\", \"created_time\": \"2021-04-18T08:33:15.065022Z\", \"created_time_dt\": \"2021-04-18T08:33:15.065022Z\", \"duration\": \"0:01:31\", \"iteration\": \"78\", \"goal\": \"AUC_weighted_max\", \"run_name\": \"RobustScaler, LightGBM\", \"run_properties\": \"copy=True, quantile_range=[25, 75], with_centering=False,\\n             with_scaling=True\", \"primary_metric\": 0.90000305, \"best_metric\": 0.91617659}, {\"run_id\": \"AutoML_35950e74-8857-40bf-a9d1-607581a39c1c_79\", \"run_number\": 85, \"metric\": null, \"status\": \"Completed\", \"run_type\": \"azureml.scriptrun\", \"training_percent\": \"100\", \"start_time\": \"2021-04-18T08:34:12.56097Z\", \"end_time\": \"2021-04-18T08:35:04.599519Z\", \"created_time\": \"2021-04-18T08:33:43.308442Z\", \"created_time_dt\": \"2021-04-18T08:33:43.308442Z\", \"duration\": \"0:01:21\", \"iteration\": \"79\", \"goal\": \"AUC_weighted_max\", \"run_name\": \"StandardScalerWrapper, GradientBoosting\", \"run_properties\": \"<azureml.automl.runtime.shared.model_wrappers.StandardScalerWrapper object at 0x7f7d87b281d0\", \"primary_metric\": 0.9080876, \"best_metric\": 0.91617659}, {\"run_id\": \"AutoML_35950e74-8857-40bf-a9d1-607581a39c1c_80\", \"run_number\": 86, \"metric\": null, \"status\": \"Completed\", \"run_type\": \"azureml.scriptrun\", \"training_percent\": \"100\", \"start_time\": \"2021-04-18T08:34:14.632148Z\", \"end_time\": \"2021-04-18T08:35:03.759619Z\", \"created_time\": \"2021-04-18T08:34:00.491921Z\", \"created_time_dt\": \"2021-04-18T08:34:00.491921Z\", \"duration\": \"0:01:03\", \"iteration\": \"80\", \"goal\": \"AUC_weighted_max\", \"run_name\": \"RobustScaler, ExtremeRandomTrees\", \"run_properties\": \"copy=True, quantile_range=[25, 75], with_centering=True,\\n             with_scaling=False\", \"primary_metric\": 0.89860714, \"best_metric\": 0.91617659}, {\"run_id\": \"AutoML_35950e74-8857-40bf-a9d1-607581a39c1c_81\", \"run_number\": 87, \"metric\": null, \"status\": \"Completed\", \"run_type\": \"azureml.scriptrun\", \"training_percent\": \"100\", \"start_time\": \"2021-04-18T08:34:32.153385Z\", \"end_time\": \"2021-04-18T08:35:19.436415Z\", \"created_time\": \"2021-04-18T08:34:05.064194Z\", \"created_time_dt\": \"2021-04-18T08:34:05.064194Z\", \"duration\": \"0:01:14\", \"iteration\": \"81\", \"goal\": \"AUC_weighted_max\", \"run_name\": \"RobustScaler, GradientBoosting\", \"run_properties\": \"copy=True, quantile_range=[25, 75], with_centering=True,\\n             with_scaling=True\", \"primary_metric\": 0.91106075, \"best_metric\": 0.91617659}, {\"run_id\": \"AutoML_35950e74-8857-40bf-a9d1-607581a39c1c_82\", \"run_number\": 88, \"metric\": null, \"status\": \"Completed\", \"run_type\": \"azureml.scriptrun\", \"training_percent\": \"100\", \"start_time\": \"2021-04-18T08:34:56.497217Z\", \"end_time\": \"2021-04-18T08:35:46.513019Z\", \"created_time\": \"2021-04-18T08:34:19.903842Z\", \"created_time_dt\": \"2021-04-18T08:34:19.903842Z\", \"duration\": \"0:01:26\", \"iteration\": \"82\", \"goal\": \"AUC_weighted_max\", \"run_name\": \"StandardScalerWrapper, XGBoostClassifier\", \"run_properties\": \"<azureml.automl.runtime.shared.model_wrappers.StandardScalerWrapper object at 0x7f07ccb94c50\", \"primary_metric\": 0.90270526, \"best_metric\": 0.91617659}, {\"run_id\": \"AutoML_35950e74-8857-40bf-a9d1-607581a39c1c_83\", \"run_number\": 89, \"metric\": null, \"status\": \"Completed\", \"run_type\": \"azureml.scriptrun\", \"training_percent\": \"100\", \"start_time\": \"2021-04-18T08:35:18.638098Z\", \"end_time\": \"2021-04-18T08:36:10.46379Z\", \"created_time\": \"2021-04-18T08:34:49.49138Z\", \"created_time_dt\": \"2021-04-18T08:34:49.49138Z\", \"duration\": \"0:01:20\", \"iteration\": \"83\", \"goal\": \"AUC_weighted_max\", \"run_name\": \"StandardScalerWrapper, GradientBoosting\", \"run_properties\": \"<azureml.automl.runtime.shared.model_wrappers.StandardScalerWrapper object at 0x7f4f9feaf1d0\", \"primary_metric\": 0.91673953, \"best_metric\": 0.91673953}, {\"run_id\": \"AutoML_35950e74-8857-40bf-a9d1-607581a39c1c_84\", \"run_number\": 90, \"metric\": null, \"status\": \"Completed\", \"run_type\": \"azureml.scriptrun\", \"training_percent\": \"100\", \"start_time\": \"2021-04-18T08:35:17.25081Z\", \"end_time\": \"2021-04-18T08:36:07.888878Z\", \"created_time\": \"2021-04-18T08:35:08.230371Z\", \"created_time_dt\": \"2021-04-18T08:35:08.230371Z\", \"duration\": \"0:00:59\", \"iteration\": \"84\", \"goal\": \"AUC_weighted_max\", \"run_name\": \"RobustScaler, ExtremeRandomTrees\", \"run_properties\": \"copy=True, quantile_range=[25, 75], with_centering=True,\\n             with_scaling=True\", \"primary_metric\": 0.90392673, \"best_metric\": 0.91673953}, {\"run_id\": \"AutoML_35950e74-8857-40bf-a9d1-607581a39c1c_85\", \"run_number\": 91, \"metric\": null, \"status\": \"Completed\", \"run_type\": \"azureml.scriptrun\", \"training_percent\": \"100\", \"start_time\": \"2021-04-18T08:35:36.185848Z\", \"end_time\": \"2021-04-18T08:36:30.913579Z\", \"created_time\": \"2021-04-18T08:35:08.290058Z\", \"created_time_dt\": \"2021-04-18T08:35:08.290058Z\", \"duration\": \"0:01:22\", \"iteration\": \"85\", \"goal\": \"AUC_weighted_max\", \"run_name\": \"StandardScalerWrapper, XGBoostClassifier\", \"run_properties\": \"<azureml.automl.runtime.shared.model_wrappers.StandardScalerWrapper object at 0x7fb6d35a6198\", \"primary_metric\": 0.91063437, \"best_metric\": 0.91673953}, {\"run_id\": \"AutoML_35950e74-8857-40bf-a9d1-607581a39c1c_86\", \"run_number\": 92, \"metric\": null, \"status\": \"Completed\", \"run_type\": \"azureml.scriptrun\", \"training_percent\": \"100\", \"start_time\": \"2021-04-18T08:36:02.697475Z\", \"end_time\": \"2021-04-18T08:36:51.427501Z\", \"created_time\": \"2021-04-18T08:35:21.26041Z\", \"created_time_dt\": \"2021-04-18T08:35:21.26041Z\", \"duration\": \"0:01:30\", \"iteration\": \"86\", \"goal\": \"AUC_weighted_max\", \"run_name\": \"StandardScalerWrapper, GradientBoosting\", \"run_properties\": \"<azureml.automl.runtime.shared.model_wrappers.StandardScalerWrapper object at 0x7fe9d3de6748\", \"primary_metric\": 0.91420074, \"best_metric\": 0.91673953}, {\"run_id\": \"AutoML_35950e74-8857-40bf-a9d1-607581a39c1c_87\", \"run_number\": 93, \"metric\": null, \"status\": \"Completed\", \"run_type\": \"azureml.scriptrun\", \"training_percent\": \"100\", \"start_time\": \"2021-04-18T08:36:24.506667Z\", \"end_time\": \"2021-04-18T08:37:08.487425Z\", \"created_time\": \"2021-04-18T08:35:48.706242Z\", \"created_time_dt\": \"2021-04-18T08:35:48.706242Z\", \"duration\": \"0:01:19\", \"iteration\": \"87\", \"goal\": \"AUC_weighted_max\", \"run_name\": \"MinMaxScaler, LogisticRegression\", \"run_properties\": \"copy=True, feature_range=(0, 1\", \"primary_metric\": 0.86961157, \"best_metric\": 0.91673953}, {\"run_id\": \"AutoML_35950e74-8857-40bf-a9d1-607581a39c1c_88\", \"run_number\": 94, \"metric\": null, \"status\": \"Completed\", \"run_type\": \"azureml.scriptrun\", \"training_percent\": \"100\", \"start_time\": \"2021-04-18T08:36:23.074323Z\", \"end_time\": \"2021-04-18T08:37:07.074993Z\", \"created_time\": \"2021-04-18T08:36:10.218699Z\", \"created_time_dt\": \"2021-04-18T08:36:10.218699Z\", \"duration\": \"0:00:56\", \"iteration\": \"88\", \"goal\": \"AUC_weighted_max\", \"run_name\": \"StandardScalerWrapper, XGBoostClassifier\", \"run_properties\": \"<azureml.automl.runtime.shared.model_wrappers.StandardScalerWrapper object at 0x7f3d8e6fcf28\", \"primary_metric\": 0.88828022, \"best_metric\": 0.91673953}, {\"run_id\": \"AutoML_35950e74-8857-40bf-a9d1-607581a39c1c_89\", \"run_number\": 95, \"metric\": null, \"status\": \"Completed\", \"run_type\": \"azureml.scriptrun\", \"training_percent\": \"100\", \"start_time\": \"2021-04-18T08:36:45.486507Z\", \"end_time\": \"2021-04-18T08:37:32.532223Z\", \"created_time\": \"2021-04-18T08:36:13.319261Z\", \"created_time_dt\": \"2021-04-18T08:36:13.319261Z\", \"duration\": \"0:01:19\", \"iteration\": \"89\", \"goal\": \"AUC_weighted_max\", \"run_name\": \"StandardScalerWrapper, XGBoostClassifier\", \"run_properties\": \"<azureml.automl.runtime.shared.model_wrappers.StandardScalerWrapper object at 0x7f6a976d7470\", \"primary_metric\": 0.90569767, \"best_metric\": 0.91673953}, {\"run_id\": \"AutoML_35950e74-8857-40bf-a9d1-607581a39c1c_90\", \"run_number\": 96, \"metric\": null, \"status\": \"Completed\", \"run_type\": \"azureml.scriptrun\", \"training_percent\": \"100\", \"start_time\": \"2021-04-18T08:37:05.542421Z\", \"end_time\": \"2021-04-18T08:37:54.081535Z\", \"created_time\": \"2021-04-18T08:36:34.063627Z\", \"created_time_dt\": \"2021-04-18T08:36:34.063627Z\", \"duration\": \"0:01:20\", \"iteration\": \"90\", \"goal\": \"AUC_weighted_max\", \"run_name\": \"MinMaxScaler, GradientBoosting\", \"run_properties\": \"copy=True, feature_range=(0, 1\", \"primary_metric\": 0.9062815, \"best_metric\": 0.91673953}, {\"run_id\": \"AutoML_35950e74-8857-40bf-a9d1-607581a39c1c_91\", \"run_number\": 97, \"metric\": null, \"status\": \"Completed\", \"run_type\": \"azureml.scriptrun\", \"training_percent\": \"100\", \"start_time\": \"2021-04-18T08:37:23.117203Z\", \"end_time\": \"2021-04-18T08:38:07.697207Z\", \"created_time\": \"2021-04-18T08:36:53.233583Z\", \"created_time_dt\": \"2021-04-18T08:36:53.233583Z\", \"duration\": \"0:01:14\", \"iteration\": \"91\", \"goal\": \"AUC_weighted_max\", \"run_name\": \"StandardScalerWrapper, GradientBoosting\", \"run_properties\": \"<azureml.automl.runtime.shared.model_wrappers.StandardScalerWrapper object at 0x7f882d31cdd8\", \"primary_metric\": 0.91119091, \"best_metric\": 0.91673953}, {\"run_id\": \"AutoML_35950e74-8857-40bf-a9d1-607581a39c1c_92\", \"run_number\": 98, \"metric\": null, \"status\": \"Completed\", \"run_type\": \"azureml.scriptrun\", \"training_percent\": \"100\", \"start_time\": \"2021-04-18T08:37:25.539017Z\", \"end_time\": \"2021-04-18T08:38:17.153705Z\", \"created_time\": \"2021-04-18T08:37:08.814599Z\", \"created_time_dt\": \"2021-04-18T08:37:08.814599Z\", \"duration\": \"0:01:08\", \"iteration\": \"92\", \"goal\": \"AUC_weighted_max\", \"run_name\": \"MinMaxScaler, LogisticRegression\", \"run_properties\": \"copy=True, feature_range=(0, 1\", \"primary_metric\": 0.86807669, \"best_metric\": 0.91673953}, {\"run_id\": \"AutoML_35950e74-8857-40bf-a9d1-607581a39c1c_93\", \"run_number\": 99, \"metric\": null, \"status\": \"Completed\", \"run_type\": \"azureml.scriptrun\", \"training_percent\": \"100\", \"start_time\": \"2021-04-18T08:37:45.274962Z\", \"end_time\": \"2021-04-18T08:39:14.895554Z\", \"created_time\": \"2021-04-18T08:37:12.67595Z\", \"created_time_dt\": \"2021-04-18T08:37:12.67595Z\", \"duration\": \"0:02:02\", \"iteration\": \"93\", \"goal\": \"AUC_weighted_max\", \"run_name\": \"StandardScalerWrapper, XGBoostClassifier\", \"run_properties\": \"<azureml.automl.runtime.shared.model_wrappers.StandardScalerWrapper object at 0x7ffb619a4a90\", \"primary_metric\": 0.9050787, \"best_metric\": 0.91673953}, {\"run_id\": \"AutoML_35950e74-8857-40bf-a9d1-607581a39c1c_94\", \"run_number\": 100, \"metric\": null, \"status\": \"Completed\", \"run_type\": \"azureml.scriptrun\", \"training_percent\": \"100\", \"start_time\": \"2021-04-18T08:38:08.706223Z\", \"end_time\": \"2021-04-18T08:38:51.940914Z\", \"created_time\": \"2021-04-18T08:37:34.749852Z\", \"created_time_dt\": \"2021-04-18T08:37:34.749852Z\", \"duration\": \"0:01:17\", \"iteration\": \"94\", \"goal\": \"AUC_weighted_max\", \"run_name\": \"StandardScalerWrapper, RandomForest\", \"run_properties\": \"<azureml.automl.runtime.shared.model_wrappers.StandardScalerWrapper object at 0x7fc831fac390\", \"primary_metric\": 0.91265285, \"best_metric\": 0.91673953}, {\"run_id\": \"AutoML_35950e74-8857-40bf-a9d1-607581a39c1c_95\", \"run_number\": 101, \"metric\": null, \"status\": \"Completed\", \"run_type\": \"azureml.scriptrun\", \"training_percent\": \"100\", \"start_time\": \"2021-04-18T08:38:24.123241Z\", \"end_time\": \"2021-04-18T08:39:15.252542Z\", \"created_time\": \"2021-04-18T08:37:56.96976Z\", \"created_time_dt\": \"2021-04-18T08:37:56.96976Z\", \"duration\": \"0:01:18\", \"iteration\": \"95\", \"goal\": \"AUC_weighted_max\", \"run_name\": \"MaxAbsScaler, GradientBoosting\", \"run_properties\": \"copy=True\", \"primary_metric\": 0.90484415, \"best_metric\": 0.91673953}, {\"run_id\": \"AutoML_35950e74-8857-40bf-a9d1-607581a39c1c_96\", \"run_number\": 102, \"metric\": null, \"status\": \"Completed\", \"run_type\": \"azureml.scriptrun\", \"training_percent\": \"100\", \"start_time\": \"2021-04-18T08:38:30.658618Z\", \"end_time\": \"2021-04-18T08:39:19.490005Z\", \"created_time\": \"2021-04-18T08:38:09.434155Z\", \"created_time_dt\": \"2021-04-18T08:38:09.434155Z\", \"duration\": \"0:01:10\", \"iteration\": \"96\", \"goal\": \"AUC_weighted_max\", \"run_name\": \"RobustScaler, RandomForest\", \"run_properties\": \"copy=True, quantile_range=[10, 90], with_centering=True,\\n             with_scaling=True\", \"primary_metric\": 0.90518741, \"best_metric\": 0.91673953}, {\"run_id\": \"AutoML_35950e74-8857-40bf-a9d1-607581a39c1c_97\", \"run_number\": 103, \"metric\": null, \"status\": \"Completed\", \"run_type\": \"azureml.scriptrun\", \"training_percent\": \"100\", \"start_time\": \"2021-04-18T08:39:06.125956Z\", \"end_time\": \"2021-04-18T08:39:59.069654Z\", \"created_time\": \"2021-04-18T08:38:18.990082Z\", \"created_time_dt\": \"2021-04-18T08:38:18.990082Z\", \"duration\": \"0:01:40\", \"iteration\": \"97\", \"goal\": \"AUC_weighted_max\", \"run_name\": \"StandardScalerWrapper, XGBoostClassifier\", \"run_properties\": \"<azureml.automl.runtime.shared.model_wrappers.StandardScalerWrapper object at 0x7fe100877240\", \"primary_metric\": 0.91189196, \"best_metric\": 0.91673953}, {\"run_id\": \"AutoML_35950e74-8857-40bf-a9d1-607581a39c1c_98\", \"run_number\": 104, \"metric\": null, \"status\": \"Canceled\", \"run_type\": \"azureml.scriptrun\", \"training_percent\": \"100\", \"start_time\": \"2021-04-18T08:39:31.119775Z\", \"end_time\": \"2021-04-18T08:40:06.021984Z\", \"created_time\": \"2021-04-18T08:38:53.735271Z\", \"created_time_dt\": \"2021-04-18T08:38:53.735271Z\", \"duration\": \"0:01:12\", \"iteration\": \"98\", \"goal\": \"AUC_weighted_max\", \"run_name\": \"StandardScalerWrapper, XGBoostClassifier\", \"run_properties\": \"<azureml.automl.runtime.shared.model_wrappers.StandardScalerWrapper object at 0x7fb86f8e9f60\", \"primary_metric\": 0.89375496, \"best_metric\": 0.91673953}, {\"run_id\": \"AutoML_35950e74-8857-40bf-a9d1-607581a39c1c_100\", \"run_number\": 105, \"metric\": null, \"status\": \"Canceled\", \"run_type\": \"azureml.scriptrun\", \"training_percent\": \"100\", \"start_time\": \"2021-04-18T08:39:32.335383Z\", \"end_time\": \"2021-04-18T08:40:06.045983Z\", \"created_time\": \"2021-04-18T08:39:18.69928Z\", \"created_time_dt\": \"2021-04-18T08:39:18.69928Z\", \"duration\": \"0:00:47\", \"iteration\": \"100\", \"goal\": \"AUC_weighted_max\", \"run_name\": \"StandardScalerWrapper, XGBoostClassifier\", \"run_properties\": \"<azureml.automl.runtime.shared.model_wrappers.StandardScalerWrapper object at 0x7f8dab1e99b0\", \"primary_metric\": 0.91061127, \"best_metric\": 0.91673953}, {\"run_id\": \"AutoML_35950e74-8857-40bf-a9d1-607581a39c1c_99\", \"run_number\": 106, \"metric\": null, \"status\": \"Canceled\", \"run_type\": \"azureml.scriptrun\", \"training_percent\": \"100\", \"start_time\": \"2021-04-18T08:39:36.904944Z\", \"end_time\": \"2021-04-18T08:40:05.582608Z\", \"created_time\": \"2021-04-18T08:39:18.86984Z\", \"created_time_dt\": \"2021-04-18T08:39:18.86984Z\", \"duration\": \"0:00:46\", \"iteration\": \"99\", \"goal\": \"AUC_weighted_max\", \"run_name\": \"StandardScalerWrapper, GradientBoosting\", \"run_properties\": \"<azureml.automl.runtime.shared.model_wrappers.StandardScalerWrapper object at 0x7f01ee228240\", \"primary_metric\": 0.86873158, \"best_metric\": 0.91673953}, {\"run_id\": \"AutoML_35950e74-8857-40bf-a9d1-607581a39c1c_101\", \"run_number\": 107, \"metric\": null, \"status\": \"Canceled\", \"run_type\": \"azureml.scriptrun\", \"training_percent\": \"100\", \"start_time\": \"2021-04-18T08:39:26.600814Z\", \"end_time\": \"2021-04-18T08:40:06.054678Z\", \"created_time\": \"2021-04-18T08:39:26.600814Z\", \"created_time_dt\": \"2021-04-18T08:39:26.600814Z\", \"duration\": \"0:00:39\", \"iteration\": \"101\", \"goal\": null, \"run_name\": \"Canceled\", \"run_properties\": null}, {\"run_id\": \"AutoML_35950e74-8857-40bf-a9d1-607581a39c1c_102\", \"run_number\": 108, \"metric\": null, \"status\": \"Completed\", \"run_type\": \"azureml.scriptrun\", \"training_percent\": \"100\", \"start_time\": \"2021-04-18T08:40:18.441522Z\", \"end_time\": \"2021-04-18T08:41:57.588381Z\", \"created_time\": \"2021-04-18T08:40:07.365444Z\", \"created_time_dt\": \"2021-04-18T08:40:07.365444Z\", \"duration\": \"0:01:50\", \"iteration\": \"102\", \"goal\": \"AUC_weighted_max\", \"run_name\": \"VotingEnsemble\", \"run_properties\": \"classification_labels=None,\\n                              estimators=[('83',\\n                                           Pipeline(memory=None,\\n                                                    steps=[('standardscalerwrapper',\\n                                                            <azureml.automl.runtime.shared.model_wrappers.StandardScalerWrapper object at 0x7f90f6af1978>\", \"primary_metric\": 0.92290421, \"best_metric\": 0.92290421}, {\"run_id\": \"AutoML_35950e74-8857-40bf-a9d1-607581a39c1c_103\", \"run_number\": 109, \"metric\": null, \"status\": \"Completed\", \"run_type\": \"azureml.scriptrun\", \"training_percent\": \"100\", \"start_time\": \"2021-04-18T08:40:18.499745Z\", \"end_time\": \"2021-04-18T08:42:09.046779Z\", \"created_time\": \"2021-04-18T08:40:07.427442Z\", \"created_time_dt\": \"2021-04-18T08:40:07.427442Z\", \"duration\": \"0:02:01\", \"iteration\": \"103\", \"goal\": \"AUC_weighted_max\", \"run_name\": \"StackEnsemble\", \"run_properties\": \"base_learners=[('83',\\n                                        Pipeline(memory=None,\\n                                                 steps=[('standardscalerwrapper',\\n                                                         <azureml.automl.runtime.shared.model_wrappers.StandardScalerWrapper object at 0x7ff0c420fcf8>\", \"primary_metric\": 0.92081882, \"best_metric\": 0.92290421}], \"children_metrics\": {\"categories\": [0], \"series\": {\"average_precision_score_micro\": [{\"categories\": [\"0\", \"1\", \"2\", \"3\", \"4\", \"5\", \"6\", \"7\", \"8\", \"9\", \"10\", \"11\", \"12\", \"13\", \"14\", \"15\", \"16\", \"17\", \"18\", \"19\", \"20\", \"21\", \"22\", \"23\", \"24\", \"25\", \"26\", \"27\", \"28\", \"29\", \"30\", \"31\", \"32\", \"33\", \"34\", \"35\", \"36\", \"37\", \"38\", \"39\", \"40\", \"41\", \"42\", \"43\", \"44\", \"45\", \"46\", \"47\", \"48\", \"49\", \"50\", \"51\", \"52\", \"53\", \"54\", \"55\", \"56\", \"57\", \"58\", \"59\", \"60\", \"61\", \"62\", \"63\", \"64\", \"65\", \"66\", \"67\", \"68\", \"69\", \"70\", \"71\", \"72\", \"73\", \"74\", \"75\", \"76\", \"77\", \"78\", \"79\", \"80\", \"81\", \"82\", \"83\", \"84\", \"85\", \"86\", \"87\", \"88\", \"89\", \"90\", \"91\", \"92\", \"93\", \"94\", \"95\", \"96\", \"97\", \"98\", \"99\", \"100\", \"102\", \"103\"], \"mode\": \"markers\", \"name\": \"average_precision_score_micro\", \"stepped\": false, \"type\": \"scatter\", \"data\": [0.887958292631032, 0.9018582931163117, 0.9112457737704265, 0.8762458952858869, 0.9172607336830059, 0.9120638217490651, 0.9062757663604215, 0.91991469230553, 0.8616801115527828, 0.7923478012471382, 0.8729793796969707, 0.8927537841424076, 0.8915664074414366, 0.8825640012550181, 0.90521730168146, 0.6180888504381511, 0.8869532949940988, 0.8499692082179342, 0.8861042158332244, 0.9076275684514943, 0.9155240585895001, 0.8561290292963072, 0.8904135841891501, 0.9192112080970316, 0.9126279666606798, 0.8991930381910265, 0.9077532684536017, 0.8368648234997093, 0.8700657470473849, 0.9129688892234663, 0.6077866032776407, 0.9027567514122845, 0.9160305659843093, 0.9057491368472256, 0.9088911451239264, 0.8769490401602601, 0.9158084495528627, 0.8993071158111638, 0.9093534796050504, 0.8967144702085978, 0.9089349991856441, 0.8873285736498652, 0.9101632037275902, 0.91306176715376, 0.9169550634963946, 0.8877725461585249, 0.9159516216301513, 0.913279504509697, 0.8845104896519033, 0.9167063699715964, 0.8827220630681747, 0.9036186492334304, 0.9143111859447781, 0.9118928263879725, 0.9159091671741155, 0.8510715057518794, 0.9146080165129498, 0.90877721638043, 0.9071628481462233, 0.9054180342365014, 0.8602131790970086, 0.9071558307073408, 0.9056725417856913, 0.9094946350340376, 0.9107146626444192, 0.9041678794972506, 0.8928522451144989, 0.9174511717353043, 0.9183430590482253, 0.9121656861691472, 0.8864355028249932, 0.9185792981563006, 0.9140705805154445, 0.915570139182267, 0.9116520048999941, 0.7921519784822992, 0.9095061575937644, 0.907859852986701, 0.9062124032733653, 0.918309949596433, 0.9046125739307577, 0.9184358950448072, 0.9080215985233231, 0.9217307457805604, 0.9117412904095736, 0.9136086415260719, 0.92013580049056, 0.8811701664657656, 0.8969586513202445, 0.9093379773197915, 0.8653802039017225, 0.9187208856255105, 0.8810628961585347, 0.9083565381223007, 0.9111377659402204, 0.8637792938053191, 0.9118705651394989, 0.9157316932791492, 0.8995931822130669, 0.8355624111209619, 0.9161131749856916, 0.9247512466618997, 0.9007750080502277]}, {\"categories\": [\"0\", \"1\", \"2\", \"3\", \"4\", \"5\", \"6\", \"7\", \"8\", \"9\", \"10\", \"11\", \"12\", \"13\", \"14\", \"15\", \"16\", \"17\", \"18\", \"19\", \"20\", \"21\", \"22\", \"23\", \"24\", \"25\", \"26\", \"27\", \"28\", \"29\", \"30\", \"31\", \"32\", \"33\", \"34\", \"35\", \"36\", \"37\", \"38\", \"39\", \"40\", \"41\", \"42\", \"43\", \"44\", \"45\", \"46\", \"47\", \"48\", \"49\", \"50\", \"51\", \"52\", \"53\", \"54\", \"55\", \"56\", \"57\", \"58\", \"59\", \"60\", \"61\", \"62\", \"63\", \"64\", \"65\", \"66\", \"67\", \"68\", \"69\", \"70\", \"71\", \"72\", \"73\", \"74\", \"75\", \"76\", \"77\", \"78\", \"79\", \"80\", \"81\", \"82\", \"83\", \"84\", \"85\", \"86\", \"87\", \"88\", \"89\", \"90\", \"91\", \"92\", \"93\", \"94\", \"95\", \"96\", \"97\", \"98\", \"99\", \"100\", \"102\", \"103\"], \"mode\": \"lines\", \"name\": \"average_precision_score_micro_max\", \"stepped\": true, \"type\": \"scatter\", \"data\": [0.887958292631032, 0.9018582931163117, 0.9112457737704265, 0.9112457737704265, 0.9172607336830059, 0.9172607336830059, 0.9172607336830059, 0.91991469230553, 0.91991469230553, 0.91991469230553, 0.91991469230553, 0.91991469230553, 0.91991469230553, 0.91991469230553, 0.91991469230553, 0.91991469230553, 0.91991469230553, 0.91991469230553, 0.91991469230553, 0.91991469230553, 0.91991469230553, 0.91991469230553, 0.91991469230553, 0.91991469230553, 0.91991469230553, 0.91991469230553, 0.91991469230553, 0.91991469230553, 0.91991469230553, 0.91991469230553, 0.91991469230553, 0.91991469230553, 0.91991469230553, 0.91991469230553, 0.91991469230553, 0.91991469230553, 0.91991469230553, 0.91991469230553, 0.91991469230553, 0.91991469230553, 0.91991469230553, 0.91991469230553, 0.91991469230553, 0.91991469230553, 0.91991469230553, 0.91991469230553, 0.91991469230553, 0.91991469230553, 0.91991469230553, 0.91991469230553, 0.91991469230553, 0.91991469230553, 0.91991469230553, 0.91991469230553, 0.91991469230553, 0.91991469230553, 0.91991469230553, 0.91991469230553, 0.91991469230553, 0.91991469230553, 0.91991469230553, 0.91991469230553, 0.91991469230553, 0.91991469230553, 0.91991469230553, 0.91991469230553, 0.91991469230553, 0.91991469230553, 0.91991469230553, 0.91991469230553, 0.91991469230553, 0.91991469230553, 0.91991469230553, 0.91991469230553, 0.91991469230553, 0.91991469230553, 0.91991469230553, 0.91991469230553, 0.91991469230553, 0.91991469230553, 0.91991469230553, 0.91991469230553, 0.91991469230553, 0.9217307457805604, 0.9217307457805604, 0.9217307457805604, 0.9217307457805604, 0.9217307457805604, 0.9217307457805604, 0.9217307457805604, 0.9217307457805604, 0.9217307457805604, 0.9217307457805604, 0.9217307457805604, 0.9217307457805604, 0.9217307457805604, 0.9217307457805604, 0.9217307457805604, 0.9217307457805604, 0.9217307457805604, 0.9217307457805604, 0.9247512466618997, 0.9247512466618997]}], \"accuracy\": [{\"categories\": [\"0\", \"1\", \"2\", \"3\", \"4\", \"5\", \"6\", \"7\", \"8\", \"9\", \"10\", \"11\", \"12\", \"13\", \"14\", \"15\", \"16\", \"17\", \"18\", \"19\", \"20\", \"21\", \"22\", \"23\", \"24\", \"25\", \"26\", \"27\", \"28\", \"29\", \"30\", \"31\", \"32\", \"33\", \"34\", \"35\", \"36\", \"37\", \"38\", \"39\", \"40\", \"41\", \"42\", \"43\", \"44\", \"45\", \"46\", \"47\", \"48\", \"49\", \"50\", \"51\", \"52\", \"53\", \"54\", \"55\", \"56\", \"57\", \"58\", \"59\", \"60\", \"61\", \"62\", \"63\", \"64\", \"65\", \"66\", \"67\", \"68\", \"69\", \"70\", \"71\", \"72\", \"73\", \"74\", \"75\", \"76\", \"77\", \"78\", \"79\", \"80\", \"81\", \"82\", \"83\", \"84\", \"85\", \"86\", \"87\", \"88\", \"89\", \"90\", \"91\", \"92\", \"93\", \"94\", \"95\", \"96\", \"97\", \"98\", \"99\", \"100\", \"102\", \"103\"], \"mode\": \"markers\", \"name\": \"accuracy\", \"stepped\": false, \"type\": \"scatter\", \"data\": [0.8059887005649717, 0.8259322033898304, 0.8325988700564972, 0.7927118644067797, 0.8427118644067797, 0.8393220338983051, 0.8161016949152543, 0.8462146892655367, 0.7692655367231639, 0.7593220338983051, 0.7693785310734463, 0.8293785310734464, 0.7890395480225989, 0.8193785310734464, 0.8292090395480226, 0.6153107344632769, 0.8194915254237287, 0.7724293785310734, 0.7991525423728814, 0.8260451977401131, 0.8327118644067795, 0.7792090395480227, 0.8294350282485876, 0.8493785310734463, 0.8461581920903954, 0.8428813559322034, 0.8260451977401129, 0.7024858757062147, 0.7725988700564972, 0.8358757062146893, 0.5990960451977401, 0.8226553672316385, 0.8427683615819209, 0.8359887005649718, 0.8427683615819209, 0.7991525423728814, 0.8260451977401131, 0.8091525423728813, 0.8325988700564972, 0.8325988700564972, 0.8293785310734464, 0.8461016949152542, 0.8259887005649716, 0.8359887005649718, 0.8326553672316385, 0.8494915254237287, 0.8327683615819209, 0.8258192090395481, 0.836045197740113, 0.8225988700564972, 0.8261581920903953, 0.8194350282485875, 0.8091525423728813, 0.8260451977401131, 0.8327118644067797, 0.7423163841807909, 0.8393220338983051, 0.8325423728813559, 0.8461016949152542, 0.7957627118644067, 0.7958757062146893, 0.8293220338983052, 0.8393220338983051, 0.8293785310734464, 0.836045197740113, 0.8361016949152542, 0.8193220338983049, 0.8393785310734463, 0.8461581920903954, 0.8461016949152542, 0.7959887005649717, 0.8427118644067797, 0.8258757062146893, 0.8427683615819209, 0.8461016949152542, 0.67909604519774, 0.8293220338983052, 0.822542372881356, 0.8292655367231638, 0.8361016949152542, 0.8562146892655367, 0.836045197740113, 0.8359887005649718, 0.8495480225988701, 0.8596045197740112, 0.8393785310734463, 0.8461016949152542, 0.8193785310734464, 0.8289830508474576, 0.8359322033898305, 0.67909604519774, 0.8494915254237287, 0.8193785310734464, 0.8392655367231638, 0.8258757062146893, 0.67909604519774, 0.8224858757062148, 0.8426553672316384, 0.8326553672316385, 0.67909604519774, 0.8459322033898304, 0.8393785310734463, 0.7896045197740112]}, {\"categories\": [\"0\", \"1\", \"2\", \"3\", \"4\", \"5\", \"6\", \"7\", \"8\", \"9\", \"10\", \"11\", \"12\", \"13\", \"14\", \"15\", \"16\", \"17\", \"18\", \"19\", \"20\", \"21\", \"22\", \"23\", \"24\", \"25\", \"26\", \"27\", \"28\", \"29\", \"30\", \"31\", \"32\", \"33\", \"34\", \"35\", \"36\", \"37\", \"38\", \"39\", \"40\", \"41\", \"42\", \"43\", \"44\", \"45\", \"46\", \"47\", \"48\", \"49\", \"50\", \"51\", \"52\", \"53\", \"54\", \"55\", \"56\", \"57\", \"58\", \"59\", \"60\", \"61\", \"62\", \"63\", \"64\", \"65\", \"66\", \"67\", \"68\", \"69\", \"70\", \"71\", \"72\", \"73\", \"74\", \"75\", \"76\", \"77\", \"78\", \"79\", \"80\", \"81\", \"82\", \"83\", \"84\", \"85\", \"86\", \"87\", \"88\", \"89\", \"90\", \"91\", \"92\", \"93\", \"94\", \"95\", \"96\", \"97\", \"98\", \"99\", \"100\", \"102\", \"103\"], \"mode\": \"lines\", \"name\": \"accuracy_max\", \"stepped\": true, \"type\": \"scatter\", \"data\": [0.8059887005649717, 0.8259322033898304, 0.8325988700564972, 0.8325988700564972, 0.8427118644067797, 0.8427118644067797, 0.8427118644067797, 0.8462146892655367, 0.8462146892655367, 0.8462146892655367, 0.8462146892655367, 0.8462146892655367, 0.8462146892655367, 0.8462146892655367, 0.8462146892655367, 0.8462146892655367, 0.8462146892655367, 0.8462146892655367, 0.8462146892655367, 0.8462146892655367, 0.8462146892655367, 0.8462146892655367, 0.8462146892655367, 0.8493785310734463, 0.8493785310734463, 0.8493785310734463, 0.8493785310734463, 0.8493785310734463, 0.8493785310734463, 0.8493785310734463, 0.8493785310734463, 0.8493785310734463, 0.8493785310734463, 0.8493785310734463, 0.8493785310734463, 0.8493785310734463, 0.8493785310734463, 0.8493785310734463, 0.8493785310734463, 0.8493785310734463, 0.8493785310734463, 0.8493785310734463, 0.8493785310734463, 0.8493785310734463, 0.8493785310734463, 0.8494915254237287, 0.8494915254237287, 0.8494915254237287, 0.8494915254237287, 0.8494915254237287, 0.8494915254237287, 0.8494915254237287, 0.8494915254237287, 0.8494915254237287, 0.8494915254237287, 0.8494915254237287, 0.8494915254237287, 0.8494915254237287, 0.8494915254237287, 0.8494915254237287, 0.8494915254237287, 0.8494915254237287, 0.8494915254237287, 0.8494915254237287, 0.8494915254237287, 0.8494915254237287, 0.8494915254237287, 0.8494915254237287, 0.8494915254237287, 0.8494915254237287, 0.8494915254237287, 0.8494915254237287, 0.8494915254237287, 0.8494915254237287, 0.8494915254237287, 0.8494915254237287, 0.8494915254237287, 0.8494915254237287, 0.8494915254237287, 0.8494915254237287, 0.8562146892655367, 0.8562146892655367, 0.8562146892655367, 0.8562146892655367, 0.8596045197740112, 0.8596045197740112, 0.8596045197740112, 0.8596045197740112, 0.8596045197740112, 0.8596045197740112, 0.8596045197740112, 0.8596045197740112, 0.8596045197740112, 0.8596045197740112, 0.8596045197740112, 0.8596045197740112, 0.8596045197740112, 0.8596045197740112, 0.8596045197740112, 0.8596045197740112, 0.8596045197740112, 0.8596045197740112, 0.8596045197740112]}], \"weighted_accuracy\": [{\"categories\": [\"0\", \"1\", \"2\", \"3\", \"4\", \"5\", \"6\", \"7\", \"8\", \"9\", \"10\", \"11\", \"12\", \"13\", \"14\", \"15\", \"16\", \"17\", \"18\", \"19\", \"20\", \"21\", \"22\", \"23\", \"24\", \"25\", \"26\", \"27\", \"28\", \"29\", \"30\", \"31\", \"32\", \"33\", \"34\", \"35\", \"36\", \"37\", \"38\", \"39\", \"40\", \"41\", \"42\", \"43\", \"44\", \"45\", \"46\", \"47\", \"48\", \"49\", \"50\", \"51\", \"52\", \"53\", \"54\", \"55\", \"56\", \"57\", \"58\", \"59\", \"60\", \"61\", \"62\", \"63\", \"64\", \"65\", \"66\", \"67\", \"68\", \"69\", \"70\", \"71\", \"72\", \"73\", \"74\", \"75\", \"76\", \"77\", \"78\", \"79\", \"80\", \"81\", \"82\", \"83\", \"84\", \"85\", \"86\", \"87\", \"88\", \"89\", \"90\", \"91\", \"92\", \"93\", \"94\", \"95\", \"96\", \"97\", \"98\", \"99\", \"100\", \"102\", \"103\"], \"mode\": \"markers\", \"name\": \"weighted_accuracy\", \"stepped\": false, \"type\": \"scatter\", \"data\": [0.8252063202764133, 0.8406325321291572, 0.8535160799316468, 0.8503912187791478, 0.8556538051118963, 0.8587572585042678, 0.8441106402832717, 0.8747234454541071, 0.833804431826753, 0.8191552656124355, 0.8335527764760288, 0.8719282753481441, 0.7797321194300773, 0.8399689088760596, 0.8297037205566017, 0.6722707401586747, 0.8673524733711616, 0.7898838655803692, 0.804548271119349, 0.8394035882109765, 0.8552210345050723, 0.7824276490660588, 0.8468255457144706, 0.8705831722805366, 0.8649894877758557, 0.8799561268687999, 0.839234231972906, 0.8107845173341446, 0.8387848239836158, 0.851386157826383, 0.6506379174544138, 0.8406434091177933, 0.8589681896511575, 0.8583814026987626, 0.8634550789436914, 0.8058642622710279, 0.839785333829578, 0.806850207091434, 0.8486332262121001, 0.8512793877561956, 0.8457995526379891, 0.8752982161985935, 0.8418160820336796, 0.8584081150001464, 0.8493624889385684, 0.8848902240231009, 0.8583962554142799, 0.8283900301002834, 0.8623107447254436, 0.8448886190593363, 0.8713385917123035, 0.8248328533692082, 0.8115404725781594, 0.8504943197719255, 0.8528042475897724, 0.7342712833898617, 0.8579212257076122, 0.852315524995023, 0.863975294109404, 0.7989229374216632, 0.7963131253804783, 0.8484598340713119, 0.8601106905671904, 0.8494858271477931, 0.855564258520342, 0.8527471143419216, 0.8461936235869498, 0.8548826789623213, 0.8638779238347013, 0.8651895922180278, 0.8001384934525804, 0.8630374594585906, 0.8475999254808813, 0.8615335103162407, 0.866377178025268, 0.7971865900207855, 0.8477265354421256, 0.8471841599061587, 0.8404520606720818, 0.8568897582786084, 0.8880345582413488, 0.8540067363964484, 0.8543029713262138, 0.8687234454541072, 0.8875547482651018, 0.8605720570615315, 0.8601817936768384, 0.839144685381352, 0.8502014687025884, 0.8509063478501359, 0.7971865900207855, 0.8677352798980144, 0.8428715637433163, 0.8529063478501359, 0.8302808505236328, 0.7971865900207855, 0.82876066049988, 0.8608238805748689, 0.8462342571148653, 0.7971865900207855, 0.8629323660685767, 0.8564669133875988, 0.8615939639513763]}, {\"categories\": [\"0\", \"1\", \"2\", \"3\", \"4\", \"5\", \"6\", \"7\", \"8\", \"9\", \"10\", \"11\", \"12\", \"13\", \"14\", \"15\", \"16\", \"17\", \"18\", \"19\", \"20\", \"21\", \"22\", \"23\", \"24\", \"25\", \"26\", \"27\", \"28\", \"29\", \"30\", \"31\", \"32\", \"33\", \"34\", \"35\", \"36\", \"37\", \"38\", \"39\", \"40\", \"41\", \"42\", \"43\", \"44\", \"45\", \"46\", \"47\", \"48\", \"49\", \"50\", \"51\", \"52\", \"53\", \"54\", \"55\", \"56\", \"57\", \"58\", \"59\", \"60\", \"61\", \"62\", \"63\", \"64\", \"65\", \"66\", \"67\", \"68\", \"69\", \"70\", \"71\", \"72\", \"73\", \"74\", \"75\", \"76\", \"77\", \"78\", \"79\", \"80\", \"81\", \"82\", \"83\", \"84\", \"85\", \"86\", \"87\", \"88\", \"89\", \"90\", \"91\", \"92\", \"93\", \"94\", \"95\", \"96\", \"97\", \"98\", \"99\", \"100\", \"102\", \"103\"], \"mode\": \"lines\", \"name\": \"weighted_accuracy_max\", \"stepped\": true, \"type\": \"scatter\", \"data\": [0.8252063202764133, 0.8406325321291572, 0.8535160799316468, 0.8535160799316468, 0.8556538051118963, 0.8587572585042678, 0.8587572585042678, 0.8747234454541071, 0.8747234454541071, 0.8747234454541071, 0.8747234454541071, 0.8747234454541071, 0.8747234454541071, 0.8747234454541071, 0.8747234454541071, 0.8747234454541071, 0.8747234454541071, 0.8747234454541071, 0.8747234454541071, 0.8747234454541071, 0.8747234454541071, 0.8747234454541071, 0.8747234454541071, 0.8747234454541071, 0.8747234454541071, 0.8799561268687999, 0.8799561268687999, 0.8799561268687999, 0.8799561268687999, 0.8799561268687999, 0.8799561268687999, 0.8799561268687999, 0.8799561268687999, 0.8799561268687999, 0.8799561268687999, 0.8799561268687999, 0.8799561268687999, 0.8799561268687999, 0.8799561268687999, 0.8799561268687999, 0.8799561268687999, 0.8799561268687999, 0.8799561268687999, 0.8799561268687999, 0.8799561268687999, 0.8848902240231009, 0.8848902240231009, 0.8848902240231009, 0.8848902240231009, 0.8848902240231009, 0.8848902240231009, 0.8848902240231009, 0.8848902240231009, 0.8848902240231009, 0.8848902240231009, 0.8848902240231009, 0.8848902240231009, 0.8848902240231009, 0.8848902240231009, 0.8848902240231009, 0.8848902240231009, 0.8848902240231009, 0.8848902240231009, 0.8848902240231009, 0.8848902240231009, 0.8848902240231009, 0.8848902240231009, 0.8848902240231009, 0.8848902240231009, 0.8848902240231009, 0.8848902240231009, 0.8848902240231009, 0.8848902240231009, 0.8848902240231009, 0.8848902240231009, 0.8848902240231009, 0.8848902240231009, 0.8848902240231009, 0.8848902240231009, 0.8848902240231009, 0.8880345582413488, 0.8880345582413488, 0.8880345582413488, 0.8880345582413488, 0.8880345582413488, 0.8880345582413488, 0.8880345582413488, 0.8880345582413488, 0.8880345582413488, 0.8880345582413488, 0.8880345582413488, 0.8880345582413488, 0.8880345582413488, 0.8880345582413488, 0.8880345582413488, 0.8880345582413488, 0.8880345582413488, 0.8880345582413488, 0.8880345582413488, 0.8880345582413488, 0.8880345582413488, 0.8880345582413488, 0.8880345582413488]}], \"AUC_macro\": [{\"categories\": [\"0\", \"1\", \"2\", \"3\", \"4\", \"5\", \"6\", \"7\", \"8\", \"9\", \"10\", \"11\", \"12\", \"13\", \"14\", \"15\", \"16\", \"17\", \"18\", \"19\", \"20\", \"21\", \"22\", \"23\", \"24\", \"25\", \"26\", \"27\", \"28\", \"29\", \"30\", \"31\", \"32\", \"33\", \"34\", \"35\", \"36\", \"37\", \"38\", \"39\", \"40\", \"41\", \"42\", \"43\", \"44\", \"45\", \"46\", \"47\", \"48\", \"49\", \"50\", \"51\", \"52\", \"53\", \"54\", \"55\", \"56\", \"57\", \"58\", \"59\", \"60\", \"61\", \"62\", \"63\", \"64\", \"65\", \"66\", \"67\", \"68\", \"69\", \"70\", \"71\", \"72\", \"73\", \"74\", \"75\", \"76\", \"77\", \"78\", \"79\", \"80\", \"81\", \"82\", \"83\", \"84\", \"85\", \"86\", \"87\", \"88\", \"89\", \"90\", \"91\", \"92\", \"93\", \"94\", \"95\", \"96\", \"97\", \"98\", \"99\", \"100\", \"102\", \"103\"], \"mode\": \"markers\", \"name\": \"AUC_macro\", \"stepped\": false, \"type\": \"scatter\", \"data\": [0.8811331210778885, 0.8929591177556295, 0.8976333287190844, 0.8793626338132151, 0.9110297157622739, 0.9038054632705798, 0.8913672769010704, 0.9161765873015874, 0.8643136766334439, 0.7514726836471023, 0.8877491232927278, 0.8911218161683276, 0.8998841823551127, 0.8706621447028423, 0.9004721068660022, 0.48227655500184563, 0.8911242155777039, 0.8386078811369508, 0.8807803386858619, 0.9075663528977482, 0.9103240759966778, 0.8468666482096714, 0.8770909699150978, 0.9101698504983388, 0.9063821982281285, 0.8852728405315615, 0.8986865310077518, 0.8450808185677371, 0.8638174141749723, 0.9076855850867478, 0.5392108942414174, 0.889236134182355, 0.9146570228866742, 0.9018530131044665, 0.9015217792543373, 0.8679135289774825, 0.9096906376891841, 0.9040814414913252, 0.9031526854928018, 0.8894354466592838, 0.9014683923957181, 0.8849584371539313, 0.9071750184569952, 0.9106085271317829, 0.913235488187523, 0.876843046327058, 0.9107123708010336, 0.9092250830564785, 0.8908004683462533, 0.9120994370616465, 0.8773870893318566, 0.904189622554448, 0.9140825719822814, 0.9035221483942413, 0.9149159514581026, 0.8580921696197858, 0.9099654623477298, 0.902844084533038, 0.903984519195275, 0.9036070967146548, 0.8713308416389813, 0.9042402639350314, 0.8987830380214102, 0.9047461009597637, 0.9065933693244739, 0.897498823366556, 0.8874494739756369, 0.9118275885935768, 0.913140296234773, 0.905967377260982, 0.8775424049464746, 0.9103780684754522, 0.9069588178294573, 0.9083812292358804, 0.9054444905869324, 0.7606486134182356, 0.9036800249169434, 0.8949998846437801, 0.9000030454042081, 0.9080876015134736, 0.8986071428571428, 0.911060746585456, 0.9027052648578812, 0.9167395256552233, 0.9039267257290513, 0.9106343669250645, 0.914200742894057, 0.8696115725359912, 0.8882802233296421, 0.9056976744186047, 0.906281503783684, 0.9111909145441122, 0.868076688815061, 0.9050786960132889, 0.9126528469915097, 0.90484415374677, 0.9051874077150239, 0.911891957364341, 0.8937549603174603, 0.8687315776116646, 0.9106112726098192, 0.9229042081949059, 0.9208188215208566]}, {\"categories\": [\"0\", \"1\", \"2\", \"3\", \"4\", \"5\", \"6\", \"7\", \"8\", \"9\", \"10\", \"11\", \"12\", \"13\", \"14\", \"15\", \"16\", \"17\", \"18\", \"19\", \"20\", \"21\", \"22\", \"23\", \"24\", \"25\", \"26\", \"27\", \"28\", \"29\", \"30\", \"31\", \"32\", \"33\", \"34\", \"35\", \"36\", \"37\", \"38\", \"39\", \"40\", \"41\", \"42\", \"43\", \"44\", \"45\", \"46\", \"47\", \"48\", \"49\", \"50\", \"51\", \"52\", \"53\", \"54\", \"55\", \"56\", \"57\", \"58\", \"59\", \"60\", \"61\", \"62\", \"63\", \"64\", \"65\", \"66\", \"67\", \"68\", \"69\", \"70\", \"71\", \"72\", \"73\", \"74\", \"75\", \"76\", \"77\", \"78\", \"79\", \"80\", \"81\", \"82\", \"83\", \"84\", \"85\", \"86\", \"87\", \"88\", \"89\", \"90\", \"91\", \"92\", \"93\", \"94\", \"95\", \"96\", \"97\", \"98\", \"99\", \"100\", \"102\", \"103\"], \"mode\": \"lines\", \"name\": \"AUC_macro_max\", \"stepped\": true, \"type\": \"scatter\", \"data\": [0.8811331210778885, 0.8929591177556295, 0.8976333287190844, 0.8976333287190844, 0.9110297157622739, 0.9110297157622739, 0.9110297157622739, 0.9161765873015874, 0.9161765873015874, 0.9161765873015874, 0.9161765873015874, 0.9161765873015874, 0.9161765873015874, 0.9161765873015874, 0.9161765873015874, 0.9161765873015874, 0.9161765873015874, 0.9161765873015874, 0.9161765873015874, 0.9161765873015874, 0.9161765873015874, 0.9161765873015874, 0.9161765873015874, 0.9161765873015874, 0.9161765873015874, 0.9161765873015874, 0.9161765873015874, 0.9161765873015874, 0.9161765873015874, 0.9161765873015874, 0.9161765873015874, 0.9161765873015874, 0.9161765873015874, 0.9161765873015874, 0.9161765873015874, 0.9161765873015874, 0.9161765873015874, 0.9161765873015874, 0.9161765873015874, 0.9161765873015874, 0.9161765873015874, 0.9161765873015874, 0.9161765873015874, 0.9161765873015874, 0.9161765873015874, 0.9161765873015874, 0.9161765873015874, 0.9161765873015874, 0.9161765873015874, 0.9161765873015874, 0.9161765873015874, 0.9161765873015874, 0.9161765873015874, 0.9161765873015874, 0.9161765873015874, 0.9161765873015874, 0.9161765873015874, 0.9161765873015874, 0.9161765873015874, 0.9161765873015874, 0.9161765873015874, 0.9161765873015874, 0.9161765873015874, 0.9161765873015874, 0.9161765873015874, 0.9161765873015874, 0.9161765873015874, 0.9161765873015874, 0.9161765873015874, 0.9161765873015874, 0.9161765873015874, 0.9161765873015874, 0.9161765873015874, 0.9161765873015874, 0.9161765873015874, 0.9161765873015874, 0.9161765873015874, 0.9161765873015874, 0.9161765873015874, 0.9161765873015874, 0.9161765873015874, 0.9161765873015874, 0.9161765873015874, 0.9167395256552233, 0.9167395256552233, 0.9167395256552233, 0.9167395256552233, 0.9167395256552233, 0.9167395256552233, 0.9167395256552233, 0.9167395256552233, 0.9167395256552233, 0.9167395256552233, 0.9167395256552233, 0.9167395256552233, 0.9167395256552233, 0.9167395256552233, 0.9167395256552233, 0.9167395256552233, 0.9167395256552233, 0.9167395256552233, 0.9229042081949059, 0.9229042081949059]}], \"f1_score_weighted\": [{\"categories\": [\"0\", \"1\", \"2\", \"3\", \"4\", \"5\", \"6\", \"7\", \"8\", \"9\", \"10\", \"11\", \"12\", \"13\", \"14\", \"15\", \"16\", \"17\", \"18\", \"19\", \"20\", \"21\", \"22\", \"23\", \"24\", \"25\", \"26\", \"27\", \"28\", \"29\", \"30\", \"31\", \"32\", \"33\", \"34\", \"35\", \"36\", \"37\", \"38\", \"39\", \"40\", \"41\", \"42\", \"43\", \"44\", \"45\", \"46\", \"47\", \"48\", \"49\", \"50\", \"51\", \"52\", \"53\", \"54\", \"55\", \"56\", \"57\", \"58\", \"59\", \"60\", \"61\", \"62\", \"63\", \"64\", \"65\", \"66\", \"67\", \"68\", \"69\", \"70\", \"71\", \"72\", \"73\", \"74\", \"75\", \"76\", \"77\", \"78\", \"79\", \"80\", \"81\", \"82\", \"83\", \"84\", \"85\", \"86\", \"87\", \"88\", \"89\", \"90\", \"91\", \"92\", \"93\", \"94\", \"95\", \"96\", \"97\", \"98\", \"99\", \"100\", \"102\", \"103\"], \"mode\": \"markers\", \"name\": \"f1_score_weighted\", \"stepped\": false, \"type\": \"scatter\", \"data\": [0.8014398448329555, 0.8237396450256732, 0.8297849160459012, 0.764441219359176, 0.8421783360664123, 0.8361215471048344, 0.8113989982642504, 0.8401430320126165, 0.7372123571910892, 0.7359836357954517, 0.7327880269292363, 0.8170179007858616, 0.7962735168123445, 0.8140339155459918, 0.832614095454896, 0.5942320550697178, 0.798171082700615, 0.7720205762996656, 0.8020839087379844, 0.8224246263079633, 0.8298241822467916, 0.7840575009766069, 0.8275314130658034, 0.8461428249660857, 0.8437443118468911, 0.8329980830693641, 0.8255062313024227, 0.6031062406179959, 0.7389417308301948, 0.8344092728806837, 0.46451413436458305, 0.8192174576065169, 0.8391340544921736, 0.8319595798972885, 0.8376911239742713, 0.8023490556294826, 0.8223470575518459, 0.8143146005208488, 0.829637222561564, 0.8289215547765891, 0.8277256754165242, 0.8391080069946935, 0.8237725891158073, 0.8310092571716122, 0.8290089865644255, 0.840597630353751, 0.8269743356832382, 0.8302219798994555, 0.8302878461156504, 0.8165977179872742, 0.811759894822174, 0.8204124262633016, 0.812895391705527, 0.8201036261579382, 0.8286235308266849, 0.7509037570072885, 0.835761372898048, 0.828759504709739, 0.8410041395404481, 0.7992440733390641, 0.7985332207848159, 0.8262221311948433, 0.833665906737681, 0.8262600150064554, 0.8329739522510728, 0.8338587034015685, 0.8132830047026655, 0.8361018375622173, 0.8409577535988351, 0.8426009428375785, 0.7997940265653795, 0.8402998340698913, 0.8211521067013304, 0.8382107781451685, 0.8443702782819887, 0.5526564268547016, 0.8241546566750924, 0.8172360963610471, 0.8280533908172967, 0.8316557477566413, 0.8478455256727317, 0.8323710146763604, 0.8325064455842914, 0.8451084369780215, 0.8525486824393198, 0.8344202203643846, 0.8445500420545532, 0.81540472217149, 0.8255996531304947, 0.8347571815586317, 0.5526564268547016, 0.8459679311331522, 0.8125013452946306, 0.8381188303076419, 0.8293842782079558, 0.5526564268547016, 0.8257859439974196, 0.8381923904757158, 0.8311091795254193, 0.5526564268547016, 0.8437250017399733, 0.8358834712120726, 0.7389215374868737]}, {\"categories\": [\"0\", \"1\", \"2\", \"3\", \"4\", \"5\", \"6\", \"7\", \"8\", \"9\", \"10\", \"11\", \"12\", \"13\", \"14\", \"15\", \"16\", \"17\", \"18\", \"19\", \"20\", \"21\", \"22\", \"23\", \"24\", \"25\", \"26\", \"27\", \"28\", \"29\", \"30\", \"31\", \"32\", \"33\", \"34\", \"35\", \"36\", \"37\", \"38\", \"39\", \"40\", \"41\", \"42\", \"43\", \"44\", \"45\", \"46\", \"47\", \"48\", \"49\", \"50\", \"51\", \"52\", \"53\", \"54\", \"55\", \"56\", \"57\", \"58\", \"59\", \"60\", \"61\", \"62\", \"63\", \"64\", \"65\", \"66\", \"67\", \"68\", \"69\", \"70\", \"71\", \"72\", \"73\", \"74\", \"75\", \"76\", \"77\", \"78\", \"79\", \"80\", \"81\", \"82\", \"83\", \"84\", \"85\", \"86\", \"87\", \"88\", \"89\", \"90\", \"91\", \"92\", \"93\", \"94\", \"95\", \"96\", \"97\", \"98\", \"99\", \"100\", \"102\", \"103\"], \"mode\": \"lines\", \"name\": \"f1_score_weighted_max\", \"stepped\": true, \"type\": \"scatter\", \"data\": [0.8014398448329555, 0.8237396450256732, 0.8297849160459012, 0.8297849160459012, 0.8421783360664123, 0.8421783360664123, 0.8421783360664123, 0.8421783360664123, 0.8421783360664123, 0.8421783360664123, 0.8421783360664123, 0.8421783360664123, 0.8421783360664123, 0.8421783360664123, 0.8421783360664123, 0.8421783360664123, 0.8421783360664123, 0.8421783360664123, 0.8421783360664123, 0.8421783360664123, 0.8421783360664123, 0.8421783360664123, 0.8421783360664123, 0.8461428249660857, 0.8461428249660857, 0.8461428249660857, 0.8461428249660857, 0.8461428249660857, 0.8461428249660857, 0.8461428249660857, 0.8461428249660857, 0.8461428249660857, 0.8461428249660857, 0.8461428249660857, 0.8461428249660857, 0.8461428249660857, 0.8461428249660857, 0.8461428249660857, 0.8461428249660857, 0.8461428249660857, 0.8461428249660857, 0.8461428249660857, 0.8461428249660857, 0.8461428249660857, 0.8461428249660857, 0.8461428249660857, 0.8461428249660857, 0.8461428249660857, 0.8461428249660857, 0.8461428249660857, 0.8461428249660857, 0.8461428249660857, 0.8461428249660857, 0.8461428249660857, 0.8461428249660857, 0.8461428249660857, 0.8461428249660857, 0.8461428249660857, 0.8461428249660857, 0.8461428249660857, 0.8461428249660857, 0.8461428249660857, 0.8461428249660857, 0.8461428249660857, 0.8461428249660857, 0.8461428249660857, 0.8461428249660857, 0.8461428249660857, 0.8461428249660857, 0.8461428249660857, 0.8461428249660857, 0.8461428249660857, 0.8461428249660857, 0.8461428249660857, 0.8461428249660857, 0.8461428249660857, 0.8461428249660857, 0.8461428249660857, 0.8461428249660857, 0.8461428249660857, 0.8478455256727317, 0.8478455256727317, 0.8478455256727317, 0.8478455256727317, 0.8525486824393198, 0.8525486824393198, 0.8525486824393198, 0.8525486824393198, 0.8525486824393198, 0.8525486824393198, 0.8525486824393198, 0.8525486824393198, 0.8525486824393198, 0.8525486824393198, 0.8525486824393198, 0.8525486824393198, 0.8525486824393198, 0.8525486824393198, 0.8525486824393198, 0.8525486824393198, 0.8525486824393198, 0.8525486824393198, 0.8525486824393198]}], \"average_precision_score_macro\": [{\"categories\": [\"0\", \"1\", \"2\", \"3\", \"4\", \"5\", \"6\", \"7\", \"8\", \"9\", \"10\", \"11\", \"12\", \"13\", \"14\", \"15\", \"16\", \"17\", \"18\", \"19\", \"20\", \"21\", \"22\", \"23\", \"24\", \"25\", \"26\", \"27\", \"28\", \"29\", \"30\", \"31\", \"32\", \"33\", \"34\", \"35\", \"36\", \"37\", \"38\", \"39\", \"40\", \"41\", \"42\", \"43\", \"44\", \"45\", \"46\", \"47\", \"48\", \"49\", \"50\", \"51\", \"52\", \"53\", \"54\", \"55\", \"56\", \"57\", \"58\", \"59\", \"60\", \"61\", \"62\", \"63\", \"64\", \"65\", \"66\", \"67\", \"68\", \"69\", \"70\", \"71\", \"72\", \"73\", \"74\", \"75\", \"76\", \"77\", \"78\", \"79\", \"80\", \"81\", \"82\", \"83\", \"84\", \"85\", \"86\", \"87\", \"88\", \"89\", \"90\", \"91\", \"92\", \"93\", \"94\", \"95\", \"96\", \"97\", \"98\", \"99\", \"100\", \"102\", \"103\"], \"mode\": \"markers\", \"name\": \"average_precision_score_macro\", \"stepped\": false, \"type\": \"scatter\", \"data\": [0.8655792376041671, 0.8826936933050062, 0.8806542886745822, 0.8697827017787029, 0.8979896830864955, 0.8934177437614101, 0.8799968563669559, 0.9110192357665607, 0.8523618627905407, 0.7455889577323558, 0.8680766392819219, 0.8801492764616754, 0.8865346569865403, 0.8520807957015359, 0.8886907143070435, 0.5525347928626576, 0.8916296068638161, 0.8209374115791107, 0.8634478787324712, 0.8946702481469491, 0.9004005325064552, 0.840394084341327, 0.8613122157909336, 0.9004398366744942, 0.8951647782126189, 0.8776542070080577, 0.8891556418077899, 0.8385536727506505, 0.857781803470081, 0.8886877115828786, 0.5252278305098395, 0.8836349916824542, 0.9012692491439568, 0.8930809645777741, 0.8932571739331323, 0.8676704445430069, 0.8973357903199419, 0.8950812683197128, 0.8868245235403197, 0.8709097604511497, 0.8916098499559496, 0.8716328073150166, 0.8910789549105284, 0.8894206803985549, 0.9020202886864194, 0.8726207511834471, 0.9020786040841712, 0.9023659528959016, 0.8596074414780135, 0.8972774561727238, 0.867163777942024, 0.8919880966094308, 0.9064055087617859, 0.8964233045002805, 0.9021514043754209, 0.8555891185844213, 0.8936474438196715, 0.8923651375793611, 0.8809487580281636, 0.8863069987861222, 0.8605799136278222, 0.8841397411410881, 0.8809205843020704, 0.8851235435043228, 0.890281029195204, 0.887357953123621, 0.8673848794946638, 0.9018207153151533, 0.9024301447702683, 0.889365896527397, 0.8776958911204122, 0.9009415446861713, 0.8904267970416331, 0.8988457088093746, 0.8935718884434127, 0.7127552499408004, 0.8893983672005119, 0.8829253538237328, 0.8880960967887936, 0.8955562428595615, 0.8916055493857572, 0.9047878481002852, 0.8817202617830905, 0.9091550089800087, 0.8938522124924809, 0.8932176150555268, 0.9031163567859825, 0.8594648716465743, 0.8719578363199749, 0.8849134578998532, 0.8873585831864507, 0.9037797440969392, 0.86048909518729, 0.8807160317351677, 0.897044819836827, 0.8910549910027825, 0.8949198026271841, 0.8967979564584914, 0.8803348685953584, 0.8367479438656993, 0.8963326329289115, 0.9133496361084446, 0.9121038003848874]}, {\"categories\": [\"0\", \"1\", \"2\", \"3\", \"4\", \"5\", \"6\", \"7\", \"8\", \"9\", \"10\", \"11\", \"12\", \"13\", \"14\", \"15\", \"16\", \"17\", \"18\", \"19\", \"20\", \"21\", \"22\", \"23\", \"24\", \"25\", \"26\", \"27\", \"28\", \"29\", \"30\", \"31\", \"32\", \"33\", \"34\", \"35\", \"36\", \"37\", \"38\", \"39\", \"40\", \"41\", \"42\", \"43\", \"44\", \"45\", \"46\", \"47\", \"48\", \"49\", \"50\", \"51\", \"52\", \"53\", \"54\", \"55\", \"56\", \"57\", \"58\", \"59\", \"60\", \"61\", \"62\", \"63\", \"64\", \"65\", \"66\", \"67\", \"68\", \"69\", \"70\", \"71\", \"72\", \"73\", \"74\", \"75\", \"76\", \"77\", \"78\", \"79\", \"80\", \"81\", \"82\", \"83\", \"84\", \"85\", \"86\", \"87\", \"88\", \"89\", \"90\", \"91\", \"92\", \"93\", \"94\", \"95\", \"96\", \"97\", \"98\", \"99\", \"100\", \"102\", \"103\"], \"mode\": \"lines\", \"name\": \"average_precision_score_macro_max\", \"stepped\": true, \"type\": \"scatter\", \"data\": [0.8655792376041671, 0.8826936933050062, 0.8826936933050062, 0.8826936933050062, 0.8979896830864955, 0.8979896830864955, 0.8979896830864955, 0.9110192357665607, 0.9110192357665607, 0.9110192357665607, 0.9110192357665607, 0.9110192357665607, 0.9110192357665607, 0.9110192357665607, 0.9110192357665607, 0.9110192357665607, 0.9110192357665607, 0.9110192357665607, 0.9110192357665607, 0.9110192357665607, 0.9110192357665607, 0.9110192357665607, 0.9110192357665607, 0.9110192357665607, 0.9110192357665607, 0.9110192357665607, 0.9110192357665607, 0.9110192357665607, 0.9110192357665607, 0.9110192357665607, 0.9110192357665607, 0.9110192357665607, 0.9110192357665607, 0.9110192357665607, 0.9110192357665607, 0.9110192357665607, 0.9110192357665607, 0.9110192357665607, 0.9110192357665607, 0.9110192357665607, 0.9110192357665607, 0.9110192357665607, 0.9110192357665607, 0.9110192357665607, 0.9110192357665607, 0.9110192357665607, 0.9110192357665607, 0.9110192357665607, 0.9110192357665607, 0.9110192357665607, 0.9110192357665607, 0.9110192357665607, 0.9110192357665607, 0.9110192357665607, 0.9110192357665607, 0.9110192357665607, 0.9110192357665607, 0.9110192357665607, 0.9110192357665607, 0.9110192357665607, 0.9110192357665607, 0.9110192357665607, 0.9110192357665607, 0.9110192357665607, 0.9110192357665607, 0.9110192357665607, 0.9110192357665607, 0.9110192357665607, 0.9110192357665607, 0.9110192357665607, 0.9110192357665607, 0.9110192357665607, 0.9110192357665607, 0.9110192357665607, 0.9110192357665607, 0.9110192357665607, 0.9110192357665607, 0.9110192357665607, 0.9110192357665607, 0.9110192357665607, 0.9110192357665607, 0.9110192357665607, 0.9110192357665607, 0.9110192357665607, 0.9110192357665607, 0.9110192357665607, 0.9110192357665607, 0.9110192357665607, 0.9110192357665607, 0.9110192357665607, 0.9110192357665607, 0.9110192357665607, 0.9110192357665607, 0.9110192357665607, 0.9110192357665607, 0.9110192357665607, 0.9110192357665607, 0.9110192357665607, 0.9110192357665607, 0.9110192357665607, 0.9110192357665607, 0.9133496361084446, 0.9133496361084446]}], \"recall_score_weighted\": [{\"categories\": [\"0\", \"1\", \"2\", \"3\", \"4\", \"5\", \"6\", \"7\", \"8\", \"9\", \"10\", \"11\", \"12\", \"13\", \"14\", \"15\", \"16\", \"17\", \"18\", \"19\", \"20\", \"21\", \"22\", \"23\", \"24\", \"25\", \"26\", \"27\", \"28\", \"29\", \"30\", \"31\", \"32\", \"33\", \"34\", \"35\", \"36\", \"37\", \"38\", \"39\", \"40\", \"41\", \"42\", \"43\", \"44\", \"45\", \"46\", \"47\", \"48\", \"49\", \"50\", \"51\", \"52\", \"53\", \"54\", \"55\", \"56\", \"57\", \"58\", \"59\", \"60\", \"61\", \"62\", \"63\", \"64\", \"65\", \"66\", \"67\", \"68\", \"69\", \"70\", \"71\", \"72\", \"73\", \"74\", \"75\", \"76\", \"77\", \"78\", \"79\", \"80\", \"81\", \"82\", \"83\", \"84\", \"85\", \"86\", \"87\", \"88\", \"89\", \"90\", \"91\", \"92\", \"93\", \"94\", \"95\", \"96\", \"97\", \"98\", \"99\", \"100\", \"102\", \"103\"], \"mode\": \"markers\", \"name\": \"recall_score_weighted\", \"stepped\": false, \"type\": \"scatter\", \"data\": [0.8059887005649717, 0.8259322033898304, 0.8325988700564972, 0.7927118644067797, 0.8427118644067797, 0.8393220338983051, 0.8161016949152543, 0.8462146892655367, 0.7692655367231639, 0.7593220338983051, 0.7693785310734463, 0.8293785310734464, 0.7890395480225989, 0.8193785310734464, 0.8292090395480226, 0.6153107344632769, 0.8194915254237287, 0.7724293785310734, 0.7991525423728814, 0.8260451977401131, 0.8327118644067795, 0.7792090395480227, 0.8294350282485876, 0.8493785310734463, 0.8461581920903954, 0.8428813559322034, 0.8260451977401129, 0.7024858757062147, 0.7725988700564972, 0.8358757062146893, 0.5990960451977401, 0.8226553672316385, 0.8427683615819209, 0.8359887005649718, 0.8427683615819209, 0.7991525423728814, 0.8260451977401131, 0.8091525423728813, 0.8325988700564972, 0.8325988700564972, 0.8293785310734464, 0.8461016949152542, 0.8259887005649716, 0.8359887005649718, 0.8326553672316385, 0.8494915254237287, 0.8327683615819209, 0.8258192090395481, 0.836045197740113, 0.8225988700564972, 0.8261581920903953, 0.8194350282485875, 0.8091525423728813, 0.8260451977401131, 0.8327118644067797, 0.7423163841807909, 0.8393220338983051, 0.8325423728813559, 0.8461016949152542, 0.7957627118644067, 0.7958757062146893, 0.8293220338983052, 0.8393220338983051, 0.8293785310734464, 0.836045197740113, 0.8361016949152542, 0.8193220338983049, 0.8393785310734463, 0.8461581920903954, 0.8461016949152542, 0.7959887005649717, 0.8427118644067797, 0.8258757062146893, 0.8427683615819209, 0.8461016949152542, 0.67909604519774, 0.8293220338983052, 0.822542372881356, 0.8292655367231638, 0.8361016949152542, 0.8562146892655367, 0.836045197740113, 0.8359887005649718, 0.8495480225988701, 0.8596045197740112, 0.8393785310734463, 0.8461016949152542, 0.8193785310734464, 0.8289830508474576, 0.8359322033898305, 0.67909604519774, 0.8494915254237287, 0.8193785310734464, 0.8392655367231638, 0.8258757062146893, 0.67909604519774, 0.8224858757062148, 0.8426553672316384, 0.8326553672316385, 0.67909604519774, 0.8459322033898304, 0.8393785310734463, 0.7896045197740112]}, {\"categories\": [\"0\", \"1\", \"2\", \"3\", \"4\", \"5\", \"6\", \"7\", \"8\", \"9\", \"10\", \"11\", \"12\", \"13\", \"14\", \"15\", \"16\", \"17\", \"18\", \"19\", \"20\", \"21\", \"22\", \"23\", \"24\", \"25\", \"26\", \"27\", \"28\", \"29\", \"30\", \"31\", \"32\", \"33\", \"34\", \"35\", \"36\", \"37\", \"38\", \"39\", \"40\", \"41\", \"42\", \"43\", \"44\", \"45\", \"46\", \"47\", \"48\", \"49\", \"50\", \"51\", \"52\", \"53\", \"54\", \"55\", \"56\", \"57\", \"58\", \"59\", \"60\", \"61\", \"62\", \"63\", \"64\", \"65\", \"66\", \"67\", \"68\", \"69\", \"70\", \"71\", \"72\", \"73\", \"74\", \"75\", \"76\", \"77\", \"78\", \"79\", \"80\", \"81\", \"82\", \"83\", \"84\", \"85\", \"86\", \"87\", \"88\", \"89\", \"90\", \"91\", \"92\", \"93\", \"94\", \"95\", \"96\", \"97\", \"98\", \"99\", \"100\", \"102\", \"103\"], \"mode\": \"lines\", \"name\": \"recall_score_weighted_max\", \"stepped\": true, \"type\": \"scatter\", \"data\": [0.8059887005649717, 0.8259322033898304, 0.8325988700564972, 0.8325988700564972, 0.8427118644067797, 0.8427118644067797, 0.8427118644067797, 0.8462146892655367, 0.8462146892655367, 0.8462146892655367, 0.8462146892655367, 0.8462146892655367, 0.8462146892655367, 0.8462146892655367, 0.8462146892655367, 0.8462146892655367, 0.8462146892655367, 0.8462146892655367, 0.8462146892655367, 0.8462146892655367, 0.8462146892655367, 0.8462146892655367, 0.8462146892655367, 0.8493785310734463, 0.8493785310734463, 0.8493785310734463, 0.8493785310734463, 0.8493785310734463, 0.8493785310734463, 0.8493785310734463, 0.8493785310734463, 0.8493785310734463, 0.8493785310734463, 0.8493785310734463, 0.8493785310734463, 0.8493785310734463, 0.8493785310734463, 0.8493785310734463, 0.8493785310734463, 0.8493785310734463, 0.8493785310734463, 0.8493785310734463, 0.8493785310734463, 0.8493785310734463, 0.8493785310734463, 0.8494915254237287, 0.8494915254237287, 0.8494915254237287, 0.8494915254237287, 0.8494915254237287, 0.8494915254237287, 0.8494915254237287, 0.8494915254237287, 0.8494915254237287, 0.8494915254237287, 0.8494915254237287, 0.8494915254237287, 0.8494915254237287, 0.8494915254237287, 0.8494915254237287, 0.8494915254237287, 0.8494915254237287, 0.8494915254237287, 0.8494915254237287, 0.8494915254237287, 0.8494915254237287, 0.8494915254237287, 0.8494915254237287, 0.8494915254237287, 0.8494915254237287, 0.8494915254237287, 0.8494915254237287, 0.8494915254237287, 0.8494915254237287, 0.8494915254237287, 0.8494915254237287, 0.8494915254237287, 0.8494915254237287, 0.8494915254237287, 0.8494915254237287, 0.8562146892655367, 0.8562146892655367, 0.8562146892655367, 0.8562146892655367, 0.8596045197740112, 0.8596045197740112, 0.8596045197740112, 0.8596045197740112, 0.8596045197740112, 0.8596045197740112, 0.8596045197740112, 0.8596045197740112, 0.8596045197740112, 0.8596045197740112, 0.8596045197740112, 0.8596045197740112, 0.8596045197740112, 0.8596045197740112, 0.8596045197740112, 0.8596045197740112, 0.8596045197740112, 0.8596045197740112, 0.8596045197740112]}], \"AUC_weighted\": [{\"categories\": [\"0\", \"1\", \"2\", \"3\", \"4\", \"5\", \"6\", \"7\", \"8\", \"9\", \"10\", \"11\", \"12\", \"13\", \"14\", \"15\", \"16\", \"17\", \"18\", \"19\", \"20\", \"21\", \"22\", \"23\", \"24\", \"25\", \"26\", \"27\", \"28\", \"29\", \"30\", \"31\", \"32\", \"33\", \"34\", \"35\", \"36\", \"37\", \"38\", \"39\", \"40\", \"41\", \"42\", \"43\", \"44\", \"45\", \"46\", \"47\", \"48\", \"49\", \"50\", \"51\", \"52\", \"53\", \"54\", \"55\", \"56\", \"57\", \"58\", \"59\", \"60\", \"61\", \"62\", \"63\", \"64\", \"65\", \"66\", \"67\", \"68\", \"69\", \"70\", \"71\", \"72\", \"73\", \"74\", \"75\", \"76\", \"77\", \"78\", \"79\", \"80\", \"81\", \"82\", \"83\", \"84\", \"85\", \"86\", \"87\", \"88\", \"89\", \"90\", \"91\", \"92\", \"93\", \"94\", \"95\", \"96\", \"97\", \"98\", \"99\", \"100\", \"102\", \"103\"], \"mode\": \"markers\", \"name\": \"AUC_weighted\", \"stepped\": false, \"type\": \"scatter\", \"data\": [0.8811331210778885, 0.8929591177556293, 0.8976333287190844, 0.8793626338132153, 0.9110297157622739, 0.9038054632705794, 0.8913635566629752, 0.9161765873015874, 0.8643136766334442, 0.7514726836471023, 0.8877491232927278, 0.8911218161683279, 0.8998841823551125, 0.8706621447028423, 0.9004721068660022, 0.48227655500184563, 0.8911242155777039, 0.8386078811369508, 0.8807803386858619, 0.9075663528977482, 0.9103277962347729, 0.8468666482096714, 0.8770909699150978, 0.9101698504983388, 0.9063821982281285, 0.8852728405315615, 0.8986865310077518, 0.8450808185677371, 0.8638174141749723, 0.9076855850867478, 0.5392108942414175, 0.889236134182355, 0.9146570228866742, 0.9018530131044665, 0.9015217792543373, 0.8679135289774825, 0.9096906376891842, 0.9040814414913252, 0.9031526854928018, 0.8894354466592839, 0.9014683923957181, 0.8849584371539313, 0.9071750184569952, 0.9106085271317829, 0.913235488187523, 0.8768430463270581, 0.9107123708010336, 0.9092250830564783, 0.8908004683462533, 0.9120994370616465, 0.8773870893318566, 0.904189622554448, 0.9140825719822813, 0.9035221483942413, 0.9149159514581026, 0.8580921696197858, 0.9099654623477298, 0.902844084533038, 0.903984519195275, 0.9036070967146548, 0.8713308416389811, 0.9042402639350314, 0.8987830380214102, 0.9047461009597637, 0.9065933693244739, 0.897498823366556, 0.8874494739756367, 0.9118275885935769, 0.913140296234773, 0.9059673772609818, 0.8775424049464746, 0.9103780684754522, 0.9069588178294575, 0.9083812292358804, 0.9054444905869324, 0.7606486134182356, 0.9036800249169434, 0.8949998846437801, 0.9000030454042081, 0.9080876015134736, 0.8986071428571428, 0.911060746585456, 0.9027052648578812, 0.9167395256552233, 0.9039267257290513, 0.9106343669250647, 0.914200742894057, 0.8696115725359912, 0.8882802233296421, 0.9056976744186047, 0.906281503783684, 0.9111909145441122, 0.868076688815061, 0.9050786960132889, 0.9126528469915097, 0.90484415374677, 0.9051874077150239, 0.911891957364341, 0.8937549603174603, 0.8687315776116649, 0.9106112726098191, 0.9229042081949059, 0.9208188215208566]}, {\"categories\": [\"0\", \"1\", \"2\", \"3\", \"4\", \"5\", \"6\", \"7\", \"8\", \"9\", \"10\", \"11\", \"12\", \"13\", \"14\", \"15\", \"16\", \"17\", \"18\", \"19\", \"20\", \"21\", \"22\", \"23\", \"24\", \"25\", \"26\", \"27\", \"28\", \"29\", \"30\", \"31\", \"32\", \"33\", \"34\", \"35\", \"36\", \"37\", \"38\", \"39\", \"40\", \"41\", \"42\", \"43\", \"44\", \"45\", \"46\", \"47\", \"48\", \"49\", \"50\", \"51\", \"52\", \"53\", \"54\", \"55\", \"56\", \"57\", \"58\", \"59\", \"60\", \"61\", \"62\", \"63\", \"64\", \"65\", \"66\", \"67\", \"68\", \"69\", \"70\", \"71\", \"72\", \"73\", \"74\", \"75\", \"76\", \"77\", \"78\", \"79\", \"80\", \"81\", \"82\", \"83\", \"84\", \"85\", \"86\", \"87\", \"88\", \"89\", \"90\", \"91\", \"92\", \"93\", \"94\", \"95\", \"96\", \"97\", \"98\", \"99\", \"100\", \"102\", \"103\"], \"mode\": \"lines\", \"name\": \"AUC_weighted_max\", \"stepped\": true, \"type\": \"scatter\", \"data\": [0.8811331210778885, 0.8929591177556293, 0.8976333287190844, 0.8976333287190844, 0.9110297157622739, 0.9110297157622739, 0.9110297157622739, 0.9161765873015874, 0.9161765873015874, 0.9161765873015874, 0.9161765873015874, 0.9161765873015874, 0.9161765873015874, 0.9161765873015874, 0.9161765873015874, 0.9161765873015874, 0.9161765873015874, 0.9161765873015874, 0.9161765873015874, 0.9161765873015874, 0.9161765873015874, 0.9161765873015874, 0.9161765873015874, 0.9161765873015874, 0.9161765873015874, 0.9161765873015874, 0.9161765873015874, 0.9161765873015874, 0.9161765873015874, 0.9161765873015874, 0.9161765873015874, 0.9161765873015874, 0.9161765873015874, 0.9161765873015874, 0.9161765873015874, 0.9161765873015874, 0.9161765873015874, 0.9161765873015874, 0.9161765873015874, 0.9161765873015874, 0.9161765873015874, 0.9161765873015874, 0.9161765873015874, 0.9161765873015874, 0.9161765873015874, 0.9161765873015874, 0.9161765873015874, 0.9161765873015874, 0.9161765873015874, 0.9161765873015874, 0.9161765873015874, 0.9161765873015874, 0.9161765873015874, 0.9161765873015874, 0.9161765873015874, 0.9161765873015874, 0.9161765873015874, 0.9161765873015874, 0.9161765873015874, 0.9161765873015874, 0.9161765873015874, 0.9161765873015874, 0.9161765873015874, 0.9161765873015874, 0.9161765873015874, 0.9161765873015874, 0.9161765873015874, 0.9161765873015874, 0.9161765873015874, 0.9161765873015874, 0.9161765873015874, 0.9161765873015874, 0.9161765873015874, 0.9161765873015874, 0.9161765873015874, 0.9161765873015874, 0.9161765873015874, 0.9161765873015874, 0.9161765873015874, 0.9161765873015874, 0.9161765873015874, 0.9161765873015874, 0.9161765873015874, 0.9167395256552233, 0.9167395256552233, 0.9167395256552233, 0.9167395256552233, 0.9167395256552233, 0.9167395256552233, 0.9167395256552233, 0.9167395256552233, 0.9167395256552233, 0.9167395256552233, 0.9167395256552233, 0.9167395256552233, 0.9167395256552233, 0.9167395256552233, 0.9167395256552233, 0.9167395256552233, 0.9167395256552233, 0.9167395256552233, 0.9229042081949059, 0.9229042081949059]}], \"AUC_micro\": [{\"categories\": [\"0\", \"1\", \"2\", \"3\", \"4\", \"5\", \"6\", \"7\", \"8\", \"9\", \"10\", \"11\", \"12\", \"13\", \"14\", \"15\", \"16\", \"17\", \"18\", \"19\", \"20\", \"21\", \"22\", \"23\", \"24\", \"25\", \"26\", \"27\", \"28\", \"29\", \"30\", \"31\", \"32\", \"33\", \"34\", \"35\", \"36\", \"37\", \"38\", \"39\", \"40\", \"41\", \"42\", \"43\", \"44\", \"45\", \"46\", \"47\", \"48\", \"49\", \"50\", \"51\", \"52\", \"53\", \"54\", \"55\", \"56\", \"57\", \"58\", \"59\", \"60\", \"61\", \"62\", \"63\", \"64\", \"65\", \"66\", \"67\", \"68\", \"69\", \"70\", \"71\", \"72\", \"73\", \"74\", \"75\", \"76\", \"77\", \"78\", \"79\", \"80\", \"81\", \"82\", \"83\", \"84\", \"85\", \"86\", \"87\", \"88\", \"89\", \"90\", \"91\", \"92\", \"93\", \"94\", \"95\", \"96\", \"97\", \"98\", \"99\", \"100\", \"102\", \"103\"], \"mode\": \"markers\", \"name\": \"AUC_micro\", \"stepped\": false, \"type\": \"scatter\", \"data\": [0.8880105014523284, 0.8999905678444892, 0.909798254013853, 0.8725043410258865, 0.9169112643237896, 0.9095974017683297, 0.9030931245810591, 0.916922180727122, 0.8595067190143318, 0.8076344600849055, 0.8691562769319161, 0.8906624533180121, 0.8907403364295062, 0.8802631268154106, 0.9035024418270611, 0.6273795684509559, 0.8826410833413132, 0.8502517475821122, 0.8867047304414439, 0.9094226595167416, 0.9141553193526765, 0.8576705608222414, 0.8910366274059178, 0.9163053720195347, 0.9133371796099459, 0.8992455392767085, 0.9081538989434709, 0.826231319224999, 0.8616724281017587, 0.908430735101663, 0.6137987806824349, 0.9012113536978518, 0.9131961601072488, 0.9027260844584889, 0.907744118867503, 0.8761605700788406, 0.9139934086629001, 0.8952778575760478, 0.9078139263940758, 0.895120670943854, 0.9089141051422004, 0.8909872322768043, 0.9062137316862969, 0.908870423569217, 0.9138376583995658, 0.8868077500079797, 0.9150560822241374, 0.9114283730728718, 0.8999093651249641, 0.9126235117622649, 0.8795603594114079, 0.9068452551948674, 0.9108894315171246, 0.9078091704171853, 0.9132346228733761, 0.841921749816464, 0.9105508634172811, 0.9070646365986784, 0.9060370902358837, 0.9011335025056658, 0.863665788885697, 0.9050128794407737, 0.9014701394873759, 0.9068846755402342, 0.9068153468032814, 0.9057944556162022, 0.8936505793354399, 0.9158205656101377, 0.9152070765105812, 0.909213731686297, 0.8826615116984264, 0.9166197133646141, 0.9107303456861053, 0.9123338600019151, 0.9092754636279485, 0.7882204187813208, 0.9056482013469948, 0.9056225701426793, 0.9042483960547735, 0.916268329662613, 0.9036406045516934, 0.9165883686041687, 0.9044886686456637, 0.9216472437677551, 0.9107360432825817, 0.9093913147562962, 0.9172707076510582, 0.8794084235053784, 0.894899885090491, 0.9063595071658848, 0.8501767052890294, 0.915614957387724, 0.8805233330141403, 0.9047521944524244, 0.912797791183887, 0.8492308404353794, 0.9077517316224583, 0.9114421302946152, 0.8966705289029333, 0.8328457499441413, 0.9126220913530595, 0.9205290146509622, 0.8932246480896294]}, {\"categories\": [\"0\", \"1\", \"2\", \"3\", \"4\", \"5\", \"6\", \"7\", \"8\", \"9\", \"10\", \"11\", \"12\", \"13\", \"14\", \"15\", \"16\", \"17\", \"18\", \"19\", \"20\", \"21\", \"22\", \"23\", \"24\", \"25\", \"26\", \"27\", \"28\", \"29\", \"30\", \"31\", \"32\", \"33\", \"34\", \"35\", \"36\", \"37\", \"38\", \"39\", \"40\", \"41\", \"42\", \"43\", \"44\", \"45\", \"46\", \"47\", \"48\", \"49\", \"50\", \"51\", \"52\", \"53\", \"54\", \"55\", \"56\", \"57\", \"58\", \"59\", \"60\", \"61\", \"62\", \"63\", \"64\", \"65\", \"66\", \"67\", \"68\", \"69\", \"70\", \"71\", \"72\", \"73\", \"74\", \"75\", \"76\", \"77\", \"78\", \"79\", \"80\", \"81\", \"82\", \"83\", \"84\", \"85\", \"86\", \"87\", \"88\", \"89\", \"90\", \"91\", \"92\", \"93\", \"94\", \"95\", \"96\", \"97\", \"98\", \"99\", \"100\", \"102\", \"103\"], \"mode\": \"lines\", \"name\": \"AUC_micro_max\", \"stepped\": true, \"type\": \"scatter\", \"data\": [0.8880105014523284, 0.8999905678444892, 0.909798254013853, 0.909798254013853, 0.9169112643237896, 0.9169112643237896, 0.9169112643237896, 0.916922180727122, 0.916922180727122, 0.916922180727122, 0.916922180727122, 0.916922180727122, 0.916922180727122, 0.916922180727122, 0.916922180727122, 0.916922180727122, 0.916922180727122, 0.916922180727122, 0.916922180727122, 0.916922180727122, 0.916922180727122, 0.916922180727122, 0.916922180727122, 0.916922180727122, 0.916922180727122, 0.916922180727122, 0.916922180727122, 0.916922180727122, 0.916922180727122, 0.916922180727122, 0.916922180727122, 0.916922180727122, 0.916922180727122, 0.916922180727122, 0.916922180727122, 0.916922180727122, 0.916922180727122, 0.916922180727122, 0.916922180727122, 0.916922180727122, 0.916922180727122, 0.916922180727122, 0.916922180727122, 0.916922180727122, 0.916922180727122, 0.916922180727122, 0.916922180727122, 0.916922180727122, 0.916922180727122, 0.916922180727122, 0.916922180727122, 0.916922180727122, 0.916922180727122, 0.916922180727122, 0.916922180727122, 0.916922180727122, 0.916922180727122, 0.916922180727122, 0.916922180727122, 0.916922180727122, 0.916922180727122, 0.916922180727122, 0.916922180727122, 0.916922180727122, 0.916922180727122, 0.916922180727122, 0.916922180727122, 0.916922180727122, 0.916922180727122, 0.916922180727122, 0.916922180727122, 0.916922180727122, 0.916922180727122, 0.916922180727122, 0.916922180727122, 0.916922180727122, 0.916922180727122, 0.916922180727122, 0.916922180727122, 0.916922180727122, 0.916922180727122, 0.916922180727122, 0.916922180727122, 0.9216472437677551, 0.9216472437677551, 0.9216472437677551, 0.9216472437677551, 0.9216472437677551, 0.9216472437677551, 0.9216472437677551, 0.9216472437677551, 0.9216472437677551, 0.9216472437677551, 0.9216472437677551, 0.9216472437677551, 0.9216472437677551, 0.9216472437677551, 0.9216472437677551, 0.9216472437677551, 0.9216472437677551, 0.9216472437677551, 0.9216472437677551, 0.9216472437677551]}], \"f1_score_macro\": [{\"categories\": [\"0\", \"1\", \"2\", \"3\", \"4\", \"5\", \"6\", \"7\", \"8\", \"9\", \"10\", \"11\", \"12\", \"13\", \"14\", \"15\", \"16\", \"17\", \"18\", \"19\", \"20\", \"21\", \"22\", \"23\", \"24\", \"25\", \"26\", \"27\", \"28\", \"29\", \"30\", \"31\", \"32\", \"33\", \"34\", \"35\", \"36\", \"37\", \"38\", \"39\", \"40\", \"41\", \"42\", \"43\", \"44\", \"45\", \"46\", \"47\", \"48\", \"49\", \"50\", \"51\", \"52\", \"53\", \"54\", \"55\", \"56\", \"57\", \"58\", \"59\", \"60\", \"61\", \"62\", \"63\", \"64\", \"65\", \"66\", \"67\", \"68\", \"69\", \"70\", \"71\", \"72\", \"73\", \"74\", \"75\", \"76\", \"77\", \"78\", \"79\", \"80\", \"81\", \"82\", \"83\", \"84\", \"85\", \"86\", \"87\", \"88\", \"89\", \"90\", \"91\", \"92\", \"93\", \"94\", \"95\", \"96\", \"97\", \"98\", \"99\", \"100\", \"102\", \"103\"], \"mode\": \"markers\", \"name\": \"f1_score_macro\", \"stepped\": false, \"type\": \"scatter\", \"data\": [0.7682096405971308, 0.7972526241921125, 0.7983247955057537, 0.7134114880086717, 0.815125657735351, 0.8069983409917768, 0.7761821796213041, 0.810776908911711, 0.6782657009016068, 0.677864504364746, 0.6778777939578855, 0.7788857679560315, 0.7686457439108934, 0.7813894689276869, 0.8063743683192801, 0.5173668796330508, 0.7610008766656743, 0.7322119975080994, 0.771035501864208, 0.7927862724365038, 0.7972236491232885, 0.7533478294494664, 0.7972773510838028, 0.8181020704250722, 0.8141572171789562, 0.8038611248871812, 0.7951464228159093, 0.47813675799823924, 0.6812868106356605, 0.804474858832412, 0.3668389780154486, 0.7860118109056431, 0.8114381347445864, 0.801760766707163, 0.8091727125408392, 0.7712725257780156, 0.7935146676985834, 0.7861487811881209, 0.8014003579751297, 0.7956856694841192, 0.7961784782224007, 0.8111784503472566, 0.7948552597822761, 0.800634278002699, 0.7990648105798143, 0.810930719525245, 0.7957848858030241, 0.8015282603534051, 0.7990726289019908, 0.7813879203947931, 0.7767711057293989, 0.7913471214127655, 0.7837868278766991, 0.7862565572873823, 0.7997137972055925, 0.7216528870166641, 0.8064916466512212, 0.7973782600378345, 0.8144294781433883, 0.7687508847280851, 0.7716071400138208, 0.7953258584191316, 0.8023610762404157, 0.7969073540794158, 0.8033230295543831, 0.8051893064140982, 0.7778796684879863, 0.8080075553128946, 0.8146068246105423, 0.8140350594962091, 0.7698753861256306, 0.8109081651570529, 0.7902094013459607, 0.8093097076161593, 0.8136072300540196, 0.40276783177038933, 0.7943397677078943, 0.7851168340703225, 0.799743245616489, 0.8031443766372843, 0.8205532534288015, 0.803033395938999, 0.8041722712027326, 0.8181029162377182, 0.8276790724795001, 0.8038654272335537, 0.8176983327300003, 0.7821592493984876, 0.7911658484184462, 0.8057762762873988, 0.40276783177038933, 0.81846936191841, 0.7793536139055843, 0.809659228747174, 0.8007148104201184, 0.40276783177038933, 0.7961160490836293, 0.8094631664867421, 0.801073861538978, 0.40276783177038933, 0.8170762273274246, 0.8072772141363057, 0.6454499192563709]}, {\"categories\": [\"0\", \"1\", \"2\", \"3\", \"4\", \"5\", \"6\", \"7\", \"8\", \"9\", \"10\", \"11\", \"12\", \"13\", \"14\", \"15\", \"16\", \"17\", \"18\", \"19\", \"20\", \"21\", \"22\", \"23\", \"24\", \"25\", \"26\", \"27\", \"28\", \"29\", \"30\", \"31\", \"32\", \"33\", \"34\", \"35\", \"36\", \"37\", \"38\", \"39\", \"40\", \"41\", \"42\", \"43\", \"44\", \"45\", \"46\", \"47\", \"48\", \"49\", \"50\", \"51\", \"52\", \"53\", \"54\", \"55\", \"56\", \"57\", \"58\", \"59\", \"60\", \"61\", \"62\", \"63\", \"64\", \"65\", \"66\", \"67\", \"68\", \"69\", \"70\", \"71\", \"72\", \"73\", \"74\", \"75\", \"76\", \"77\", \"78\", \"79\", \"80\", \"81\", \"82\", \"83\", \"84\", \"85\", \"86\", \"87\", \"88\", \"89\", \"90\", \"91\", \"92\", \"93\", \"94\", \"95\", \"96\", \"97\", \"98\", \"99\", \"100\", \"102\", \"103\"], \"mode\": \"lines\", \"name\": \"f1_score_macro_max\", \"stepped\": true, \"type\": \"scatter\", \"data\": [0.7682096405971308, 0.7972526241921125, 0.7983247955057537, 0.7983247955057537, 0.815125657735351, 0.815125657735351, 0.815125657735351, 0.815125657735351, 0.815125657735351, 0.815125657735351, 0.815125657735351, 0.815125657735351, 0.815125657735351, 0.815125657735351, 0.815125657735351, 0.815125657735351, 0.815125657735351, 0.815125657735351, 0.815125657735351, 0.815125657735351, 0.815125657735351, 0.815125657735351, 0.815125657735351, 0.8181020704250722, 0.8181020704250722, 0.8181020704250722, 0.8181020704250722, 0.8181020704250722, 0.8181020704250722, 0.8181020704250722, 0.8181020704250722, 0.8181020704250722, 0.8181020704250722, 0.8181020704250722, 0.8181020704250722, 0.8181020704250722, 0.8181020704250722, 0.8181020704250722, 0.8181020704250722, 0.8181020704250722, 0.8181020704250722, 0.8181020704250722, 0.8181020704250722, 0.8181020704250722, 0.8181020704250722, 0.8181020704250722, 0.8181020704250722, 0.8181020704250722, 0.8181020704250722, 0.8181020704250722, 0.8181020704250722, 0.8181020704250722, 0.8181020704250722, 0.8181020704250722, 0.8181020704250722, 0.8181020704250722, 0.8181020704250722, 0.8181020704250722, 0.8181020704250722, 0.8181020704250722, 0.8181020704250722, 0.8181020704250722, 0.8181020704250722, 0.8181020704250722, 0.8181020704250722, 0.8181020704250722, 0.8181020704250722, 0.8181020704250722, 0.8181020704250722, 0.8181020704250722, 0.8181020704250722, 0.8181020704250722, 0.8181020704250722, 0.8181020704250722, 0.8181020704250722, 0.8181020704250722, 0.8181020704250722, 0.8181020704250722, 0.8181020704250722, 0.8181020704250722, 0.8205532534288015, 0.8205532534288015, 0.8205532534288015, 0.8205532534288015, 0.8276790724795001, 0.8276790724795001, 0.8276790724795001, 0.8276790724795001, 0.8276790724795001, 0.8276790724795001, 0.8276790724795001, 0.8276790724795001, 0.8276790724795001, 0.8276790724795001, 0.8276790724795001, 0.8276790724795001, 0.8276790724795001, 0.8276790724795001, 0.8276790724795001, 0.8276790724795001, 0.8276790724795001, 0.8276790724795001, 0.8276790724795001]}], \"f1_score_micro\": [{\"categories\": [\"0\", \"1\", \"2\", \"3\", \"4\", \"5\", \"6\", \"7\", \"8\", \"9\", \"10\", \"11\", \"12\", \"13\", \"14\", \"15\", \"16\", \"17\", \"18\", \"19\", \"20\", \"21\", \"22\", \"23\", \"24\", \"25\", \"26\", \"27\", \"28\", \"29\", \"30\", \"31\", \"32\", \"33\", \"34\", \"35\", \"36\", \"37\", \"38\", \"39\", \"40\", \"41\", \"42\", \"43\", \"44\", \"45\", \"46\", \"47\", \"48\", \"49\", \"50\", \"51\", \"52\", \"53\", \"54\", \"55\", \"56\", \"57\", \"58\", \"59\", \"60\", \"61\", \"62\", \"63\", \"64\", \"65\", \"66\", \"67\", \"68\", \"69\", \"70\", \"71\", \"72\", \"73\", \"74\", \"75\", \"76\", \"77\", \"78\", \"79\", \"80\", \"81\", \"82\", \"83\", \"84\", \"85\", \"86\", \"87\", \"88\", \"89\", \"90\", \"91\", \"92\", \"93\", \"94\", \"95\", \"96\", \"97\", \"98\", \"99\", \"100\", \"102\", \"103\"], \"mode\": \"markers\", \"name\": \"f1_score_micro\", \"stepped\": false, \"type\": \"scatter\", \"data\": [0.8059887005649718, 0.8259322033898304, 0.8325988700564972, 0.7927118644067798, 0.8427118644067797, 0.8393220338983051, 0.8161016949152543, 0.8462146892655367, 0.7692655367231639, 0.7593220338983051, 0.7693785310734463, 0.8293785310734464, 0.7890395480225989, 0.8193785310734464, 0.8292090395480226, 0.6153107344632769, 0.8194915254237287, 0.7724293785310734, 0.7991525423728814, 0.8260451977401131, 0.8327118644067799, 0.7792090395480227, 0.8294350282485876, 0.8493785310734463, 0.8461581920903954, 0.8428813559322034, 0.8260451977401131, 0.7024858757062147, 0.7725988700564972, 0.8358757062146893, 0.5990960451977402, 0.8226553672316385, 0.8427683615819209, 0.8359887005649718, 0.8427683615819209, 0.7991525423728814, 0.8260451977401131, 0.8091525423728813, 0.8325988700564972, 0.8325988700564972, 0.8293785310734464, 0.8461016949152542, 0.8259887005649716, 0.8359887005649718, 0.8326553672316385, 0.8494915254237287, 0.8327683615819209, 0.8258192090395481, 0.836045197740113, 0.8225988700564972, 0.8261581920903953, 0.8194350282485875, 0.8091525423728815, 0.8260451977401131, 0.8327118644067797, 0.7423163841807909, 0.8393220338983051, 0.8325423728813559, 0.8461016949152542, 0.7957627118644067, 0.7958757062146893, 0.8293220338983052, 0.8393220338983051, 0.8293785310734464, 0.836045197740113, 0.8361016949152542, 0.8193220338983049, 0.8393785310734463, 0.8461581920903954, 0.8461016949152542, 0.7959887005649717, 0.8427118644067797, 0.8258757062146893, 0.8427683615819209, 0.8461016949152544, 0.67909604519774, 0.8293220338983052, 0.822542372881356, 0.8292655367231638, 0.8361016949152542, 0.8562146892655367, 0.836045197740113, 0.8359887005649718, 0.8495480225988701, 0.8596045197740112, 0.8393785310734463, 0.8461016949152542, 0.8193785310734464, 0.8289830508474576, 0.8359322033898305, 0.67909604519774, 0.8494915254237287, 0.8193785310734464, 0.8392655367231638, 0.8258757062146893, 0.67909604519774, 0.8224858757062148, 0.8426553672316384, 0.8326553672316385, 0.67909604519774, 0.8459322033898304, 0.8393785310734463, 0.7896045197740114]}, {\"categories\": [\"0\", \"1\", \"2\", \"3\", \"4\", \"5\", \"6\", \"7\", \"8\", \"9\", \"10\", \"11\", \"12\", \"13\", \"14\", \"15\", \"16\", \"17\", \"18\", \"19\", \"20\", \"21\", \"22\", \"23\", \"24\", \"25\", \"26\", \"27\", \"28\", \"29\", \"30\", \"31\", \"32\", \"33\", \"34\", \"35\", \"36\", \"37\", \"38\", \"39\", \"40\", \"41\", \"42\", \"43\", \"44\", \"45\", \"46\", \"47\", \"48\", \"49\", \"50\", \"51\", \"52\", \"53\", \"54\", \"55\", \"56\", \"57\", \"58\", \"59\", \"60\", \"61\", \"62\", \"63\", \"64\", \"65\", \"66\", \"67\", \"68\", \"69\", \"70\", \"71\", \"72\", \"73\", \"74\", \"75\", \"76\", \"77\", \"78\", \"79\", \"80\", \"81\", \"82\", \"83\", \"84\", \"85\", \"86\", \"87\", \"88\", \"89\", \"90\", \"91\", \"92\", \"93\", \"94\", \"95\", \"96\", \"97\", \"98\", \"99\", \"100\", \"102\", \"103\"], \"mode\": \"lines\", \"name\": \"f1_score_micro_max\", \"stepped\": true, \"type\": \"scatter\", \"data\": [0.8059887005649718, 0.8259322033898304, 0.8325988700564972, 0.8325988700564972, 0.8427118644067797, 0.8427118644067797, 0.8427118644067797, 0.8462146892655367, 0.8462146892655367, 0.8462146892655367, 0.8462146892655367, 0.8462146892655367, 0.8462146892655367, 0.8462146892655367, 0.8462146892655367, 0.8462146892655367, 0.8462146892655367, 0.8462146892655367, 0.8462146892655367, 0.8462146892655367, 0.8462146892655367, 0.8462146892655367, 0.8462146892655367, 0.8493785310734463, 0.8493785310734463, 0.8493785310734463, 0.8493785310734463, 0.8493785310734463, 0.8493785310734463, 0.8493785310734463, 0.8493785310734463, 0.8493785310734463, 0.8493785310734463, 0.8493785310734463, 0.8493785310734463, 0.8493785310734463, 0.8493785310734463, 0.8493785310734463, 0.8493785310734463, 0.8493785310734463, 0.8493785310734463, 0.8493785310734463, 0.8493785310734463, 0.8493785310734463, 0.8493785310734463, 0.8494915254237287, 0.8494915254237287, 0.8494915254237287, 0.8494915254237287, 0.8494915254237287, 0.8494915254237287, 0.8494915254237287, 0.8494915254237287, 0.8494915254237287, 0.8494915254237287, 0.8494915254237287, 0.8494915254237287, 0.8494915254237287, 0.8494915254237287, 0.8494915254237287, 0.8494915254237287, 0.8494915254237287, 0.8494915254237287, 0.8494915254237287, 0.8494915254237287, 0.8494915254237287, 0.8494915254237287, 0.8494915254237287, 0.8494915254237287, 0.8494915254237287, 0.8494915254237287, 0.8494915254237287, 0.8494915254237287, 0.8494915254237287, 0.8494915254237287, 0.8494915254237287, 0.8494915254237287, 0.8494915254237287, 0.8494915254237287, 0.8494915254237287, 0.8562146892655367, 0.8562146892655367, 0.8562146892655367, 0.8562146892655367, 0.8596045197740112, 0.8596045197740112, 0.8596045197740112, 0.8596045197740112, 0.8596045197740112, 0.8596045197740112, 0.8596045197740112, 0.8596045197740112, 0.8596045197740112, 0.8596045197740112, 0.8596045197740112, 0.8596045197740112, 0.8596045197740112, 0.8596045197740112, 0.8596045197740112, 0.8596045197740112, 0.8596045197740112, 0.8596045197740112, 0.8596045197740112]}], \"balanced_accuracy\": [{\"categories\": [\"0\", \"1\", \"2\", \"3\", \"4\", \"5\", \"6\", \"7\", \"8\", \"9\", \"10\", \"11\", \"12\", \"13\", \"14\", \"15\", \"16\", \"17\", \"18\", \"19\", \"20\", \"21\", \"22\", \"23\", \"24\", \"25\", \"26\", \"27\", \"28\", \"29\", \"30\", \"31\", \"32\", \"33\", \"34\", \"35\", \"36\", \"37\", \"38\", \"39\", \"40\", \"41\", \"42\", \"43\", \"44\", \"45\", \"46\", \"47\", \"48\", \"49\", \"50\", \"51\", \"52\", \"53\", \"54\", \"55\", \"56\", \"57\", \"58\", \"59\", \"60\", \"61\", \"62\", \"63\", \"64\", \"65\", \"66\", \"67\", \"68\", \"69\", \"70\", \"71\", \"72\", \"73\", \"74\", \"75\", \"76\", \"77\", \"78\", \"79\", \"80\", \"81\", \"82\", \"83\", \"84\", \"85\", \"86\", \"87\", \"88\", \"89\", \"90\", \"91\", \"92\", \"93\", \"94\", \"95\", \"96\", \"97\", \"98\", \"99\", \"100\", \"102\", \"103\"], \"mode\": \"markers\", \"name\": \"balanced_accuracy\", \"stepped\": false, \"type\": \"scatter\", \"data\": [0.7760209025470652, 0.8060125968992248, 0.8017649501661129, 0.706845238095238, 0.8228363787375417, 0.809171511627907, 0.7751065891472868, 0.8057994186046512, 0.6739244186046511, 0.6706803709856035, 0.6757101328903655, 0.766811323366556, 0.8008388704318936, 0.7906381506090808, 0.8292185769656699, 0.5313406699889258, 0.7479166666666667, 0.7458042635658915, 0.7906173864894794, 0.807062569213732, 0.7982571982281284, 0.775170957918051, 0.8037077796234773, 0.8180488648947952, 0.8189500276854929, 0.7895535714285714, 0.8075685215946843, 0.5381547619047619, 0.6772577519379844, 0.8133340254706534, 0.5, 0.796531007751938, 0.8194179125138428, 0.8039970930232558, 0.8125768272425249, 0.7911489479512734, 0.8060209025470654, 0.8105239479512735, 0.8095245016611295, 0.8076024363233664, 0.8061441029900331, 0.8042434939091916, 0.802921511627907, 0.802781007751938, 0.8083423311184939, 0.7963946566998892, 0.7938268272425248, 0.8211489479512736, 0.7965012458471762, 0.7875429125138427, 0.7622321428571428, 0.811735188261351, 0.8049882336655593, 0.7886184939091916, 0.8041756644518273, 0.7540490033222591, 0.8121220930232559, 0.803546511627907, 0.8215351605758581, 0.7901668050941307, 0.7965995293466224, 0.8019137596899226, 0.8105232558139533, 0.7994774363233665, 0.8073941029900332, 0.8107911129568105, 0.7789500276854928, 0.8170923311184939, 0.8202553986710963, 0.8178446843853819, 0.7904471207087486, 0.811139950166113, 0.7939334163898117, 0.8154934939091916, 0.8153702934662237, 0.5, 0.8024792358803987, 0.7856637596899224, 0.8139929401993357, 0.8065012458471761, 0.8099702380952382, 0.8094476744186047, 0.8085804263565892, 0.8207994186046511, 0.8187202380952382, 0.8080232558139535, 0.8247155315614616, 0.7921262458471761, 0.7974667774086377, 0.8145840254706535, 0.5, 0.8220452657807309, 0.7870667220376523, 0.8195840254706533, 0.8188316722037653, 0.5, 0.8125816722037651, 0.8160506644518273, 0.8152768549280177, 0.5, 0.8223560354374309, 0.8138226744186046, 0.6720535714285715]}, {\"categories\": [\"0\", \"1\", \"2\", \"3\", \"4\", \"5\", \"6\", \"7\", \"8\", \"9\", \"10\", \"11\", \"12\", \"13\", \"14\", \"15\", \"16\", \"17\", \"18\", \"19\", \"20\", \"21\", \"22\", \"23\", \"24\", \"25\", \"26\", \"27\", \"28\", \"29\", \"30\", \"31\", \"32\", \"33\", \"34\", \"35\", \"36\", \"37\", \"38\", \"39\", \"40\", \"41\", \"42\", \"43\", \"44\", \"45\", \"46\", \"47\", \"48\", \"49\", \"50\", \"51\", \"52\", \"53\", \"54\", \"55\", \"56\", \"57\", \"58\", \"59\", \"60\", \"61\", \"62\", \"63\", \"64\", \"65\", \"66\", \"67\", \"68\", \"69\", \"70\", \"71\", \"72\", \"73\", \"74\", \"75\", \"76\", \"77\", \"78\", \"79\", \"80\", \"81\", \"82\", \"83\", \"84\", \"85\", \"86\", \"87\", \"88\", \"89\", \"90\", \"91\", \"92\", \"93\", \"94\", \"95\", \"96\", \"97\", \"98\", \"99\", \"100\", \"102\", \"103\"], \"mode\": \"lines\", \"name\": \"balanced_accuracy_max\", \"stepped\": true, \"type\": \"scatter\", \"data\": [0.7760209025470652, 0.8060125968992248, 0.8060125968992248, 0.8060125968992248, 0.8228363787375417, 0.8228363787375417, 0.8228363787375417, 0.8228363787375417, 0.8228363787375417, 0.8228363787375417, 0.8228363787375417, 0.8228363787375417, 0.8228363787375417, 0.8228363787375417, 0.8292185769656699, 0.8292185769656699, 0.8292185769656699, 0.8292185769656699, 0.8292185769656699, 0.8292185769656699, 0.8292185769656699, 0.8292185769656699, 0.8292185769656699, 0.8292185769656699, 0.8292185769656699, 0.8292185769656699, 0.8292185769656699, 0.8292185769656699, 0.8292185769656699, 0.8292185769656699, 0.8292185769656699, 0.8292185769656699, 0.8292185769656699, 0.8292185769656699, 0.8292185769656699, 0.8292185769656699, 0.8292185769656699, 0.8292185769656699, 0.8292185769656699, 0.8292185769656699, 0.8292185769656699, 0.8292185769656699, 0.8292185769656699, 0.8292185769656699, 0.8292185769656699, 0.8292185769656699, 0.8292185769656699, 0.8292185769656699, 0.8292185769656699, 0.8292185769656699, 0.8292185769656699, 0.8292185769656699, 0.8292185769656699, 0.8292185769656699, 0.8292185769656699, 0.8292185769656699, 0.8292185769656699, 0.8292185769656699, 0.8292185769656699, 0.8292185769656699, 0.8292185769656699, 0.8292185769656699, 0.8292185769656699, 0.8292185769656699, 0.8292185769656699, 0.8292185769656699, 0.8292185769656699, 0.8292185769656699, 0.8292185769656699, 0.8292185769656699, 0.8292185769656699, 0.8292185769656699, 0.8292185769656699, 0.8292185769656699, 0.8292185769656699, 0.8292185769656699, 0.8292185769656699, 0.8292185769656699, 0.8292185769656699, 0.8292185769656699, 0.8292185769656699, 0.8292185769656699, 0.8292185769656699, 0.8292185769656699, 0.8292185769656699, 0.8292185769656699, 0.8292185769656699, 0.8292185769656699, 0.8292185769656699, 0.8292185769656699, 0.8292185769656699, 0.8292185769656699, 0.8292185769656699, 0.8292185769656699, 0.8292185769656699, 0.8292185769656699, 0.8292185769656699, 0.8292185769656699, 0.8292185769656699, 0.8292185769656699, 0.8292185769656699, 0.8292185769656699, 0.8292185769656699]}], \"precision_score_micro\": [{\"categories\": [\"0\", \"1\", \"2\", \"3\", \"4\", \"5\", \"6\", \"7\", \"8\", \"9\", \"10\", \"11\", \"12\", \"13\", \"14\", \"15\", \"16\", \"17\", \"18\", \"19\", \"20\", \"21\", \"22\", \"23\", \"24\", \"25\", \"26\", \"27\", \"28\", \"29\", \"30\", \"31\", \"32\", \"33\", \"34\", \"35\", \"36\", \"37\", \"38\", \"39\", \"40\", \"41\", \"42\", \"43\", \"44\", \"45\", \"46\", \"47\", \"48\", \"49\", \"50\", \"51\", \"52\", \"53\", \"54\", \"55\", \"56\", \"57\", \"58\", \"59\", \"60\", \"61\", \"62\", \"63\", \"64\", \"65\", \"66\", \"67\", \"68\", \"69\", \"70\", \"71\", \"72\", \"73\", \"74\", \"75\", \"76\", \"77\", \"78\", \"79\", \"80\", \"81\", \"82\", \"83\", \"84\", \"85\", \"86\", \"87\", \"88\", \"89\", \"90\", \"91\", \"92\", \"93\", \"94\", \"95\", \"96\", \"97\", \"98\", \"99\", \"100\", \"102\", \"103\"], \"mode\": \"markers\", \"name\": \"precision_score_micro\", \"stepped\": false, \"type\": \"scatter\", \"data\": [0.8059887005649717, 0.8259322033898304, 0.8325988700564972, 0.7927118644067797, 0.8427118644067797, 0.8393220338983051, 0.8161016949152543, 0.8462146892655367, 0.7692655367231639, 0.7593220338983051, 0.7693785310734463, 0.8293785310734464, 0.7890395480225989, 0.8193785310734464, 0.8292090395480226, 0.6153107344632769, 0.8194915254237287, 0.7724293785310734, 0.7991525423728814, 0.8260451977401131, 0.8327118644067795, 0.7792090395480227, 0.8294350282485876, 0.8493785310734463, 0.8461581920903954, 0.8428813559322034, 0.8260451977401129, 0.7024858757062147, 0.7725988700564972, 0.8358757062146893, 0.5990960451977401, 0.8226553672316385, 0.8427683615819209, 0.8359887005649718, 0.8427683615819209, 0.7991525423728814, 0.8260451977401131, 0.8091525423728813, 0.8325988700564972, 0.8325988700564972, 0.8293785310734464, 0.8461016949152542, 0.8259887005649716, 0.8359887005649718, 0.8326553672316385, 0.8494915254237287, 0.8327683615819209, 0.8258192090395481, 0.836045197740113, 0.8225988700564972, 0.8261581920903953, 0.8194350282485875, 0.8091525423728813, 0.8260451977401131, 0.8327118644067797, 0.7423163841807909, 0.8393220338983051, 0.8325423728813559, 0.8461016949152542, 0.7957627118644067, 0.7958757062146893, 0.8293220338983052, 0.8393220338983051, 0.8293785310734464, 0.836045197740113, 0.8361016949152542, 0.8193220338983049, 0.8393785310734463, 0.8461581920903954, 0.8461016949152542, 0.7959887005649717, 0.8427118644067797, 0.8258757062146893, 0.8427683615819209, 0.8461016949152542, 0.67909604519774, 0.8293220338983052, 0.822542372881356, 0.8292655367231638, 0.8361016949152542, 0.8562146892655367, 0.836045197740113, 0.8359887005649718, 0.8495480225988701, 0.8596045197740112, 0.8393785310734463, 0.8461016949152542, 0.8193785310734464, 0.8289830508474576, 0.8359322033898305, 0.67909604519774, 0.8494915254237287, 0.8193785310734464, 0.8392655367231638, 0.8258757062146893, 0.67909604519774, 0.8224858757062148, 0.8426553672316384, 0.8326553672316385, 0.67909604519774, 0.8459322033898304, 0.8393785310734463, 0.7896045197740112]}, {\"categories\": [\"0\", \"1\", \"2\", \"3\", \"4\", \"5\", \"6\", \"7\", \"8\", \"9\", \"10\", \"11\", \"12\", \"13\", \"14\", \"15\", \"16\", \"17\", \"18\", \"19\", \"20\", \"21\", \"22\", \"23\", \"24\", \"25\", \"26\", \"27\", \"28\", \"29\", \"30\", \"31\", \"32\", \"33\", \"34\", \"35\", \"36\", \"37\", \"38\", \"39\", \"40\", \"41\", \"42\", \"43\", \"44\", \"45\", \"46\", \"47\", \"48\", \"49\", \"50\", \"51\", \"52\", \"53\", \"54\", \"55\", \"56\", \"57\", \"58\", \"59\", \"60\", \"61\", \"62\", \"63\", \"64\", \"65\", \"66\", \"67\", \"68\", \"69\", \"70\", \"71\", \"72\", \"73\", \"74\", \"75\", \"76\", \"77\", \"78\", \"79\", \"80\", \"81\", \"82\", \"83\", \"84\", \"85\", \"86\", \"87\", \"88\", \"89\", \"90\", \"91\", \"92\", \"93\", \"94\", \"95\", \"96\", \"97\", \"98\", \"99\", \"100\", \"102\", \"103\"], \"mode\": \"lines\", \"name\": \"precision_score_micro_max\", \"stepped\": true, \"type\": \"scatter\", \"data\": [0.8059887005649717, 0.8259322033898304, 0.8325988700564972, 0.8325988700564972, 0.8427118644067797, 0.8427118644067797, 0.8427118644067797, 0.8462146892655367, 0.8462146892655367, 0.8462146892655367, 0.8462146892655367, 0.8462146892655367, 0.8462146892655367, 0.8462146892655367, 0.8462146892655367, 0.8462146892655367, 0.8462146892655367, 0.8462146892655367, 0.8462146892655367, 0.8462146892655367, 0.8462146892655367, 0.8462146892655367, 0.8462146892655367, 0.8493785310734463, 0.8493785310734463, 0.8493785310734463, 0.8493785310734463, 0.8493785310734463, 0.8493785310734463, 0.8493785310734463, 0.8493785310734463, 0.8493785310734463, 0.8493785310734463, 0.8493785310734463, 0.8493785310734463, 0.8493785310734463, 0.8493785310734463, 0.8493785310734463, 0.8493785310734463, 0.8493785310734463, 0.8493785310734463, 0.8493785310734463, 0.8493785310734463, 0.8493785310734463, 0.8493785310734463, 0.8494915254237287, 0.8494915254237287, 0.8494915254237287, 0.8494915254237287, 0.8494915254237287, 0.8494915254237287, 0.8494915254237287, 0.8494915254237287, 0.8494915254237287, 0.8494915254237287, 0.8494915254237287, 0.8494915254237287, 0.8494915254237287, 0.8494915254237287, 0.8494915254237287, 0.8494915254237287, 0.8494915254237287, 0.8494915254237287, 0.8494915254237287, 0.8494915254237287, 0.8494915254237287, 0.8494915254237287, 0.8494915254237287, 0.8494915254237287, 0.8494915254237287, 0.8494915254237287, 0.8494915254237287, 0.8494915254237287, 0.8494915254237287, 0.8494915254237287, 0.8494915254237287, 0.8494915254237287, 0.8494915254237287, 0.8494915254237287, 0.8494915254237287, 0.8562146892655367, 0.8562146892655367, 0.8562146892655367, 0.8562146892655367, 0.8596045197740112, 0.8596045197740112, 0.8596045197740112, 0.8596045197740112, 0.8596045197740112, 0.8596045197740112, 0.8596045197740112, 0.8596045197740112, 0.8596045197740112, 0.8596045197740112, 0.8596045197740112, 0.8596045197740112, 0.8596045197740112, 0.8596045197740112, 0.8596045197740112, 0.8596045197740112, 0.8596045197740112, 0.8596045197740112, 0.8596045197740112]}], \"log_loss\": [{\"categories\": [\"0\", \"1\", \"2\", \"3\", \"4\", \"5\", \"6\", \"7\", \"8\", \"9\", \"10\", \"11\", \"12\", \"13\", \"14\", \"15\", \"16\", \"17\", \"18\", \"19\", \"20\", \"21\", \"22\", \"23\", \"24\", \"25\", \"26\", \"27\", \"28\", \"29\", \"30\", \"31\", \"32\", \"33\", \"34\", \"35\", \"36\", \"37\", \"38\", \"39\", \"40\", \"41\", \"42\", \"43\", \"44\", \"45\", \"46\", \"47\", \"48\", \"49\", \"50\", \"51\", \"52\", \"53\", \"54\", \"55\", \"56\", \"57\", \"58\", \"59\", \"60\", \"61\", \"62\", \"63\", \"64\", \"65\", \"66\", \"67\", \"68\", \"69\", \"70\", \"71\", \"72\", \"73\", \"74\", \"75\", \"76\", \"77\", \"78\", \"79\", \"80\", \"81\", \"82\", \"83\", \"84\", \"85\", \"86\", \"87\", \"88\", \"89\", \"90\", \"91\", \"92\", \"93\", \"94\", \"95\", \"96\", \"97\", \"98\", \"99\", \"100\", \"102\", \"103\"], \"mode\": \"markers\", \"name\": \"log_loss\", \"stepped\": false, \"type\": \"scatter\", \"data\": [0.5282491261622873, 0.43217688137359717, 0.3807188762092627, 0.47433346928784303, 0.38679887653954437, 0.39710806744536586, 0.3922969841506715, 0.3956898792371141, 0.49229054612105844, 1.292911173952953, 0.48447389724409085, 0.44511388945268865, 0.44320519976368694, 0.42714291976256274, 0.44560655029856494, 0.8093375881662283, 0.46849644488245945, 0.6325075276906152, 0.5294496965044149, 0.47094650109329556, 0.377139894664748, 0.5241901732212729, 0.4871999969973516, 0.39487885515398435, 0.3926627162781163, 0.4131078377137083, 0.42057240680012953, 0.5608852284720804, 0.48873434813949784, 0.3861533788069615, 0.6930303457442692, 0.4348186742489055, 0.3789134973713824, 0.4209944949322922, 0.38477136626165287, 0.493046656568494, 0.37321841556524404, 0.45351886022007815, 0.3889390713876167, 0.5446244051108416, 0.4081311763128931, 0.4221924195423107, 0.40785543851371003, 0.3932658647626858, 0.3737127408298683, 0.44539757905088867, 0.3905262112745795, 0.4914229235399806, 0.4719487879176378, 0.3765321253030434, 0.4624670024517398, 0.4095237673103953, 0.4209257638656673, 0.38333480744676496, 0.40003939868271327, 0.5891017656119167, 0.38542984940686287, 0.38235951812644586, 0.4331556481133164, 0.3950693136183602, 0.5524360626668698, 0.44895961266687695, 0.4451274558505222, 0.43664176484164036, 0.38828921913268954, 0.39692815344740556, 0.5447662032089204, 0.3718724445344806, 0.3684418250213803, 0.3873144702793061, 0.4973067486849788, 0.3942400139275673, 0.408518211751972, 0.3721751056544131, 0.38538066492015594, 0.6037805738664295, 0.41956599721868953, 0.38898929482384753, 0.40231185859233454, 0.3729053234159015, 0.4084380554894434, 0.3743636277442905, 0.4109073808266229, 0.36312079323775404, 0.3935724837776953, 0.3970261187543206, 0.3687381319578423, 0.43661252961696545, 0.5528849426123416, 0.4142301688716808, 0.6279691445998572, 0.3696375372427115, 0.4345104513467821, 0.4160618807041104, 0.44079307730267575, 0.6263688422943595, 0.3847072166536799, 0.37900464867625716, 0.5625225235788106, 0.5631144110034678, 0.4145245973938752, 0.36878216313098455, 0.5071862232711633]}, {\"categories\": [\"0\", \"1\", \"2\", \"3\", \"4\", \"5\", \"6\", \"7\", \"8\", \"9\", \"10\", \"11\", \"12\", \"13\", \"14\", \"15\", \"16\", \"17\", \"18\", \"19\", \"20\", \"21\", \"22\", \"23\", \"24\", \"25\", \"26\", \"27\", \"28\", \"29\", \"30\", \"31\", \"32\", \"33\", \"34\", \"35\", \"36\", \"37\", \"38\", \"39\", \"40\", \"41\", \"42\", \"43\", \"44\", \"45\", \"46\", \"47\", \"48\", \"49\", \"50\", \"51\", \"52\", \"53\", \"54\", \"55\", \"56\", \"57\", \"58\", \"59\", \"60\", \"61\", \"62\", \"63\", \"64\", \"65\", \"66\", \"67\", \"68\", \"69\", \"70\", \"71\", \"72\", \"73\", \"74\", \"75\", \"76\", \"77\", \"78\", \"79\", \"80\", \"81\", \"82\", \"83\", \"84\", \"85\", \"86\", \"87\", \"88\", \"89\", \"90\", \"91\", \"92\", \"93\", \"94\", \"95\", \"96\", \"97\", \"98\", \"99\", \"100\", \"102\", \"103\"], \"mode\": \"lines\", \"name\": \"log_loss_min\", \"stepped\": true, \"type\": \"scatter\", \"data\": [0.5282491261622873, 0.43217688137359717, 0.3807188762092627, 0.3807188762092627, 0.3807188762092627, 0.3807188762092627, 0.3807188762092627, 0.3807188762092627, 0.3807188762092627, 0.3807188762092627, 0.3807188762092627, 0.3807188762092627, 0.3807188762092627, 0.3807188762092627, 0.3807188762092627, 0.3807188762092627, 0.3807188762092627, 0.3807188762092627, 0.3807188762092627, 0.3807188762092627, 0.377139894664748, 0.377139894664748, 0.377139894664748, 0.377139894664748, 0.377139894664748, 0.377139894664748, 0.377139894664748, 0.377139894664748, 0.377139894664748, 0.377139894664748, 0.377139894664748, 0.377139894664748, 0.377139894664748, 0.377139894664748, 0.377139894664748, 0.377139894664748, 0.37321841556524404, 0.37321841556524404, 0.37321841556524404, 0.37321841556524404, 0.37321841556524404, 0.37321841556524404, 0.37321841556524404, 0.37321841556524404, 0.37321841556524404, 0.37321841556524404, 0.37321841556524404, 0.37321841556524404, 0.37321841556524404, 0.37321841556524404, 0.37321841556524404, 0.37321841556524404, 0.37321841556524404, 0.37321841556524404, 0.37321841556524404, 0.37321841556524404, 0.37321841556524404, 0.37321841556524404, 0.37321841556524404, 0.37321841556524404, 0.37321841556524404, 0.37321841556524404, 0.37321841556524404, 0.37321841556524404, 0.37321841556524404, 0.37321841556524404, 0.37321841556524404, 0.3718724445344806, 0.3684418250213803, 0.3684418250213803, 0.3684418250213803, 0.3684418250213803, 0.3684418250213803, 0.3684418250213803, 0.3684418250213803, 0.3684418250213803, 0.3684418250213803, 0.3684418250213803, 0.3684418250213803, 0.3684418250213803, 0.3684418250213803, 0.3684418250213803, 0.3684418250213803, 0.36312079323775404, 0.36312079323775404, 0.36312079323775404, 0.36312079323775404, 0.36312079323775404, 0.36312079323775404, 0.36312079323775404, 0.36312079323775404, 0.36312079323775404, 0.36312079323775404, 0.36312079323775404, 0.36312079323775404, 0.36312079323775404, 0.36312079323775404, 0.36312079323775404, 0.36312079323775404, 0.36312079323775404, 0.36312079323775404, 0.36312079323775404, 0.36312079323775404]}], \"norm_macro_recall\": [{\"categories\": [\"0\", \"1\", \"2\", \"3\", \"4\", \"5\", \"6\", \"7\", \"8\", \"9\", \"10\", \"11\", \"12\", \"13\", \"14\", \"15\", \"16\", \"17\", \"18\", \"19\", \"20\", \"21\", \"22\", \"23\", \"24\", \"25\", \"26\", \"27\", \"28\", \"29\", \"30\", \"31\", \"32\", \"33\", \"34\", \"35\", \"36\", \"37\", \"38\", \"39\", \"40\", \"41\", \"42\", \"43\", \"44\", \"45\", \"46\", \"47\", \"48\", \"49\", \"50\", \"51\", \"52\", \"53\", \"54\", \"55\", \"56\", \"57\", \"58\", \"59\", \"60\", \"61\", \"62\", \"63\", \"64\", \"65\", \"66\", \"67\", \"68\", \"69\", \"70\", \"71\", \"72\", \"73\", \"74\", \"75\", \"76\", \"77\", \"78\", \"79\", \"80\", \"81\", \"82\", \"83\", \"84\", \"85\", \"86\", \"87\", \"88\", \"89\", \"90\", \"91\", \"92\", \"93\", \"94\", \"95\", \"96\", \"97\", \"98\", \"99\", \"100\", \"102\", \"103\"], \"mode\": \"markers\", \"name\": \"norm_macro_recall\", \"stepped\": false, \"type\": \"scatter\", \"data\": [0.5520418050941306, 0.6120251937984496, 0.6035299003322259, 0.4136904761904761, 0.6456727574750831, 0.6183430232558139, 0.5502131782945737, 0.6115988372093023, 0.3478488372093023, 0.34136074197120714, 0.35142026578073093, 0.5336226467331119, 0.6016777408637873, 0.5812763012181617, 0.65843715393134, 0.07768133997785158, 0.4958333333333333, 0.49160852713178305, 0.5812347729789591, 0.614125138427464, 0.5965143964562568, 0.5503419158361018, 0.6074155592469547, 0.6360977297895902, 0.6379000553709855, 0.5791071428571428, 0.6151370431893687, 0.0763095238095238, 0.354515503875969, 0.6266680509413067, 0.0, 0.5930620155038759, 0.6388358250276855, 0.6079941860465116, 0.6251536544850499, 0.5822978959025471, 0.6120418050941308, 0.621047895902547, 0.6190490033222592, 0.6152048726467332, 0.6122882059800664, 0.6084869878183832, 0.605843023255814, 0.605562015503876, 0.6166846622369878, 0.5927893133997785, 0.5876536544850499, 0.642297895902547, 0.5930024916943522, 0.5750858250276855, 0.5244642857142857, 0.6234703765227021, 0.6099764673311185, 0.5772369878183831, 0.6083513289036546, 0.5080980066445183, 0.6242441860465116, 0.607093023255814, 0.6430703211517164, 0.5803336101882614, 0.5931990586932447, 0.603827519379845, 0.6210465116279069, 0.5989548726467331, 0.6147882059800664, 0.6215822259136212, 0.5579000553709856, 0.6341846622369879, 0.6405107973421927, 0.6356893687707641, 0.5808942414174972, 0.6222799003322258, 0.5878668327796236, 0.6309869878183832, 0.6307405869324475, 0.0, 0.6049584717607972, 0.5713275193798448, 0.6279858803986711, 0.6130024916943522, 0.6199404761904763, 0.6188953488372093, 0.6171608527131782, 0.6415988372093023, 0.6374404761904763, 0.6160465116279069, 0.6494310631229236, 0.5842524916943521, 0.5949335548172757, 0.6291680509413067, 0.0, 0.6440905315614618, 0.5741334440753045, 0.6391680509413068, 0.6376633444075305, 0.0, 0.6251633444075305, 0.6321013289036544, 0.6305537098560354, 0.0, 0.6447120708748615, 0.6276453488372093, 0.3441071428571429]}, {\"categories\": [\"0\", \"1\", \"2\", \"3\", \"4\", \"5\", \"6\", \"7\", \"8\", \"9\", \"10\", \"11\", \"12\", \"13\", \"14\", \"15\", \"16\", \"17\", \"18\", \"19\", \"20\", \"21\", \"22\", \"23\", \"24\", \"25\", \"26\", \"27\", \"28\", \"29\", \"30\", \"31\", \"32\", \"33\", \"34\", \"35\", \"36\", \"37\", \"38\", \"39\", \"40\", \"41\", \"42\", \"43\", \"44\", \"45\", \"46\", \"47\", \"48\", \"49\", \"50\", \"51\", \"52\", \"53\", \"54\", \"55\", \"56\", \"57\", \"58\", \"59\", \"60\", \"61\", \"62\", \"63\", \"64\", \"65\", \"66\", \"67\", \"68\", \"69\", \"70\", \"71\", \"72\", \"73\", \"74\", \"75\", \"76\", \"77\", \"78\", \"79\", \"80\", \"81\", \"82\", \"83\", \"84\", \"85\", \"86\", \"87\", \"88\", \"89\", \"90\", \"91\", \"92\", \"93\", \"94\", \"95\", \"96\", \"97\", \"98\", \"99\", \"100\", \"102\", \"103\"], \"mode\": \"lines\", \"name\": \"norm_macro_recall_max\", \"stepped\": true, \"type\": \"scatter\", \"data\": [0.5520418050941306, 0.6120251937984496, 0.6120251937984496, 0.6120251937984496, 0.6456727574750831, 0.6456727574750831, 0.6456727574750831, 0.6456727574750831, 0.6456727574750831, 0.6456727574750831, 0.6456727574750831, 0.6456727574750831, 0.6456727574750831, 0.6456727574750831, 0.65843715393134, 0.65843715393134, 0.65843715393134, 0.65843715393134, 0.65843715393134, 0.65843715393134, 0.65843715393134, 0.65843715393134, 0.65843715393134, 0.65843715393134, 0.65843715393134, 0.65843715393134, 0.65843715393134, 0.65843715393134, 0.65843715393134, 0.65843715393134, 0.65843715393134, 0.65843715393134, 0.65843715393134, 0.65843715393134, 0.65843715393134, 0.65843715393134, 0.65843715393134, 0.65843715393134, 0.65843715393134, 0.65843715393134, 0.65843715393134, 0.65843715393134, 0.65843715393134, 0.65843715393134, 0.65843715393134, 0.65843715393134, 0.65843715393134, 0.65843715393134, 0.65843715393134, 0.65843715393134, 0.65843715393134, 0.65843715393134, 0.65843715393134, 0.65843715393134, 0.65843715393134, 0.65843715393134, 0.65843715393134, 0.65843715393134, 0.65843715393134, 0.65843715393134, 0.65843715393134, 0.65843715393134, 0.65843715393134, 0.65843715393134, 0.65843715393134, 0.65843715393134, 0.65843715393134, 0.65843715393134, 0.65843715393134, 0.65843715393134, 0.65843715393134, 0.65843715393134, 0.65843715393134, 0.65843715393134, 0.65843715393134, 0.65843715393134, 0.65843715393134, 0.65843715393134, 0.65843715393134, 0.65843715393134, 0.65843715393134, 0.65843715393134, 0.65843715393134, 0.65843715393134, 0.65843715393134, 0.65843715393134, 0.65843715393134, 0.65843715393134, 0.65843715393134, 0.65843715393134, 0.65843715393134, 0.65843715393134, 0.65843715393134, 0.65843715393134, 0.65843715393134, 0.65843715393134, 0.65843715393134, 0.65843715393134, 0.65843715393134, 0.65843715393134, 0.65843715393134, 0.65843715393134, 0.65843715393134]}], \"recall_score_micro\": [{\"categories\": [\"0\", \"1\", \"2\", \"3\", \"4\", \"5\", \"6\", \"7\", \"8\", \"9\", \"10\", \"11\", \"12\", \"13\", \"14\", \"15\", \"16\", \"17\", \"18\", \"19\", \"20\", \"21\", \"22\", \"23\", \"24\", \"25\", \"26\", \"27\", \"28\", \"29\", \"30\", \"31\", \"32\", \"33\", \"34\", \"35\", \"36\", \"37\", \"38\", \"39\", \"40\", \"41\", \"42\", \"43\", \"44\", \"45\", \"46\", \"47\", \"48\", \"49\", \"50\", \"51\", \"52\", \"53\", \"54\", \"55\", \"56\", \"57\", \"58\", \"59\", \"60\", \"61\", \"62\", \"63\", \"64\", \"65\", \"66\", \"67\", \"68\", \"69\", \"70\", \"71\", \"72\", \"73\", \"74\", \"75\", \"76\", \"77\", \"78\", \"79\", \"80\", \"81\", \"82\", \"83\", \"84\", \"85\", \"86\", \"87\", \"88\", \"89\", \"90\", \"91\", \"92\", \"93\", \"94\", \"95\", \"96\", \"97\", \"98\", \"99\", \"100\", \"102\", \"103\"], \"mode\": \"markers\", \"name\": \"recall_score_micro\", \"stepped\": false, \"type\": \"scatter\", \"data\": [0.8059887005649717, 0.8259322033898304, 0.8325988700564972, 0.7927118644067797, 0.8427118644067797, 0.8393220338983051, 0.8161016949152543, 0.8462146892655367, 0.7692655367231639, 0.7593220338983051, 0.7693785310734463, 0.8293785310734464, 0.7890395480225989, 0.8193785310734464, 0.8292090395480226, 0.6153107344632769, 0.8194915254237287, 0.7724293785310734, 0.7991525423728814, 0.8260451977401131, 0.8327118644067795, 0.7792090395480227, 0.8294350282485876, 0.8493785310734463, 0.8461581920903954, 0.8428813559322034, 0.8260451977401129, 0.7024858757062147, 0.7725988700564972, 0.8358757062146893, 0.5990960451977401, 0.8226553672316385, 0.8427683615819209, 0.8359887005649718, 0.8427683615819209, 0.7991525423728814, 0.8260451977401131, 0.8091525423728813, 0.8325988700564972, 0.8325988700564972, 0.8293785310734464, 0.8461016949152542, 0.8259887005649716, 0.8359887005649718, 0.8326553672316385, 0.8494915254237287, 0.8327683615819209, 0.8258192090395481, 0.836045197740113, 0.8225988700564972, 0.8261581920903953, 0.8194350282485875, 0.8091525423728813, 0.8260451977401131, 0.8327118644067797, 0.7423163841807909, 0.8393220338983051, 0.8325423728813559, 0.8461016949152542, 0.7957627118644067, 0.7958757062146893, 0.8293220338983052, 0.8393220338983051, 0.8293785310734464, 0.836045197740113, 0.8361016949152542, 0.8193220338983049, 0.8393785310734463, 0.8461581920903954, 0.8461016949152542, 0.7959887005649717, 0.8427118644067797, 0.8258757062146893, 0.8427683615819209, 0.8461016949152542, 0.67909604519774, 0.8293220338983052, 0.822542372881356, 0.8292655367231638, 0.8361016949152542, 0.8562146892655367, 0.836045197740113, 0.8359887005649718, 0.8495480225988701, 0.8596045197740112, 0.8393785310734463, 0.8461016949152542, 0.8193785310734464, 0.8289830508474576, 0.8359322033898305, 0.67909604519774, 0.8494915254237287, 0.8193785310734464, 0.8392655367231638, 0.8258757062146893, 0.67909604519774, 0.8224858757062148, 0.8426553672316384, 0.8326553672316385, 0.67909604519774, 0.8459322033898304, 0.8393785310734463, 0.7896045197740112]}, {\"categories\": [\"0\", \"1\", \"2\", \"3\", \"4\", \"5\", \"6\", \"7\", \"8\", \"9\", \"10\", \"11\", \"12\", \"13\", \"14\", \"15\", \"16\", \"17\", \"18\", \"19\", \"20\", \"21\", \"22\", \"23\", \"24\", \"25\", \"26\", \"27\", \"28\", \"29\", \"30\", \"31\", \"32\", \"33\", \"34\", \"35\", \"36\", \"37\", \"38\", \"39\", \"40\", \"41\", \"42\", \"43\", \"44\", \"45\", \"46\", \"47\", \"48\", \"49\", \"50\", \"51\", \"52\", \"53\", \"54\", \"55\", \"56\", \"57\", \"58\", \"59\", \"60\", \"61\", \"62\", \"63\", \"64\", \"65\", \"66\", \"67\", \"68\", \"69\", \"70\", \"71\", \"72\", \"73\", \"74\", \"75\", \"76\", \"77\", \"78\", \"79\", \"80\", \"81\", \"82\", \"83\", \"84\", \"85\", \"86\", \"87\", \"88\", \"89\", \"90\", \"91\", \"92\", \"93\", \"94\", \"95\", \"96\", \"97\", \"98\", \"99\", \"100\", \"102\", \"103\"], \"mode\": \"lines\", \"name\": \"recall_score_micro_max\", \"stepped\": true, \"type\": \"scatter\", \"data\": [0.8059887005649717, 0.8259322033898304, 0.8325988700564972, 0.8325988700564972, 0.8427118644067797, 0.8427118644067797, 0.8427118644067797, 0.8462146892655367, 0.8462146892655367, 0.8462146892655367, 0.8462146892655367, 0.8462146892655367, 0.8462146892655367, 0.8462146892655367, 0.8462146892655367, 0.8462146892655367, 0.8462146892655367, 0.8462146892655367, 0.8462146892655367, 0.8462146892655367, 0.8462146892655367, 0.8462146892655367, 0.8462146892655367, 0.8493785310734463, 0.8493785310734463, 0.8493785310734463, 0.8493785310734463, 0.8493785310734463, 0.8493785310734463, 0.8493785310734463, 0.8493785310734463, 0.8493785310734463, 0.8493785310734463, 0.8493785310734463, 0.8493785310734463, 0.8493785310734463, 0.8493785310734463, 0.8493785310734463, 0.8493785310734463, 0.8493785310734463, 0.8493785310734463, 0.8493785310734463, 0.8493785310734463, 0.8493785310734463, 0.8493785310734463, 0.8494915254237287, 0.8494915254237287, 0.8494915254237287, 0.8494915254237287, 0.8494915254237287, 0.8494915254237287, 0.8494915254237287, 0.8494915254237287, 0.8494915254237287, 0.8494915254237287, 0.8494915254237287, 0.8494915254237287, 0.8494915254237287, 0.8494915254237287, 0.8494915254237287, 0.8494915254237287, 0.8494915254237287, 0.8494915254237287, 0.8494915254237287, 0.8494915254237287, 0.8494915254237287, 0.8494915254237287, 0.8494915254237287, 0.8494915254237287, 0.8494915254237287, 0.8494915254237287, 0.8494915254237287, 0.8494915254237287, 0.8494915254237287, 0.8494915254237287, 0.8494915254237287, 0.8494915254237287, 0.8494915254237287, 0.8494915254237287, 0.8494915254237287, 0.8562146892655367, 0.8562146892655367, 0.8562146892655367, 0.8562146892655367, 0.8596045197740112, 0.8596045197740112, 0.8596045197740112, 0.8596045197740112, 0.8596045197740112, 0.8596045197740112, 0.8596045197740112, 0.8596045197740112, 0.8596045197740112, 0.8596045197740112, 0.8596045197740112, 0.8596045197740112, 0.8596045197740112, 0.8596045197740112, 0.8596045197740112, 0.8596045197740112, 0.8596045197740112, 0.8596045197740112, 0.8596045197740112]}], \"average_precision_score_weighted\": [{\"categories\": [\"0\", \"1\", \"2\", \"3\", \"4\", \"5\", \"6\", \"7\", \"8\", \"9\", \"10\", \"11\", \"12\", \"13\", \"14\", \"15\", \"16\", \"17\", \"18\", \"19\", \"20\", \"21\", \"22\", \"23\", \"24\", \"25\", \"26\", \"27\", \"28\", \"29\", \"30\", \"31\", \"32\", \"33\", \"34\", \"35\", \"36\", \"37\", \"38\", \"39\", \"40\", \"41\", \"42\", \"43\", \"44\", \"45\", \"46\", \"47\", \"48\", \"49\", \"50\", \"51\", \"52\", \"53\", \"54\", \"55\", \"56\", \"57\", \"58\", \"59\", \"60\", \"61\", \"62\", \"63\", \"64\", \"65\", \"66\", \"67\", \"68\", \"69\", \"70\", \"71\", \"72\", \"73\", \"74\", \"75\", \"76\", \"77\", \"78\", \"79\", \"80\", \"81\", \"82\", \"83\", \"84\", \"85\", \"86\", \"87\", \"88\", \"89\", \"90\", \"91\", \"92\", \"93\", \"94\", \"95\", \"96\", \"97\", \"98\", \"99\", \"100\", \"102\", \"103\"], \"mode\": \"markers\", \"name\": \"average_precision_score_weighted\", \"stepped\": false, \"type\": \"scatter\", \"data\": [0.8955370396295249, 0.9103506263314479, 0.9092892012251571, 0.8963799654309131, 0.9202218687488315, 0.9178177484904915, 0.9075227950990085, 0.9300923888275282, 0.8820849075911902, 0.7862334416854537, 0.8967827893036093, 0.9054723386039119, 0.9120945337664811, 0.889080329239939, 0.9142873191874397, 0.6031702289152213, 0.9121308990387409, 0.8620726924289548, 0.8960704448245833, 0.9178268415672477, 0.9229222270052233, 0.8665783272889875, 0.8929399592103155, 0.9240812776905797, 0.9195354822209179, 0.9020927311233595, 0.9135220622085132, 0.8703831764220545, 0.8877612754442857, 0.9186271999918192, 0.6006961242935598, 0.9083099485035439, 0.9250680414453807, 0.9165374703880372, 0.9169204735973426, 0.891673221669872, 0.9218485601006581, 0.9192791184060585, 0.9141026492168969, 0.9018516202417569, 0.9161890024085174, 0.894358896245653, 0.9179578374804507, 0.9192683917962148, 0.9255916520208002, 0.8963090509377405, 0.9239350269070876, 0.9248447527016486, 0.8876675971716186, 0.9235813816331717, 0.8939783043980606, 0.9164576930952476, 0.927287155431813, 0.9204630064024485, 0.9257951451006747, 0.8829659639779962, 0.9211218295808624, 0.9170315448371336, 0.9114108372689884, 0.9148563195710653, 0.8862473558003664, 0.9130872683260318, 0.9098532664341393, 0.9137301689464754, 0.9182423258452133, 0.9113429984079604, 0.8969528819202932, 0.9243052482869677, 0.9256241693924443, 0.9172616989756831, 0.8998791308380397, 0.9235198732743957, 0.9184504669069348, 0.9227075644997725, 0.9181338636590853, 0.7788086677544813, 0.9151991883950364, 0.9082678588036573, 0.9130474524182549, 0.9200734867786622, 0.9134754395084169, 0.9273699097349922, 0.9116760103605748, 0.9303982115403416, 0.9159763183335616, 0.9204824810974014, 0.9268383364731811, 0.8911408378648952, 0.9011603202492118, 0.9149330888214509, 0.9137046481192124, 0.92622706867915, 0.8907781296241932, 0.911919133480995, 0.9209662675455101, 0.9153669772202152, 0.9196978804373842, 0.9226123986059855, 0.9082049827019152, 0.8689255545744373, 0.9216020533369701, 0.9345240014199924, 0.9331556400170105]}, {\"categories\": [\"0\", \"1\", \"2\", \"3\", \"4\", \"5\", \"6\", \"7\", \"8\", \"9\", \"10\", \"11\", \"12\", \"13\", \"14\", \"15\", \"16\", \"17\", \"18\", \"19\", \"20\", \"21\", \"22\", \"23\", \"24\", \"25\", \"26\", \"27\", \"28\", \"29\", \"30\", \"31\", \"32\", \"33\", \"34\", \"35\", \"36\", \"37\", \"38\", \"39\", \"40\", \"41\", \"42\", \"43\", \"44\", \"45\", \"46\", \"47\", \"48\", \"49\", \"50\", \"51\", \"52\", \"53\", \"54\", \"55\", \"56\", \"57\", \"58\", \"59\", \"60\", \"61\", \"62\", \"63\", \"64\", \"65\", \"66\", \"67\", \"68\", \"69\", \"70\", \"71\", \"72\", \"73\", \"74\", \"75\", \"76\", \"77\", \"78\", \"79\", \"80\", \"81\", \"82\", \"83\", \"84\", \"85\", \"86\", \"87\", \"88\", \"89\", \"90\", \"91\", \"92\", \"93\", \"94\", \"95\", \"96\", \"97\", \"98\", \"99\", \"100\", \"102\", \"103\"], \"mode\": \"lines\", \"name\": \"average_precision_score_weighted_max\", \"stepped\": true, \"type\": \"scatter\", \"data\": [0.8955370396295249, 0.9103506263314479, 0.9103506263314479, 0.9103506263314479, 0.9202218687488315, 0.9202218687488315, 0.9202218687488315, 0.9300923888275282, 0.9300923888275282, 0.9300923888275282, 0.9300923888275282, 0.9300923888275282, 0.9300923888275282, 0.9300923888275282, 0.9300923888275282, 0.9300923888275282, 0.9300923888275282, 0.9300923888275282, 0.9300923888275282, 0.9300923888275282, 0.9300923888275282, 0.9300923888275282, 0.9300923888275282, 0.9300923888275282, 0.9300923888275282, 0.9300923888275282, 0.9300923888275282, 0.9300923888275282, 0.9300923888275282, 0.9300923888275282, 0.9300923888275282, 0.9300923888275282, 0.9300923888275282, 0.9300923888275282, 0.9300923888275282, 0.9300923888275282, 0.9300923888275282, 0.9300923888275282, 0.9300923888275282, 0.9300923888275282, 0.9300923888275282, 0.9300923888275282, 0.9300923888275282, 0.9300923888275282, 0.9300923888275282, 0.9300923888275282, 0.9300923888275282, 0.9300923888275282, 0.9300923888275282, 0.9300923888275282, 0.9300923888275282, 0.9300923888275282, 0.9300923888275282, 0.9300923888275282, 0.9300923888275282, 0.9300923888275282, 0.9300923888275282, 0.9300923888275282, 0.9300923888275282, 0.9300923888275282, 0.9300923888275282, 0.9300923888275282, 0.9300923888275282, 0.9300923888275282, 0.9300923888275282, 0.9300923888275282, 0.9300923888275282, 0.9300923888275282, 0.9300923888275282, 0.9300923888275282, 0.9300923888275282, 0.9300923888275282, 0.9300923888275282, 0.9300923888275282, 0.9300923888275282, 0.9300923888275282, 0.9300923888275282, 0.9300923888275282, 0.9300923888275282, 0.9300923888275282, 0.9300923888275282, 0.9300923888275282, 0.9300923888275282, 0.9303982115403416, 0.9303982115403416, 0.9303982115403416, 0.9303982115403416, 0.9303982115403416, 0.9303982115403416, 0.9303982115403416, 0.9303982115403416, 0.9303982115403416, 0.9303982115403416, 0.9303982115403416, 0.9303982115403416, 0.9303982115403416, 0.9303982115403416, 0.9303982115403416, 0.9303982115403416, 0.9303982115403416, 0.9303982115403416, 0.9345240014199924, 0.9345240014199924]}], \"matthews_correlation\": [{\"categories\": [\"0\", \"1\", \"2\", \"3\", \"4\", \"5\", \"6\", \"7\", \"8\", \"9\", \"10\", \"11\", \"12\", \"13\", \"14\", \"15\", \"16\", \"17\", \"18\", \"19\", \"20\", \"21\", \"22\", \"23\", \"24\", \"25\", \"26\", \"27\", \"28\", \"29\", \"30\", \"31\", \"32\", \"33\", \"34\", \"35\", \"36\", \"37\", \"38\", \"39\", \"40\", \"41\", \"42\", \"43\", \"44\", \"45\", \"46\", \"47\", \"48\", \"49\", \"50\", \"51\", \"52\", \"53\", \"54\", \"55\", \"56\", \"57\", \"58\", \"59\", \"60\", \"61\", \"62\", \"63\", \"64\", \"65\", \"66\", \"67\", \"68\", \"69\", \"70\", \"71\", \"72\", \"73\", \"74\", \"75\", \"76\", \"77\", \"78\", \"79\", \"80\", \"81\", \"82\", \"83\", \"84\", \"85\", \"86\", \"87\", \"88\", \"89\", \"90\", \"91\", \"92\", \"93\", \"94\", \"95\", \"96\", \"97\", \"98\", \"99\", \"100\", \"102\", \"103\"], \"mode\": \"markers\", \"name\": \"matthews_correlation\", \"stepped\": false, \"type\": \"scatter\", \"data\": [0.5628617041183437, 0.6132552509330647, 0.6096001845420435, 0.5210627457151225, 0.6407161842095392, 0.6308552315614986, 0.5696947141363772, 0.6479876255067247, 0.45425968621688934, 0.416717014557646, 0.4633252703659321, 0.598688704888527, 0.5668078589480707, 0.5964305782013576, 0.6303328343097725, 0.06532248141362067, 0.5986123313003319, 0.4830320350459836, 0.5652380906601948, 0.6170804711017206, 0.6120404567706319, 0.5227591056684968, 0.6131266175928697, 0.6499986100818607, 0.6477216584662266, 0.6460416240552054, 0.6102274355379513, 0.22467437065228726, 0.4666429933345001, 0.6253230534775243, 0.0, 0.598905044394734, 0.6449000108504878, 0.6218160616995553, 0.6411078008947703, 0.5598461599674662, 0.6124076741855864, 0.5901117238960002, 0.6231840999865249, 0.6193362206864689, 0.612787448281328, 0.6467848783698747, 0.6081617827432462, 0.624708574492949, 0.6202265931918693, 0.6538030001847769, 0.6136635353424266, 0.6141318004327994, 0.6190517422264142, 0.5920298977672471, 0.604885409002844, 0.6081101106788337, 0.5870298872711515, 0.6007227917664573, 0.619837496255164, 0.4726053165070646, 0.6352454129756064, 0.6169956116261035, 0.6569238823593757, 0.5602158129405628, 0.5699533210007977, 0.6101008143750882, 0.6347700705748468, 0.6101435300011155, 0.6232456249713068, 0.6292232693848543, 0.5798602836219219, 0.6375948908138883, 0.6540424676854111, 0.6495644252772685, 0.5544555609408713, 0.6345728801905729, 0.6006056044255915, 0.6425567637833349, 0.6394494098505262, 0.0, 0.6174462081488789, 0.5894717327893116, 0.6189255037836, 0.6271426162917635, 0.6756776123095941, 0.6295407356531282, 0.6263801611359413, 0.6613538390374823, 0.6860522419149826, 0.6334558548131021, 0.6502374058041356, 0.5958858873144596, 0.6016381646901818, 0.6277055708642343, 0.0, 0.6571701492241151, 0.5943506062023396, 0.6365058368520498, 0.6127262649577261, 0.0, 0.6041565891944605, 0.6440686361080499, 0.6270123233434528, 0.0, 0.6502879670548538, 0.6342729953440103, 0.3831041264440961]}, {\"categories\": [\"0\", \"1\", \"2\", \"3\", \"4\", \"5\", \"6\", \"7\", \"8\", \"9\", \"10\", \"11\", \"12\", \"13\", \"14\", \"15\", \"16\", \"17\", \"18\", \"19\", \"20\", \"21\", \"22\", \"23\", \"24\", \"25\", \"26\", \"27\", \"28\", \"29\", \"30\", \"31\", \"32\", \"33\", \"34\", \"35\", \"36\", \"37\", \"38\", \"39\", \"40\", \"41\", \"42\", \"43\", \"44\", \"45\", \"46\", \"47\", \"48\", \"49\", \"50\", \"51\", \"52\", \"53\", \"54\", \"55\", \"56\", \"57\", \"58\", \"59\", \"60\", \"61\", \"62\", \"63\", \"64\", \"65\", \"66\", \"67\", \"68\", \"69\", \"70\", \"71\", \"72\", \"73\", \"74\", \"75\", \"76\", \"77\", \"78\", \"79\", \"80\", \"81\", \"82\", \"83\", \"84\", \"85\", \"86\", \"87\", \"88\", \"89\", \"90\", \"91\", \"92\", \"93\", \"94\", \"95\", \"96\", \"97\", \"98\", \"99\", \"100\", \"102\", \"103\"], \"mode\": \"lines\", \"name\": \"matthews_correlation_max\", \"stepped\": true, \"type\": \"scatter\", \"data\": [0.5628617041183437, 0.6132552509330647, 0.6132552509330647, 0.6132552509330647, 0.6407161842095392, 0.6407161842095392, 0.6407161842095392, 0.6479876255067247, 0.6479876255067247, 0.6479876255067247, 0.6479876255067247, 0.6479876255067247, 0.6479876255067247, 0.6479876255067247, 0.6479876255067247, 0.6479876255067247, 0.6479876255067247, 0.6479876255067247, 0.6479876255067247, 0.6479876255067247, 0.6479876255067247, 0.6479876255067247, 0.6479876255067247, 0.6499986100818607, 0.6499986100818607, 0.6499986100818607, 0.6499986100818607, 0.6499986100818607, 0.6499986100818607, 0.6499986100818607, 0.6499986100818607, 0.6499986100818607, 0.6499986100818607, 0.6499986100818607, 0.6499986100818607, 0.6499986100818607, 0.6499986100818607, 0.6499986100818607, 0.6499986100818607, 0.6499986100818607, 0.6499986100818607, 0.6499986100818607, 0.6499986100818607, 0.6499986100818607, 0.6499986100818607, 0.6538030001847769, 0.6538030001847769, 0.6538030001847769, 0.6538030001847769, 0.6538030001847769, 0.6538030001847769, 0.6538030001847769, 0.6538030001847769, 0.6538030001847769, 0.6538030001847769, 0.6538030001847769, 0.6538030001847769, 0.6538030001847769, 0.6569238823593757, 0.6569238823593757, 0.6569238823593757, 0.6569238823593757, 0.6569238823593757, 0.6569238823593757, 0.6569238823593757, 0.6569238823593757, 0.6569238823593757, 0.6569238823593757, 0.6569238823593757, 0.6569238823593757, 0.6569238823593757, 0.6569238823593757, 0.6569238823593757, 0.6569238823593757, 0.6569238823593757, 0.6569238823593757, 0.6569238823593757, 0.6569238823593757, 0.6569238823593757, 0.6569238823593757, 0.6756776123095941, 0.6756776123095941, 0.6756776123095941, 0.6756776123095941, 0.6860522419149826, 0.6860522419149826, 0.6860522419149826, 0.6860522419149826, 0.6860522419149826, 0.6860522419149826, 0.6860522419149826, 0.6860522419149826, 0.6860522419149826, 0.6860522419149826, 0.6860522419149826, 0.6860522419149826, 0.6860522419149826, 0.6860522419149826, 0.6860522419149826, 0.6860522419149826, 0.6860522419149826, 0.6860522419149826, 0.6860522419149826]}], \"recall_score_macro\": [{\"categories\": [\"0\", \"1\", \"2\", \"3\", \"4\", \"5\", \"6\", \"7\", \"8\", \"9\", \"10\", \"11\", \"12\", \"13\", \"14\", \"15\", \"16\", \"17\", \"18\", \"19\", \"20\", \"21\", \"22\", \"23\", \"24\", \"25\", \"26\", \"27\", \"28\", \"29\", \"30\", \"31\", \"32\", \"33\", \"34\", \"35\", \"36\", \"37\", \"38\", \"39\", \"40\", \"41\", \"42\", \"43\", \"44\", \"45\", \"46\", \"47\", \"48\", \"49\", \"50\", \"51\", \"52\", \"53\", \"54\", \"55\", \"56\", \"57\", \"58\", \"59\", \"60\", \"61\", \"62\", \"63\", \"64\", \"65\", \"66\", \"67\", \"68\", \"69\", \"70\", \"71\", \"72\", \"73\", \"74\", \"75\", \"76\", \"77\", \"78\", \"79\", \"80\", \"81\", \"82\", \"83\", \"84\", \"85\", \"86\", \"87\", \"88\", \"89\", \"90\", \"91\", \"92\", \"93\", \"94\", \"95\", \"96\", \"97\", \"98\", \"99\", \"100\", \"102\", \"103\"], \"mode\": \"markers\", \"name\": \"recall_score_macro\", \"stepped\": false, \"type\": \"scatter\", \"data\": [0.7760209025470652, 0.8060125968992248, 0.8017649501661129, 0.706845238095238, 0.8228363787375417, 0.809171511627907, 0.7751065891472868, 0.8057994186046512, 0.6739244186046511, 0.6706803709856035, 0.6757101328903655, 0.766811323366556, 0.8008388704318936, 0.7906381506090808, 0.8292185769656699, 0.5313406699889258, 0.7479166666666667, 0.7458042635658915, 0.7906173864894794, 0.807062569213732, 0.7982571982281284, 0.775170957918051, 0.8037077796234773, 0.8180488648947952, 0.8189500276854929, 0.7895535714285714, 0.8075685215946843, 0.5381547619047619, 0.6772577519379844, 0.8133340254706534, 0.5, 0.796531007751938, 0.8194179125138428, 0.8039970930232558, 0.8125768272425249, 0.7911489479512734, 0.8060209025470654, 0.8105239479512735, 0.8095245016611295, 0.8076024363233664, 0.8061441029900331, 0.8042434939091916, 0.802921511627907, 0.802781007751938, 0.8083423311184939, 0.7963946566998892, 0.7938268272425248, 0.8211489479512736, 0.7965012458471762, 0.7875429125138427, 0.7622321428571428, 0.811735188261351, 0.8049882336655593, 0.7886184939091916, 0.8041756644518273, 0.7540490033222591, 0.8121220930232559, 0.803546511627907, 0.8215351605758581, 0.7901668050941307, 0.7965995293466224, 0.8019137596899226, 0.8105232558139533, 0.7994774363233665, 0.8073941029900332, 0.8107911129568105, 0.7789500276854928, 0.8170923311184939, 0.8202553986710963, 0.8178446843853819, 0.7904471207087486, 0.811139950166113, 0.7939334163898117, 0.8154934939091916, 0.8153702934662237, 0.5, 0.8024792358803987, 0.7856637596899224, 0.8139929401993357, 0.8065012458471761, 0.8099702380952382, 0.8094476744186047, 0.8085804263565892, 0.8207994186046511, 0.8187202380952382, 0.8080232558139535, 0.8247155315614616, 0.7921262458471761, 0.7974667774086377, 0.8145840254706535, 0.5, 0.8220452657807309, 0.7870667220376523, 0.8195840254706533, 0.8188316722037653, 0.5, 0.8125816722037651, 0.8160506644518273, 0.8152768549280177, 0.5, 0.8223560354374309, 0.8138226744186046, 0.6720535714285715]}, {\"categories\": [\"0\", \"1\", \"2\", \"3\", \"4\", \"5\", \"6\", \"7\", \"8\", \"9\", \"10\", \"11\", \"12\", \"13\", \"14\", \"15\", \"16\", \"17\", \"18\", \"19\", \"20\", \"21\", \"22\", \"23\", \"24\", \"25\", \"26\", \"27\", \"28\", \"29\", \"30\", \"31\", \"32\", \"33\", \"34\", \"35\", \"36\", \"37\", \"38\", \"39\", \"40\", \"41\", \"42\", \"43\", \"44\", \"45\", \"46\", \"47\", \"48\", \"49\", \"50\", \"51\", \"52\", \"53\", \"54\", \"55\", \"56\", \"57\", \"58\", \"59\", \"60\", \"61\", \"62\", \"63\", \"64\", \"65\", \"66\", \"67\", \"68\", \"69\", \"70\", \"71\", \"72\", \"73\", \"74\", \"75\", \"76\", \"77\", \"78\", \"79\", \"80\", \"81\", \"82\", \"83\", \"84\", \"85\", \"86\", \"87\", \"88\", \"89\", \"90\", \"91\", \"92\", \"93\", \"94\", \"95\", \"96\", \"97\", \"98\", \"99\", \"100\", \"102\", \"103\"], \"mode\": \"lines\", \"name\": \"recall_score_macro_max\", \"stepped\": true, \"type\": \"scatter\", \"data\": [0.7760209025470652, 0.8060125968992248, 0.8060125968992248, 0.8060125968992248, 0.8228363787375417, 0.8228363787375417, 0.8228363787375417, 0.8228363787375417, 0.8228363787375417, 0.8228363787375417, 0.8228363787375417, 0.8228363787375417, 0.8228363787375417, 0.8228363787375417, 0.8292185769656699, 0.8292185769656699, 0.8292185769656699, 0.8292185769656699, 0.8292185769656699, 0.8292185769656699, 0.8292185769656699, 0.8292185769656699, 0.8292185769656699, 0.8292185769656699, 0.8292185769656699, 0.8292185769656699, 0.8292185769656699, 0.8292185769656699, 0.8292185769656699, 0.8292185769656699, 0.8292185769656699, 0.8292185769656699, 0.8292185769656699, 0.8292185769656699, 0.8292185769656699, 0.8292185769656699, 0.8292185769656699, 0.8292185769656699, 0.8292185769656699, 0.8292185769656699, 0.8292185769656699, 0.8292185769656699, 0.8292185769656699, 0.8292185769656699, 0.8292185769656699, 0.8292185769656699, 0.8292185769656699, 0.8292185769656699, 0.8292185769656699, 0.8292185769656699, 0.8292185769656699, 0.8292185769656699, 0.8292185769656699, 0.8292185769656699, 0.8292185769656699, 0.8292185769656699, 0.8292185769656699, 0.8292185769656699, 0.8292185769656699, 0.8292185769656699, 0.8292185769656699, 0.8292185769656699, 0.8292185769656699, 0.8292185769656699, 0.8292185769656699, 0.8292185769656699, 0.8292185769656699, 0.8292185769656699, 0.8292185769656699, 0.8292185769656699, 0.8292185769656699, 0.8292185769656699, 0.8292185769656699, 0.8292185769656699, 0.8292185769656699, 0.8292185769656699, 0.8292185769656699, 0.8292185769656699, 0.8292185769656699, 0.8292185769656699, 0.8292185769656699, 0.8292185769656699, 0.8292185769656699, 0.8292185769656699, 0.8292185769656699, 0.8292185769656699, 0.8292185769656699, 0.8292185769656699, 0.8292185769656699, 0.8292185769656699, 0.8292185769656699, 0.8292185769656699, 0.8292185769656699, 0.8292185769656699, 0.8292185769656699, 0.8292185769656699, 0.8292185769656699, 0.8292185769656699, 0.8292185769656699, 0.8292185769656699, 0.8292185769656699, 0.8292185769656699, 0.8292185769656699]}], \"precision_score_macro\": [{\"categories\": [\"0\", \"1\", \"2\", \"3\", \"4\", \"5\", \"6\", \"7\", \"8\", \"9\", \"10\", \"11\", \"12\", \"13\", \"14\", \"15\", \"16\", \"17\", \"18\", \"19\", \"20\", \"21\", \"22\", \"23\", \"24\", \"25\", \"26\", \"27\", \"28\", \"29\", \"30\", \"31\", \"32\", \"33\", \"34\", \"35\", \"36\", \"37\", \"38\", \"39\", \"40\", \"41\", \"42\", \"43\", \"44\", \"45\", \"46\", \"47\", \"48\", \"49\", \"50\", \"51\", \"52\", \"53\", \"54\", \"55\", \"56\", \"57\", \"58\", \"59\", \"60\", \"61\", \"62\", \"63\", \"64\", \"65\", \"66\", \"67\", \"68\", \"69\", \"70\", \"71\", \"72\", \"73\", \"74\", \"75\", \"76\", \"77\", \"78\", \"79\", \"80\", \"81\", \"82\", \"83\", \"84\", \"85\", \"86\", \"87\", \"88\", \"89\", \"90\", \"91\", \"92\", \"93\", \"94\", \"95\", \"96\", \"97\", \"98\", \"99\", \"100\", \"102\", \"103\"], \"mode\": \"markers\", \"name\": \"precision_score_macro\", \"stepped\": false, \"type\": \"scatter\", \"data\": [0.7889041743265773, 0.8086642059265495, 0.8087788696484349, 0.8376857264644988, 0.8185155375498347, 0.8227788071102026, 0.7960943039927371, 0.8456331361115923, 0.8029841960974036, 0.7573881765399129, 0.813510989010989, 0.8391501306979124, 0.7676842643723811, 0.809534042852011, 0.8027740738513651, 0.5343494917780632, 0.867631226809865, 0.7385004089131051, 0.776339570682036, 0.8134115884115884, 0.8150950942113857, 0.7492086594480969, 0.8111107040870117, 0.832904125745106, 0.8311010211918305, 0.8632046758097178, 0.8044627706614712, 0.8477032001394486, 0.8132297162168733, 0.8132756883399479, 0.29954802259887003, 0.8051710452247235, 0.8274438979530514, 0.8192398015186428, 0.8306956487853805, 0.7704710457393663, 0.8087005901695029, 0.7807966507177033, 0.8153010736067001, 0.8149869976026001, 0.8086446965825275, 0.8448137046425668, 0.8066038857722377, 0.8240793221741661, 0.8138388918480451, 0.8621441760391383, 0.8217911425875914, 0.7941061745272272, 0.8242185003560373, 0.8074291312670129, 0.8525071272867626, 0.7985312852476654, 0.783513858702902, 0.8151285258228148, 0.8173139243317007, 0.7206098934923361, 0.825077078400877, 0.8153890325286206, 0.8384967396669525, 0.7715917554667555, 0.7752844803818107, 0.809829988867216, 0.8279345073047681, 0.8118436705341494, 0.8171668005907137, 0.8199588846078264, 0.8045825213504164, 0.8223789628881162, 0.8361034735506472, 0.8337592696293218, 0.7655419724097516, 0.8241212102453958, 0.808215350278255, 0.8294550428365366, 0.8249197433636792, 0.33954802259887, 0.8179386009363127, 0.8052742429898085, 0.8066507177033493, 0.8223788593966358, 0.871764797931306, 0.8222382880277618, 0.819081168924394, 0.8437732341393669, 0.8720225010125386, 0.8281675989913977, 0.8265695795522653, 0.8071703037348448, 0.8057047675182686, 0.8143986487368841, 0.33954802259887, 0.8372761201422529, 0.81160756456839, 0.818274475717444, 0.7949904919641761, 0.33954802259887, 0.7925747108641845, 0.8304161569748988, 0.8143763639415813, 0.33954802259887, 0.8291497632801981, 0.8220723263515026, 0.6622931043022577]}, {\"categories\": [\"0\", \"1\", \"2\", \"3\", \"4\", \"5\", \"6\", \"7\", \"8\", \"9\", \"10\", \"11\", \"12\", \"13\", \"14\", \"15\", \"16\", \"17\", \"18\", \"19\", \"20\", \"21\", \"22\", \"23\", \"24\", \"25\", \"26\", \"27\", \"28\", \"29\", \"30\", \"31\", \"32\", \"33\", \"34\", \"35\", \"36\", \"37\", \"38\", \"39\", \"40\", \"41\", \"42\", \"43\", \"44\", \"45\", \"46\", \"47\", \"48\", \"49\", \"50\", \"51\", \"52\", \"53\", \"54\", \"55\", \"56\", \"57\", \"58\", \"59\", \"60\", \"61\", \"62\", \"63\", \"64\", \"65\", \"66\", \"67\", \"68\", \"69\", \"70\", \"71\", \"72\", \"73\", \"74\", \"75\", \"76\", \"77\", \"78\", \"79\", \"80\", \"81\", \"82\", \"83\", \"84\", \"85\", \"86\", \"87\", \"88\", \"89\", \"90\", \"91\", \"92\", \"93\", \"94\", \"95\", \"96\", \"97\", \"98\", \"99\", \"100\", \"102\", \"103\"], \"mode\": \"lines\", \"name\": \"precision_score_macro_max\", \"stepped\": true, \"type\": \"scatter\", \"data\": [0.7889041743265773, 0.8086642059265495, 0.8087788696484349, 0.8376857264644988, 0.8376857264644988, 0.8376857264644988, 0.8376857264644988, 0.8456331361115923, 0.8456331361115923, 0.8456331361115923, 0.8456331361115923, 0.8456331361115923, 0.8456331361115923, 0.8456331361115923, 0.8456331361115923, 0.8456331361115923, 0.867631226809865, 0.867631226809865, 0.867631226809865, 0.867631226809865, 0.867631226809865, 0.867631226809865, 0.867631226809865, 0.867631226809865, 0.867631226809865, 0.867631226809865, 0.867631226809865, 0.867631226809865, 0.867631226809865, 0.867631226809865, 0.867631226809865, 0.867631226809865, 0.867631226809865, 0.867631226809865, 0.867631226809865, 0.867631226809865, 0.867631226809865, 0.867631226809865, 0.867631226809865, 0.867631226809865, 0.867631226809865, 0.867631226809865, 0.867631226809865, 0.867631226809865, 0.867631226809865, 0.867631226809865, 0.867631226809865, 0.867631226809865, 0.867631226809865, 0.867631226809865, 0.867631226809865, 0.867631226809865, 0.867631226809865, 0.867631226809865, 0.867631226809865, 0.867631226809865, 0.867631226809865, 0.867631226809865, 0.867631226809865, 0.867631226809865, 0.867631226809865, 0.867631226809865, 0.867631226809865, 0.867631226809865, 0.867631226809865, 0.867631226809865, 0.867631226809865, 0.867631226809865, 0.867631226809865, 0.867631226809865, 0.867631226809865, 0.867631226809865, 0.867631226809865, 0.867631226809865, 0.867631226809865, 0.867631226809865, 0.867631226809865, 0.867631226809865, 0.867631226809865, 0.867631226809865, 0.871764797931306, 0.871764797931306, 0.871764797931306, 0.871764797931306, 0.8720225010125386, 0.8720225010125386, 0.8720225010125386, 0.8720225010125386, 0.8720225010125386, 0.8720225010125386, 0.8720225010125386, 0.8720225010125386, 0.8720225010125386, 0.8720225010125386, 0.8720225010125386, 0.8720225010125386, 0.8720225010125386, 0.8720225010125386, 0.8720225010125386, 0.8720225010125386, 0.8720225010125386, 0.8720225010125386, 0.8720225010125386]}], \"precision_score_weighted\": [{\"categories\": [\"0\", \"1\", \"2\", \"3\", \"4\", \"5\", \"6\", \"7\", \"8\", \"9\", \"10\", \"11\", \"12\", \"13\", \"14\", \"15\", \"16\", \"17\", \"18\", \"19\", \"20\", \"21\", \"22\", \"23\", \"24\", \"25\", \"26\", \"27\", \"28\", \"29\", \"30\", \"31\", \"32\", \"33\", \"34\", \"35\", \"36\", \"37\", \"38\", \"39\", \"40\", \"41\", \"42\", \"43\", \"44\", \"45\", \"46\", \"47\", \"48\", \"49\", \"50\", \"51\", \"52\", \"53\", \"54\", \"55\", \"56\", \"57\", \"58\", \"59\", \"60\", \"61\", \"62\", \"63\", \"64\", \"65\", \"66\", \"67\", \"68\", \"69\", \"70\", \"71\", \"72\", \"73\", \"74\", \"75\", \"76\", \"77\", \"78\", \"79\", \"80\", \"81\", \"82\", \"83\", \"84\", \"85\", \"86\", \"87\", \"88\", \"89\", \"90\", \"91\", \"92\", \"93\", \"94\", \"95\", \"96\", \"97\", \"98\", \"99\", \"100\", \"102\", \"103\"], \"mode\": \"markers\", \"name\": \"precision_score_weighted\", \"stepped\": false, \"type\": \"scatter\", \"data\": [0.8237683758533973, 0.8403871377947292, 0.839371571560223, 0.8306745379993752, 0.851706251258296, 0.850293136869408, 0.8234862917672116, 0.8591501242231974, 0.8005935437787052, 0.7695882951514441, 0.8074549574719067, 0.8426210318690266, 0.8291350633179777, 0.8423771259813689, 0.8513528301712121, 0.6019922322856948, 0.8530995721453211, 0.788460470642186, 0.8267157681204831, 0.8507055091800855, 0.8445194342465003, 0.8019149597729074, 0.8431244936130872, 0.8565833303266401, 0.8591343416248047, 0.8589443604570894, 0.8437461999328146, 0.8009547441563191, 0.8071174089580326, 0.8490716126474378, 0.38890050751699706, 0.8419547131464806, 0.8574970529649193, 0.8463331435614136, 0.8552754797496798, 0.8200666387676356, 0.8442282360576009, 0.834917513866845, 0.8474611563726826, 0.8510303860849934, 0.8451651183745774, 0.8564494507062594, 0.8401585971696509, 0.849723609042111, 0.8474289666256466, 0.8618859551219389, 0.8434385826697174, 0.8438476725970034, 0.8458513498563333, 0.8399795995203967, 0.845187392606897, 0.8448512392082769, 0.8341886138844827, 0.8425860801099475, 0.8453420227846185, 0.7839166655864086, 0.8548895731434614, 0.8476487180524724, 0.863963509984426, 0.823609521990878, 0.8250685549103753, 0.8423521367044791, 0.8566193777821016, 0.8394383462833254, 0.8463002842977051, 0.849580311168649, 0.8292147763064008, 0.8544726197709945, 0.8609167070776855, 0.860359701062734, 0.8155572520084462, 0.8508134513179371, 0.8371386254974897, 0.8571597871534378, 0.8545644557714527, 0.4689005075169971, 0.848842962749025, 0.8311981413134258, 0.8453973274223051, 0.848366455978543, 0.8720215119803413, 0.8523867232846017, 0.8473369241958079, 0.8646048641772955, 0.87479693175277, 0.8548936368763387, 0.8575459265064473, 0.8422504069177521, 0.8417378112513667, 0.8495025956097741, 0.4689005075169971, 0.8617923728393805, 0.841933204823162, 0.8538164184568335, 0.8425808659573157, 0.4689005075169971, 0.8394631369995628, 0.8596180480593846, 0.8529066643230239, 0.4689005075169971, 0.8577600676568989, 0.851982158953264, 0.7293550029245642]}, {\"categories\": [\"0\", \"1\", \"2\", \"3\", \"4\", \"5\", \"6\", \"7\", \"8\", \"9\", \"10\", \"11\", \"12\", \"13\", \"14\", \"15\", \"16\", \"17\", \"18\", \"19\", \"20\", \"21\", \"22\", \"23\", \"24\", \"25\", \"26\", \"27\", \"28\", \"29\", \"30\", \"31\", \"32\", \"33\", \"34\", \"35\", \"36\", \"37\", \"38\", \"39\", \"40\", \"41\", \"42\", \"43\", \"44\", \"45\", \"46\", \"47\", \"48\", \"49\", \"50\", \"51\", \"52\", \"53\", \"54\", \"55\", \"56\", \"57\", \"58\", \"59\", \"60\", \"61\", \"62\", \"63\", \"64\", \"65\", \"66\", \"67\", \"68\", \"69\", \"70\", \"71\", \"72\", \"73\", \"74\", \"75\", \"76\", \"77\", \"78\", \"79\", \"80\", \"81\", \"82\", \"83\", \"84\", \"85\", \"86\", \"87\", \"88\", \"89\", \"90\", \"91\", \"92\", \"93\", \"94\", \"95\", \"96\", \"97\", \"98\", \"99\", \"100\", \"102\", \"103\"], \"mode\": \"lines\", \"name\": \"precision_score_weighted_max\", \"stepped\": true, \"type\": \"scatter\", \"data\": [0.8237683758533973, 0.8403871377947292, 0.8403871377947292, 0.8403871377947292, 0.851706251258296, 0.851706251258296, 0.851706251258296, 0.8591501242231974, 0.8591501242231974, 0.8591501242231974, 0.8591501242231974, 0.8591501242231974, 0.8591501242231974, 0.8591501242231974, 0.8591501242231974, 0.8591501242231974, 0.8591501242231974, 0.8591501242231974, 0.8591501242231974, 0.8591501242231974, 0.8591501242231974, 0.8591501242231974, 0.8591501242231974, 0.8591501242231974, 0.8591501242231974, 0.8591501242231974, 0.8591501242231974, 0.8591501242231974, 0.8591501242231974, 0.8591501242231974, 0.8591501242231974, 0.8591501242231974, 0.8591501242231974, 0.8591501242231974, 0.8591501242231974, 0.8591501242231974, 0.8591501242231974, 0.8591501242231974, 0.8591501242231974, 0.8591501242231974, 0.8591501242231974, 0.8591501242231974, 0.8591501242231974, 0.8591501242231974, 0.8591501242231974, 0.8618859551219389, 0.8618859551219389, 0.8618859551219389, 0.8618859551219389, 0.8618859551219389, 0.8618859551219389, 0.8618859551219389, 0.8618859551219389, 0.8618859551219389, 0.8618859551219389, 0.8618859551219389, 0.8618859551219389, 0.8618859551219389, 0.863963509984426, 0.863963509984426, 0.863963509984426, 0.863963509984426, 0.863963509984426, 0.863963509984426, 0.863963509984426, 0.863963509984426, 0.863963509984426, 0.863963509984426, 0.863963509984426, 0.863963509984426, 0.863963509984426, 0.863963509984426, 0.863963509984426, 0.863963509984426, 0.863963509984426, 0.863963509984426, 0.863963509984426, 0.863963509984426, 0.863963509984426, 0.863963509984426, 0.8720215119803413, 0.8720215119803413, 0.8720215119803413, 0.8720215119803413, 0.87479693175277, 0.87479693175277, 0.87479693175277, 0.87479693175277, 0.87479693175277, 0.87479693175277, 0.87479693175277, 0.87479693175277, 0.87479693175277, 0.87479693175277, 0.87479693175277, 0.87479693175277, 0.87479693175277, 0.87479693175277, 0.87479693175277, 0.87479693175277, 0.87479693175277, 0.87479693175277, 0.87479693175277]}]}, \"metricName\": null, \"primaryMetricName\": \"AUC_weighted\", \"showLegend\": false}, \"run_metrics\": [{\"name\": \"experiment_status\", \"run_id\": \"AutoML_35950e74-8857-40bf-a9d1-607581a39c1c\", \"categories\": [0, 1, 2, 3, 4, 5, 6, 7, 8, 9, 10, 11, 12, 13], \"series\": [{\"data\": [\"DatasetEvaluation\", \"FeaturesGeneration\", \"DatasetFeaturization\", \"DatasetFeaturizationCompleted\", \"DatasetCrossValidationSplit\", \"ModelSelection\", \"BestRunExplainModel\", \"ModelExplanationDataSetSetup\", \"PickSurrogateModel\", \"EngineeredFeatureExplanations\", \"EngineeredFeatureExplanations\", \"RawFeaturesExplanations\", \"RawFeaturesExplanations\", \"BestRunExplainModel\"]}]}, {\"name\": \"experiment_status_description\", \"run_id\": \"AutoML_35950e74-8857-40bf-a9d1-607581a39c1c\", \"categories\": [0, 1, 2, 3, 4, 5, 6, 7, 8, 9, 10, 11, 12, 13], \"series\": [{\"data\": [\"Gathering dataset statistics.\", \"Generating features for the dataset.\", \"Beginning to fit featurizers and featurize the dataset.\", \"Completed fit featurizers and featurizing the dataset.\", \"Generating individually featurized CV splits.\", \"Beginning model selection.\", \"Best run model explanations started\", \"Model explanations data setup completed\", \"Choosing LightGBM as the surrogate model for explanations\", \"Computation of engineered features started\", \"Computation of engineered features completed\", \"Computation of raw features started\", \"Computation of raw features completed\", \"Best run model explanations completed\"]}]}, {\"name\": \"f1_score_weighted\", \"run_id\": \"AutoML_35950e74-8857-40bf-a9d1-607581a39c1c\", \"categories\": [0], \"series\": [{\"data\": [0.8358834712120726]}]}, {\"name\": \"precision_score_macro\", \"run_id\": \"AutoML_35950e74-8857-40bf-a9d1-607581a39c1c\", \"categories\": [0], \"series\": [{\"data\": [0.8220723263515026]}]}, {\"name\": \"AUC_macro\", \"run_id\": \"AutoML_35950e74-8857-40bf-a9d1-607581a39c1c\", \"categories\": [0], \"series\": [{\"data\": [0.9229042081949059]}]}, {\"name\": \"average_precision_score_micro\", \"run_id\": \"AutoML_35950e74-8857-40bf-a9d1-607581a39c1c\", \"categories\": [0], \"series\": [{\"data\": [0.9247512466618997]}]}, {\"name\": \"recall_score_micro\", \"run_id\": \"AutoML_35950e74-8857-40bf-a9d1-607581a39c1c\", \"categories\": [0], \"series\": [{\"data\": [0.8393785310734463]}]}, {\"name\": \"weighted_accuracy\", \"run_id\": \"AutoML_35950e74-8857-40bf-a9d1-607581a39c1c\", \"categories\": [0], \"series\": [{\"data\": [0.8564669133875988]}]}, {\"name\": \"AUC_weighted\", \"run_id\": \"AutoML_35950e74-8857-40bf-a9d1-607581a39c1c\", \"categories\": [0], \"series\": [{\"data\": [0.9229042081949059]}]}, {\"name\": \"log_loss\", \"run_id\": \"AutoML_35950e74-8857-40bf-a9d1-607581a39c1c\", \"categories\": [0], \"series\": [{\"data\": [0.36878216313098455]}]}, {\"name\": \"balanced_accuracy\", \"run_id\": \"AutoML_35950e74-8857-40bf-a9d1-607581a39c1c\", \"categories\": [0], \"series\": [{\"data\": [0.8138226744186046]}]}, {\"name\": \"recall_score_weighted\", \"run_id\": \"AutoML_35950e74-8857-40bf-a9d1-607581a39c1c\", \"categories\": [0], \"series\": [{\"data\": [0.8393785310734463]}]}, {\"name\": \"accuracy\", \"run_id\": \"AutoML_35950e74-8857-40bf-a9d1-607581a39c1c\", \"categories\": [0], \"series\": [{\"data\": [0.8393785310734463]}]}, {\"name\": \"precision_score_weighted\", \"run_id\": \"AutoML_35950e74-8857-40bf-a9d1-607581a39c1c\", \"categories\": [0], \"series\": [{\"data\": [0.851982158953264]}]}, {\"name\": \"precision_score_micro\", \"run_id\": \"AutoML_35950e74-8857-40bf-a9d1-607581a39c1c\", \"categories\": [0], \"series\": [{\"data\": [0.8393785310734463]}]}, {\"name\": \"f1_score_micro\", \"run_id\": \"AutoML_35950e74-8857-40bf-a9d1-607581a39c1c\", \"categories\": [0], \"series\": [{\"data\": [0.8393785310734463]}]}, {\"name\": \"f1_score_macro\", \"run_id\": \"AutoML_35950e74-8857-40bf-a9d1-607581a39c1c\", \"categories\": [0], \"series\": [{\"data\": [0.8072772141363057]}]}, {\"name\": \"AUC_micro\", \"run_id\": \"AutoML_35950e74-8857-40bf-a9d1-607581a39c1c\", \"categories\": [0], \"series\": [{\"data\": [0.9205290146509622]}]}, {\"name\": \"matthews_correlation\", \"run_id\": \"AutoML_35950e74-8857-40bf-a9d1-607581a39c1c\", \"categories\": [0], \"series\": [{\"data\": [0.6342729953440103]}]}, {\"name\": \"norm_macro_recall\", \"run_id\": \"AutoML_35950e74-8857-40bf-a9d1-607581a39c1c\", \"categories\": [0], \"series\": [{\"data\": [0.6276453488372093]}]}, {\"name\": \"recall_score_macro\", \"run_id\": \"AutoML_35950e74-8857-40bf-a9d1-607581a39c1c\", \"categories\": [0], \"series\": [{\"data\": [0.8138226744186046]}]}, {\"name\": \"average_precision_score_weighted\", \"run_id\": \"AutoML_35950e74-8857-40bf-a9d1-607581a39c1c\", \"categories\": [0], \"series\": [{\"data\": [0.9345240014199924]}]}, {\"name\": \"average_precision_score_macro\", \"run_id\": \"AutoML_35950e74-8857-40bf-a9d1-607581a39c1c\", \"categories\": [0], \"series\": [{\"data\": [0.9133496361084446]}]}], \"run_logs\": \"\\nRun is completed.\", \"graph\": {}, \"widget_settings\": {\"childWidgetDisplay\": \"popup\", \"send_telemetry\": false, \"log_level\": \"INFO\", \"sdk_version\": \"1.26.0\"}, \"loading\": false}"
          },
          "metadata": {}
        },
        {
          "output_type": "display_data",
          "data": {
            "text/html": "<table style=\"width:100%\"><tr><th>Experiment</th><th>Id</th><th>Type</th><th>Status</th><th>Details Page</th><th>Docs Page</th></tr><tr><td>heartfailure-automl</td><td>AutoML_35950e74-8857-40bf-a9d1-607581a39c1c</td><td>automl</td><td>NotStarted</td><td><a href=\"https://ml.azure.com/runs/AutoML_35950e74-8857-40bf-a9d1-607581a39c1c?wsid=/subscriptions/3d1a56d2-7c81-4118-9790-f85d1acf0c77/resourcegroups/aml-quickstarts-142998/workspaces/quick-starts-ws-142998&amp;tid=660b3398-b80e-49d2-bc5b-ac1dc93b5254\" target=\"_blank\" rel=\"noopener\">Link to Azure Machine Learning studio</a></td><td><a href=\"https://docs.microsoft.com/en-us/python/api/overview/azure/ml/intro?view=azure-ml-py\" target=\"_blank\" rel=\"noopener\">Link to Documentation</a></td></tr></table>",
            "text/plain": "<IPython.core.display.HTML object>"
          },
          "metadata": {}
        },
        {
          "output_type": "stream",
          "name": "stdout",
          "text": [
            "\n",
            "Current status: FeaturesGeneration. Generating features for the dataset.\n",
            "Current status: ModelSelection. Beginning model selection.\n",
            "\n",
            "****************************************************************************************************\n",
            "DATA GUARDRAILS: \n",
            "\n",
            "TYPE:         Class balancing detection\n",
            "STATUS:       PASSED\n",
            "DESCRIPTION:  Your inputs were analyzed, and all classes are balanced in your training data.\n",
            "              Learn more about imbalanced data: https://aka.ms/AutomatedMLImbalancedData\n",
            "\n",
            "****************************************************************************************************\n",
            "\n",
            "TYPE:         Missing feature values imputation\n",
            "STATUS:       PASSED\n",
            "DESCRIPTION:  No feature missing values were detected in the training data.\n",
            "              Learn more about missing value imputation: https://aka.ms/AutomatedMLFeaturization\n",
            "\n",
            "****************************************************************************************************\n",
            "\n",
            "TYPE:         High cardinality feature detection\n",
            "STATUS:       PASSED\n",
            "DESCRIPTION:  Your inputs were analyzed, and no high cardinality features were detected.\n",
            "              Learn more about high cardinality feature handling: https://aka.ms/AutomatedMLFeaturization\n",
            "\n",
            "****************************************************************************************************\n",
            "\n",
            "****************************************************************************************************\n",
            "ITERATION: The iteration being evaluated.\n",
            "PIPELINE: A summary description of the pipeline being evaluated.\n",
            "DURATION: Time taken for the current iteration.\n",
            "METRIC: The result of computing score on the fitted pipeline.\n",
            "BEST: The best observed score thus far.\n",
            "****************************************************************************************************\n",
            "\n",
            " ITERATION   PIPELINE                                       DURATION      METRIC      BEST\n",
            "         0   MaxAbsScaler LightGBM                          0:00:51       0.8811    0.8811\n",
            "         3   RobustScaler ExtremeRandomTrees                0:00:47       0.8794    0.8811\n",
            "         2   MinMaxScaler RandomForest                      0:00:42       0.8976    0.8976\n",
            "         4   MinMaxScaler RandomForest                      0:00:50       0.9110    0.9110\n",
            "         7   MinMaxScaler ExtremeRandomTrees                0:00:58       0.9162    0.9162\n",
            "         5   MinMaxScaler RandomForest                      0:02:16       0.9038    0.9162\n",
            "         6   StandardScalerWrapper RandomForest             0:02:06       0.8914    0.9162\n",
            "         1   MaxAbsScaler XGBoostClassifier                 0:02:43       0.8930    0.9162\n",
            "         8   MinMaxScaler ExtremeRandomTrees                0:00:44       0.8643    0.9162\n",
            "         9   SparseNormalizer KNN                           0:00:51       0.7515    0.9162\n",
            "        10   MinMaxScaler ExtremeRandomTrees                0:00:51       0.8877    0.9162\n",
            "        11   RobustScaler ExtremeRandomTrees                0:00:58       0.8911    0.9162\n",
            "        12   StandardScalerWrapper RandomForest             0:00:49       0.8999    0.9162\n",
            "        13   StandardScalerWrapper SGD                      0:00:48       0.8707    0.9162\n",
            "        14   RobustScaler RandomForest                      0:00:45       0.9005    0.9162\n",
            "        15   StandardScalerWrapper KNN                      0:00:40       0.4823    0.9162\n",
            "        16   MinMaxScaler RandomForest                      0:00:46       0.8911    0.9162\n",
            "        17   MinMaxScaler ExtremeRandomTrees                0:00:43       0.8386    0.9162\n",
            "        18   MaxAbsScaler RandomForest                      0:00:52       0.8808    0.9162\n",
            "        19   StandardScalerWrapper XGBoostClassifier        0:00:44       0.9076    0.9162\n",
            "        20   MaxAbsScaler RandomForest                      0:00:56       0.9103    0.9162\n",
            "        21   MaxAbsScaler ExtremeRandomTrees                0:00:42       0.8469    0.9162\n",
            "        22   MaxAbsScaler ExtremeRandomTrees                0:00:50       0.8771    0.9162\n",
            "        23   MinMaxScaler RandomForest                      0:00:43       0.9102    0.9162\n",
            "        24   MinMaxScaler ExtremeRandomTrees                0:00:47       0.9064    0.9162\n",
            "        25   StandardScalerWrapper ExtremeRandomTrees       0:00:44       0.8853    0.9162\n",
            "        26   MaxAbsScaler ExtremeRandomTrees                0:00:48       0.8987    0.9162\n",
            "        27   StandardScalerWrapper LightGBM                 0:00:45       0.8451    0.9162\n",
            "        28   StandardScalerWrapper LightGBM                 0:00:49       0.8638    0.9162\n",
            "        29   StandardScalerWrapper XGBoostClassifier        0:00:49       0.9077    0.9162\n",
            "        30   PCA ExtremeRandomTrees                         0:00:52       0.5392    0.9162\n",
            "        31   StandardScalerWrapper GradientBoosting         0:00:50       0.8892    0.9162\n",
            "        33   RobustScaler LightGBM                          0:00:42       0.9019    0.9162\n",
            "        32   StandardScalerWrapper XGBoostClassifier        0:00:55       0.9147    0.9162\n",
            "        34   RobustScaler LightGBM                          0:00:44       0.9015    0.9162\n",
            "        35   StandardScalerWrapper ExtremeRandomTrees       0:00:42       0.8679    0.9162\n",
            "        36   MinMaxScaler GradientBoosting                  0:00:44       0.9097    0.9162\n",
            "        37   MaxAbsScaler RandomForest                      0:00:44       0.9041    0.9162\n",
            "        38   StandardScalerWrapper XGBoostClassifier        0:00:45       0.9032    0.9162\n",
            "        39   StandardScalerWrapper XGBoostClassifier        0:00:51       0.8894    0.9162\n",
            "        40   RobustScaler ExtremeRandomTrees                0:00:48       0.9015    0.9162\n",
            "        41   StandardScalerWrapper XGBoostClassifier        0:00:44       0.8850    0.9162\n",
            "        42   StandardScalerWrapper XGBoostClassifier        0:00:49       0.9072    0.9162\n",
            "        43   StandardScalerWrapper XGBoostClassifier        0:00:47       0.9106    0.9162\n",
            "        44   StandardScalerWrapper XGBoostClassifier        0:00:45       0.9132    0.9162\n",
            "        45   RobustScaler ExtremeRandomTrees                0:00:46       0.8768    0.9162\n",
            "        46   MaxAbsScaler RandomForest                      0:00:43       0.9107    0.9162\n",
            "        47   MinMaxScaler RandomForest                      0:00:46       0.9092    0.9162\n",
            "        48   StandardScalerWrapper XGBoostClassifier        0:00:47       0.8908    0.9162\n",
            "        49   MinMaxScaler LightGBM                          0:00:44       0.9121    0.9162\n",
            "        50   RobustScaler ExtremeRandomTrees                0:00:52       0.8774    0.9162\n",
            "        51   StandardScalerWrapper ExtremeRandomTrees       0:00:53       0.9042    0.9162\n",
            "        52   RobustScaler RandomForest                      0:00:48       0.9141    0.9162\n",
            "        53   StandardScalerWrapper LightGBM                 0:00:46       0.9035    0.9162\n",
            "        54   StandardScalerWrapper XGBoostClassifier        0:00:53       0.9149    0.9162\n",
            "        55   StandardScalerWrapper ExtremeRandomTrees       0:00:47       0.8581    0.9162\n",
            "        57   StandardScalerWrapper XGBoostClassifier        0:00:44       0.9028    0.9162\n",
            "        56   StandardScalerWrapper XGBoostClassifier        0:00:48       0.9100    0.9162\n",
            "        58   StandardScalerWrapper XGBoostClassifier        0:00:52       0.9040    0.9162\n",
            "        59   MaxAbsScaler RandomForest                      0:00:52       0.9036    0.9162\n",
            "        60   StandardScalerWrapper ExtremeRandomTrees       0:00:47       0.8713    0.9162\n",
            "        61   StandardScalerWrapper XGBoostClassifier        0:00:57       0.9042    0.9162\n",
            "        62   StandardScalerWrapper XGBoostClassifier        0:00:52       0.8988    0.9162\n",
            "        64   StandardScalerWrapper XGBoostClassifier        0:00:45       0.9066    0.9162\n",
            "        63   StandardScalerWrapper XGBoostClassifier        0:01:07       0.9047    0.9162\n",
            "        65   MinMaxScaler ExtremeRandomTrees                0:00:49       0.8975    0.9162\n",
            "        66   StandardScalerWrapper GradientBoosting         0:00:49       0.8874    0.9162\n",
            "        67   StandardScalerWrapper XGBoostClassifier        0:00:54       0.9118    0.9162\n",
            "        68   StandardScalerWrapper XGBoostClassifier        0:00:55       0.9131    0.9162\n"
          ]
        },
        {
          "output_type": "stream",
          "name": "stdout",
          "text": [
            "        69   StandardScalerWrapper XGBoostClassifier        0:00:52       0.9060    0.9162\n",
            "        70   MinMaxScaler ExtremeRandomTrees                0:00:53       0.8775    0.9162\n",
            "        71   StandardScalerWrapper RandomForest             0:00:55       0.9104    0.9162\n",
            "        72   StandardScalerWrapper XGBoostClassifier        0:00:47       0.9070    0.9162\n",
            "        73   StandardScalerWrapper XGBoostClassifier        0:00:50       0.9084    0.9162\n",
            "        74   StandardScalerWrapper XGBoostClassifier        0:00:49       0.9054    0.9162\n",
            "        75   MinMaxScaler ExtremeRandomTrees                0:00:48       0.7606    0.9162\n",
            "        76   StandardScalerWrapper XGBoostClassifier        0:00:47       0.9037    0.9162\n",
            "        77   MaxAbsScaler LightGBM                          0:00:48       0.8950    0.9162\n",
            "        78   RobustScaler LightGBM                          0:00:49       0.9000    0.9162\n",
            "        79   StandardScalerWrapper GradientBoosting         0:00:52       0.9081    0.9162\n",
            "        80   RobustScaler ExtremeRandomTrees                0:00:49       0.8986    0.9162\n",
            "        81   RobustScaler GradientBoosting                  0:00:47       0.9111    0.9162\n",
            "        82   StandardScalerWrapper XGBoostClassifier        0:00:50       0.9027    0.9162\n",
            "        83   StandardScalerWrapper GradientBoosting         0:00:52       0.9167    0.9167\n",
            "        84   RobustScaler ExtremeRandomTrees                0:00:51       0.9039    0.9167\n",
            "        85   StandardScalerWrapper XGBoostClassifier        0:00:55       0.9106    0.9167\n",
            "        86   StandardScalerWrapper GradientBoosting         0:00:49       0.9142    0.9167\n",
            "        87   MinMaxScaler LogisticRegression                0:00:44       0.8696    0.9167\n",
            "        88   StandardScalerWrapper XGBoostClassifier        0:00:44       0.8883    0.9167\n",
            "        89   StandardScalerWrapper XGBoostClassifier        0:00:47       0.9057    0.9167\n",
            "        90   MinMaxScaler GradientBoosting                  0:00:49       0.9063    0.9167\n",
            "        91   StandardScalerWrapper GradientBoosting         0:00:45       0.9112    0.9167\n",
            "        92   MinMaxScaler LogisticRegression                0:00:52       0.8681    0.9167\n",
            "        94   StandardScalerWrapper RandomForest             0:00:43       0.9127    0.9167\n",
            "        93   StandardScalerWrapper XGBoostClassifier        0:01:30       0.9051    0.9167\n",
            "        95   MaxAbsScaler GradientBoosting                  0:00:51       0.9048    0.9167\n",
            "        96   RobustScaler RandomForest                      0:00:49       0.9052    0.9167\n",
            "       100   StandardScalerWrapper XGBoostClassifier        0:00:34       0.9106    0.9167\n",
            "ERROR: {\n",
            "    \"additional_properties\": {},\n",
            "    \"error\": {\n",
            "        \"additional_properties\": {\n",
            "            \"debugInfo\": null\n",
            "        },\n",
            "        \"code\": \"UserError\",\n",
            "        \"severity\": null,\n",
            "        \"message\": \"Experiment timeout reached, please consider increasing your experiment timeout.\",\n",
            "        \"message_format\": \"Experiment timeout reached, please consider increasing your experiment timeout.\",\n",
            "        \"message_parameters\": {},\n",
            "        \"reference_code\": null,\n",
            "        \"details_uri\": null,\n",
            "        \"target\": null,\n",
            "        \"details\": [],\n",
            "        \"inner_error\": {\n",
            "            \"additional_properties\": {},\n",
            "            \"code\": \"ResourceExhausted\",\n",
            "            \"inner_error\": {\n",
            "                \"additional_properties\": {},\n",
            "                \"code\": \"Timeout\",\n",
            "                \"inner_error\": {\n",
            "                    \"additional_properties\": {},\n",
            "                    \"code\": \"ExperimentTimeoutForIterations\",\n",
            "                    \"inner_error\": null\n",
            "                }\n",
            "            }\n",
            "        }\n",
            "    },\n",
            "    \"correlation\": null,\n",
            "    \"environment\": null,\n",
            "    \"location\": null,\n",
            "    \"time\": {},\n",
            "    \"component_name\": null\n",
            "}\n",
            "       101                                                  0:00:39          nan    0.9167\n",
            "ERROR: {\n",
            "    \"additional_properties\": {},\n",
            "    \"error\": {\n",
            "        \"additional_properties\": {\n",
            "            \"debugInfo\": null\n",
            "        },\n",
            "        \"code\": \"UserError\",\n",
            "        \"severity\": null,\n",
            "        \"message\": \"Experiment timeout reached, please consider increasing your experiment timeout.\",\n",
            "        \"message_format\": \"Experiment timeout reached, please consider increasing your experiment timeout.\",\n",
            "        \"message_parameters\": {},\n",
            "        \"reference_code\": null,\n",
            "        \"details_uri\": null,\n",
            "        \"target\": null,\n",
            "        \"details\": [],\n",
            "        \"inner_error\": {\n",
            "            \"additional_properties\": {},\n",
            "            \"code\": \"ResourceExhausted\",\n",
            "            \"inner_error\": {\n",
            "                \"additional_properties\": {},\n",
            "                \"code\": \"Timeout\",\n",
            "                \"inner_error\": {\n",
            "                    \"additional_properties\": {},\n",
            "                    \"code\": \"ExperimentTimeoutForIterations\",\n",
            "                    \"inner_error\": null\n",
            "                }\n",
            "            }\n",
            "        }\n",
            "    },\n",
            "    \"correlation\": null,\n",
            "    \"environment\": null,\n",
            "    \"location\": null,\n",
            "    \"time\": {},\n",
            "    \"component_name\": null\n",
            "}\n",
            "        97   StandardScalerWrapper XGBoostClassifier        0:00:53       0.9119    0.9167\n",
            "        98   StandardScalerWrapper XGBoostClassifier        0:00:35       0.8938    0.9167\n",
            "ERROR: {\n",
            "    \"additional_properties\": {},\n",
            "    \"error\": {\n",
            "        \"additional_properties\": {\n",
            "            \"debugInfo\": null\n",
            "        },\n",
            "        \"code\": \"UserError\",\n",
            "        \"severity\": null,\n",
            "        \"message\": \"Experiment timeout reached, please consider increasing your experiment timeout.\",\n",
            "        \"message_format\": \"Experiment timeout reached, please consider increasing your experiment timeout.\",\n",
            "        \"message_parameters\": {},\n",
            "        \"reference_code\": null,\n",
            "        \"details_uri\": null,\n",
            "        \"target\": null,\n",
            "        \"details\": [],\n",
            "        \"inner_error\": {\n",
            "            \"additional_properties\": {},\n",
            "            \"code\": \"ResourceExhausted\",\n",
            "            \"inner_error\": {\n",
            "                \"additional_properties\": {},\n",
            "                \"code\": \"Timeout\",\n",
            "                \"inner_error\": {\n",
            "                    \"additional_properties\": {},\n",
            "                    \"code\": \"ExperimentTimeoutForIterations\",\n",
            "                    \"inner_error\": null\n",
            "                }\n",
            "            }\n",
            "        }\n",
            "    },\n",
            "    \"correlation\": null,\n",
            "    \"environment\": null,\n",
            "    \"location\": null,\n",
            "    \"time\": {},\n",
            "    \"component_name\": null\n",
            "}\n",
            "        99   StandardScalerWrapper GradientBoosting         0:00:29       0.8687    0.9167\n",
            "ERROR: {\n",
            "    \"additional_properties\": {},\n",
            "    \"error\": {\n",
            "        \"additional_properties\": {\n",
            "            \"debugInfo\": null\n",
            "        },\n",
            "        \"code\": \"UserError\",\n",
            "        \"severity\": null,\n",
            "        \"message\": \"Experiment timeout reached, please consider increasing your experiment timeout.\",\n",
            "        \"message_format\": \"Experiment timeout reached, please consider increasing your experiment timeout.\",\n",
            "        \"message_parameters\": {},\n",
            "        \"reference_code\": null,\n",
            "        \"details_uri\": null,\n",
            "        \"target\": null,\n",
            "        \"details\": [],\n",
            "        \"inner_error\": {\n",
            "            \"additional_properties\": {},\n",
            "            \"code\": \"ResourceExhausted\",\n",
            "            \"inner_error\": {\n",
            "                \"additional_properties\": {},\n",
            "                \"code\": \"Timeout\",\n",
            "                \"inner_error\": {\n",
            "                    \"additional_properties\": {},\n",
            "                    \"code\": \"ExperimentTimeoutForIterations\",\n",
            "                    \"inner_error\": null\n",
            "                }\n",
            "            }\n",
            "        }\n",
            "    },\n",
            "    \"correlation\": null,\n",
            "    \"environment\": null,\n",
            "    \"location\": null,\n",
            "    \"time\": {},\n",
            "    \"component_name\": null\n",
            "}\n",
            "       102    VotingEnsemble                                0:01:39       0.9229    0.9229\n",
            "       103    StackEnsemble                                 0:01:51       0.9208    0.9229\n"
          ]
        },
        {
          "output_type": "execute_result",
          "execution_count": 9,
          "data": {
            "text/plain": "{'runId': 'AutoML_35950e74-8857-40bf-a9d1-607581a39c1c',\n 'target': 'project-automl',\n 'status': 'Completed',\n 'startTimeUtc': '2021-04-18T08:03:07.142198Z',\n 'endTimeUtc': '2021-04-18T08:42:17.086535Z',\n 'properties': {'num_iterations': '1000',\n  'training_type': 'TrainFull',\n  'acquisition_function': 'EI',\n  'primary_metric': 'AUC_weighted',\n  'train_split': '0',\n  'acquisition_parameter': '0',\n  'num_cross_validation': '5',\n  'target': 'project-automl',\n  'AMLSettingsJsonString': '{\"path\":null,\"name\":\"heartfailure-automl\",\"subscription_id\":\"3d1a56d2-7c81-4118-9790-f85d1acf0c77\",\"resource_group\":\"aml-quickstarts-142998\",\"workspace_name\":\"quick-starts-ws-142998\",\"region\":\"southcentralus\",\"compute_target\":\"project-automl\",\"spark_service\":null,\"azure_service\":\"remote\",\"many_models\":false,\"pipeline_fetch_max_batch_size\":1,\"enable_batch_run\":false,\"enable_run_restructure\":false,\"iterations\":1000,\"primary_metric\":\"AUC_weighted\",\"task_type\":\"classification\",\"data_script\":null,\"test_size\":0.0,\"validation_size\":0.0,\"n_cross_validations\":5,\"y_min\":null,\"y_max\":null,\"num_classes\":null,\"featurization\":\"auto\",\"_ignore_package_version_incompatibilities\":false,\"is_timeseries\":false,\"max_cores_per_iteration\":1,\"max_concurrent_iterations\":5,\"iteration_timeout_minutes\":null,\"mem_in_mb\":null,\"enforce_time_on_windows\":false,\"experiment_timeout_minutes\":30,\"experiment_exit_score\":null,\"whitelist_models\":null,\"blacklist_algos\":[\"TensorFlowLinearClassifier\",\"TensorFlowDNN\"],\"supported_models\":[\"LogisticRegression\",\"GradientBoosting\",\"ExtremeRandomTrees\",\"KNN\",\"TensorFlowLinearClassifier\",\"RandomForest\",\"DecisionTree\",\"AveragedPerceptronClassifier\",\"MultinomialNaiveBayes\",\"TensorFlowDNN\",\"SGD\",\"BernoulliNaiveBayes\",\"SVM\",\"LightGBM\",\"XGBoostClassifier\",\"LinearSVM\"],\"private_models\":[],\"auto_blacklist\":true,\"blacklist_samples_reached\":false,\"exclude_nan_labels\":true,\"verbosity\":20,\"_debug_log\":\"azureml_automl.log\",\"show_warnings\":false,\"model_explainability\":true,\"service_url\":null,\"sdk_url\":null,\"sdk_packages\":null,\"enable_onnx_compatible_models\":false,\"enable_split_onnx_featurizer_estimator_models\":false,\"vm_type\":\"STANDARD_D2_V2\",\"telemetry_verbosity\":20,\"send_telemetry\":true,\"enable_dnn\":false,\"scenario\":\"SDK-1.13.0\",\"environment_label\":null,\"save_mlflow\":false,\"force_text_dnn\":false,\"enable_feature_sweeping\":true,\"enable_early_stopping\":false,\"early_stopping_n_iters\":10,\"metrics\":null,\"enable_metric_confidence\":false,\"enable_ensembling\":true,\"enable_stack_ensembling\":true,\"ensemble_iterations\":15,\"enable_tf\":false,\"enable_subsampling\":null,\"subsample_seed\":null,\"enable_nimbusml\":false,\"enable_streaming\":false,\"force_streaming\":false,\"track_child_runs\":true,\"allowed_private_models\":[],\"label_column_name\":\"DEATH_EVENT\",\"weight_column_name\":null,\"cv_split_column_names\":null,\"enable_local_managed\":false,\"_local_managed_run_id\":null,\"cost_mode\":1,\"lag_length\":0,\"metric_operation\":\"maximize\",\"preprocess\":true}',\n  'DataPrepJsonString': '{\\\\\"training_data\\\\\": {\\\\\"datasetId\\\\\": \\\\\"a65f4d9e-7ea9-4366-abf0-e7c9009e278a\\\\\"}, \\\\\"datasets\\\\\": 0}',\n  'EnableSubsampling': None,\n  'runTemplate': 'AutoML',\n  'azureml.runsource': 'automl',\n  'display_task_type': 'classification',\n  'dependencies_versions': '{\"azureml-widgets\": \"1.26.0\", \"azureml-train\": \"1.26.0\", \"azureml-train-restclients-hyperdrive\": \"1.26.0\", \"azureml-train-core\": \"1.26.0\", \"azureml-train-automl\": \"1.26.0\", \"azureml-train-automl-runtime\": \"1.26.0\", \"azureml-train-automl-client\": \"1.26.0\", \"azureml-tensorboard\": \"1.26.0\", \"azureml-telemetry\": \"1.26.0\", \"azureml-sdk\": \"1.26.0\", \"azureml-samples\": \"0+unknown\", \"azureml-pipeline\": \"1.26.0\", \"azureml-pipeline-steps\": \"1.26.0\", \"azureml-pipeline-core\": \"1.26.0\", \"azureml-opendatasets\": \"1.26.0\", \"azureml-model-management-sdk\": \"1.0.1b6.post1\", \"azureml-mlflow\": \"1.26.0\", \"azureml-interpret\": \"1.26.0\", \"azureml-explain-model\": \"1.26.0\", \"azureml-defaults\": \"1.26.0\", \"azureml-dataset-runtime\": \"1.26.0\", \"azureml-dataprep\": \"2.13.2\", \"azureml-dataprep-rslex\": \"1.11.2\", \"azureml-dataprep-native\": \"32.0.0\", \"azureml-datadrift\": \"1.26.0\", \"azureml-core\": \"1.26.0\", \"azureml-contrib-services\": \"1.26.0\", \"azureml-contrib-server\": \"1.26.0\", \"azureml-contrib-reinforcementlearning\": \"1.26.0\", \"azureml-contrib-pipeline-steps\": \"1.26.0\", \"azureml-contrib-notebook\": \"1.26.0\", \"azureml-contrib-gbdt\": \"1.26.0\", \"azureml-contrib-fairness\": \"1.26.0\", \"azureml-contrib-dataset\": \"1.26.0\", \"azureml-cli-common\": \"1.26.0\", \"azureml-automl-runtime\": \"1.26.0\", \"azureml-automl-dnn-nlp\": \"1.26.0\", \"azureml-automl-core\": \"1.26.0\", \"azureml-accel-models\": \"1.26.0\"}',\n  '_aml_system_scenario_identification': 'Remote.Parent',\n  'ClientType': 'SDK',\n  'environment_cpu_name': 'AzureML-AutoML',\n  'environment_cpu_label': 'prod',\n  'environment_gpu_name': 'AzureML-AutoML-GPU',\n  'environment_gpu_label': 'prod',\n  'root_attribution': 'automl',\n  'attribution': 'AutoML',\n  'Orchestrator': 'AutoML',\n  'CancelUri': 'https://southcentralus.experiments.azureml.net/jasmine/v1.0/subscriptions/3d1a56d2-7c81-4118-9790-f85d1acf0c77/resourceGroups/aml-quickstarts-142998/providers/Microsoft.MachineLearningServices/workspaces/quick-starts-ws-142998/experimentids/f514100e-deee-4959-aa81-936e4579a48b/cancel/AutoML_35950e74-8857-40bf-a9d1-607581a39c1c',\n  'azureml.git.repository_uri': 'https://github.com/PeacePeters/Heart-Failure-Prediction-using-AzureML',\n  'mlflow.source.git.repoURL': 'https://github.com/PeacePeters/Heart-Failure-Prediction-using-AzureML',\n  'azureml.git.branch': 'main',\n  'mlflow.source.git.branch': 'main',\n  'azureml.git.commit': '0d8b50a1797aa3cf9adb1246738bca62fb64fe80',\n  'mlflow.source.git.commit': '0d8b50a1797aa3cf9adb1246738bca62fb64fe80',\n  'azureml.git.dirty': 'True',\n  'ClientSdkVersion': '1.25.0',\n  'snapshotId': '00000000-0000-0000-0000-000000000000',\n  'SetupRunId': 'AutoML_35950e74-8857-40bf-a9d1-607581a39c1c_setup',\n  'SetupRunContainerId': 'dcid.AutoML_35950e74-8857-40bf-a9d1-607581a39c1c_setup',\n  'FeaturizationRunJsonPath': 'featurizer_container.json',\n  'FeaturizationRunId': 'AutoML_35950e74-8857-40bf-a9d1-607581a39c1c_featurize',\n  'ProblemInfoJsonString': '{\"dataset_num_categorical\": 0, \"is_sparse\": false, \"subsampling\": false, \"dataset_classes\": 2, \"dataset_features\": 12, \"dataset_samples\": 299, \"single_frequency_class_detected\": false}',\n  'ModelExplainRunId': 'AutoML_35950e74-8857-40bf-a9d1-607581a39c1c_ModelExplain'},\n 'inputDatasets': [{'dataset': {'id': 'a65f4d9e-7ea9-4366-abf0-e7c9009e278a'}, 'consumptionDetails': {'type': 'RunInput', 'inputName': 'training_data', 'mechanism': 'Direct'}}],\n 'outputDatasets': [],\n 'logFiles': {},\n 'submittedBy': 'ODL_User 142998'}"
          },
          "metadata": {}
        }
      ],
      "execution_count": 9,
      "metadata": {
        "gather": {
          "logged": 1618622758081
        },
        "jupyter": {
          "outputs_hidden": false,
          "source_hidden": false
        },
        "nteract": {
          "transient": {
            "deleting": false
          }
        }
      }
    },
    {
      "cell_type": "markdown",
      "source": [
        "## Best Model"
      ],
      "metadata": {}
    },
    {
      "cell_type": "code",
      "source": [
        "# Get best run and model\n",
        "best_run, best_model = remote_run.get_output()"
      ],
      "outputs": [],
      "execution_count": 10,
      "metadata": {
        "gather": {
          "logged": 1618622963588
        }
      }
    },
    {
      "cell_type": "code",
      "source": [
        "best_run"
      ],
      "outputs": [
        {
          "output_type": "execute_result",
          "execution_count": 11,
          "data": {
            "text/html": "<table style=\"width:100%\"><tr><th>Experiment</th><th>Id</th><th>Type</th><th>Status</th><th>Details Page</th><th>Docs Page</th></tr><tr><td>heartfailure-automl</td><td>AutoML_35950e74-8857-40bf-a9d1-607581a39c1c_102</td><td>azureml.scriptrun</td><td>Completed</td><td><a href=\"https://ml.azure.com/runs/AutoML_35950e74-8857-40bf-a9d1-607581a39c1c_102?wsid=/subscriptions/3d1a56d2-7c81-4118-9790-f85d1acf0c77/resourcegroups/aml-quickstarts-142998/workspaces/quick-starts-ws-142998&amp;tid=660b3398-b80e-49d2-bc5b-ac1dc93b5254\" target=\"_blank\" rel=\"noopener\">Link to Azure Machine Learning studio</a></td><td><a href=\"https://docs.microsoft.com/en-us/python/api/azureml-core/azureml.core.run.Run?view=azure-ml-py\" target=\"_blank\" rel=\"noopener\">Link to Documentation</a></td></tr></table>",
            "text/plain": "Run(Experiment: heartfailure-automl,\nId: AutoML_35950e74-8857-40bf-a9d1-607581a39c1c_102,\nType: azureml.scriptrun,\nStatus: Completed)"
          },
          "metadata": {}
        }
      ],
      "execution_count": 11,
      "metadata": {
        "gather": {
          "logged": 1618622972553
        }
      }
    },
    {
      "cell_type": "code",
      "source": [
        "print('Best Run Id: ' + best_run.id,\n",
        "     'Best Model Name: ' + best_run.properties['model_name'])\n",
        "print('\\n AUC_weighted:', best_run_metrics['AUC_weighted'])"
      ],
      "outputs": [
        {
          "output_type": "stream",
          "name": "stdout",
          "text": [
            "Best Run Id: AutoML_35950e74-8857-40bf-a9d1-607581a39c1c_102 Best Model Name: AutoML35950e748102\n",
            "\n",
            " AUC_weighted: 0.9229042081949059\n"
          ]
        }
      ],
      "execution_count": 33,
      "metadata": {
        "collapsed": true,
        "jupyter": {
          "source_hidden": false,
          "outputs_hidden": false
        },
        "nteract": {
          "transient": {
            "deleting": false
          }
        },
        "gather": {
          "logged": 1618736400167
        }
      }
    },
    {
      "cell_type": "code",
      "source": [
        "# Get all metrics of the best run\n",
        "best_run_metrics = best_run.get_metrics()\n",
        "\n",
        "# Print all metrics of the best run\n",
        "for metric_name in best_run_metrics:\n",
        "    metric = best_run_metrics[metric_name]\n",
        "    print(metric_name, metric)"
      ],
      "outputs": [
        {
          "output_type": "stream",
          "name": "stdout",
          "text": [
            "average_precision_score_macro 0.9133496361084446\n",
            "f1_score_micro 0.8393785310734463\n",
            "precision_score_micro 0.8393785310734463\n",
            "balanced_accuracy 0.8138226744186046\n",
            "recall_score_weighted 0.8393785310734463\n",
            "average_precision_score_micro 0.9247512466618997\n",
            "recall_score_macro 0.8138226744186046\n",
            "precision_score_weighted 0.851982158953264\n",
            "weighted_accuracy 0.8564669133875988\n",
            "AUC_weighted 0.9229042081949059\n",
            "matthews_correlation 0.6342729953440103\n",
            "AUC_micro 0.9205290146509622\n",
            "f1_score_macro 0.8072772141363057\n",
            "accuracy 0.8393785310734463\n",
            "precision_score_macro 0.8220723263515026\n",
            "average_precision_score_weighted 0.9345240014199924\n",
            "log_loss 0.36878216313098455\n",
            "norm_macro_recall 0.6276453488372093\n",
            "f1_score_weighted 0.8358834712120726\n",
            "recall_score_micro 0.8393785310734463\n",
            "AUC_macro 0.9229042081949059\n",
            "confusion_matrix aml://artifactId/ExperimentRun/dcid.AutoML_35950e74-8857-40bf-a9d1-607581a39c1c_102/confusion_matrix\n",
            "accuracy_table aml://artifactId/ExperimentRun/dcid.AutoML_35950e74-8857-40bf-a9d1-607581a39c1c_102/accuracy_table\n"
          ]
        }
      ],
      "execution_count": 12,
      "metadata": {
        "gather": {
          "logged": 1618622995756
        }
      }
    },
    {
      "cell_type": "code",
      "source": [
        "best_model._final_estimator"
      ],
      "outputs": [
        {
          "output_type": "execute_result",
          "execution_count": 14,
          "data": {
            "text/plain": "PreFittedSoftVotingClassifier(classification_labels=None,\n                              estimators=[('83',\n                                           Pipeline(memory=None,\n                                                    steps=[('standardscalerwrapper',\n                                                            <azureml.automl.runtime.shared.model_wrappers.StandardScalerWrapper object at 0x7f538bc49e10>),\n                                                           ('gradientboostingclassifier',\n                                                            GradientBoostingClassifier(ccp_alpha=0.0,\n                                                                                       criterion='mse',\n                                                                                       init=None,\n                                                                                       learning_rate=0.02154434690031882...\n                                                                                   min_samples_split=0.2442105263157895,\n                                                                                   min_weight_fraction_leaf=0.0,\n                                                                                   n_estimators=100,\n                                                                                   n_jobs=1,\n                                                                                   oob_score=False,\n                                                                                   random_state=None,\n                                                                                   verbose=0,\n                                                                                   warm_start=False))],\n                                                    verbose=False))],\n                              flatten_transform=None,\n                              weights=[0.09090909090909091, 0.09090909090909091,\n                                       0.18181818181818182, 0.09090909090909091,\n                                       0.09090909090909091, 0.09090909090909091,\n                                       0.2727272727272727,\n                                       0.09090909090909091])"
          },
          "metadata": {}
        }
      ],
      "execution_count": 14,
      "metadata": {
        "gather": {
          "logged": 1618623096962
        }
      }
    },
    {
      "cell_type": "code",
      "source": [
        "# Print detailed parameters of the fitted model\n",
        "def print_model(model, prefix=\"\"):\n",
        "    for step in model.steps:\n",
        "        print(prefix + step[0])\n",
        "        if hasattr(step[1], 'estimators') and hasattr(step[1], 'weights'):\n",
        "            pprint({'estimators': list(\n",
        "                e[0] for e in step[1].estimators), 'weights': step[1].weights})\n",
        "            print()\n",
        "            for estimator in step[1].estimators:\n",
        "                print_model(estimator[1], estimator[0] + ' - ')\n",
        "        else:\n",
        "            pprint(step[1].get_params())\n",
        "            print()\n",
        "\n",
        "print_model(best_model)"
      ],
      "outputs": [
        {
          "output_type": "stream",
          "name": "stdout",
          "text": [
            "datatransformer\n",
            "{'enable_dnn': None,\n",
            " 'enable_feature_sweeping': None,\n",
            " 'feature_sweeping_config': None,\n",
            " 'feature_sweeping_timeout': None,\n",
            " 'featurization_config': None,\n",
            " 'force_text_dnn': None,\n",
            " 'is_cross_validation': None,\n",
            " 'is_onnx_compatible': None,\n",
            " 'logger': None,\n",
            " 'observer': None,\n",
            " 'task': None,\n",
            " 'working_dir': None}\n",
            "\n",
            "prefittedsoftvotingclassifier\n",
            "{'estimators': ['83', '7', '54', '32', '86', '49', '53', '23'],\n",
            " 'weights': [0.09090909090909091,\n",
            "             0.09090909090909091,\n",
            "             0.18181818181818182,\n",
            "             0.09090909090909091,\n",
            "             0.09090909090909091,\n",
            "             0.09090909090909091,\n",
            "             0.2727272727272727,\n",
            "             0.09090909090909091]}\n",
            "\n",
            "83 - standardscalerwrapper\n",
            "{'class_name': 'StandardScaler',\n",
            " 'copy': True,\n",
            " 'module_name': 'sklearn.preprocessing._data',\n",
            " 'with_mean': True,\n",
            " 'with_std': False}\n",
            "\n",
            "83 - gradientboostingclassifier\n",
            "{'ccp_alpha': 0.0,\n",
            " 'criterion': 'mse',\n",
            " 'init': None,\n",
            " 'learning_rate': 0.021544346900318822,\n",
            " 'loss': 'deviance',\n",
            " 'max_depth': 8,\n",
            " 'max_features': 0.5,\n",
            " 'max_leaf_nodes': None,\n",
            " 'min_impurity_decrease': 0.0,\n",
            " 'min_impurity_split': None,\n",
            " 'min_samples_leaf': 0.01,\n",
            " 'min_samples_split': 0.38473684210526315,\n",
            " 'min_weight_fraction_leaf': 0.0,\n",
            " 'n_estimators': 400,\n",
            " 'n_iter_no_change': None,\n",
            " 'presort': 'deprecated',\n",
            " 'random_state': None,\n",
            " 'subsample': 0.43157894736842106,\n",
            " 'tol': 0.0001,\n",
            " 'validation_fraction': 0.1,\n",
            " 'verbose': 0,\n",
            " 'warm_start': False}\n",
            "\n",
            "7 - minmaxscaler\n",
            "{'copy': True, 'feature_range': (0, 1)}\n",
            "\n",
            "7 - extratreesclassifier\n",
            "{'bootstrap': True,\n",
            " 'ccp_alpha': 0.0,\n",
            " 'class_weight': None,\n",
            " 'criterion': 'gini',\n",
            " 'max_depth': None,\n",
            " 'max_features': 0.9,\n",
            " 'max_leaf_nodes': None,\n",
            " 'max_samples': None,\n",
            " 'min_impurity_decrease': 0.0,\n",
            " 'min_impurity_split': None,\n",
            " 'min_samples_leaf': 0.01,\n",
            " 'min_samples_split': 0.15052631578947367,\n",
            " 'min_weight_fraction_leaf': 0.0,\n",
            " 'n_estimators': 10,\n",
            " 'n_jobs': 1,\n",
            " 'oob_score': True,\n",
            " 'random_state': None,\n",
            " 'verbose': 0,\n",
            " 'warm_start': False}\n",
            "\n",
            "54 - standardscalerwrapper\n",
            "{'class_name': 'StandardScaler',\n",
            " 'copy': True,\n",
            " 'module_name': 'sklearn.preprocessing._data',\n",
            " 'with_mean': False,\n",
            " 'with_std': False}\n",
            "\n",
            "54 - xgboostclassifier\n",
            "{'base_score': 0.5,\n",
            " 'booster': 'gbtree',\n",
            " 'colsample_bylevel': 1,\n",
            " 'colsample_bynode': 1,\n",
            " 'colsample_bytree': 0.8,\n",
            " 'eta': 0.5,\n",
            " 'gamma': 0,\n",
            " 'learning_rate': 0.1,\n",
            " 'max_delta_step': 0,\n",
            " 'max_depth': 10,\n",
            " 'max_leaves': 0,\n",
            " 'min_child_weight': 1,\n",
            " 'missing': nan,\n",
            " 'n_estimators': 25,\n",
            " 'n_jobs': 1,\n",
            " 'nthread': None,\n",
            " 'objective': 'reg:logistic',\n",
            " 'random_state': 0,\n",
            " 'reg_alpha': 1.5625,\n",
            " 'reg_lambda': 1.875,\n",
            " 'scale_pos_weight': 1,\n",
            " 'seed': None,\n",
            " 'silent': None,\n",
            " 'subsample': 0.5,\n",
            " 'tree_method': 'auto',\n",
            " 'verbose': -10,\n",
            " 'verbosity': 0}\n",
            "\n",
            "32 - standardscalerwrapper\n",
            "{'class_name': 'StandardScaler',\n",
            " 'copy': True,\n",
            " 'module_name': 'sklearn.preprocessing._data',\n",
            " 'with_mean': False,\n",
            " 'with_std': False}\n",
            "\n",
            "32 - xgboostclassifier\n",
            "{'base_score': 0.5,\n",
            " 'booster': 'gbtree',\n",
            " 'colsample_bylevel': 1,\n",
            " 'colsample_bynode': 1,\n",
            " 'colsample_bytree': 1,\n",
            " 'eta': 0.2,\n",
            " 'gamma': 0,\n",
            " 'learning_rate': 0.1,\n",
            " 'max_delta_step': 0,\n",
            " 'max_depth': 6,\n",
            " 'max_leaves': 0,\n",
            " 'min_child_weight': 1,\n",
            " 'missing': nan,\n",
            " 'n_estimators': 50,\n",
            " 'n_jobs': 1,\n",
            " 'nthread': None,\n",
            " 'objective': 'reg:logistic',\n",
            " 'random_state': 0,\n",
            " 'reg_alpha': 1.7708333333333335,\n",
            " 'reg_lambda': 2.3958333333333335,\n",
            " 'scale_pos_weight': 1,\n",
            " 'seed': None,\n",
            " 'silent': None,\n",
            " 'subsample': 0.5,\n",
            " 'tree_method': 'auto',\n",
            " 'verbose': -10,\n",
            " 'verbosity': 0}\n",
            "\n",
            "86 - standardscalerwrapper\n",
            "{'class_name': 'StandardScaler',\n",
            " 'copy': True,\n",
            " 'module_name': 'sklearn.preprocessing._data',\n",
            " 'with_mean': True,\n",
            " 'with_std': True}\n",
            "\n",
            "86 - gradientboostingclassifier\n",
            "{'ccp_alpha': 0.0,\n",
            " 'criterion': 'mse',\n",
            " 'init': None,\n",
            " 'learning_rate': 0.01,\n",
            " 'loss': 'deviance',\n",
            " 'max_depth': 8,\n",
            " 'max_features': None,\n",
            " 'max_leaf_nodes': None,\n",
            " 'min_impurity_decrease': 0.0,\n",
            " 'min_impurity_split': None,\n",
            " 'min_samples_leaf': 0.035789473684210524,\n",
            " 'min_samples_split': 0.29105263157894734,\n",
            " 'min_weight_fraction_leaf': 0.0,\n",
            " 'n_estimators': 400,\n",
            " 'n_iter_no_change': None,\n",
            " 'presort': 'deprecated',\n",
            " 'random_state': None,\n",
            " 'subsample': 0.6684210526315789,\n",
            " 'tol': 0.0001,\n",
            " 'validation_fraction': 0.1,\n",
            " 'verbose': 0,\n",
            " 'warm_start': False}\n",
            "\n",
            "49 - minmaxscaler\n",
            "{'copy': True, 'feature_range': (0, 1)}\n",
            "\n",
            "49 - lightgbmclassifier\n",
            "{'boosting_type': 'goss',\n",
            " 'class_weight': None,\n",
            " 'colsample_bytree': 0.2977777777777778,\n",
            " 'importance_type': 'split',\n",
            " 'learning_rate': 0.021060526315789474,\n",
            " 'max_bin': 150,\n",
            " 'max_depth': 7,\n",
            " 'min_child_samples': 2,\n",
            " 'min_child_weight': 2,\n",
            " 'min_split_gain': 0.9473684210526315,\n",
            " 'n_estimators': 800,\n",
            " 'n_jobs': 1,\n",
            " 'num_leaves': 218,\n",
            " 'objective': None,\n",
            " 'random_state': None,\n",
            " 'reg_alpha': 0.7894736842105263,\n",
            " 'reg_lambda': 1,\n",
            " 'silent': True,\n",
            " 'subsample': 1,\n",
            " 'subsample_for_bin': 200000,\n",
            " 'subsample_freq': 0,\n",
            " 'verbose': -10}\n",
            "\n",
            "53 - standardscalerwrapper\n",
            "{'class_name': 'StandardScaler',\n",
            " 'copy': True,\n",
            " 'module_name': 'sklearn.preprocessing._data',\n",
            " 'with_mean': False,\n",
            " 'with_std': False}\n",
            "\n",
            "53 - lightgbmclassifier\n",
            "{'boosting_type': 'goss',\n",
            " 'class_weight': None,\n",
            " 'colsample_bytree': 0.1,\n",
            " 'importance_type': 'split',\n",
            " 'learning_rate': 0.07368684210526316,\n",
            " 'max_bin': 380,\n",
            " 'max_depth': 2,\n",
            " 'min_child_samples': 9,\n",
            " 'min_child_weight': 2,\n",
            " 'min_split_gain': 0.8421052631578947,\n",
            " 'n_estimators': 800,\n",
            " 'n_jobs': 1,\n",
            " 'num_leaves': 56,\n",
            " 'objective': None,\n",
            " 'random_state': None,\n",
            " 'reg_alpha': 1,\n",
            " 'reg_lambda': 0.7368421052631579,\n",
            " 'silent': True,\n",
            " 'subsample': 1,\n",
            " 'subsample_for_bin': 200000,\n",
            " 'subsample_freq': 0,\n",
            " 'verbose': -10}\n",
            "\n",
            "23 - minmaxscaler\n",
            "{'copy': True, 'feature_range': (0, 1)}\n",
            "\n",
            "23 - randomforestclassifier\n",
            "{'bootstrap': False,\n",
            " 'ccp_alpha': 0.0,\n",
            " 'class_weight': None,\n",
            " 'criterion': 'gini',\n",
            " 'max_depth': None,\n",
            " 'max_features': 'sqrt',\n",
            " 'max_leaf_nodes': None,\n",
            " 'max_samples': None,\n",
            " 'min_impurity_decrease': 0.0,\n",
            " 'min_impurity_split': None,\n",
            " 'min_samples_leaf': 0.01,\n",
            " 'min_samples_split': 0.2442105263157895,\n",
            " 'min_weight_fraction_leaf': 0.0,\n",
            " 'n_estimators': 100,\n",
            " 'n_jobs': 1,\n",
            " 'oob_score': False,\n",
            " 'random_state': None,\n",
            " 'verbose': 0,\n",
            " 'warm_start': False}\n",
            "\n"
          ]
        }
      ],
      "execution_count": 15,
      "metadata": {
        "gather": {
          "logged": 1618623102036
        }
      }
    },
    {
      "cell_type": "code",
      "source": [
        "best_run.get_tags()"
      ],
      "outputs": [
        {
          "output_type": "execute_result",
          "execution_count": 16,
          "data": {
            "text/plain": "{'_aml_system_azureml.automlComponent': 'AutoML',\n '_aml_system_ComputeTargetStatus': '{\"AllocationState\":\"steady\",\"PreparingNodeCount\":0,\"RunningNodeCount\":3,\"CurrentNodeCount\":4}',\n 'mlflow.source.type': 'JOB',\n 'mlflow.source.name': 'automl_driver.py',\n 'ensembled_iterations': '[83, 7, 54, 32, 86, 49, 53, 23]',\n 'ensembled_algorithms': \"['GradientBoosting', 'ExtremeRandomTrees', 'XGBoostClassifier', 'XGBoostClassifier', 'GradientBoosting', 'LightGBM', 'LightGBM', 'RandomForest']\",\n 'ensemble_weights': '[0.09090909090909091, 0.09090909090909091, 0.18181818181818182, 0.09090909090909091, 0.09090909090909091, 0.09090909090909091, 0.2727272727272727, 0.09090909090909091]',\n 'best_individual_pipeline_score': '0.9167395256552233',\n 'best_individual_iteration': '83',\n '_aml_system_automl_is_child_run_end_telemetry_event_logged': 'True'}"
          },
          "metadata": {}
        }
      ],
      "execution_count": 16,
      "metadata": {
        "gather": {
          "logged": 1618623136526
        },
        "jupyter": {
          "outputs_hidden": false,
          "source_hidden": false
        },
        "nteract": {
          "transient": {
            "deleting": false
          }
        }
      }
    },
    {
      "cell_type": "markdown",
      "source": [
        "## Model Deployment"
      ],
      "metadata": {}
    },
    {
      "cell_type": "code",
      "source": [
        "# Register the model\n",
        "myModel = best_run.register_model(model_path='outputs/model.pkl', model_name=experiment_name+\"-model\",\n",
        "                   tags={'Training context':'AutoML', 'type': 'Classification'})\n",
        "myModel"
      ],
      "outputs": [
        {
          "output_type": "execute_result",
          "execution_count": 17,
          "data": {
            "text/plain": "Model(workspace=Workspace.create(name='quick-starts-ws-142998', subscription_id='3d1a56d2-7c81-4118-9790-f85d1acf0c77', resource_group='aml-quickstarts-142998'), name=heartfailure-automl-model, id=heartfailure-automl-model:1, version=1, tags={'Training context': 'AutoML', 'type': 'Classification'}, properties={})"
          },
          "metadata": {}
        }
      ],
      "execution_count": 17,
      "metadata": {
        "gather": {
          "logged": 1618623783560
        },
        "jupyter": {
          "outputs_hidden": false,
          "source_hidden": false
        },
        "nteract": {
          "transient": {
            "deleting": false
          }
        }
      }
    },
    {
      "cell_type": "code",
      "source": [
        "# List registered models to verify if model has been saved\n",
        "for model in Model.list(ws):\n",
        "    print(model.name, 'version:', model.version)\n",
        "    for tag_name in model.tags:\n",
        "        tag = model.tags[tag_name]\n",
        "        print ('\\t',tag_name, ':', tag)\n",
        "    for prop_name in model.properties:\n",
        "        prop = model.properties[prop_name]\n",
        "        print ('\\t',prop_name, ':', prop)\n",
        "    print('\\n')"
      ],
      "outputs": [
        {
          "output_type": "stream",
          "name": "stdout",
          "text": [
            "heartfailure-automl-model version: 1\n",
            "\t Training context : AutoML\n",
            "\t type : Classification\n",
            "\n",
            "\n",
            "hyperdrive-heart-failure-best-model version: 1\n",
            "\t Training context : Parameterized SKLearn Estimator\n",
            "\t type : Classification\n",
            "\t AUC_weighted : 0.8333333333333334\n",
            "\n",
            "\n"
          ]
        }
      ],
      "execution_count": 18,
      "metadata": {
        "gather": {
          "logged": 1618623149041
        }
      }
    },
    {
      "cell_type": "code",
      "source": [
        "best_run.download_file('outputs/model.pkl', './model.pkl')\n",
        "\n",
        "# Download scoring file\n",
        "best_run.download_file('outputs/scoring_file_v_1_0_0.py', './score.py')\n",
        "\n",
        "best_run.download_file('outputs/conda_env_v_1_0_0.yml', 'envFile.yml')"
      ],
      "outputs": [],
      "execution_count": 19,
      "metadata": {
        "gather": {
          "logged": 1618623164117
        }
      }
    },
    {
      "cell_type": "code",
      "source": [
        "from azureml.core.webservice import AciWebservice\n",
        "from azureml.core.model import InferenceConfig\n",
        "\n",
        "env = Environment.get(ws, \"AzureML-AutoML\")\n",
        "inference_config = InferenceConfig(entry_script='./score.py', environment=env)\n",
        "\n",
        "aci_config = AciWebservice.deploy_configuration(\n",
        "                                               cpu_cores=1,\n",
        "                                               memory_gb=1,\n",
        "                                               enable_app_insights=True, \n",
        "                                               tags={'name': 'aci-cluster', 'framework': 'AutoML'},\n",
        "                                               description='Heart Failure Predictor Web Service'\n",
        "                                               )\n",
        "\n",
        "service = Model.deploy(\n",
        "    workspace=ws, \n",
        "    name=experiment_name+\"-service\",\n",
        "    models=[myModel], \n",
        "    inference_config=inference_config, \n",
        "    deployment_config=aci_config,\n",
        "    overwrite=True\n",
        "    )\n",
        "\n",
        "service.wait_for_deployment(show_output = True)\n",
        "print(service.state)"
      ],
      "outputs": [
        {
          "output_type": "stream",
          "name": "stdout",
          "text": [
            "Tips: You can try get_logs(): https://aka.ms/debugimage#dockerlog or local deployment: https://aka.ms/debugimage#debug-locally to debug if deployment takes longer than 10 minutes.\n",
            "Running\n",
            "2021-04-18 08:46:28+00:00 Creating Container Registry if not exists.\n",
            "2021-04-18 08:46:30+00:00 Use the existing image.\n",
            "2021-04-18 08:46:30+00:00 Generating deployment configuration.\n",
            "2021-04-18 08:46:32+00:00 Submitting deployment to compute..\n",
            "2021-04-18 08:46:37+00:00 Checking the status of deployment heartfailure-automl-service..\n",
            "2021-04-18 08:49:54+00:00 Checking the status of inference endpoint heartfailure-automl-service.\n",
            "Succeeded\n",
            "ACI service creation operation finished, operation \"Succeeded\"\n",
            "Healthy\n"
          ]
        }
      ],
      "execution_count": 20,
      "metadata": {
        "gather": {
          "logged": 1618624174244
        }
      }
    },
    {
      "cell_type": "code",
      "source": [
        "print(service.scoring_uri)\n",
        "\n",
        "print(service.swagger_uri)"
      ],
      "outputs": [
        {
          "output_type": "stream",
          "name": "stdout",
          "text": [
            "http://89c1f7e2-618f-4107-8b45-ba27fa5d01ba.southcentralus.azurecontainer.io/score\n",
            "http://89c1f7e2-618f-4107-8b45-ba27fa5d01ba.southcentralus.azurecontainer.io/swagger.json\n"
          ]
        }
      ],
      "execution_count": 22,
      "metadata": {
        "gather": {
          "logged": 1618624253360
        }
      }
    },
    {
      "cell_type": "code",
      "source": [
        "import json\n",
        "import requests\n",
        "\n",
        "# import test data\n",
        "test_df = df.sample(5) # data is the pandas dataframe of the original data\n",
        "label_df = test_df.pop('DEATH_EVENT')\n",
        "\n",
        "test_sample = json.dumps({'data': test_df.to_dict(orient='records')})\n",
        "print(test_sample)"
      ],
      "outputs": [
        {
          "output_type": "stream",
          "name": "stdout",
          "text": [
            "{\"data\": [{\"age\": 49.0, \"anaemia\": 0, \"creatinine_phosphokinase\": 972, \"diabetes\": 1, \"ejection_fraction\": 35, \"high_blood_pressure\": 1, \"platelets\": 268000.0, \"serum_creatinine\": 0.8, \"serum_sodium\": 130, \"sex\": 0, \"smoking\": 0, \"time\": 187}, {\"age\": 75.0, \"anaemia\": 0, \"creatinine_phosphokinase\": 119, \"diabetes\": 0, \"ejection_fraction\": 50, \"high_blood_pressure\": 1, \"platelets\": 248000.0, \"serum_creatinine\": 1.1, \"serum_sodium\": 148, \"sex\": 1, \"smoking\": 0, \"time\": 209}, {\"age\": 72.0, \"anaemia\": 1, \"creatinine_phosphokinase\": 110, \"diabetes\": 0, \"ejection_fraction\": 25, \"high_blood_pressure\": 0, \"platelets\": 274000.0, \"serum_creatinine\": 1.0, \"serum_sodium\": 140, \"sex\": 1, \"smoking\": 1, \"time\": 65}, {\"age\": 55.0, \"anaemia\": 1, \"creatinine_phosphokinase\": 170, \"diabetes\": 1, \"ejection_fraction\": 40, \"high_blood_pressure\": 0, \"platelets\": 336000.0, \"serum_creatinine\": 1.2, \"serum_sodium\": 135, \"sex\": 1, \"smoking\": 0, \"time\": 250}, {\"age\": 80.0, \"anaemia\": 0, \"creatinine_phosphokinase\": 582, \"diabetes\": 1, \"ejection_fraction\": 35, \"high_blood_pressure\": 0, \"platelets\": 350000.0, \"serum_creatinine\": 2.1, \"serum_sodium\": 134, \"sex\": 1, \"smoking\": 0, \"time\": 174}]}\n"
          ]
        }
      ],
      "execution_count": 40,
      "metadata": {
        "gather": {
          "logged": 1618740276606
        }
      }
    },
    {
      "cell_type": "code",
      "source": [
        "# predict using the deployed model\n",
        "result = service.run(test_sample)\n",
        "print(result)"
      ],
      "outputs": [
        {
          "output_type": "stream",
          "name": "stdout",
          "text": [
            "{\"result\": [0, 0, 1, 0, 1]}\n"
          ]
        }
      ],
      "execution_count": 41,
      "metadata": {
        "gather": {
          "logged": 1618740279873
        }
      }
    },
    {
      "cell_type": "code",
      "source": [
        "# Set the content type\n",
        "headers = {'Content-type': 'application/json'}\n",
        "\n",
        "response = requests.post(service.scoring_uri, test_sample, headers=headers)\n",
        "\n",
        "# Print results from the inference\n",
        "print(response.text)"
      ],
      "outputs": [
        {
          "output_type": "stream",
          "name": "stdout",
          "text": [
            "\"{\\\"result\\\": [0, 0, 1, 0, 1]}\"\n"
          ]
        }
      ],
      "execution_count": 42,
      "metadata": {
        "gather": {
          "logged": 1618740283000
        }
      }
    },
    {
      "cell_type": "code",
      "source": [
        "# Print original labels\n",
        "print(label_df)"
      ],
      "outputs": [
        {
          "output_type": "stream",
          "name": "stdout",
          "text": [
            "209    0\n",
            "236    0\n",
            "67     1\n",
            "285    0\n",
            "190    0\n",
            "Name: DEATH_EVENT, dtype: int64\n"
          ]
        }
      ],
      "execution_count": 43,
      "metadata": {
        "gather": {
          "logged": 1618740288690
        }
      }
    },
    {
      "cell_type": "code",
      "source": [
        "print(service.get_logs())"
      ],
      "outputs": [
        {
          "output_type": "stream",
          "name": "stdout",
          "text": [
            "2021-04-18T08:49:44,366935100+00:00 - iot-server/run \n",
            "2021-04-18T08:49:44,372930000+00:00 - rsyslog/run \n",
            "2021-04-18T08:49:44,366742400+00:00 - gunicorn/run \n",
            "rsyslogd: /azureml-envs/azureml_1c91e9a5baadb44a18d64bdd7f599d89/lib/libuuid.so.1: no version information available (required by rsyslogd)\n",
            "2021-04-18T08:49:44,427573000+00:00 - nginx/run \n",
            "/usr/sbin/nginx: /azureml-envs/azureml_1c91e9a5baadb44a18d64bdd7f599d89/lib/libcrypto.so.1.0.0: no version information available (required by /usr/sbin/nginx)\n",
            "/usr/sbin/nginx: /azureml-envs/azureml_1c91e9a5baadb44a18d64bdd7f599d89/lib/libcrypto.so.1.0.0: no version information available (required by /usr/sbin/nginx)\n",
            "/usr/sbin/nginx: /azureml-envs/azureml_1c91e9a5baadb44a18d64bdd7f599d89/lib/libssl.so.1.0.0: no version information available (required by /usr/sbin/nginx)\n",
            "/usr/sbin/nginx: /azureml-envs/azureml_1c91e9a5baadb44a18d64bdd7f599d89/lib/libssl.so.1.0.0: no version information available (required by /usr/sbin/nginx)\n",
            "/usr/sbin/nginx: /azureml-envs/azureml_1c91e9a5baadb44a18d64bdd7f599d89/lib/libssl.so.1.0.0: no version information available (required by /usr/sbin/nginx)\n",
            "EdgeHubConnectionString and IOTEDGE_IOTHUBHOSTNAME are not set. Exiting...\n",
            "2021-04-18T08:49:44,702970400+00:00 - iot-server/finish 1 0\n",
            "2021-04-18T08:49:44,705218000+00:00 - Exit code 1 is normal. Not restarting iot-server.\n",
            "Starting gunicorn 19.9.0\n",
            "Listening at: http://127.0.0.1:31311 (68)\n",
            "Using worker: sync\n",
            "worker timeout is set to 300\n",
            "Booting worker with pid: 97\n",
            "SPARK_HOME not set. Skipping PySpark Initialization.\n",
            "Generating new fontManager, this may take some time...\n",
            "Initializing logger\n",
            "2021-04-18 08:49:47,088 | root | INFO | Starting up app insights client\n",
            "2021-04-18 08:49:47,088 | root | INFO | Starting up request id generator\n",
            "2021-04-18 08:49:47,088 | root | INFO | Starting up app insight hooks\n",
            "2021-04-18 08:49:47,088 | root | INFO | Invoking user's init function\n",
            "2021-04-18 08:49:51,581 | azureml.core | WARNING | Failure while loading azureml_run_type_providers. Failed to load entrypoint automl = azureml.train.automl.run:AutoMLRun._from_run_dto with exception cannot import name 'RunType'.\n",
            "Failure while loading azureml_run_type_providers. Failed to load entrypoint automl = azureml.train.automl.run:AutoMLRun._from_run_dto with exception cannot import name 'RunType'.\n",
            "2021-04-18 08:49:52,413 | root | INFO | Users's init has completed successfully\n",
            "2021-04-18 08:49:52,420 | root | INFO | Skipping middleware: dbg_model_info as it's not enabled.\n",
            "2021-04-18 08:49:52,453 | root | INFO | Skipping middleware: dbg_resource_usage as it's not enabled.\n",
            "2021-04-18 08:49:52,455 | root | INFO | Scoring timeout is found from os.environ: 60000 ms\n",
            "2021-04-18 08:49:55,887 | root | INFO | 200\n",
            "127.0.0.1 - - [18/Apr/2021:08:49:55 +0000] \"GET /swagger.json HTTP/1.0\" 200 2866 \"-\" \"Go-http-client/1.1\"\n",
            "2021-04-18 08:49:59,506 | root | INFO | 200\n",
            "127.0.0.1 - - [18/Apr/2021:08:49:59 +0000] \"GET /swagger.json HTTP/1.0\" 200 2866 \"-\" \"Go-http-client/1.1\"\n",
            "2021-04-18 08:50:36,321 | root | INFO | Validation Request Content-Type\n",
            "2021-04-18 08:50:36,325 | root | INFO | Scoring Timer is set to 60.0 seconds\n",
            "2021-04-18 08:50:36,523 | root | INFO | 200\n",
            "127.0.0.1 - - [18/Apr/2021:08:50:36 +0000] \"POST /score HTTP/1.0\" 200 31 \"-\" \"python-requests/2.25.1\"\n",
            "2021-04-18 08:50:47,112 | root | INFO | Validation Request Content-Type\n",
            "2021-04-18 08:50:47,113 | root | INFO | Scoring Timer is set to 60.0 seconds\n",
            "2021-04-18 08:50:47,238 | root | INFO | 200\n",
            "127.0.0.1 - - [18/Apr/2021:08:50:47 +0000] \"POST /score HTTP/1.0\" 200 31 \"-\" \"python-requests/2.25.1\"\n",
            "2021-04-18 08:51:00,274 | root | INFO | Validation Request Content-Type\n",
            "2021-04-18 08:51:00,280 | root | INFO | Scoring Timer is set to 60.0 seconds\n",
            "2021-04-18 08:51:00,479 | root | INFO | 200\n",
            "127.0.0.1 - - [18/Apr/2021:08:51:00 +0000] \"POST /score HTTP/1.0\" 200 31 \"-\" \"python-requests/2.25.1\"\n",
            "2021-04-18 08:51:06,822 | root | INFO | Validation Request Content-Type\n",
            "2021-04-18 08:51:06,823 | root | INFO | Scoring Timer is set to 60.0 seconds\n",
            "2021-04-18 08:51:06,960 | root | INFO | 200\n",
            "127.0.0.1 - - [18/Apr/2021:08:51:06 +0000] \"POST /score HTTP/1.0\" 200 31 \"-\" \"python-requests/2.25.1\"\n",
            "2021-04-18 09:03:53,795 | root | INFO | 200\n",
            "127.0.0.1 - - [18/Apr/2021:09:03:53 +0000] \"GET /swagger.json HTTP/1.0\" 200 2866 \"-\" \"Go-http-client/1.1\"\n",
            "127.0.0.1 - - [18/Apr/2021:09:06:41 +0000] \"GET /actuator/health HTTP/1.0\" 404 232 \"-\" \"Mozilla/5.0 zgrab/0.x\"\n",
            "127.0.0.1 - - [18/Apr/2021:09:12:55 +0000] \"GET /index.html HTTP/1.0\" 404 232 \"-\" \"Mozilla/5.0\"\n",
            "127.0.0.1 - - [18/Apr/2021:09:18:57 +0000] \"GET /boaform/admin/formLogin?psd=ec8&username=ec8 HTTP/1.0\" 404 232 \"-\" \"Go-http-client/1.1\"\n",
            "2021-04-18 09:57:22,544 | root | INFO | Validation Request Content-Type\n",
            "2021-04-18 09:57:22,551 | root | INFO | Scoring Timer is set to 60.0 seconds\n",
            "2021-04-18 09:57:22,783 | root | INFO | 200\n",
            "127.0.0.1 - - [18/Apr/2021:09:57:22 +0000] \"POST /score HTTP/1.0\" 200 31 \"-\" \"python-requests/2.25.1\"\n",
            "2021-04-18 09:57:29,692 | root | INFO | Validation Request Content-Type\n",
            "2021-04-18 09:57:29,693 | root | INFO | Scoring Timer is set to 60.0 seconds\n",
            "2021-04-18 09:57:29,817 | root | INFO | 200\n",
            "127.0.0.1 - - [18/Apr/2021:09:57:29 +0000] \"POST /score HTTP/1.0\" 200 31 \"-\" \"python-requests/2.25.1\"\n",
            "2021-04-18 09:57:49,576 | root | INFO | 200\n",
            "127.0.0.1 - - [18/Apr/2021:09:57:49 +0000] \"GET /swagger.json HTTP/1.0\" 200 2866 \"-\" \"Go-http-client/1.1\"\n",
            "2021-04-18 10:04:30,755 | root | INFO | Validation Request Content-Type\n",
            "2021-04-18 10:04:30,756 | root | INFO | Scoring Timer is set to 60.0 seconds\n",
            "2021-04-18 10:04:30,886 | root | INFO | 200\n",
            "127.0.0.1 - - [18/Apr/2021:10:04:30 +0000] \"POST /score HTTP/1.0\" 200 31 \"-\" \"python-requests/2.25.1\"\n",
            "127.0.0.1 - - [18/Apr/2021:10:04:30 +0000] \"GET /config/getuser?index=0 HTTP/1.0\" 404 232 \"-\" \"Mozilla/5.0 (X11; Ubuntu; Linux x86_64; rv:76.0) Gecko/20100101 Firefox/76.0\"\n",
            "2021-04-18 10:04:39,417 | root | INFO | Validation Request Content-Type\n",
            "2021-04-18 10:04:39,419 | root | INFO | Scoring Timer is set to 60.0 seconds\n",
            "2021-04-18 10:04:39,536 | root | INFO | 200\n",
            "127.0.0.1 - - [18/Apr/2021:10:04:39 +0000] \"POST /score HTTP/1.0\" 200 31 \"-\" \"python-requests/2.25.1\"\n",
            "2021-04-18 10:04:42,648 | root | INFO | Validation Request Content-Type\n",
            "2021-04-18 10:04:42,649 | root | INFO | Scoring Timer is set to 60.0 seconds\n",
            "2021-04-18 10:04:42,780 | root | INFO | 200\n",
            "127.0.0.1 - - [18/Apr/2021:10:04:42 +0000] \"POST /score HTTP/1.0\" 200 31 \"-\" \"python-requests/2.25.1\"\n",
            "\n"
          ]
        }
      ],
      "execution_count": 44,
      "metadata": {
        "gather": {
          "logged": 1618740295335
        }
      }
    },
    {
      "cell_type": "code",
      "source": [
        "service.delete()"
      ],
      "outputs": [],
      "execution_count": 45,
      "metadata": {
        "jupyter": {
          "outputs_hidden": false,
          "source_hidden": false
        },
        "nteract": {
          "transient": {
            "deleting": false
          }
        },
        "gather": {
          "logged": 1618740457941
        }
      }
    }
  ],
  "metadata": {
    "kernel_info": {
      "name": "python3-azureml"
    },
    "kernelspec": {
      "display_name": "Python 3.6 - AzureML",
      "language": "python",
      "name": "python3-azureml"
    },
    "language_info": {
      "codemirror_mode": {
        "name": "ipython",
        "version": 3
      },
      "file_extension": ".py",
      "mimetype": "text/x-python",
      "name": "python",
      "nbconvert_exporter": "python",
      "pygments_lexer": "ipython3",
      "version": "3.6.9"
    },
    "microsoft": {
      "host": {
        "AzureML": {
          "notebookHasBeenCompleted": true
        }
      }
    },
    "nteract": {
      "version": "nteract-front-end@1.0.0"
    }
  },
  "nbformat": 4,
  "nbformat_minor": 2
}